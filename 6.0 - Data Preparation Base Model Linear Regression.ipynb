{
 "cells": [
  {
   "cell_type": "markdown",
   "id": "d7b734e7-d7c8-463a-95a5-87332cd10c6d",
   "metadata": {},
   "source": [
    "### 1. Setup environment"
   ]
  },
  {
   "cell_type": "code",
   "execution_count": 3,
   "id": "9fdb5096-b0bc-44f1-9eec-3ac5a4e687d7",
   "metadata": {
    "tags": []
   },
   "outputs": [
    {
     "name": "stdout",
     "output_type": "stream",
     "text": [
      "\u001b[33mWARNING: Running pip as the 'root' user can result in broken permissions and conflicting behaviour with the system package manager. It is recommended to use a virtual environment instead: https://pip.pypa.io/warnings/venv\u001b[0m\u001b[33m\n",
      "\u001b[0m\u001b[33mWARNING: Running pip as the 'root' user can result in broken permissions and conflicting behaviour with the system package manager. It is recommended to use a virtual environment instead: https://pip.pypa.io/warnings/venv\u001b[0m\u001b[33m\n",
      "\u001b[0m\u001b[33mWARNING: Running pip as the 'root' user can result in broken permissions and conflicting behaviour with the system package manager. It is recommended to use a virtual environment instead: https://pip.pypa.io/warnings/venv\u001b[0m\u001b[33m\n",
      "\u001b[0m\u001b[33mWARNING: Running pip as the 'root' user can result in broken permissions and conflicting behaviour with the system package manager. It is recommended to use a virtual environment instead: https://pip.pypa.io/warnings/venv\u001b[0m\u001b[33m\n",
      "\u001b[0m\u001b[33mWARNING: Running pip as the 'root' user can result in broken permissions and conflicting behaviour with the system package manager. It is recommended to use a virtual environment instead: https://pip.pypa.io/warnings/venv\u001b[0m\u001b[33m\n",
      "\u001b[0msagemaker.config INFO - Not applying SDK defaults from location: /etc/xdg/sagemaker/config.yaml\n",
      "sagemaker.config INFO - Not applying SDK defaults from location: /root/.config/sagemaker/config.yaml\n",
      "Stored 's3_datalake_path_csv' (str)\n",
      "Stored 'local_data_path_csv' (str)\n",
      "Stored 's3_datalake_path_parquet' (str)\n"
     ]
    }
   ],
   "source": [
    "# This section sets up the environment by running the environment setup script, which ensures that all required libraries and configurations are loaded.\n",
    "%run 0-Environment_Setup.ipynb"
   ]
  },
  {
   "cell_type": "markdown",
   "id": "a286331c-60a6-4017-abf2-250d2aa7aafd",
   "metadata": {},
   "source": [
    "### 2. Set session variables"
   ]
  },
  {
   "cell_type": "code",
   "execution_count": 5,
   "id": "ff002175-7ce6-405a-8d32-5e7e4742f6e0",
   "metadata": {
    "tags": []
   },
   "outputs": [],
   "source": [
    "# This section initializes the session variables required for interacting with SageMaker, such as the session, role, region, and default S3 bucket for storing data.\n",
    "sagemaker_session = sagemaker.Session()\n",
    "role = sagemaker.get_execution_role()\n",
    "region = sagemaker_session.boto_session.region_name\n",
    "bucket = sagemaker_session.default_bucket()\n",
    "\n",
    "train_prefix = \"store-sales-forecasting/train\"\n",
    "test_prefix = \"store-sales-forecasting/test\"\n",
    "val_prefix = \"store-sales-forecasting/val\""
   ]
  },
  {
   "cell_type": "markdown",
   "id": "3a220013-b16f-4d25-8746-c9901124e445",
   "metadata": {},
   "source": [
    "### 3. Create a temporary directory for saving data"
   ]
  },
  {
   "cell_type": "code",
   "execution_count": 6,
   "id": "c89078bd-6e69-48f6-b27a-9bfde6e7062d",
   "metadata": {
    "tags": []
   },
   "outputs": [],
   "source": [
    "# This section creates a temporary directory to store local data files before uploading them to S3.\n",
    "local_path = f\"{os.getcwd()}/tmp\"\n",
    "if not os.path.exists(local_path):\n",
    "    os.makedirs(local_path)\n"
   ]
  },
  {
   "cell_type": "markdown",
   "id": "14e57e5f-45c0-4d79-9adc-0ec41451e660",
   "metadata": {},
   "source": [
    "### 4. Pull the data from the feature store sorted by date and then store number"
   ]
  },
  {
   "cell_type": "code",
   "execution_count": 7,
   "id": "a109ecf1-0613-42ca-9084-f54fcef4ee71",
   "metadata": {
    "tags": []
   },
   "outputs": [
    {
     "name": "stdout",
     "output_type": "stream",
     "text": [
      "Running \n",
      "    SELECT *\n",
      "    FROM\n",
      "        \"store_sales_feature_group_offline_1729084164\"\n",
      "    ORDER BY\n",
      "        date ASC, store_nbr ASC\n",
      "    \n"
     ]
    },
    {
     "data": {
      "text/html": [
       "<div>\n",
       "<style scoped>\n",
       "    .dataframe tbody tr th:only-of-type {\n",
       "        vertical-align: middle;\n",
       "    }\n",
       "\n",
       "    .dataframe tbody tr th {\n",
       "        vertical-align: top;\n",
       "    }\n",
       "\n",
       "    .dataframe thead th {\n",
       "        text-align: right;\n",
       "    }\n",
       "</style>\n",
       "<table border=\"1\" class=\"dataframe\">\n",
       "  <thead>\n",
       "    <tr style=\"text-align: right;\">\n",
       "      <th></th>\n",
       "      <th>date</th>\n",
       "      <th>store_nbr</th>\n",
       "      <th>sales</th>\n",
       "      <th>oil</th>\n",
       "      <th>onpromotion</th>\n",
       "      <th>is_holiday</th>\n",
       "      <th>city</th>\n",
       "      <th>state</th>\n",
       "      <th>cluster</th>\n",
       "      <th>year</th>\n",
       "      <th>...</th>\n",
       "      <th>month_sin</th>\n",
       "      <th>day_cos</th>\n",
       "      <th>day_sin</th>\n",
       "      <th>dow_cos</th>\n",
       "      <th>dow_sin</th>\n",
       "      <th>sales_record_id</th>\n",
       "      <th>event_time</th>\n",
       "      <th>write_time</th>\n",
       "      <th>api_invocation_time</th>\n",
       "      <th>is_deleted</th>\n",
       "    </tr>\n",
       "  </thead>\n",
       "  <tbody>\n",
       "    <tr>\n",
       "      <th>0</th>\n",
       "      <td>2013-01-01</td>\n",
       "      <td>1</td>\n",
       "      <td>0.0</td>\n",
       "      <td>93.14</td>\n",
       "      <td>0</td>\n",
       "      <td>1</td>\n",
       "      <td>18</td>\n",
       "      <td>12</td>\n",
       "      <td>13</td>\n",
       "      <td>2013</td>\n",
       "      <td>...</td>\n",
       "      <td>0.5</td>\n",
       "      <td>0.97953</td>\n",
       "      <td>0.201299</td>\n",
       "      <td>0.62349</td>\n",
       "      <td>0.781831</td>\n",
       "      <td>2013-01-01:1</td>\n",
       "      <td>1.729086e+09</td>\n",
       "      <td>2024-10-16 13:39:30.285</td>\n",
       "      <td>2024-10-16 13:36:55.000</td>\n",
       "      <td>False</td>\n",
       "    </tr>\n",
       "    <tr>\n",
       "      <th>1</th>\n",
       "      <td>2013-01-01</td>\n",
       "      <td>2</td>\n",
       "      <td>0.0</td>\n",
       "      <td>93.14</td>\n",
       "      <td>0</td>\n",
       "      <td>1</td>\n",
       "      <td>18</td>\n",
       "      <td>12</td>\n",
       "      <td>13</td>\n",
       "      <td>2013</td>\n",
       "      <td>...</td>\n",
       "      <td>0.5</td>\n",
       "      <td>0.97953</td>\n",
       "      <td>0.201299</td>\n",
       "      <td>0.62349</td>\n",
       "      <td>0.781831</td>\n",
       "      <td>2013-01-01:2</td>\n",
       "      <td>1.729086e+09</td>\n",
       "      <td>2024-10-16 13:39:34.032</td>\n",
       "      <td>2024-10-16 13:36:55.000</td>\n",
       "      <td>False</td>\n",
       "    </tr>\n",
       "    <tr>\n",
       "      <th>2</th>\n",
       "      <td>2013-01-01</td>\n",
       "      <td>3</td>\n",
       "      <td>0.0</td>\n",
       "      <td>93.14</td>\n",
       "      <td>0</td>\n",
       "      <td>1</td>\n",
       "      <td>18</td>\n",
       "      <td>12</td>\n",
       "      <td>8</td>\n",
       "      <td>2013</td>\n",
       "      <td>...</td>\n",
       "      <td>0.5</td>\n",
       "      <td>0.97953</td>\n",
       "      <td>0.201299</td>\n",
       "      <td>0.62349</td>\n",
       "      <td>0.781831</td>\n",
       "      <td>2013-01-01:3</td>\n",
       "      <td>1.729086e+09</td>\n",
       "      <td>2024-10-16 13:39:31.763</td>\n",
       "      <td>2024-10-16 13:36:55.000</td>\n",
       "      <td>False</td>\n",
       "    </tr>\n",
       "    <tr>\n",
       "      <th>3</th>\n",
       "      <td>2013-01-01</td>\n",
       "      <td>4</td>\n",
       "      <td>0.0</td>\n",
       "      <td>93.14</td>\n",
       "      <td>0</td>\n",
       "      <td>1</td>\n",
       "      <td>18</td>\n",
       "      <td>12</td>\n",
       "      <td>9</td>\n",
       "      <td>2013</td>\n",
       "      <td>...</td>\n",
       "      <td>0.5</td>\n",
       "      <td>0.97953</td>\n",
       "      <td>0.201299</td>\n",
       "      <td>0.62349</td>\n",
       "      <td>0.781831</td>\n",
       "      <td>2013-01-01:4</td>\n",
       "      <td>1.729086e+09</td>\n",
       "      <td>2024-10-16 13:39:35.868</td>\n",
       "      <td>2024-10-16 13:36:55.000</td>\n",
       "      <td>False</td>\n",
       "    </tr>\n",
       "    <tr>\n",
       "      <th>4</th>\n",
       "      <td>2013-01-01</td>\n",
       "      <td>5</td>\n",
       "      <td>0.0</td>\n",
       "      <td>93.14</td>\n",
       "      <td>0</td>\n",
       "      <td>1</td>\n",
       "      <td>21</td>\n",
       "      <td>14</td>\n",
       "      <td>4</td>\n",
       "      <td>2013</td>\n",
       "      <td>...</td>\n",
       "      <td>0.5</td>\n",
       "      <td>0.97953</td>\n",
       "      <td>0.201299</td>\n",
       "      <td>0.62349</td>\n",
       "      <td>0.781831</td>\n",
       "      <td>2013-01-01:5</td>\n",
       "      <td>1.729086e+09</td>\n",
       "      <td>2024-10-16 13:39:34.032</td>\n",
       "      <td>2024-10-16 13:36:55.000</td>\n",
       "      <td>False</td>\n",
       "    </tr>\n",
       "  </tbody>\n",
       "</table>\n",
       "<p>5 rows × 36 columns</p>\n",
       "</div>"
      ],
      "text/plain": [
       "         date  store_nbr  sales    oil  onpromotion  is_holiday  city  state  \\\n",
       "0  2013-01-01          1    0.0  93.14            0           1    18     12   \n",
       "1  2013-01-01          2    0.0  93.14            0           1    18     12   \n",
       "2  2013-01-01          3    0.0  93.14            0           1    18     12   \n",
       "3  2013-01-01          4    0.0  93.14            0           1    18     12   \n",
       "4  2013-01-01          5    0.0  93.14            0           1    21     14   \n",
       "\n",
       "   cluster  year  ...  month_sin  day_cos   day_sin  dow_cos   dow_sin  \\\n",
       "0       13  2013  ...        0.5  0.97953  0.201299  0.62349  0.781831   \n",
       "1       13  2013  ...        0.5  0.97953  0.201299  0.62349  0.781831   \n",
       "2        8  2013  ...        0.5  0.97953  0.201299  0.62349  0.781831   \n",
       "3        9  2013  ...        0.5  0.97953  0.201299  0.62349  0.781831   \n",
       "4        4  2013  ...        0.5  0.97953  0.201299  0.62349  0.781831   \n",
       "\n",
       "   sales_record_id    event_time               write_time  \\\n",
       "0     2013-01-01:1  1.729086e+09  2024-10-16 13:39:30.285   \n",
       "1     2013-01-01:2  1.729086e+09  2024-10-16 13:39:34.032   \n",
       "2     2013-01-01:3  1.729086e+09  2024-10-16 13:39:31.763   \n",
       "3     2013-01-01:4  1.729086e+09  2024-10-16 13:39:35.868   \n",
       "4     2013-01-01:5  1.729086e+09  2024-10-16 13:39:34.032   \n",
       "\n",
       "       api_invocation_time  is_deleted  \n",
       "0  2024-10-16 13:36:55.000       False  \n",
       "1  2024-10-16 13:36:55.000       False  \n",
       "2  2024-10-16 13:36:55.000       False  \n",
       "3  2024-10-16 13:36:55.000       False  \n",
       "4  2024-10-16 13:36:55.000       False  \n",
       "\n",
       "[5 rows x 36 columns]"
      ]
     },
     "execution_count": 7,
     "metadata": {},
     "output_type": "execute_result"
    }
   ],
   "source": [
    "# This section pulls the dataset from the feature store, sorted by date and store number to maintain a chronological order for sales data.\n",
    "sales_features_store_df = get_store_dataset_from_offline_feature_group_date_sort(store_sales_feature_group)\n",
    "sales_features_store_df.head()"
   ]
  },
  {
   "cell_type": "markdown",
   "id": "ac5026ca-2cc6-49d3-a5c1-e22758a15d35",
   "metadata": {},
   "source": [
    "### 5. Drop miscellaneous info"
   ]
  },
  {
   "cell_type": "code",
   "execution_count": 8,
   "id": "3245797a-1bdd-471e-be22-28665753dbb4",
   "metadata": {
    "tags": []
   },
   "outputs": [],
   "source": [
    "# This section drops unnecessary columns from the dataset, such as event metadata and redundant features, to clean up the data for further processing.\n",
    "sales_features_store_df.drop(columns=[\n",
    "    \"sales_record_id\", \"event_time\", \"write_time\", \"api_invocation_time\", \"is_deleted\", \n",
    "    \"city-state\", \"city-state-cluster\", \"hash_0\", \"hash_1\", \"hash_2\", \"hash_3\", \"hash_4\", \n",
    "    \"hash_5\", \"hash_6\", \"hash_7\", \"hash_8\", \"hash_9\"\n",
    "], inplace=True)\n",
    "\n"
   ]
  },
  {
   "cell_type": "code",
   "execution_count": 9,
   "id": "0df247dd-03b3-4af8-aa25-e45ae2ab1b95",
   "metadata": {
    "tags": []
   },
   "outputs": [
    {
     "data": {
      "text/plain": [
       "<bound method DataFrame.info of              date  store_nbr     sales    oil  onpromotion  is_holiday  city  \\\n",
       "0      2013-01-01          1      0.00  93.14            0           1    18   \n",
       "1      2013-01-01          2      0.00  93.14            0           1    18   \n",
       "2      2013-01-01          3      0.00  93.14            0           1    18   \n",
       "3      2013-01-01          4      0.00  93.14            0           1    18   \n",
       "4      2013-01-01          5      0.00  93.14            0           1    21   \n",
       "...           ...        ...       ...    ...          ...         ...   ...   \n",
       "90931  2017-08-15         50  16879.12  47.57           35           0     0   \n",
       "90932  2017-08-15         51  20154.56  47.57           29           0     8   \n",
       "90933  2017-08-15         52  18600.05  47.57           37           0    14   \n",
       "90934  2017-08-15         53   8208.19  47.57           33           0    14   \n",
       "90935  2017-08-15         54  12666.86  47.57           76           0     5   \n",
       "\n",
       "       state  cluster  year  month  day  dow  month_cos  month_sin   day_cos  \\\n",
       "0         12       13  2013      1    1    1   0.866025   0.500000  0.979530   \n",
       "1         12       13  2013      1    1    1   0.866025   0.500000  0.979530   \n",
       "2         12        8  2013      1    1    1   0.866025   0.500000  0.979530   \n",
       "3         12        9  2013      1    1    1   0.866025   0.500000  0.979530   \n",
       "4         14        4  2013      1    1    1   0.866025   0.500000  0.979530   \n",
       "...      ...      ...   ...    ...  ...  ...        ...        ...       ...   \n",
       "90931     15       14  2017      8   15    1  -0.500000  -0.866025 -0.994869   \n",
       "90932      6       17  2017      8   15    1  -0.500000  -0.866025 -0.994869   \n",
       "90933     10       11  2017      8   15    1  -0.500000  -0.866025 -0.994869   \n",
       "90934     10       13  2017      8   15    1  -0.500000  -0.866025 -0.994869   \n",
       "90935     10        3  2017      8   15    1  -0.500000  -0.866025 -0.994869   \n",
       "\n",
       "        day_sin  dow_cos   dow_sin  \n",
       "0      0.201299  0.62349  0.781831  \n",
       "1      0.201299  0.62349  0.781831  \n",
       "2      0.201299  0.62349  0.781831  \n",
       "3      0.201299  0.62349  0.781831  \n",
       "4      0.201299  0.62349  0.781831  \n",
       "...         ...      ...       ...  \n",
       "90931  0.101168  0.62349  0.781831  \n",
       "90932  0.101168  0.62349  0.781831  \n",
       "90933  0.101168  0.62349  0.781831  \n",
       "90934  0.101168  0.62349  0.781831  \n",
       "90935  0.101168  0.62349  0.781831  \n",
       "\n",
       "[90936 rows x 19 columns]>"
      ]
     },
     "execution_count": 9,
     "metadata": {},
     "output_type": "execute_result"
    }
   ],
   "source": [
    "sales_features_store_df.info"
   ]
  },
  {
   "cell_type": "markdown",
   "id": "276ac1ec-c49a-4ab2-83bc-7ea7d26c3407",
   "metadata": {},
   "source": [
    "### 6. Perform feature selection"
   ]
  },
  {
   "cell_type": "code",
   "execution_count": 10,
   "id": "ec0e2dc6-df84-4064-9079-83cf9fd12b29",
   "metadata": {
    "tags": []
   },
   "outputs": [],
   "source": [
    "# This section selects the features to be used in the model based on the findings from the EDA. These include key features like sales, promotions, holiday indicators, and store characteristics.\n",
    "selected_features = [\n",
    "    \"sales\", \n",
    "    \"oil\", \n",
    "    \"onpromotion\",\n",
    "    \"is_holiday\", \n",
    "    \"month_cos\",\n",
    "    \"month_sin\",\n",
    "    \"day_cos\",\n",
    "    \"day_sin\",\n",
    "    \"dow_cos\",\n",
    "    \"dow_sin\",\n",
    "    \"cluster\"\n",
    "]\n",
    "sales_features_store_df = sales_features_store_df[selected_features + [\"date\", \"store_nbr\"]]\n"
   ]
  },
  {
   "cell_type": "markdown",
   "id": "e58ff375-04c2-4cdb-a796-7fb2182bc2e5",
   "metadata": {},
   "source": [
    "### 7. One-hot encode categorical features"
   ]
  },
  {
   "cell_type": "code",
   "execution_count": 11,
   "id": "e7b94c13-d490-4b6d-a089-dfe9e016469a",
   "metadata": {
    "tags": []
   },
   "outputs": [],
   "source": [
    "# This section one-hot encodes categorical features like cluster to prepare them for the regression model.\n",
    "sales_features_store_df = pd.get_dummies(sales_features_store_df, columns=[\"cluster\"], drop_first=True)"
   ]
  },
  {
   "cell_type": "markdown",
   "id": "49783b75-212c-4e6b-b7ac-59694e97ce8e",
   "metadata": {},
   "source": [
    "### 8.Rolling Window Feature Engineering for Predicting 7 Days into the Future"
   ]
  },
  {
   "cell_type": "code",
   "execution_count": 12,
   "id": "dba2921c-ca54-4c9a-8d54-74797d1f3c3e",
   "metadata": {
    "tags": []
   },
   "outputs": [],
   "source": [
    "# Next  we'll create rolling windows of data for training, with input sequences of 60 (or 90) days to predict the next 7 days of sales.\n",
    "def create_rolling_windows(df, input_seq_length=60, target_seq_length=7):\n",
    "    windows = []\n",
    "    targets = []\n",
    "\n",
    "    # Iterate over each store separately\n",
    "    for store in df['store_nbr'].unique():\n",
    "        store_data = df[df['store_nbr'] == store].sort_values(by='date')\n",
    "        num_days = len(store_data)\n",
    "\n",
    "        for i in range(0, num_days - input_seq_length - target_seq_length + 1):\n",
    "            input_window = store_data.iloc[i:i + input_seq_length].drop(columns=['date', 'store_nbr', 'sales']).values\n",
    "            target_window = store_data.iloc[i + input_seq_length:i + input_seq_length + target_seq_length]['sales'].values\n",
    "            \n",
    "            windows.append(input_window)\n",
    "            targets.append(target_window)\n",
    "\n",
    "    return np.array(windows), np.array(targets)\n",
    "\n",
    "input_seq_length = 60\n",
    "target_seq_length = 7\n",
    "X, y = create_rolling_windows(sales_features_store_df, input_seq_length, target_seq_length)\n"
   ]
  },
  {
   "cell_type": "markdown",
   "id": "dd4e57be-c3be-4b11-905b-e2193d7a2024",
   "metadata": {},
   "source": [
    "### 9. Split the data into train/test/val sets "
   ]
  },
  {
   "cell_type": "code",
   "execution_count": 13,
   "id": "d938d439-bbb3-4143-8ee6-f2e53e3d1d8e",
   "metadata": {
    "tags": []
   },
   "outputs": [],
   "source": [
    "# This section splits the dataset into training, testing, and validation sets to evaluate the model's performance.\n",
    "n = len(X)\n",
    "X_train, y_train = X[:int(n * 0.8)], y[:int(n * 0.8)]\n",
    "X_test, y_test = X[int(n * 0.8):int(n * 0.9)], y[int(n * 0.8):int(n * 0.9)]\n",
    "X_val, y_val = X[int(n * 0.9):], y[int(n * 0.9):]\n"
   ]
  },
  {
   "cell_type": "markdown",
   "id": "4963decb-3469-4303-91ce-b350f58cef91",
   "metadata": {},
   "source": [
    "### 10. Normalize Features Using StandardScaler"
   ]
  },
  {
   "cell_type": "code",
   "execution_count": 14,
   "id": "aea534a8-f492-431e-bf30-9210f04eb54d",
   "metadata": {
    "tags": []
   },
   "outputs": [],
   "source": [
    "from sklearn import preprocessing\n",
    "\n",
    "# This section normalizes the feature values using StandardScaler to ensure they are on the same scale, which helps improve model performance.\n",
    "\n",
    "# Flatten the first two dimensions (stores * instances, features) to normalize correctly.\n",
    "X_train_reshaped = X_train.reshape(-1, X_train.shape[-1])\n",
    "X_test_reshaped = X_test.reshape(-1, X_test.shape[-1])\n",
    "X_val_reshaped = X_val.reshape(-1, X_val.shape[-1])\n",
    "\n",
    "# Initialize StandardScaler\n",
    "scaler = preprocessing.StandardScaler()\n",
    "\n",
    "# Normalize features for training, test, and validation datasets\n",
    "X_train_reshaped = scaler.fit_transform(X_train_reshaped)\n",
    "X_test_reshaped = scaler.transform(X_test_reshaped)\n",
    "X_val_reshaped = scaler.transform(X_val_reshaped)\n",
    "\n",
    "# Reshape back to original dimensions\n",
    "X_train = X_train_reshaped.reshape(X_train.shape)\n",
    "X_test = X_test_reshaped.reshape(X_test.shape)\n",
    "X_val = X_val_reshaped.reshape(X_val.shape)\n",
    "\n"
   ]
  },
  {
   "cell_type": "markdown",
   "id": "cc3447e0-25ee-4998-8e0d-133133b363ec",
   "metadata": {},
   "source": [
    "### 11. Save mean and standard deviation arrays to S3"
   ]
  },
  {
   "cell_type": "code",
   "execution_count": 15,
   "id": "ddb04c1b-7595-4e41-a27d-8f8223466503",
   "metadata": {
    "tags": []
   },
   "outputs": [],
   "source": [
    "# Save mean and standard deviation arrays to S3 for use during model training and inference\n",
    "np.save(f\"{local_path}/global_mean.npy\", scaler.mean_)\n",
    "np.save(f\"{local_path}/global_stddev.npy\", scaler.scale_)\n"
   ]
  },
  {
   "cell_type": "code",
   "execution_count": 16,
   "id": "488de9f6-553e-49ba-a87b-985a773ec767",
   "metadata": {
    "tags": []
   },
   "outputs": [
    {
     "data": {
      "text/plain": [
       "'s3://sagemaker-us-east-2-612877486901/store-sales-forecasting/train/global_stddev.npy'"
      ]
     },
     "execution_count": 16,
     "metadata": {},
     "output_type": "execute_result"
    }
   ],
   "source": [
    "sagemaker_session.upload_data(f\"{local_path}/global_mean.npy\", bucket=bucket, key_prefix=train_prefix)\n",
    "sagemaker_session.upload_data(f\"{local_path}/global_stddev.npy\", bucket=bucket, key_prefix=train_prefix)"
   ]
  },
  {
   "cell_type": "markdown",
   "id": "274b10d3-6458-4988-8f0b-af2cb0b2a40d",
   "metadata": {},
   "source": [
    "### 12. Save Normalized Data Splits Locally"
   ]
  },
  {
   "cell_type": "code",
   "execution_count": 17,
   "id": "9c37c940-669c-4ab2-8283-f88f7f665daf",
   "metadata": {
    "tags": []
   },
   "outputs": [],
   "source": [
    "# This section saves the training, testing, and validation data splits locally as CSV files before uploading them to S3.\n",
    "np.save(f\"{local_path}/X_train.npy\", X_train)\n",
    "np.save(f\"{local_path}/y_train.npy\", y_train)\n",
    "\n",
    "np.save(f\"{local_path}/X_test.npy\", X_test)\n",
    "np.save(f\"{local_path}/y_test.npy\", y_test)\n",
    "\n",
    "np.save(f\"{local_path}/X_val.npy\", X_val)\n",
    "np.save(f\"{local_path}/y_val.npy\", y_val)\n",
    "\n"
   ]
  },
  {
   "cell_type": "markdown",
   "id": "6c318a1d-c07f-4279-83ac-ac0db576e766",
   "metadata": {},
   "source": [
    "### 13. Save data splits to S3"
   ]
  },
  {
   "cell_type": "code",
   "execution_count": 18,
   "id": "66d18775-6024-4121-a808-3d985bde46fa",
   "metadata": {
    "tags": []
   },
   "outputs": [
    {
     "data": {
      "text/plain": [
       "'s3://sagemaker-us-east-2-612877486901/store-sales-forecasting/val/y_val.npy'"
      ]
     },
     "execution_count": 18,
     "metadata": {},
     "output_type": "execute_result"
    }
   ],
   "source": [
    "# This section uploads the training, testing, and validation data splits to S3 for use during model training.\n",
    "sagemaker_session.upload_data(f\"{local_path}/X_train.npy\", bucket=bucket, key_prefix=train_prefix)\n",
    "sagemaker_session.upload_data(f\"{local_path}/y_train.npy\", bucket=bucket, key_prefix=train_prefix)\n",
    "\n",
    "sagemaker_session.upload_data(f\"{local_path}/X_test.npy\", bucket=bucket, key_prefix=test_prefix)\n",
    "sagemaker_session.upload_data(f\"{local_path}/y_test.npy\", bucket=bucket, key_prefix=test_prefix)\n",
    "\n",
    "sagemaker_session.upload_data(f\"{local_path}/X_val.npy\", bucket=bucket, key_prefix=val_prefix)\n",
    "sagemaker_session.upload_data(f\"{local_path}/y_val.npy\", bucket=bucket, key_prefix=val_prefix)\n"
   ]
  },
  {
   "cell_type": "code",
   "execution_count": null,
   "id": "b38157ea-a4b3-4f90-a4de-3e077d8481cf",
   "metadata": {},
   "outputs": [],
   "source": []
  }
 ],
 "metadata": {
  "availableInstances": [
   {
    "_defaultOrder": 0,
    "_isFastLaunch": true,
    "category": "General purpose",
    "gpuNum": 0,
    "hideHardwareSpecs": false,
    "memoryGiB": 4,
    "name": "ml.t3.medium",
    "vcpuNum": 2
   },
   {
    "_defaultOrder": 1,
    "_isFastLaunch": false,
    "category": "General purpose",
    "gpuNum": 0,
    "hideHardwareSpecs": false,
    "memoryGiB": 8,
    "name": "ml.t3.large",
    "vcpuNum": 2
   },
   {
    "_defaultOrder": 2,
    "_isFastLaunch": false,
    "category": "General purpose",
    "gpuNum": 0,
    "hideHardwareSpecs": false,
    "memoryGiB": 16,
    "name": "ml.t3.xlarge",
    "vcpuNum": 4
   },
   {
    "_defaultOrder": 3,
    "_isFastLaunch": false,
    "category": "General purpose",
    "gpuNum": 0,
    "hideHardwareSpecs": false,
    "memoryGiB": 32,
    "name": "ml.t3.2xlarge",
    "vcpuNum": 8
   },
   {
    "_defaultOrder": 4,
    "_isFastLaunch": true,
    "category": "General purpose",
    "gpuNum": 0,
    "hideHardwareSpecs": false,
    "memoryGiB": 8,
    "name": "ml.m5.large",
    "vcpuNum": 2
   },
   {
    "_defaultOrder": 5,
    "_isFastLaunch": false,
    "category": "General purpose",
    "gpuNum": 0,
    "hideHardwareSpecs": false,
    "memoryGiB": 16,
    "name": "ml.m5.xlarge",
    "vcpuNum": 4
   },
   {
    "_defaultOrder": 6,
    "_isFastLaunch": false,
    "category": "General purpose",
    "gpuNum": 0,
    "hideHardwareSpecs": false,
    "memoryGiB": 32,
    "name": "ml.m5.2xlarge",
    "vcpuNum": 8
   },
   {
    "_defaultOrder": 7,
    "_isFastLaunch": false,
    "category": "General purpose",
    "gpuNum": 0,
    "hideHardwareSpecs": false,
    "memoryGiB": 64,
    "name": "ml.m5.4xlarge",
    "vcpuNum": 16
   },
   {
    "_defaultOrder": 8,
    "_isFastLaunch": false,
    "category": "General purpose",
    "gpuNum": 0,
    "hideHardwareSpecs": false,
    "memoryGiB": 128,
    "name": "ml.m5.8xlarge",
    "vcpuNum": 32
   },
   {
    "_defaultOrder": 9,
    "_isFastLaunch": false,
    "category": "General purpose",
    "gpuNum": 0,
    "hideHardwareSpecs": false,
    "memoryGiB": 192,
    "name": "ml.m5.12xlarge",
    "vcpuNum": 48
   },
   {
    "_defaultOrder": 10,
    "_isFastLaunch": false,
    "category": "General purpose",
    "gpuNum": 0,
    "hideHardwareSpecs": false,
    "memoryGiB": 256,
    "name": "ml.m5.16xlarge",
    "vcpuNum": 64
   },
   {
    "_defaultOrder": 11,
    "_isFastLaunch": false,
    "category": "General purpose",
    "gpuNum": 0,
    "hideHardwareSpecs": false,
    "memoryGiB": 384,
    "name": "ml.m5.24xlarge",
    "vcpuNum": 96
   },
   {
    "_defaultOrder": 12,
    "_isFastLaunch": false,
    "category": "General purpose",
    "gpuNum": 0,
    "hideHardwareSpecs": false,
    "memoryGiB": 8,
    "name": "ml.m5d.large",
    "vcpuNum": 2
   },
   {
    "_defaultOrder": 13,
    "_isFastLaunch": false,
    "category": "General purpose",
    "gpuNum": 0,
    "hideHardwareSpecs": false,
    "memoryGiB": 16,
    "name": "ml.m5d.xlarge",
    "vcpuNum": 4
   },
   {
    "_defaultOrder": 14,
    "_isFastLaunch": false,
    "category": "General purpose",
    "gpuNum": 0,
    "hideHardwareSpecs": false,
    "memoryGiB": 32,
    "name": "ml.m5d.2xlarge",
    "vcpuNum": 8
   },
   {
    "_defaultOrder": 15,
    "_isFastLaunch": false,
    "category": "General purpose",
    "gpuNum": 0,
    "hideHardwareSpecs": false,
    "memoryGiB": 64,
    "name": "ml.m5d.4xlarge",
    "vcpuNum": 16
   },
   {
    "_defaultOrder": 16,
    "_isFastLaunch": false,
    "category": "General purpose",
    "gpuNum": 0,
    "hideHardwareSpecs": false,
    "memoryGiB": 128,
    "name": "ml.m5d.8xlarge",
    "vcpuNum": 32
   },
   {
    "_defaultOrder": 17,
    "_isFastLaunch": false,
    "category": "General purpose",
    "gpuNum": 0,
    "hideHardwareSpecs": false,
    "memoryGiB": 192,
    "name": "ml.m5d.12xlarge",
    "vcpuNum": 48
   },
   {
    "_defaultOrder": 18,
    "_isFastLaunch": false,
    "category": "General purpose",
    "gpuNum": 0,
    "hideHardwareSpecs": false,
    "memoryGiB": 256,
    "name": "ml.m5d.16xlarge",
    "vcpuNum": 64
   },
   {
    "_defaultOrder": 19,
    "_isFastLaunch": false,
    "category": "General purpose",
    "gpuNum": 0,
    "hideHardwareSpecs": false,
    "memoryGiB": 384,
    "name": "ml.m5d.24xlarge",
    "vcpuNum": 96
   },
   {
    "_defaultOrder": 20,
    "_isFastLaunch": false,
    "category": "General purpose",
    "gpuNum": 0,
    "hideHardwareSpecs": true,
    "memoryGiB": 0,
    "name": "ml.geospatial.interactive",
    "supportedImageNames": [
     "sagemaker-geospatial-v1-0"
    ],
    "vcpuNum": 0
   },
   {
    "_defaultOrder": 21,
    "_isFastLaunch": true,
    "category": "Compute optimized",
    "gpuNum": 0,
    "hideHardwareSpecs": false,
    "memoryGiB": 4,
    "name": "ml.c5.large",
    "vcpuNum": 2
   },
   {
    "_defaultOrder": 22,
    "_isFastLaunch": false,
    "category": "Compute optimized",
    "gpuNum": 0,
    "hideHardwareSpecs": false,
    "memoryGiB": 8,
    "name": "ml.c5.xlarge",
    "vcpuNum": 4
   },
   {
    "_defaultOrder": 23,
    "_isFastLaunch": false,
    "category": "Compute optimized",
    "gpuNum": 0,
    "hideHardwareSpecs": false,
    "memoryGiB": 16,
    "name": "ml.c5.2xlarge",
    "vcpuNum": 8
   },
   {
    "_defaultOrder": 24,
    "_isFastLaunch": false,
    "category": "Compute optimized",
    "gpuNum": 0,
    "hideHardwareSpecs": false,
    "memoryGiB": 32,
    "name": "ml.c5.4xlarge",
    "vcpuNum": 16
   },
   {
    "_defaultOrder": 25,
    "_isFastLaunch": false,
    "category": "Compute optimized",
    "gpuNum": 0,
    "hideHardwareSpecs": false,
    "memoryGiB": 72,
    "name": "ml.c5.9xlarge",
    "vcpuNum": 36
   },
   {
    "_defaultOrder": 26,
    "_isFastLaunch": false,
    "category": "Compute optimized",
    "gpuNum": 0,
    "hideHardwareSpecs": false,
    "memoryGiB": 96,
    "name": "ml.c5.12xlarge",
    "vcpuNum": 48
   },
   {
    "_defaultOrder": 27,
    "_isFastLaunch": false,
    "category": "Compute optimized",
    "gpuNum": 0,
    "hideHardwareSpecs": false,
    "memoryGiB": 144,
    "name": "ml.c5.18xlarge",
    "vcpuNum": 72
   },
   {
    "_defaultOrder": 28,
    "_isFastLaunch": false,
    "category": "Compute optimized",
    "gpuNum": 0,
    "hideHardwareSpecs": false,
    "memoryGiB": 192,
    "name": "ml.c5.24xlarge",
    "vcpuNum": 96
   },
   {
    "_defaultOrder": 29,
    "_isFastLaunch": true,
    "category": "Accelerated computing",
    "gpuNum": 1,
    "hideHardwareSpecs": false,
    "memoryGiB": 16,
    "name": "ml.g4dn.xlarge",
    "vcpuNum": 4
   },
   {
    "_defaultOrder": 30,
    "_isFastLaunch": false,
    "category": "Accelerated computing",
    "gpuNum": 1,
    "hideHardwareSpecs": false,
    "memoryGiB": 32,
    "name": "ml.g4dn.2xlarge",
    "vcpuNum": 8
   },
   {
    "_defaultOrder": 31,
    "_isFastLaunch": false,
    "category": "Accelerated computing",
    "gpuNum": 1,
    "hideHardwareSpecs": false,
    "memoryGiB": 64,
    "name": "ml.g4dn.4xlarge",
    "vcpuNum": 16
   },
   {
    "_defaultOrder": 32,
    "_isFastLaunch": false,
    "category": "Accelerated computing",
    "gpuNum": 1,
    "hideHardwareSpecs": false,
    "memoryGiB": 128,
    "name": "ml.g4dn.8xlarge",
    "vcpuNum": 32
   },
   {
    "_defaultOrder": 33,
    "_isFastLaunch": false,
    "category": "Accelerated computing",
    "gpuNum": 4,
    "hideHardwareSpecs": false,
    "memoryGiB": 192,
    "name": "ml.g4dn.12xlarge",
    "vcpuNum": 48
   },
   {
    "_defaultOrder": 34,
    "_isFastLaunch": false,
    "category": "Accelerated computing",
    "gpuNum": 1,
    "hideHardwareSpecs": false,
    "memoryGiB": 256,
    "name": "ml.g4dn.16xlarge",
    "vcpuNum": 64
   },
   {
    "_defaultOrder": 35,
    "_isFastLaunch": false,
    "category": "Accelerated computing",
    "gpuNum": 1,
    "hideHardwareSpecs": false,
    "memoryGiB": 61,
    "name": "ml.p3.2xlarge",
    "vcpuNum": 8
   },
   {
    "_defaultOrder": 36,
    "_isFastLaunch": false,
    "category": "Accelerated computing",
    "gpuNum": 4,
    "hideHardwareSpecs": false,
    "memoryGiB": 244,
    "name": "ml.p3.8xlarge",
    "vcpuNum": 32
   },
   {
    "_defaultOrder": 37,
    "_isFastLaunch": false,
    "category": "Accelerated computing",
    "gpuNum": 8,
    "hideHardwareSpecs": false,
    "memoryGiB": 488,
    "name": "ml.p3.16xlarge",
    "vcpuNum": 64
   },
   {
    "_defaultOrder": 38,
    "_isFastLaunch": false,
    "category": "Accelerated computing",
    "gpuNum": 8,
    "hideHardwareSpecs": false,
    "memoryGiB": 768,
    "name": "ml.p3dn.24xlarge",
    "vcpuNum": 96
   },
   {
    "_defaultOrder": 39,
    "_isFastLaunch": false,
    "category": "Memory Optimized",
    "gpuNum": 0,
    "hideHardwareSpecs": false,
    "memoryGiB": 16,
    "name": "ml.r5.large",
    "vcpuNum": 2
   },
   {
    "_defaultOrder": 40,
    "_isFastLaunch": false,
    "category": "Memory Optimized",
    "gpuNum": 0,
    "hideHardwareSpecs": false,
    "memoryGiB": 32,
    "name": "ml.r5.xlarge",
    "vcpuNum": 4
   },
   {
    "_defaultOrder": 41,
    "_isFastLaunch": false,
    "category": "Memory Optimized",
    "gpuNum": 0,
    "hideHardwareSpecs": false,
    "memoryGiB": 64,
    "name": "ml.r5.2xlarge",
    "vcpuNum": 8
   },
   {
    "_defaultOrder": 42,
    "_isFastLaunch": false,
    "category": "Memory Optimized",
    "gpuNum": 0,
    "hideHardwareSpecs": false,
    "memoryGiB": 128,
    "name": "ml.r5.4xlarge",
    "vcpuNum": 16
   },
   {
    "_defaultOrder": 43,
    "_isFastLaunch": false,
    "category": "Memory Optimized",
    "gpuNum": 0,
    "hideHardwareSpecs": false,
    "memoryGiB": 256,
    "name": "ml.r5.8xlarge",
    "vcpuNum": 32
   },
   {
    "_defaultOrder": 44,
    "_isFastLaunch": false,
    "category": "Memory Optimized",
    "gpuNum": 0,
    "hideHardwareSpecs": false,
    "memoryGiB": 384,
    "name": "ml.r5.12xlarge",
    "vcpuNum": 48
   },
   {
    "_defaultOrder": 45,
    "_isFastLaunch": false,
    "category": "Memory Optimized",
    "gpuNum": 0,
    "hideHardwareSpecs": false,
    "memoryGiB": 512,
    "name": "ml.r5.16xlarge",
    "vcpuNum": 64
   },
   {
    "_defaultOrder": 46,
    "_isFastLaunch": false,
    "category": "Memory Optimized",
    "gpuNum": 0,
    "hideHardwareSpecs": false,
    "memoryGiB": 768,
    "name": "ml.r5.24xlarge",
    "vcpuNum": 96
   },
   {
    "_defaultOrder": 47,
    "_isFastLaunch": false,
    "category": "Accelerated computing",
    "gpuNum": 1,
    "hideHardwareSpecs": false,
    "memoryGiB": 16,
    "name": "ml.g5.xlarge",
    "vcpuNum": 4
   },
   {
    "_defaultOrder": 48,
    "_isFastLaunch": false,
    "category": "Accelerated computing",
    "gpuNum": 1,
    "hideHardwareSpecs": false,
    "memoryGiB": 32,
    "name": "ml.g5.2xlarge",
    "vcpuNum": 8
   },
   {
    "_defaultOrder": 49,
    "_isFastLaunch": false,
    "category": "Accelerated computing",
    "gpuNum": 1,
    "hideHardwareSpecs": false,
    "memoryGiB": 64,
    "name": "ml.g5.4xlarge",
    "vcpuNum": 16
   },
   {
    "_defaultOrder": 50,
    "_isFastLaunch": false,
    "category": "Accelerated computing",
    "gpuNum": 1,
    "hideHardwareSpecs": false,
    "memoryGiB": 128,
    "name": "ml.g5.8xlarge",
    "vcpuNum": 32
   },
   {
    "_defaultOrder": 51,
    "_isFastLaunch": false,
    "category": "Accelerated computing",
    "gpuNum": 1,
    "hideHardwareSpecs": false,
    "memoryGiB": 256,
    "name": "ml.g5.16xlarge",
    "vcpuNum": 64
   },
   {
    "_defaultOrder": 52,
    "_isFastLaunch": false,
    "category": "Accelerated computing",
    "gpuNum": 4,
    "hideHardwareSpecs": false,
    "memoryGiB": 192,
    "name": "ml.g5.12xlarge",
    "vcpuNum": 48
   },
   {
    "_defaultOrder": 53,
    "_isFastLaunch": false,
    "category": "Accelerated computing",
    "gpuNum": 4,
    "hideHardwareSpecs": false,
    "memoryGiB": 384,
    "name": "ml.g5.24xlarge",
    "vcpuNum": 96
   },
   {
    "_defaultOrder": 54,
    "_isFastLaunch": false,
    "category": "Accelerated computing",
    "gpuNum": 8,
    "hideHardwareSpecs": false,
    "memoryGiB": 768,
    "name": "ml.g5.48xlarge",
    "vcpuNum": 192
   },
   {
    "_defaultOrder": 55,
    "_isFastLaunch": false,
    "category": "Accelerated computing",
    "gpuNum": 8,
    "hideHardwareSpecs": false,
    "memoryGiB": 1152,
    "name": "ml.p4d.24xlarge",
    "vcpuNum": 96
   },
   {
    "_defaultOrder": 56,
    "_isFastLaunch": false,
    "category": "Accelerated computing",
    "gpuNum": 8,
    "hideHardwareSpecs": false,
    "memoryGiB": 1152,
    "name": "ml.p4de.24xlarge",
    "vcpuNum": 96
   },
   {
    "_defaultOrder": 57,
    "_isFastLaunch": false,
    "category": "Accelerated computing",
    "gpuNum": 0,
    "hideHardwareSpecs": false,
    "memoryGiB": 32,
    "name": "ml.trn1.2xlarge",
    "vcpuNum": 8
   },
   {
    "_defaultOrder": 58,
    "_isFastLaunch": false,
    "category": "Accelerated computing",
    "gpuNum": 0,
    "hideHardwareSpecs": false,
    "memoryGiB": 512,
    "name": "ml.trn1.32xlarge",
    "vcpuNum": 128
   },
   {
    "_defaultOrder": 59,
    "_isFastLaunch": false,
    "category": "Accelerated computing",
    "gpuNum": 0,
    "hideHardwareSpecs": false,
    "memoryGiB": 512,
    "name": "ml.trn1n.32xlarge",
    "vcpuNum": 128
   }
  ],
  "instance_type": "ml.t3.xlarge",
  "kernelspec": {
   "display_name": "Python 3 (Data Science 3.0)",
   "language": "python",
   "name": "python3__SAGEMAKER_INTERNAL__arn:aws:sagemaker:us-east-2:429704687514:image/sagemaker-data-science-310-v1"
  },
  "language_info": {
   "codemirror_mode": {
    "name": "ipython",
    "version": 3
   },
   "file_extension": ".py",
   "mimetype": "text/x-python",
   "name": "python",
   "nbconvert_exporter": "python",
   "pygments_lexer": "ipython3",
   "version": "3.10.6"
  }
 },
 "nbformat": 4,
 "nbformat_minor": 5
}
