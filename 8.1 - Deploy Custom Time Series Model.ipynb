{
 "cells": [
  {
   "cell_type": "code",
   "execution_count": 1,
   "id": "f3660089-37d7-4f85-b85d-62b398d44746",
   "metadata": {
    "tags": []
   },
   "outputs": [
    {
     "name": "stdout",
     "output_type": "stream",
     "text": [
      "\u001b[33mWARNING: Running pip as the 'root' user can result in broken permissions and conflicting behaviour with the system package manager. It is recommended to use a virtual environment instead: https://pip.pypa.io/warnings/venv\u001b[0m\u001b[33m\n",
      "\u001b[0m\u001b[33mWARNING: Running pip as the 'root' user can result in broken permissions and conflicting behaviour with the system package manager. It is recommended to use a virtual environment instead: https://pip.pypa.io/warnings/venv\u001b[0m\u001b[33m\n",
      "\u001b[0m\u001b[33mWARNING: Running pip as the 'root' user can result in broken permissions and conflicting behaviour with the system package manager. It is recommended to use a virtual environment instead: https://pip.pypa.io/warnings/venv\u001b[0m\u001b[33m\n",
      "\u001b[0m\u001b[33mWARNING: Running pip as the 'root' user can result in broken permissions and conflicting behaviour with the system package manager. It is recommended to use a virtual environment instead: https://pip.pypa.io/warnings/venv\u001b[0m\u001b[33m\n",
      "\u001b[0msagemaker.config INFO - Not applying SDK defaults from location: /etc/xdg/sagemaker/config.yaml\n",
      "sagemaker.config INFO - Not applying SDK defaults from location: /root/.config/sagemaker/config.yaml\n",
      "Stored 's3_datalake_path_csv' (str)\n",
      "Stored 'local_data_path_csv' (str)\n",
      "Stored 's3_datalake_path_parquet' (str)\n"
     ]
    }
   ],
   "source": [
    "# Setup environment\n",
    "%run 0-Environment_Setup.ipynb"
   ]
  },
  {
   "cell_type": "code",
   "execution_count": 9,
   "id": "cff3779b-618f-4926-b735-114d7ea8e942",
   "metadata": {
    "tags": []
   },
   "outputs": [],
   "source": [
    "# Import model card libraries\n",
    "from sagemaker.model_card import (\n",
    "    ModelCard,\n",
    "    ModelOverview,\n",
    "    ObjectiveFunction,\n",
    "    Function,\n",
    "    TrainingDetails,\n",
    "    TrainingJobDetails,\n",
    "    IntendedUses,\n",
    "    BusinessDetails,\n",
    "    EvaluationJob,\n",
    "    AdditionalInformation,\n",
    "    Metric,\n",
    "    MetricGroup,\n",
    "    ModelCardStatusEnum,\n",
    "    ObjectiveFunctionEnum,\n",
    "    FacetEnum,\n",
    "    RiskRatingEnum,\n",
    "    MetricTypeEnum,\n",
    "    EvaluationMetricTypeEnum,\n",
    "    HyperParameter\n",
    ")\n",
    "\n",
    "from sagemaker.transformer import Transformer\n",
    "from sklearn.metrics import mean_absolute_error, root_mean_squared_error"
   ]
  },
  {
   "cell_type": "code",
   "execution_count": 3,
   "id": "a04ba70b-754d-4345-95a8-9e992ac49578",
   "metadata": {
    "tags": []
   },
   "outputs": [],
   "source": [
    "# Set session variables\n",
    "sm_client = boto3.client('sagemaker', region_name=region)\n",
    "sagemaker_session = sagemaker.Session()\n",
    "role = sagemaker.get_execution_role()\n",
    "region = sagemaker_session.boto_session.region_name\n",
    "bucket = sess.default_bucket()\n",
    "\n",
    "train_prefix = \"store-sales-forecasting/train\"\n",
    "test_prefix = \"store-sales-forecasting/test\"\n",
    "val_prefix = \"store-sales-forecasting/val\"\n",
    "transform_input_prefix = \"store-sales-forecasting/transform-input\"\n",
    "transform_output_prefix = \"store-sales-forecasting/transform-output\""
   ]
  },
  {
   "cell_type": "code",
   "execution_count": 59,
   "id": "567b75de-016f-48e0-9e7e-346e7d2c93d2",
   "metadata": {
    "tags": []
   },
   "outputs": [
    {
     "data": {
      "text/plain": [
       "{'Models': [{'ModelName': 'store-sales-forecasting-custom-model-2024-10-15-05-53-46',\n",
       "   'ModelArn': 'arn:aws:sagemaker:us-east-1:342408968837:model/store-sales-forecasting-custom-model-2024-10-15-05-53-46',\n",
       "   'CreationTime': datetime.datetime(2024, 10, 15, 5, 53, 47, 276000, tzinfo=tzlocal())}],\n",
       " 'ResponseMetadata': {'RequestId': '3248e4ff-9a3c-4b3c-958a-519db5773e86',\n",
       "  'HTTPStatusCode': 200,\n",
       "  'HTTPHeaders': {'x-amzn-requestid': '3248e4ff-9a3c-4b3c-958a-519db5773e86',\n",
       "   'content-type': 'application/x-amz-json-1.1',\n",
       "   'content-length': '234',\n",
       "   'date': 'Tue, 15 Oct 2024 06:16:00 GMT'},\n",
       "  'RetryAttempts': 0}}"
      ]
     },
     "execution_count": 59,
     "metadata": {},
     "output_type": "execute_result"
    }
   ],
   "source": [
    "# List available models\n",
    "sm_client.list_models()"
   ]
  },
  {
   "cell_type": "code",
   "execution_count": 116,
   "id": "7bd5a872-b71a-449c-be26-c07f501cd431",
   "metadata": {
    "tags": []
   },
   "outputs": [
    {
     "name": "stdout",
     "output_type": "stream",
     "text": [
      "store-sales-forecasting-custom-model-2024-10-15-05-53-46\n",
      "{'ModelName': 'store-sales-forecasting-custom-model-2024-10-15-05-53-46', 'PrimaryContainer': {'Image': '763104351884.dkr.ecr.us-east-1.amazonaws.com/tensorflow-inference:2.6-cpu', 'Mode': 'SingleModel', 'ModelDataUrl': 's3://sagemaker-us-east-1-342408968837/store-sales-forecasting/training-output/tensorflow-training-2024-10-15-05-41-38-410/output/model.tar.gz', 'ModelDataSource': {'S3DataSource': {'S3Uri': 's3://sagemaker-us-east-1-342408968837/store-sales-forecasting/training-output/tensorflow-training-2024-10-15-05-41-38-410/output/model.tar.gz', 'S3DataType': 'S3Object', 'CompressionType': 'Gzip'}}, 'Environment': {'SAGEMAKER_TFS_NGINX_LOGLEVEL': 'info'}}, 'ExecutionRoleArn': 'arn:aws:iam::342408968837:role/LabRole', 'CreationTime': datetime.datetime(2024, 10, 15, 5, 53, 47, 276000, tzinfo=tzlocal()), 'ModelArn': 'arn:aws:sagemaker:us-east-1:342408968837:model/store-sales-forecasting-custom-model-2024-10-15-05-53-46', 'EnableNetworkIsolation': False, 'DeploymentRecommendation': {'RecommendationStatus': 'COMPLETED', 'RealTimeInferenceRecommendations': [{'RecommendationId': 'store-sales-forecasting-custom-model-2024-10-15-05-53-46/waO1grQ5', 'InstanceType': 'ml.c6i.xlarge', 'Environment': {}}, {'RecommendationId': 'store-sales-forecasting-custom-model-2024-10-15-05-53-46/Fl7Duel9', 'InstanceType': 'ml.c5.2xlarge', 'Environment': {}}, {'RecommendationId': 'store-sales-forecasting-custom-model-2024-10-15-05-53-46/V7SKdrtB', 'InstanceType': 'ml.c5.large', 'Environment': {}}]}, 'ResponseMetadata': {'RequestId': '2d15b6f7-d80c-43cd-8f52-7981ff0e30f1', 'HTTPStatusCode': 200, 'HTTPHeaders': {'x-amzn-requestid': '2d15b6f7-d80c-43cd-8f52-7981ff0e30f1', 'content-type': 'application/x-amz-json-1.1', 'content-length': '1399', 'date': 'Tue, 15 Oct 2024 07:23:57 GMT'}, 'RetryAttempts': 0}}\n"
     ]
    }
   ],
   "source": [
    "# Get most recent model info\n",
    "model_name = sm_client.list_models()['Models'][0]['ModelName']\n",
    "model_info = sm_client.describe_model(ModelName=model_name)\n",
    "model_container = {\n",
    "    \"Image\": model_info['PrimaryContainer']['Image'],\n",
    "    \"ModelDataUrl\": model_info['PrimaryContainer']['ModelDataUrl']\n",
    "}\n",
    "    \n",
    "print(model_name)\n",
    "print(model_info)"
   ]
  },
  {
   "cell_type": "code",
   "execution_count": 76,
   "id": "296b588a-8faa-4715-b9da-25bf4a80fea3",
   "metadata": {
    "tags": []
   },
   "outputs": [],
   "source": [
    "# Configure a transformer for the model\n",
    "transformer = Transformer(\n",
    "    model_name=model_name,\n",
    "    instance_count=1,\n",
    "    instance_type=\"ml.m5.xlarge\",\n",
    "    strategy=\"MultiRecord\",\n",
    "    assemble_with=\"Line\",\n",
    "    output_path=f's3://{bucket}/{transform_output_prefix}',\n",
    "    accept=\"application/jsonlines\"\n",
    ")"
   ]
  },
  {
   "cell_type": "code",
   "execution_count": null,
   "id": "46dfcdd4-2469-464f-9de6-6a0f488e348b",
   "metadata": {
    "tags": []
   },
   "outputs": [],
   "source": [
    "# Run a batch transform job\n",
    "transformer.transform(\n",
    "    data=f\"s3://{bucket}/{transform_input_prefix}\",\n",
    "    content_type=\"application/jsonlines\",\n",
    "    split_type=\"Line\"\n",
    ")\n",
    "\n",
    "transformer.wait()"
   ]
  },
  {
   "cell_type": "code",
   "execution_count": 5,
   "id": "5fbd1f8e-491a-4354-9cbb-3314a7bff071",
   "metadata": {
    "tags": []
   },
   "outputs": [],
   "source": [
    "# Download predictions from the batch transform job and true labels and normalization statistics\n",
    "transform_results_local_path = \"transform-results/\"\n",
    "val_targets_path = f\"s3://{sagemaker_session.default_bucket()}/{val_prefix}/val_targets.npy\"\n",
    "global_mean_path = f\"s3://{sagemaker_session.default_bucket()}/{train_prefix}/global_mean.npy\"\n",
    "global_stddev_path = f\"s3://{sagemaker_session.default_bucket()}/{train_prefix}/global_stddev.npy\"\n",
    "\n",
    "!aws s3 cp $val_targets_path $transform_results_local_path\n",
    "!aws s3 cp $global_mean_path $transform_results_local_path\n",
    "!aws s3 cp $global_stddev_path $transform_results_local_path\n",
    "sagemaker_session.download_data(path=transform_results_local_path, bucket=bucket, key_prefix=transform_output_prefix)"
   ]
  },
  {
   "cell_type": "code",
   "execution_count": 15,
   "id": "e39c13fa-a801-4133-8f2d-75838132d518",
   "metadata": {
    "tags": []
   },
   "outputs": [
    {
     "name": "stdout",
     "output_type": "stream",
     "text": [
      "(162, 54, 1)\n",
      "[11066.08424029    72.62890566    23.37328494]\n",
      "[9928.63142484   26.6484683    43.2551771 ]\n"
     ]
    }
   ],
   "source": [
    "# Load npy objects\n",
    "val_targets = np.load(os.path.join(transform_results_local_path, 'val_targets.npy'))\n",
    "global_mean = np.load(os.path.join(transform_results_local_path, 'global_mean.npy'))\n",
    "global_stddev = np.load(os.path.join(transform_results_local_path, 'global_stddev.npy'))\n",
    "\n",
    "print(val_targets.shape)\n",
    "print(global_mean)\n",
    "print(global_stddev)"
   ]
  },
  {
   "cell_type": "code",
   "execution_count": 17,
   "id": "ae945d7e-05d9-45e6-bb0f-cb211d7ab080",
   "metadata": {
    "tags": []
   },
   "outputs": [
    {
     "name": "stdout",
     "output_type": "stream",
     "text": [
      "(162, 54, 1)\n"
     ]
    }
   ],
   "source": [
    "# Deserialize the batch transform predictions\n",
    "import json\n",
    "\n",
    "with open(\"transform-results/validation_data.ndjson.out\", \"r\") as f:\n",
    "    predictions = []\n",
    "    for line in f:\n",
    "        obj = json.loads(line.strip())\n",
    "        predictions.extend(obj[\"predictions\"])\n",
    "\n",
    "predictions_array = np.array(predictions)\n",
    "print(predictions_array.shape)"
   ]
  },
  {
   "cell_type": "code",
   "execution_count": 18,
   "id": "393713d0-8de4-4889-9d7a-e8d96cb039d4",
   "metadata": {
    "tags": []
   },
   "outputs": [
    {
     "name": "stdout",
     "output_type": "stream",
     "text": [
      "RMSE: 0.6825064042745805 MAE: 0.3680909023199403\n"
     ]
    }
   ],
   "source": [
    "# Compute RMSE and MAE on the normalized scale\n",
    "targets_flat = val_targets.flatten()\n",
    "predictions_flat = predictions_array.flatten()\n",
    "\n",
    "rmse = root_mean_squared_error(targets_flat, predictions_flat)\n",
    "mae = mean_absolute_error(targets_flat, predictions_flat)\n",
    "print(f\"RMSE: {rmse} MAE: {mae}\")\n"
   ]
  },
  {
   "cell_type": "code",
   "execution_count": 22,
   "id": "4cfad352-f253-41dd-aee8-aea01889339b",
   "metadata": {
    "tags": []
   },
   "outputs": [
    {
     "data": {
      "text/plain": [
       "'s3://sagemaker-us-east-1-342408968837/store-sales-forecasting/baseline/baseline.csv'"
      ]
     },
     "execution_count": 22,
     "metadata": {},
     "output_type": "execute_result"
    }
   ],
   "source": [
    "# Create a baseline dataframe from the normalized predictions\n",
    "n = predictions_array.shape[0]\n",
    "store_numbers = list(range(54)) * n\n",
    "baseline_df = pd.DataFrame({'store_nbr': store_numbers, 'actual_sales': targets_flat, 'predicted_sales': predictions_flat})\n",
    "\n",
    "# Write out baseline dataframe\n",
    "baseline_path = f\"{transform_results_local_path}/baseline.csv\"\n",
    "baseline_df.to_csv(baseline_path, index=False)\n",
    "\n",
    "# Upload to S3\n",
    "sagemaker_session.upload_data(path=baseline_path, bucket=bucket, key_prefix=\"store-sales-forecasting/baseline\")"
   ]
  },
  {
   "cell_type": "code",
   "execution_count": 11,
   "id": "77175964-deb1-44ff-9823-b83438d97483",
   "metadata": {
    "tags": []
   },
   "outputs": [
    {
     "data": {
      "text/html": [
       "<div>\n",
       "<style scoped>\n",
       "    .dataframe tbody tr th:only-of-type {\n",
       "        vertical-align: middle;\n",
       "    }\n",
       "\n",
       "    .dataframe tbody tr th {\n",
       "        vertical-align: top;\n",
       "    }\n",
       "\n",
       "    .dataframe thead th {\n",
       "        text-align: right;\n",
       "    }\n",
       "</style>\n",
       "<table border=\"1\" class=\"dataframe\">\n",
       "  <thead>\n",
       "    <tr style=\"text-align: right;\">\n",
       "      <th></th>\n",
       "      <th>store_nbr</th>\n",
       "      <th>actual_sales</th>\n",
       "      <th>predicted_sales</th>\n",
       "    </tr>\n",
       "  </thead>\n",
       "  <tbody>\n",
       "    <tr>\n",
       "      <th>4704</th>\n",
       "      <td>6</td>\n",
       "      <td>26631.478942</td>\n",
       "      <td>20445.797307</td>\n",
       "    </tr>\n",
       "    <tr>\n",
       "      <th>6852</th>\n",
       "      <td>48</td>\n",
       "      <td>26052.347207</td>\n",
       "      <td>31901.513872</td>\n",
       "    </tr>\n",
       "    <tr>\n",
       "      <th>2962</th>\n",
       "      <td>46</td>\n",
       "      <td>52774.351164</td>\n",
       "      <td>47297.792384</td>\n",
       "    </tr>\n",
       "    <tr>\n",
       "      <th>4944</th>\n",
       "      <td>30</td>\n",
       "      <td>12141.959975</td>\n",
       "      <td>13608.833963</td>\n",
       "    </tr>\n",
       "    <tr>\n",
       "      <th>1687</th>\n",
       "      <td>13</td>\n",
       "      <td>7787.721345</td>\n",
       "      <td>7448.019344</td>\n",
       "    </tr>\n",
       "    <tr>\n",
       "      <th>3672</th>\n",
       "      <td>0</td>\n",
       "      <td>4324.926012</td>\n",
       "      <td>9354.346185</td>\n",
       "    </tr>\n",
       "    <tr>\n",
       "      <th>4101</th>\n",
       "      <td>51</td>\n",
       "      <td>30932.024033</td>\n",
       "      <td>670.373456</td>\n",
       "    </tr>\n",
       "    <tr>\n",
       "      <th>8274</th>\n",
       "      <td>12</td>\n",
       "      <td>11721.482853</td>\n",
       "      <td>8453.238470</td>\n",
       "    </tr>\n",
       "    <tr>\n",
       "      <th>5817</th>\n",
       "      <td>39</td>\n",
       "      <td>14412.879079</td>\n",
       "      <td>13187.007637</td>\n",
       "    </tr>\n",
       "    <tr>\n",
       "      <th>8227</th>\n",
       "      <td>19</td>\n",
       "      <td>26608.669408</td>\n",
       "      <td>19359.518283</td>\n",
       "    </tr>\n",
       "    <tr>\n",
       "      <th>3367</th>\n",
       "      <td>19</td>\n",
       "      <td>16721.463930</td>\n",
       "      <td>17059.292848</td>\n",
       "    </tr>\n",
       "    <tr>\n",
       "      <th>1791</th>\n",
       "      <td>9</td>\n",
       "      <td>3834.740989</td>\n",
       "      <td>7845.166299</td>\n",
       "    </tr>\n",
       "    <tr>\n",
       "      <th>4134</th>\n",
       "      <td>30</td>\n",
       "      <td>10270.810896</td>\n",
       "      <td>14319.728609</td>\n",
       "    </tr>\n",
       "    <tr>\n",
       "      <th>4320</th>\n",
       "      <td>0</td>\n",
       "      <td>5212.022730</td>\n",
       "      <td>10443.999606</td>\n",
       "    </tr>\n",
       "    <tr>\n",
       "      <th>4555</th>\n",
       "      <td>19</td>\n",
       "      <td>11251.856913</td>\n",
       "      <td>13979.810365</td>\n",
       "    </tr>\n",
       "    <tr>\n",
       "      <th>4932</th>\n",
       "      <td>18</td>\n",
       "      <td>6358.024503</td>\n",
       "      <td>9384.157149</td>\n",
       "    </tr>\n",
       "    <tr>\n",
       "      <th>6316</th>\n",
       "      <td>52</td>\n",
       "      <td>17057.780073</td>\n",
       "      <td>15574.509605</td>\n",
       "    </tr>\n",
       "    <tr>\n",
       "      <th>1598</th>\n",
       "      <td>32</td>\n",
       "      <td>6752.052449</td>\n",
       "      <td>9415.819673</td>\n",
       "    </tr>\n",
       "    <tr>\n",
       "      <th>1724</th>\n",
       "      <td>50</td>\n",
       "      <td>23764.890351</td>\n",
       "      <td>23529.505197</td>\n",
       "    </tr>\n",
       "    <tr>\n",
       "      <th>1933</th>\n",
       "      <td>43</td>\n",
       "      <td>29686.180712</td>\n",
       "      <td>36794.594335</td>\n",
       "    </tr>\n",
       "  </tbody>\n",
       "</table>\n",
       "</div>"
      ],
      "text/plain": [
       "      store_nbr  actual_sales  predicted_sales\n",
       "4704          6  26631.478942     20445.797307\n",
       "6852         48  26052.347207     31901.513872\n",
       "2962         46  52774.351164     47297.792384\n",
       "4944         30  12141.959975     13608.833963\n",
       "1687         13   7787.721345      7448.019344\n",
       "3672          0   4324.926012      9354.346185\n",
       "4101         51  30932.024033       670.373456\n",
       "8274         12  11721.482853      8453.238470\n",
       "5817         39  14412.879079     13187.007637\n",
       "8227         19  26608.669408     19359.518283\n",
       "3367         19  16721.463930     17059.292848\n",
       "1791          9   3834.740989      7845.166299\n",
       "4134         30  10270.810896     14319.728609\n",
       "4320          0   5212.022730     10443.999606\n",
       "4555         19  11251.856913     13979.810365\n",
       "4932         18   6358.024503      9384.157149\n",
       "6316         52  17057.780073     15574.509605\n",
       "1598         32   6752.052449      9415.819673\n",
       "1724         50  23764.890351     23529.505197\n",
       "1933         43  29686.180712     36794.594335"
      ]
     },
     "metadata": {},
     "output_type": "display_data"
    },
    {
     "name": "stdout",
     "output_type": "stream",
     "text": [
      "RMSE: 6776.354533133197 MAE: 3654.638899970415\n"
     ]
    }
   ],
   "source": [
    "# Denormalize to the original scale of the data\n",
    "targets_denormalized = val_targets * global_stddev[0] + global_mean[0]\n",
    "predictions_denormalized = predictions_array * global_stddev[0] + global_mean[0]\n",
    "\n",
    "targets_flat = targets_denormalized.flatten()\n",
    "predictions_flat = predictions_denormalized.flatten()\n",
    "\n",
    "# Join the predictions and actual sales values for each store/date into a dataframe\n",
    "n = predictions_denormalized.shape[0]\n",
    "store_numbers = list(range(54)) * n\n",
    "predictions_df = pd.DataFrame({'store_nbr': store_numbers, 'actual_sales': targets_flat, 'predicted_sales': predictions_flat})\n",
    "\n",
    "# View a random sample of 20 predicted vs actual sales values\n",
    "display(predictions_df.sample(20))\n",
    "\n",
    "# Compute RMSE and MAE on the original scale\n",
    "rmse = root_mean_squared_error(targets_flat, predictions_flat)\n",
    "mae = mean_absolute_error(targets_flat, predictions_flat)\n",
    "print(f\"RMSE: {rmse} MAE: {mae}\")"
   ]
  },
  {
   "cell_type": "code",
   "execution_count": 106,
   "id": "488815fd-599e-4d4d-887c-b9615a03d461",
   "metadata": {
    "tags": []
   },
   "outputs": [],
   "source": [
    "# fig, axs = plt.subplots(27, 2, figsize=(15, 50), sharex=True)\n",
    "# axs = axs.ravel()\n",
    "# for i in range(54):\n",
    "#     ax = axs[i]\n",
    "#     store_data = predictions_df[predictions_df[\"store_nbr\"] == i]\n",
    "\n",
    "#     ax.plot(store_data.index, store_data['actual_sales'], label='Actual Sales')\n",
    "#     ax.plot(store_data.index, store_data['predicted_sales'], label='Predicted Sales')\n",
    "\n",
    "#     ax.set_title(f\"Store {i+1}\")\n",
    "#     ax.set_ylabel(\"Sales\")\n",
    "\n",
    "# fig.legend(['Actual Sales', 'Predicted Sales'], loc='upper center', ncol=2)\n",
    "# plt.tight_layout()\n",
    "# plt.show()"
   ]
  },
  {
   "cell_type": "code",
   "execution_count": 107,
   "id": "c7cf8bde-c462-4159-91fc-3adf027c23de",
   "metadata": {},
   "outputs": [
    {
     "name": "stdout",
     "output_type": "stream",
     "text": [
      "ModelPackageGroup Arn : arn:aws:sagemaker:us-east-1:342408968837:model-package-group/store-sales-forecasting-custom-model-group\n"
     ]
    },
    {
     "data": {
      "text/plain": [
       "{'ModelPackageGroupName': 'store-sales-forecasting-custom-model-group',\n",
       " 'ModelPackageGroupArn': 'arn:aws:sagemaker:us-east-1:342408968837:model-package-group/store-sales-forecasting-custom-model-group',\n",
       " 'ModelPackageGroupDescription': 'This model group contains time series forecasting models for predicting store sales for 54 Favorita stores.',\n",
       " 'CreationTime': datetime.datetime(2024, 10, 15, 7, 17, 16, 785000, tzinfo=tzlocal()),\n",
       " 'CreatedBy': {'UserProfileArn': 'arn:aws:sagemaker:us-east-1:342408968837:user-profile/d-2cr7fbmrqyrg/jlawton',\n",
       "  'UserProfileName': 'jlawton',\n",
       "  'DomainId': 'd-2cr7fbmrqyrg',\n",
       "  'IamIdentity': {'Arn': 'arn:aws:sts::342408968837:assumed-role/LabRole/SageMaker',\n",
       "   'PrincipalId': 'AROAU7OJKHKCWCCLLHI6O:SageMaker'}},\n",
       " 'ModelPackageGroupStatus': 'Completed',\n",
       " 'ResponseMetadata': {'RequestId': 'e1638ad0-0f8f-4448-b3bc-ca1c854d1b44',\n",
       "  'HTTPStatusCode': 200,\n",
       "  'HTTPHeaders': {'x-amzn-requestid': 'e1638ad0-0f8f-4448-b3bc-ca1c854d1b44',\n",
       "   'content-type': 'application/x-amz-json-1.1',\n",
       "   'content-length': '705',\n",
       "   'date': 'Tue, 15 Oct 2024 07:17:16 GMT'},\n",
       "  'RetryAttempts': 0}}"
      ]
     },
     "execution_count": 107,
     "metadata": {},
     "output_type": "execute_result"
    }
   ],
   "source": [
    "# Define and create model group\n",
    "model_package_group_name = \"store-sales-forecasting-custom-model-group\"\n",
    "model_package_group_input_dict = {\n",
    " \"ModelPackageGroupName\" : model_package_group_name,\n",
    " \"ModelPackageGroupDescription\" : \"This model group contains time series forecasting models for predicting store sales for 54 Favorita stores.\"\n",
    "}\n",
    "\n",
    "create_model_package_group_response = sm_client.create_model_package_group(**model_package_group_input_dict)\n",
    "print('ModelPackageGroup Arn : {}'.format(create_model_package_group_response['ModelPackageGroupArn']))\n",
    "\n",
    "# Check that the model group was created\n",
    "describe_model_package_group_response = sm_client.describe_model_package_group(ModelPackageGroupName=model_package_group_name)\n",
    "describe_model_package_group_response "
   ]
  },
  {
   "cell_type": "code",
   "execution_count": 110,
   "id": "75021cb0-850f-4262-91ce-5e4be93bb081",
   "metadata": {
    "tags": []
   },
   "outputs": [
    {
     "data": {
      "text/plain": [
       "{'Image': '763104351884.dkr.ecr.us-east-1.amazonaws.com/tensorflow-inference:2.6-cpu',\n",
       " 'Mode': 'SingleModel',\n",
       " 'ModelDataUrl': 's3://sagemaker-us-east-1-342408968837/store-sales-forecasting/training-output/tensorflow-training-2024-10-15-05-41-38-410/output/model.tar.gz',\n",
       " 'ModelDataSource': {'S3DataSource': {'S3Uri': 's3://sagemaker-us-east-1-342408968837/store-sales-forecasting/training-output/tensorflow-training-2024-10-15-05-41-38-410/output/model.tar.gz',\n",
       "   'S3DataType': 'S3Object',\n",
       "   'CompressionType': 'Gzip'}},\n",
       " 'Environment': {'SAGEMAKER_TFS_NGINX_LOGLEVEL': 'info'}}"
      ]
     },
     "execution_count": 110,
     "metadata": {},
     "output_type": "execute_result"
    }
   ],
   "source": [
    "model_container"
   ]
  },
  {
   "cell_type": "code",
   "execution_count": 117,
   "id": "dc73a8f4-c109-4359-8c7e-3212209f183b",
   "metadata": {
    "tags": []
   },
   "outputs": [],
   "source": [
    "# Specify the model container\n",
    "modelpackage_inference_specification =  {\n",
    "    \"InferenceSpecification\": {\n",
    "        \"Containers\": [model_container],\n",
    "        \"SupportedContentTypes\": [ \"text/csv\" ],\n",
    "        \"SupportedResponseMIMETypes\": [ \"text/csv\" ],\n",
    "      \n",
    "    }\n",
    " }\n",
    "\n",
    "# Specify package details\n",
    "create_model_package_input_dict = {\n",
    "    \"ModelPackageGroupName\" : model_package_group_name,\n",
    "    \"ModelPackageDescription\" : \"Custom store sales forecasting model using CNN-GRU architecture\",\n",
    "    \"ModelApprovalStatus\" : \"PendingManualApproval\"\n",
    "}\n",
    "create_model_package_input_dict.update(modelpackage_inference_specification)"
   ]
  },
  {
   "cell_type": "code",
   "execution_count": 118,
   "id": "6cb48530-4cf0-47f5-8aaf-4805d158bdc6",
   "metadata": {
    "tags": []
   },
   "outputs": [
    {
     "name": "stdout",
     "output_type": "stream",
     "text": [
      "ModelPackage Version ARN : arn:aws:sagemaker:us-east-1:342408968837:model-package/store-sales-forecasting-custom-model-group/1\n"
     ]
    },
    {
     "data": {
      "text/plain": [
       "{'ModelPackageGroupName': 'store-sales-forecasting-custom-model-group',\n",
       " 'ModelPackageVersion': 1,\n",
       " 'ModelPackageArn': 'arn:aws:sagemaker:us-east-1:342408968837:model-package/store-sales-forecasting-custom-model-group/1',\n",
       " 'ModelPackageDescription': 'Custom store sales forecasting model using CNN-GRU architecture',\n",
       " 'CreationTime': datetime.datetime(2024, 10, 15, 7, 24, 21, 721000, tzinfo=tzlocal()),\n",
       " 'InferenceSpecification': {'Containers': [{'Image': '763104351884.dkr.ecr.us-east-1.amazonaws.com/tensorflow-inference:2.6-cpu',\n",
       "    'ImageDigest': 'sha256:de3fd33aa1fa3225474fced65a5ed5bdcdce841319b517697d080b37ff5bacce',\n",
       "    'ModelDataUrl': 's3://sagemaker-us-east-1-342408968837/store-sales-forecasting/training-output/tensorflow-training-2024-10-15-05-41-38-410/output/model.tar.gz'}],\n",
       "  'SupportedContentTypes': ['text/csv'],\n",
       "  'SupportedResponseMIMETypes': ['text/csv']},\n",
       " 'ModelPackageStatus': 'Completed',\n",
       " 'ModelPackageStatusDetails': {'ValidationStatuses': [],\n",
       "  'ImageScanStatuses': []},\n",
       " 'CertifyForMarketplace': False,\n",
       " 'ModelApprovalStatus': 'PendingManualApproval',\n",
       " 'CreatedBy': {'UserProfileArn': 'arn:aws:sagemaker:us-east-1:342408968837:user-profile/d-2cr7fbmrqyrg/jlawton',\n",
       "  'UserProfileName': 'jlawton',\n",
       "  'DomainId': 'd-2cr7fbmrqyrg',\n",
       "  'IamIdentity': {'Arn': 'arn:aws:sts::342408968837:assumed-role/LabRole/SageMaker',\n",
       "   'PrincipalId': 'AROAU7OJKHKCWCCLLHI6O:SageMaker'}},\n",
       " 'ResponseMetadata': {'RequestId': 'cfc7c705-180c-49a7-beb3-e9686ebc40f4',\n",
       "  'HTTPStatusCode': 200,\n",
       "  'HTTPHeaders': {'x-amzn-requestid': 'cfc7c705-180c-49a7-beb3-e9686ebc40f4',\n",
       "   'content-type': 'application/x-amz-json-1.1',\n",
       "   'content-length': '1273',\n",
       "   'date': 'Tue, 15 Oct 2024 07:24:21 GMT'},\n",
       "  'RetryAttempts': 0}}"
      ]
     },
     "execution_count": 118,
     "metadata": {},
     "output_type": "execute_result"
    }
   ],
   "source": [
    "# Create the model package\n",
    "create_model_package_response = sm_client.create_model_package(**create_model_package_input_dict)\n",
    "model_package_arn = create_model_package_response[\"ModelPackageArn\"]\n",
    "print('ModelPackage Version ARN : {}'.format(model_package_arn))\n",
    "\n",
    "# Check that the model package was created\n",
    "describe_model_package_response = sm_client.describe_model_package(ModelPackageName=model_package_arn)\n",
    "describe_model_package_response"
   ]
  },
  {
   "cell_type": "code",
   "execution_count": 119,
   "id": "dc7de271-21c6-4d9e-9bdf-87e855df3366",
   "metadata": {
    "tags": []
   },
   "outputs": [],
   "source": [
    "# Define model overview\n",
    "model_overview = ModelOverview.from_model_name(\n",
    "    model_name=model_name,\n",
    "    sagemaker_session=sagemaker_session,\n",
    "    model_description=\"Model to predict store sales for 54 Favorita stores based on historical sales data, oil prices, and seasonal information.\",\n",
    "    problem_type=\"Time Series Forecasting\",\n",
    "    algorithm_type=\"CNN-GRU\",\n",
    "    model_creator=\"AAI 540 Team 5\",\n",
    "    model_owner=\"AAI 540 Team 5\",\n",
    ")"
   ]
  },
  {
   "cell_type": "code",
   "execution_count": 124,
   "id": "c0260980-4c17-4e54-867e-3036ce2cea46",
   "metadata": {
    "tags": []
   },
   "outputs": [
    {
     "name": "stdout",
     "output_type": "stream",
     "text": [
      "Training job id: arn:aws:sagemaker:us-east-1:342408968837:training-job/tensorflow-training-2024-10-15-05-41-38-410\n",
      "Training image: ['763104351884.dkr.ecr.us-east-1.amazonaws.com/tensorflow-training:2.6-cpu-py38']\n",
      "Training Metrics: \n",
      "[{'name': 'loss', 'value': 0.4708000123500824}, {'name': 'root_mean_squared_error', 'value': 0.6825000047683716}, {'name': 'mean_absolute_error', 'value': 0.36809998750686646}, {'name': 'val_loss', 'value': 0.36169999837875366}, {'name': 'val_root_mean_squared_error', 'value': 0.597000002861023}, {'name': 'val_mean_absolute_error', 'value': 0.36320000886917114}, {'name': 'epoch', 'value': 19.0}]\n"
     ]
    }
   ],
   "source": [
    "# Define objective funtion\n",
    "objective_function = ObjectiveFunction(\n",
    "    function=Function(\n",
    "        function=ObjectiveFunctionEnum.MINIMIZE,\n",
    "        facet=FacetEnum.LOSS,\n",
    "    ),\n",
    "    notes=\"The model optimizes for mean squared error during training.\",\n",
    ")\n",
    "\n",
    "# Get hyperparameters from the training job\n",
    "model_training_job_name = model_info['PrimaryContainer']['ModelDataUrl'].split('/')[-3]\n",
    "job = sm_client.describe_training_job(TrainingJobName=model_training_job_name)\n",
    "hyperparameters = [HyperParameter(key, value) for key, value in job['HyperParameters'].items()]\n",
    "\n",
    "# Create job details to include the hyperparameters in the training details\n",
    "training_job_details = TrainingJobDetails(\n",
    "    hyper_parameters=hyperparameters\n",
    ")\n",
    "\n",
    "# Define and view training details\n",
    "training_details = TrainingDetails.from_model_overview(\n",
    "    model_overview=model_overview,\n",
    "    sagemaker_session=sagemaker_session,\n",
    "    objective_function=objective_function,\n",
    "    training_job_details=training_job_details\n",
    ")\n",
    "print(f\"Training job id: {training_details.training_job_details.training_arn}\")\n",
    "print(\n",
    "    f\"Training image: {training_details.training_job_details.training_environment.container_image}\"\n",
    ")\n",
    "print(\"Training Metrics: \")\n",
    "print(\n",
    "    [\n",
    "        {\"name\": i.name, \"value\": i.value}\n",
    "        for i in training_details.training_job_details.training_metrics\n",
    "    ]\n",
    ")"
   ]
  },
  {
   "cell_type": "code",
   "execution_count": 125,
   "id": "54ec10f6-5b08-4f25-a6b3-8790c4ef07e8",
   "metadata": {
    "tags": []
   },
   "outputs": [],
   "source": [
    "# Define intended uses and business_details\n",
    "intended_uses = IntendedUses(\n",
    "    purpose_of_model=\"This model is designed to forecast store sales for Favorita stores.\",\n",
    "    intended_uses=\"This model is intended to forecast sales for the 54 currently operational Favorita stores.\",\n",
    "    factors_affecting_model_efficiency=\"N/A\",\n",
    "    risk_rating=RiskRatingEnum.LOW,\n",
    "    explanations_for_risk_rating=\"No PII or other sensitive information is used in this model.\",\n",
    ")\n",
    "business_details = BusinessDetails(\n",
    "    business_problem=\"Predicting Favorita store sales.\",\n",
    "    business_stakeholders=\"Favorita store managers, owners, and stakeholders.\",\n",
    "    line_of_business=\"Sales\",\n",
    ")"
   ]
  },
  {
   "cell_type": "code",
   "execution_count": 127,
   "id": "118a7762-ffd7-48ff-b2f2-2f4e9c9ed39b",
   "metadata": {
    "tags": []
   },
   "outputs": [
    {
     "name": "stderr",
     "output_type": "stream",
     "text": [
      "INFO:sagemaker.model_card.model_card:Creating model card with name: store-sales-forecasting-custom-model-card\n"
     ]
    },
    {
     "name": "stdout",
     "output_type": "stream",
     "text": [
      "Model card store-sales-forecasting-custom-model-card is successfully created with id arn:aws:sagemaker:us-east-1:342408968837:model-card/store-sales-forecasting-custom-model-card\n"
     ]
    }
   ],
   "source": [
    "# Create the model card\n",
    "model_card_name = \"store-sales-forecasting-custom-model-card\"\n",
    "model_card = ModelCard(\n",
    "    name=model_card_name,\n",
    "    status=ModelCardStatusEnum.DRAFT,\n",
    "    model_overview=model_overview,\n",
    "    training_details=training_details,\n",
    "    intended_uses=intended_uses,\n",
    "    business_details=business_details,\n",
    "    sagemaker_session=sagemaker_session,\n",
    ")\n",
    "model_card.create()\n",
    "print(f\"Model card {model_card.name} is successfully created with id {model_card.arn}\")"
   ]
  },
  {
   "cell_type": "code",
   "execution_count": 128,
   "id": "94597ace-4d15-402c-abbb-fb8656fbd97d",
   "metadata": {
    "tags": []
   },
   "outputs": [
    {
     "name": "stdout",
     "output_type": "stream",
     "text": [
      "..........\r"
     ]
    },
    {
     "name": "stderr",
     "output_type": "stream",
     "text": [
      "INFO:sagemaker.model_card.model_card:Model card store-sales-forecasting-custom-model-card is successfully exported to s3://sagemaker-us-east-1-342408968837/store-sales-forecasting/export/store-sales-forecasting-custom-model-card/store-sales-forecasting-custom-model-card-1728977351-d496.pdf.\n"
     ]
    },
    {
     "name": "stdout",
     "output_type": "stream",
     "text": [
      "          \r"
     ]
    }
   ],
   "source": [
    "# Export the model card as a PDF and store in S3\n",
    "s3_output_path = f\"s3://{bucket}/store-sales-forecasting/export\"\n",
    "pdf_s3_url = model_card.export_pdf(s3_output_path=s3_output_path)"
   ]
  },
  {
   "cell_type": "code",
   "execution_count": null,
   "id": "31643d25-2a71-45f9-8317-04b4a2235974",
   "metadata": {},
   "outputs": [],
   "source": []
  }
 ],
 "metadata": {
  "availableInstances": [
   {
    "_defaultOrder": 0,
    "_isFastLaunch": true,
    "category": "General purpose",
    "gpuNum": 0,
    "hideHardwareSpecs": false,
    "memoryGiB": 4,
    "name": "ml.t3.medium",
    "vcpuNum": 2
   },
   {
    "_defaultOrder": 1,
    "_isFastLaunch": false,
    "category": "General purpose",
    "gpuNum": 0,
    "hideHardwareSpecs": false,
    "memoryGiB": 8,
    "name": "ml.t3.large",
    "vcpuNum": 2
   },
   {
    "_defaultOrder": 2,
    "_isFastLaunch": false,
    "category": "General purpose",
    "gpuNum": 0,
    "hideHardwareSpecs": false,
    "memoryGiB": 16,
    "name": "ml.t3.xlarge",
    "vcpuNum": 4
   },
   {
    "_defaultOrder": 3,
    "_isFastLaunch": false,
    "category": "General purpose",
    "gpuNum": 0,
    "hideHardwareSpecs": false,
    "memoryGiB": 32,
    "name": "ml.t3.2xlarge",
    "vcpuNum": 8
   },
   {
    "_defaultOrder": 4,
    "_isFastLaunch": true,
    "category": "General purpose",
    "gpuNum": 0,
    "hideHardwareSpecs": false,
    "memoryGiB": 8,
    "name": "ml.m5.large",
    "vcpuNum": 2
   },
   {
    "_defaultOrder": 5,
    "_isFastLaunch": false,
    "category": "General purpose",
    "gpuNum": 0,
    "hideHardwareSpecs": false,
    "memoryGiB": 16,
    "name": "ml.m5.xlarge",
    "vcpuNum": 4
   },
   {
    "_defaultOrder": 6,
    "_isFastLaunch": false,
    "category": "General purpose",
    "gpuNum": 0,
    "hideHardwareSpecs": false,
    "memoryGiB": 32,
    "name": "ml.m5.2xlarge",
    "vcpuNum": 8
   },
   {
    "_defaultOrder": 7,
    "_isFastLaunch": false,
    "category": "General purpose",
    "gpuNum": 0,
    "hideHardwareSpecs": false,
    "memoryGiB": 64,
    "name": "ml.m5.4xlarge",
    "vcpuNum": 16
   },
   {
    "_defaultOrder": 8,
    "_isFastLaunch": false,
    "category": "General purpose",
    "gpuNum": 0,
    "hideHardwareSpecs": false,
    "memoryGiB": 128,
    "name": "ml.m5.8xlarge",
    "vcpuNum": 32
   },
   {
    "_defaultOrder": 9,
    "_isFastLaunch": false,
    "category": "General purpose",
    "gpuNum": 0,
    "hideHardwareSpecs": false,
    "memoryGiB": 192,
    "name": "ml.m5.12xlarge",
    "vcpuNum": 48
   },
   {
    "_defaultOrder": 10,
    "_isFastLaunch": false,
    "category": "General purpose",
    "gpuNum": 0,
    "hideHardwareSpecs": false,
    "memoryGiB": 256,
    "name": "ml.m5.16xlarge",
    "vcpuNum": 64
   },
   {
    "_defaultOrder": 11,
    "_isFastLaunch": false,
    "category": "General purpose",
    "gpuNum": 0,
    "hideHardwareSpecs": false,
    "memoryGiB": 384,
    "name": "ml.m5.24xlarge",
    "vcpuNum": 96
   },
   {
    "_defaultOrder": 12,
    "_isFastLaunch": false,
    "category": "General purpose",
    "gpuNum": 0,
    "hideHardwareSpecs": false,
    "memoryGiB": 8,
    "name": "ml.m5d.large",
    "vcpuNum": 2
   },
   {
    "_defaultOrder": 13,
    "_isFastLaunch": false,
    "category": "General purpose",
    "gpuNum": 0,
    "hideHardwareSpecs": false,
    "memoryGiB": 16,
    "name": "ml.m5d.xlarge",
    "vcpuNum": 4
   },
   {
    "_defaultOrder": 14,
    "_isFastLaunch": false,
    "category": "General purpose",
    "gpuNum": 0,
    "hideHardwareSpecs": false,
    "memoryGiB": 32,
    "name": "ml.m5d.2xlarge",
    "vcpuNum": 8
   },
   {
    "_defaultOrder": 15,
    "_isFastLaunch": false,
    "category": "General purpose",
    "gpuNum": 0,
    "hideHardwareSpecs": false,
    "memoryGiB": 64,
    "name": "ml.m5d.4xlarge",
    "vcpuNum": 16
   },
   {
    "_defaultOrder": 16,
    "_isFastLaunch": false,
    "category": "General purpose",
    "gpuNum": 0,
    "hideHardwareSpecs": false,
    "memoryGiB": 128,
    "name": "ml.m5d.8xlarge",
    "vcpuNum": 32
   },
   {
    "_defaultOrder": 17,
    "_isFastLaunch": false,
    "category": "General purpose",
    "gpuNum": 0,
    "hideHardwareSpecs": false,
    "memoryGiB": 192,
    "name": "ml.m5d.12xlarge",
    "vcpuNum": 48
   },
   {
    "_defaultOrder": 18,
    "_isFastLaunch": false,
    "category": "General purpose",
    "gpuNum": 0,
    "hideHardwareSpecs": false,
    "memoryGiB": 256,
    "name": "ml.m5d.16xlarge",
    "vcpuNum": 64
   },
   {
    "_defaultOrder": 19,
    "_isFastLaunch": false,
    "category": "General purpose",
    "gpuNum": 0,
    "hideHardwareSpecs": false,
    "memoryGiB": 384,
    "name": "ml.m5d.24xlarge",
    "vcpuNum": 96
   },
   {
    "_defaultOrder": 20,
    "_isFastLaunch": false,
    "category": "General purpose",
    "gpuNum": 0,
    "hideHardwareSpecs": true,
    "memoryGiB": 0,
    "name": "ml.geospatial.interactive",
    "supportedImageNames": [
     "sagemaker-geospatial-v1-0"
    ],
    "vcpuNum": 0
   },
   {
    "_defaultOrder": 21,
    "_isFastLaunch": true,
    "category": "Compute optimized",
    "gpuNum": 0,
    "hideHardwareSpecs": false,
    "memoryGiB": 4,
    "name": "ml.c5.large",
    "vcpuNum": 2
   },
   {
    "_defaultOrder": 22,
    "_isFastLaunch": false,
    "category": "Compute optimized",
    "gpuNum": 0,
    "hideHardwareSpecs": false,
    "memoryGiB": 8,
    "name": "ml.c5.xlarge",
    "vcpuNum": 4
   },
   {
    "_defaultOrder": 23,
    "_isFastLaunch": false,
    "category": "Compute optimized",
    "gpuNum": 0,
    "hideHardwareSpecs": false,
    "memoryGiB": 16,
    "name": "ml.c5.2xlarge",
    "vcpuNum": 8
   },
   {
    "_defaultOrder": 24,
    "_isFastLaunch": false,
    "category": "Compute optimized",
    "gpuNum": 0,
    "hideHardwareSpecs": false,
    "memoryGiB": 32,
    "name": "ml.c5.4xlarge",
    "vcpuNum": 16
   },
   {
    "_defaultOrder": 25,
    "_isFastLaunch": false,
    "category": "Compute optimized",
    "gpuNum": 0,
    "hideHardwareSpecs": false,
    "memoryGiB": 72,
    "name": "ml.c5.9xlarge",
    "vcpuNum": 36
   },
   {
    "_defaultOrder": 26,
    "_isFastLaunch": false,
    "category": "Compute optimized",
    "gpuNum": 0,
    "hideHardwareSpecs": false,
    "memoryGiB": 96,
    "name": "ml.c5.12xlarge",
    "vcpuNum": 48
   },
   {
    "_defaultOrder": 27,
    "_isFastLaunch": false,
    "category": "Compute optimized",
    "gpuNum": 0,
    "hideHardwareSpecs": false,
    "memoryGiB": 144,
    "name": "ml.c5.18xlarge",
    "vcpuNum": 72
   },
   {
    "_defaultOrder": 28,
    "_isFastLaunch": false,
    "category": "Compute optimized",
    "gpuNum": 0,
    "hideHardwareSpecs": false,
    "memoryGiB": 192,
    "name": "ml.c5.24xlarge",
    "vcpuNum": 96
   },
   {
    "_defaultOrder": 29,
    "_isFastLaunch": true,
    "category": "Accelerated computing",
    "gpuNum": 1,
    "hideHardwareSpecs": false,
    "memoryGiB": 16,
    "name": "ml.g4dn.xlarge",
    "vcpuNum": 4
   },
   {
    "_defaultOrder": 30,
    "_isFastLaunch": false,
    "category": "Accelerated computing",
    "gpuNum": 1,
    "hideHardwareSpecs": false,
    "memoryGiB": 32,
    "name": "ml.g4dn.2xlarge",
    "vcpuNum": 8
   },
   {
    "_defaultOrder": 31,
    "_isFastLaunch": false,
    "category": "Accelerated computing",
    "gpuNum": 1,
    "hideHardwareSpecs": false,
    "memoryGiB": 64,
    "name": "ml.g4dn.4xlarge",
    "vcpuNum": 16
   },
   {
    "_defaultOrder": 32,
    "_isFastLaunch": false,
    "category": "Accelerated computing",
    "gpuNum": 1,
    "hideHardwareSpecs": false,
    "memoryGiB": 128,
    "name": "ml.g4dn.8xlarge",
    "vcpuNum": 32
   },
   {
    "_defaultOrder": 33,
    "_isFastLaunch": false,
    "category": "Accelerated computing",
    "gpuNum": 4,
    "hideHardwareSpecs": false,
    "memoryGiB": 192,
    "name": "ml.g4dn.12xlarge",
    "vcpuNum": 48
   },
   {
    "_defaultOrder": 34,
    "_isFastLaunch": false,
    "category": "Accelerated computing",
    "gpuNum": 1,
    "hideHardwareSpecs": false,
    "memoryGiB": 256,
    "name": "ml.g4dn.16xlarge",
    "vcpuNum": 64
   },
   {
    "_defaultOrder": 35,
    "_isFastLaunch": false,
    "category": "Accelerated computing",
    "gpuNum": 1,
    "hideHardwareSpecs": false,
    "memoryGiB": 61,
    "name": "ml.p3.2xlarge",
    "vcpuNum": 8
   },
   {
    "_defaultOrder": 36,
    "_isFastLaunch": false,
    "category": "Accelerated computing",
    "gpuNum": 4,
    "hideHardwareSpecs": false,
    "memoryGiB": 244,
    "name": "ml.p3.8xlarge",
    "vcpuNum": 32
   },
   {
    "_defaultOrder": 37,
    "_isFastLaunch": false,
    "category": "Accelerated computing",
    "gpuNum": 8,
    "hideHardwareSpecs": false,
    "memoryGiB": 488,
    "name": "ml.p3.16xlarge",
    "vcpuNum": 64
   },
   {
    "_defaultOrder": 38,
    "_isFastLaunch": false,
    "category": "Accelerated computing",
    "gpuNum": 8,
    "hideHardwareSpecs": false,
    "memoryGiB": 768,
    "name": "ml.p3dn.24xlarge",
    "vcpuNum": 96
   },
   {
    "_defaultOrder": 39,
    "_isFastLaunch": false,
    "category": "Memory Optimized",
    "gpuNum": 0,
    "hideHardwareSpecs": false,
    "memoryGiB": 16,
    "name": "ml.r5.large",
    "vcpuNum": 2
   },
   {
    "_defaultOrder": 40,
    "_isFastLaunch": false,
    "category": "Memory Optimized",
    "gpuNum": 0,
    "hideHardwareSpecs": false,
    "memoryGiB": 32,
    "name": "ml.r5.xlarge",
    "vcpuNum": 4
   },
   {
    "_defaultOrder": 41,
    "_isFastLaunch": false,
    "category": "Memory Optimized",
    "gpuNum": 0,
    "hideHardwareSpecs": false,
    "memoryGiB": 64,
    "name": "ml.r5.2xlarge",
    "vcpuNum": 8
   },
   {
    "_defaultOrder": 42,
    "_isFastLaunch": false,
    "category": "Memory Optimized",
    "gpuNum": 0,
    "hideHardwareSpecs": false,
    "memoryGiB": 128,
    "name": "ml.r5.4xlarge",
    "vcpuNum": 16
   },
   {
    "_defaultOrder": 43,
    "_isFastLaunch": false,
    "category": "Memory Optimized",
    "gpuNum": 0,
    "hideHardwareSpecs": false,
    "memoryGiB": 256,
    "name": "ml.r5.8xlarge",
    "vcpuNum": 32
   },
   {
    "_defaultOrder": 44,
    "_isFastLaunch": false,
    "category": "Memory Optimized",
    "gpuNum": 0,
    "hideHardwareSpecs": false,
    "memoryGiB": 384,
    "name": "ml.r5.12xlarge",
    "vcpuNum": 48
   },
   {
    "_defaultOrder": 45,
    "_isFastLaunch": false,
    "category": "Memory Optimized",
    "gpuNum": 0,
    "hideHardwareSpecs": false,
    "memoryGiB": 512,
    "name": "ml.r5.16xlarge",
    "vcpuNum": 64
   },
   {
    "_defaultOrder": 46,
    "_isFastLaunch": false,
    "category": "Memory Optimized",
    "gpuNum": 0,
    "hideHardwareSpecs": false,
    "memoryGiB": 768,
    "name": "ml.r5.24xlarge",
    "vcpuNum": 96
   },
   {
    "_defaultOrder": 47,
    "_isFastLaunch": false,
    "category": "Accelerated computing",
    "gpuNum": 1,
    "hideHardwareSpecs": false,
    "memoryGiB": 16,
    "name": "ml.g5.xlarge",
    "vcpuNum": 4
   },
   {
    "_defaultOrder": 48,
    "_isFastLaunch": false,
    "category": "Accelerated computing",
    "gpuNum": 1,
    "hideHardwareSpecs": false,
    "memoryGiB": 32,
    "name": "ml.g5.2xlarge",
    "vcpuNum": 8
   },
   {
    "_defaultOrder": 49,
    "_isFastLaunch": false,
    "category": "Accelerated computing",
    "gpuNum": 1,
    "hideHardwareSpecs": false,
    "memoryGiB": 64,
    "name": "ml.g5.4xlarge",
    "vcpuNum": 16
   },
   {
    "_defaultOrder": 50,
    "_isFastLaunch": false,
    "category": "Accelerated computing",
    "gpuNum": 1,
    "hideHardwareSpecs": false,
    "memoryGiB": 128,
    "name": "ml.g5.8xlarge",
    "vcpuNum": 32
   },
   {
    "_defaultOrder": 51,
    "_isFastLaunch": false,
    "category": "Accelerated computing",
    "gpuNum": 1,
    "hideHardwareSpecs": false,
    "memoryGiB": 256,
    "name": "ml.g5.16xlarge",
    "vcpuNum": 64
   },
   {
    "_defaultOrder": 52,
    "_isFastLaunch": false,
    "category": "Accelerated computing",
    "gpuNum": 4,
    "hideHardwareSpecs": false,
    "memoryGiB": 192,
    "name": "ml.g5.12xlarge",
    "vcpuNum": 48
   },
   {
    "_defaultOrder": 53,
    "_isFastLaunch": false,
    "category": "Accelerated computing",
    "gpuNum": 4,
    "hideHardwareSpecs": false,
    "memoryGiB": 384,
    "name": "ml.g5.24xlarge",
    "vcpuNum": 96
   },
   {
    "_defaultOrder": 54,
    "_isFastLaunch": false,
    "category": "Accelerated computing",
    "gpuNum": 8,
    "hideHardwareSpecs": false,
    "memoryGiB": 768,
    "name": "ml.g5.48xlarge",
    "vcpuNum": 192
   },
   {
    "_defaultOrder": 55,
    "_isFastLaunch": false,
    "category": "Accelerated computing",
    "gpuNum": 8,
    "hideHardwareSpecs": false,
    "memoryGiB": 1152,
    "name": "ml.p4d.24xlarge",
    "vcpuNum": 96
   },
   {
    "_defaultOrder": 56,
    "_isFastLaunch": false,
    "category": "Accelerated computing",
    "gpuNum": 8,
    "hideHardwareSpecs": false,
    "memoryGiB": 1152,
    "name": "ml.p4de.24xlarge",
    "vcpuNum": 96
   },
   {
    "_defaultOrder": 57,
    "_isFastLaunch": false,
    "category": "Accelerated computing",
    "gpuNum": 0,
    "hideHardwareSpecs": false,
    "memoryGiB": 32,
    "name": "ml.trn1.2xlarge",
    "vcpuNum": 8
   },
   {
    "_defaultOrder": 58,
    "_isFastLaunch": false,
    "category": "Accelerated computing",
    "gpuNum": 0,
    "hideHardwareSpecs": false,
    "memoryGiB": 512,
    "name": "ml.trn1.32xlarge",
    "vcpuNum": 128
   },
   {
    "_defaultOrder": 59,
    "_isFastLaunch": false,
    "category": "Accelerated computing",
    "gpuNum": 0,
    "hideHardwareSpecs": false,
    "memoryGiB": 512,
    "name": "ml.trn1n.32xlarge",
    "vcpuNum": 128
   }
  ],
  "instance_type": "ml.t3.medium",
  "kernelspec": {
   "display_name": "Python 3 (Data Science 3.0)",
   "language": "python",
   "name": "python3__SAGEMAKER_INTERNAL__arn:aws:sagemaker:us-east-1:081325390199:image/sagemaker-data-science-310-v1"
  },
  "language_info": {
   "codemirror_mode": {
    "name": "ipython",
    "version": 3
   },
   "file_extension": ".py",
   "mimetype": "text/x-python",
   "name": "python",
   "nbconvert_exporter": "python",
   "pygments_lexer": "ipython3",
   "version": "3.10.6"
  }
 },
 "nbformat": 4,
 "nbformat_minor": 5
}
