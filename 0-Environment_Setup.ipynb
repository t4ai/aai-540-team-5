{
 "cells": [
  {
   "cell_type": "markdown",
   "metadata": {},
   "source": [
    "## Part 0 - Setup Environment and Common Functions\n",
    "\n",
    "\n",
    "University of San Diego - MS Applied AI\n",
    "\n",
    "AAI-540 Team 5\n",
    "\n",
    "October 21, 2024"
   ]
  },
  {
   "cell_type": "markdown",
   "metadata": {},
   "source": [
    "### Install and import libraries"
   ]
  },
  {
   "cell_type": "code",
   "execution_count": null,
   "metadata": {},
   "outputs": [],
   "source": [
    "!pip install awswrangler\n",
    "!pip install pyathena\n",
    "!pip install seaborn"
   ]
  },
  {
   "cell_type": "code",
   "execution_count": 1,
   "metadata": {},
   "outputs": [
    {
     "name": "stdout",
     "output_type": "stream",
     "text": [
      "sagemaker.config INFO - Not applying SDK defaults from location: /etc/xdg/sagemaker/config.yaml\n",
      "sagemaker.config INFO - Not applying SDK defaults from location: /home/sagemaker-user/.config/sagemaker/config.yaml\n"
     ]
    }
   ],
   "source": [
    "# Import libraries\n",
    "import boto3\n",
    "import sagemaker\n",
    "import pandas as pd\n",
    "import numpy as np\n",
    "import os\n",
    "import matplotlib.pyplot as plt\n",
    "import seaborn as sns\n",
    "import awswrangler as wr\n",
    "from pyathena import connect\n",
    "from sagemaker.feature_store.feature_group import FeatureGroup\n",
    "from sagemaker.session import Session"
   ]
  },
  {
   "cell_type": "markdown",
   "metadata": {},
   "source": [
    "### Initialize Variables"
   ]
  },
  {
   "cell_type": "code",
   "execution_count": null,
   "metadata": {},
   "outputs": [],
   "source": [
    "# initialize Sagemaker session\n",
    "sess = sagemaker.Session()\n",
    "bucket = sess.default_bucket()\n",
    "role = sagemaker.get_execution_role()\n",
    "region = boto3.Session().region_name\n",
    "account_id = boto3.client(\"sts\").get_caller_identity().get(\"Account\")\n",
    "\n",
    "sm = boto3.Session().client(service_name=\"sagemaker\", region_name=region)\n",
    "s3_client = boto3.client(\"s3\", region_name=region)\n",
    "\n",
    "boto_session = boto3.Session(region_name=region)\n",
    "featurestore_runtime = boto_session.client(\n",
    "    service_name=\"sagemaker-featurestore-runtime\", region_name=region\n",
    ")\n",
    "\n",
    "# initialize sagemaker featurestore session\n",
    "feature_store_session = Session(\n",
    "    boto_session=boto_session,\n",
    "    sagemaker_client=sm,\n",
    "    sagemaker_featurestore_runtime_client=featurestore_runtime,\n",
    ")"
   ]
  },
  {
   "cell_type": "code",
   "execution_count": null,
   "metadata": {},
   "outputs": [],
   "source": [
    "# Default S3 bucket for offline feature store\n",
    "default_s3_bucket_name = feature_store_session.default_bucket()\n",
    "prefix = \"sagemaker-featurestore-store-sales\""
   ]
  },
  {
   "cell_type": "code",
   "execution_count": null,
   "metadata": {},
   "outputs": [],
   "source": [
    "# Default store sales feature store name\n",
    "store_sales_feature_group_name = \"store-sales-feature-group-offline\""
   ]
  },
  {
   "cell_type": "code",
   "execution_count": null,
   "metadata": {},
   "outputs": [],
   "source": [
    "# define default store sales feature group\n",
    "store_sales_feature_group = FeatureGroup(\n",
    "    name=store_sales_feature_group_name, sagemaker_session=feature_store_session\n",
    ")"
   ]
  },
  {
   "cell_type": "code",
   "execution_count": null,
   "metadata": {},
   "outputs": [],
   "source": [
    "# initialize our private bucket path\n",
    "s3_datalake_path_csv = \"s3://{}/store-sales-forecasting/csv\".format(bucket)\n",
    "%store s3_datalake_path_csv"
   ]
  },
  {
   "cell_type": "code",
   "execution_count": null,
   "metadata": {},
   "outputs": [],
   "source": [
    "# initialize local data path\n",
    "local_data_path_csv = os.getcwd() + '/store-sales-time-series-forecasting/'\n",
    "%store local_data_path_csv"
   ]
  },
  {
   "cell_type": "code",
   "execution_count": null,
   "metadata": {},
   "outputs": [],
   "source": [
    "# Set the datalake path to Parquet data\n",
    "s3_datalake_path_parquet = \"s3://{}/store-sales-forecasting/parquet\".format(bucket)\n",
    "%store s3_datalake_path_parquet"
   ]
  },
  {
   "cell_type": "code",
   "execution_count": null,
   "metadata": {},
   "outputs": [],
   "source": [
    "# Set S3 staging directory\n",
    "s3_staging_dir = \"s3://{0}/athena/staging\".format(bucket)"
   ]
  },
  {
   "cell_type": "code",
   "execution_count": null,
   "metadata": {},
   "outputs": [],
   "source": [
    "# Set Athena parameters\n",
    "database_name = \"aai540finalprojectdb\""
   ]
  },
  {
   "cell_type": "code",
   "execution_count": null,
   "metadata": {},
   "outputs": [],
   "source": [
    "# Connect to the Athena staging directory\n",
    "conn = connect(region_name=region, s3_staging_dir=s3_staging_dir)"
   ]
  },
  {
   "cell_type": "markdown",
   "metadata": {},
   "source": [
    "### Global Functions"
   ]
  },
  {
   "cell_type": "code",
   "execution_count": 4,
   "metadata": {},
   "outputs": [],
   "source": [
    "def get_cleaned_dataset_from_athena(db):\n",
    "    # Check that data from the table loads correctly\n",
    "    table_name = \"cleaned_data\"\n",
    "\n",
    "    # Define SQL query\n",
    "    statement = \"\"\"SELECT * FROM {}.{}\n",
    "        \"\"\".format(\n",
    "        db, table_name\n",
    "    )\n",
    "\n",
    "    # get the results\n",
    "    df = wr.athena.read_sql_query(statement, db)\n",
    "    \n",
    "    return df\n"
   ]
  },
  {
   "cell_type": "code",
   "execution_count": null,
   "metadata": {},
   "outputs": [],
   "source": [
    "# load an existing feature group\n",
    "def load_feature_group(feature_group_name):\n",
    "    try:\n",
    "        feature_group = FeatureGroup(feature_group_name, sess)\n",
    "        return feature_group\n",
    "    except Exception as e:\n",
    "        print(f\"Error loading feature group: {e}\")\n",
    "        return None"
   ]
  },
  {
   "cell_type": "code",
   "execution_count": null,
   "metadata": {},
   "outputs": [],
   "source": [
    "# load raw dataset from an offline feature group\n",
    "def get_raw_dataset_from_offline_feature_group(feature_group):\n",
    "    query = feature_group.athena_query()\n",
    "    table = query.table_name\n",
    "    query_string = f'''\n",
    "    SELECT *\n",
    "    FROM\n",
    "        \"{table}\"\n",
    "    '''\n",
    "    print(\"Running \" + query_string)\n",
    "\n",
    "    query.run(\n",
    "        query_string=query_string,\n",
    "        output_location=\"s3://\" + default_s3_bucket_name + \"/\" + prefix + \"/dataset_query\"\n",
    "    )\n",
    "    query.wait()\n",
    "    df = query.as_dataframe()\n",
    "    return df"
   ]
  },
  {
   "cell_type": "code",
   "execution_count": null,
   "metadata": {},
   "outputs": [],
   "source": [
    "# load raw dataset from an offline feature group\n",
    "def get_store_dataset_from_offline_feature_group(feature_group):\n",
    "    query = feature_group.athena_query()\n",
    "    table = query.table_name\n",
    "    query_string = f'''\n",
    "    SELECT *\n",
    "    FROM\n",
    "        \"{table}\"\n",
    "    ORDER BY\n",
    "        store_nbr ASC, date ASC\n",
    "    '''\n",
    "    print(\"Running \" + query_string)\n",
    "\n",
    "    query.run(\n",
    "        query_string=query_string,\n",
    "        output_location=\"s3://\" + default_s3_bucket_name + \"/\" + prefix + \"/dataset_query\"\n",
    "    )\n",
    "    query.wait()\n",
    "    df = query.as_dataframe()\n",
    "    return df"
   ]
  }
 ],
 "metadata": {
  "kernelspec": {
   "display_name": "base",
   "language": "python",
   "name": "python3"
  },
  "language_info": {
   "codemirror_mode": {
    "name": "ipython",
    "version": 3
   },
   "file_extension": ".py",
   "mimetype": "text/x-python",
   "name": "python",
   "nbconvert_exporter": "python",
   "pygments_lexer": "ipython3",
   "version": "3.11.9"
  }
 },
 "nbformat": 4,
 "nbformat_minor": 2
}
