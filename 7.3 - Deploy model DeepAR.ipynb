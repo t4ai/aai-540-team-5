{
 "cells": [
  {
   "cell_type": "markdown",
   "metadata": {},
   "source": [
    "## Part VII.3 - Register and Deploy Best DeepAR model \n",
    "\n",
    "University of San Diego - MS Applied AI\n",
    "\n",
    "AAI-540 Team 5\n",
    "\n",
    "October 21, 2024"
   ]
  },
  {
   "cell_type": "code",
   "execution_count": 103,
   "metadata": {},
   "outputs": [
    {
     "name": "stdout",
     "output_type": "stream",
     "text": [
      "Stored 's3_datalake_path_csv' (str)\n",
      "Stored 'local_data_path_csv' (str)\n",
      "Stored 's3_datalake_path_parquet' (str)\n"
     ]
    }
   ],
   "source": [
    "# setup environment\n",
    "%run 0-Environment_Setup.ipynb"
   ]
  },
  {
   "cell_type": "markdown",
   "metadata": {},
   "source": [
    "### Store Best DeepAR Model to Registry"
   ]
  },
  {
   "cell_type": "code",
   "execution_count": 7,
   "metadata": {},
   "outputs": [
    {
     "data": {
      "text/plain": [
       "'s3://sagemaker-us-east-1-343218227212/store-sales-forecasting/deepar/gold-dataset/output/deepar-hyperparamete-241007-2220-007-b18b6b1e/output/model.tar.gz'"
      ]
     },
     "execution_count": 7,
     "metadata": {},
     "output_type": "execute_result"
    }
   ],
   "source": [
    "# Load the best model information from our tuning job\n",
    "tuning_job_name = \"deepar-hyperparamete-241007-2220\"\n",
    "tuning_job_result = sm.describe_hyper_parameter_tuning_job(\n",
    "    HyperParameterTuningJobName=tuning_job_name\n",
    ")\n",
    "\n",
    "# get model details from best training job\n",
    "best_training_job_name = tuning_job_result[\"BestTrainingJob\"][\"TrainingJobName\"]\n",
    "best_training_job = sm.describe_training_job(TrainingJobName=best_training_job_name)\n",
    "best_model_path = best_training_job['ModelArtifacts']['S3ModelArtifacts']\n",
    "best_model_path"
   ]
  },
  {
   "cell_type": "code",
   "execution_count": 4,
   "metadata": {},
   "outputs": [
    {
     "name": "stdout",
     "output_type": "stream",
     "text": [
      "ModelPackageGroup Arn : arn:aws:sagemaker:us-east-1:343218227212:model-package-group/deepar-store-sales-prediction\n"
     ]
    }
   ],
   "source": [
    "# Setup Model Group for our DeepAR Store Sales Prediction Models\n",
    "model_package_group_name = \"deepar-store-sales-prediction\"\n",
    "model_package_group_input_dict = {\n",
    " \"ModelPackageGroupName\" : model_package_group_name,\n",
    " \"ModelPackageGroupDescription\" : \"Model group for DeepAR grocery store forecasting models.\"\n",
    "}\n",
    "\n",
    "# Create the group\n",
    "create_model_package_group_response = sm.create_model_package_group(**model_package_group_input_dict)\n",
    "print('ModelPackageGroup Arn : {}'.format(create_model_package_group_response['ModelPackageGroupArn']))"
   ]
  },
  {
   "cell_type": "code",
   "execution_count": 6,
   "metadata": {},
   "outputs": [
    {
     "data": {
      "text/plain": [
       "{'ModelPackageGroupName': 'deepar-store-sales-prediction',\n",
       " 'ModelPackageGroupArn': 'arn:aws:sagemaker:us-east-1:343218227212:model-package-group/deepar-store-sales-prediction',\n",
       " 'ModelPackageGroupDescription': 'Model group for DeepAR grocery store forecasting models.',\n",
       " 'CreationTime': datetime.datetime(2024, 10, 8, 23, 4, 53, 217000, tzinfo=tzlocal()),\n",
       " 'CreatedBy': {'UserProfileArn': 'arn:aws:sagemaker:us-east-1:343218227212:user-profile/d-nzj1ohif3tlp/default-20241007T091581',\n",
       "  'UserProfileName': 'default-20241007T091581',\n",
       "  'DomainId': 'd-nzj1ohif3tlp',\n",
       "  'IamIdentity': {'Arn': 'arn:aws:sts::343218227212:assumed-role/AmazonSageMaker-ExecutionRole-20241007T091581/SageMaker',\n",
       "   'PrincipalId': 'AROAU72LGRAGGJLCV6WF3:SageMaker'}},\n",
       " 'ModelPackageGroupStatus': 'Completed',\n",
       " 'ResponseMetadata': {'RequestId': '69ceb40c-530e-4dac-9eeb-16795d122c1c',\n",
       "  'HTTPStatusCode': 200,\n",
       "  'HTTPHeaders': {'x-amzn-requestid': '69ceb40c-530e-4dac-9eeb-16795d122c1c',\n",
       "   'content-type': 'application/x-amz-json-1.1',\n",
       "   'content-length': '698',\n",
       "   'date': 'Tue, 08 Oct 2024 23:05:20 GMT'},\n",
       "  'RetryAttempts': 0}}"
      ]
     },
     "execution_count": 6,
     "metadata": {},
     "output_type": "execute_result"
    }
   ],
   "source": [
    "# display the result\n",
    "response = sm.describe_model_package_group(\n",
    "    ModelPackageGroupName=model_package_group_name\n",
    ")\n",
    "response"
   ]
  },
  {
   "cell_type": "code",
   "execution_count": 8,
   "metadata": {},
   "outputs": [],
   "source": [
    "# Setup Model Package\n",
    "model_url = best_model_path\n",
    "image_uri = sagemaker.image_uris.retrieve(\"forecasting-deepar\", region)\n",
    "\n",
    "modelpackage_inference_specification =  {\n",
    "    \"InferenceSpecification\": {\n",
    "      \"Containers\": [\n",
    "         {\n",
    "            \"Image\": image_uri,\n",
    "\t         \"ModelDataUrl\": model_url\n",
    "         }\n",
    "      ],\n",
    "      \"SupportedContentTypes\": [ \"application/json\" ],\n",
    "      \"SupportedResponseMIMETypes\": [ \"application/json\" ],\n",
    "   }\n",
    " }\n",
    "\n",
    "create_model_package_input_dict = {\n",
    "    \"ModelPackageGroupName\" : model_package_group_name,\n",
    "    \"ModelPackageDescription\" : \"Daily forecasting of sales of Favorita grocery stores by store number.\",\n",
    "    \"ModelApprovalStatus\" : \"PendingManualApproval\"\n",
    "}\n",
    "create_model_package_input_dict.update(modelpackage_inference_specification)"
   ]
  },
  {
   "cell_type": "code",
   "execution_count": 10,
   "metadata": {},
   "outputs": [
    {
     "name": "stdout",
     "output_type": "stream",
     "text": [
      "ModelPackage Version ARN : arn:aws:sagemaker:us-east-1:343218227212:model-package/deepar-store-sales-prediction/1\n"
     ]
    }
   ],
   "source": [
    "# create the model package\n",
    "create_model_package_response = sm.create_model_package(**create_model_package_input_dict)\n",
    "model_package_arn = create_model_package_response[\"ModelPackageArn\"]\n",
    "print('ModelPackage Version ARN : {}'.format(model_package_arn))"
   ]
  },
  {
   "cell_type": "code",
   "execution_count": 12,
   "metadata": {},
   "outputs": [
    {
     "data": {
      "text/plain": [
       "{'ModelPackageGroupName': 'deepar-store-sales-prediction',\n",
       " 'ModelPackageVersion': 1,\n",
       " 'ModelPackageArn': 'arn:aws:sagemaker:us-east-1:343218227212:model-package/deepar-store-sales-prediction/1',\n",
       " 'ModelPackageDescription': 'Daily forecasting of sales of Favorita grocery stores by store number.',\n",
       " 'CreationTime': datetime.datetime(2024, 10, 8, 23, 13, 31, 770000, tzinfo=tzlocal()),\n",
       " 'InferenceSpecification': {'Containers': [{'Image': '522234722520.dkr.ecr.us-east-1.amazonaws.com/forecasting-deepar:1',\n",
       "    'ImageDigest': 'sha256:95f378cab0150199a973700ad55a52a9bd64c27ca8c8c7ee717ee67b371ac1f2',\n",
       "    'ModelDataUrl': 's3://sagemaker-us-east-1-343218227212/store-sales-forecasting/deepar/gold-dataset/output/deepar-hyperparamete-241007-2220-007-b18b6b1e/output/model.tar.gz'}],\n",
       "  'SupportedContentTypes': ['application/json'],\n",
       "  'SupportedResponseMIMETypes': ['application/json']},\n",
       " 'ModelPackageStatus': 'Completed',\n",
       " 'ModelPackageStatusDetails': {'ValidationStatuses': [],\n",
       "  'ImageScanStatuses': []},\n",
       " 'CertifyForMarketplace': False,\n",
       " 'ModelApprovalStatus': 'PendingManualApproval',\n",
       " 'CreatedBy': {'UserProfileArn': 'arn:aws:sagemaker:us-east-1:343218227212:user-profile/d-nzj1ohif3tlp/default-20241007T091581',\n",
       "  'UserProfileName': 'default-20241007T091581',\n",
       "  'DomainId': 'd-nzj1ohif3tlp',\n",
       "  'IamIdentity': {'Arn': 'arn:aws:sts::343218227212:assumed-role/AmazonSageMaker-ExecutionRole-20241007T091581/SageMaker',\n",
       "   'PrincipalId': 'AROAU72LGRAGGJLCV6WF3:SageMaker'}},\n",
       " 'ResponseMetadata': {'RequestId': '3d509c15-2f69-4e83-ba81-18646c04d5ca',\n",
       "  'HTTPStatusCode': 200,\n",
       "  'HTTPHeaders': {'x-amzn-requestid': '3d509c15-2f69-4e83-ba81-18646c04d5ca',\n",
       "   'content-type': 'application/x-amz-json-1.1',\n",
       "   'content-length': '1344',\n",
       "   'date': 'Tue, 08 Oct 2024 23:13:53 GMT'},\n",
       "  'RetryAttempts': 0}}"
      ]
     },
     "execution_count": 12,
     "metadata": {},
     "output_type": "execute_result"
    }
   ],
   "source": [
    "# display the result\n",
    "response = sm.describe_model_package(\n",
    "    ModelPackageName=model_package_arn\n",
    ")\n",
    "response"
   ]
  },
  {
   "cell_type": "markdown",
   "metadata": {},
   "source": [
    "### Create Model Card"
   ]
  },
  {
   "cell_type": "code",
   "execution_count": 13,
   "metadata": {},
   "outputs": [],
   "source": [
    "from sagemaker import model_card"
   ]
  },
  {
   "cell_type": "code",
   "execution_count": 17,
   "metadata": {},
   "outputs": [],
   "source": [
    "model_name = \"deepar-hyperparamete-241007-2220-007-b18b6b1e\"\n",
    "\n",
    "# define model overview\n",
    "model_overview = model_card.ModelOverview.from_model_name(\n",
    "    model_name=model_name,\n",
    "    sagemaker_session=sess,\n",
    "    model_description=\"DeepAR forecasting model trained to forecast daily sales for Favorita grocery stores.  This is a multi-timeseries model that can forecast sales at the store level for all 54 stores.\",\n",
    "    problem_type=\"Time series forecasting/regression\",\n",
    "    algorithm_type=\"DeepAR\",\n",
    "    model_creator=\"AAI-540-FA24-Team5\",\n",
    "    model_owner=\"AAI-540-FA24-Team5\",\n",
    ")\n",
    "\n",
    "training_details = model_card.TrainingDetails.from_model_overview(\n",
    "    model_overview=model_overview,\n",
    "    sagemaker_session=sess,\n",
    "    training_observations=\"RMSE on validation data was reasonable and model did a fair job converging.\",\n",
    ")\n",
    "\n",
    "my_metric_group = model_card.MetricGroup(\n",
    "    name=\"Time series forecasting metrics\",\n",
    "    metric_data=[model_card.Metric(name=\"RMSE\", type='number', value=3434.86)]\n",
    ")\n",
    "\n",
    "intended_uses = model_card.IntendedUses(\n",
    "    purpose_of_model=\"Store level forecasting of daily sales.\",\n",
    "    intended_uses=\"For educational purposes only.\",\n",
    "    factors_affecting_model_efficiency=\"Model does not handle seasonality spikes very well.\",\n",
    "    risk_rating=model_card.RiskRatingEnum.LOW,\n",
    "    explanations_for_risk_rating=\"Model is experimental only.\",\n",
    ")\n",
    "\n",
    "evaluation_details = [\n",
    "    model_card.EvaluationJob(\n",
    "        name=model_name,\n",
    "        evaluation_observation=\"Model generalizes reasonably well to the test dataset.\",\n",
    "        datasets=[\"s3://sagemaker-us-east-1-343218227212/store-sales-forecasting/deepar/gold-dataset/train/train.json\",\"s3://sagemaker-us-east-1-343218227212/store-sales-forecasting/deepar/gold-dataset/val/val.json\"],\n",
    "    )\n",
    "]"
   ]
  },
  {
   "cell_type": "code",
   "execution_count": 18,
   "metadata": {},
   "outputs": [
    {
     "data": {
      "text/plain": [
       "'arn:aws:sagemaker:us-east-1:343218227212:model-card/deepar-store-sales-prediction'"
      ]
     },
     "execution_count": 18,
     "metadata": {},
     "output_type": "execute_result"
    }
   ],
   "source": [
    "# create the model card\n",
    "model_card_name = \"deepar-store-sales-prediction\"\n",
    "my_card = model_card.ModelCard(\n",
    "    name=model_card_name,\n",
    "    status=model_card.ModelCardStatusEnum.APPROVED,\n",
    "    model_overview=model_overview,\n",
    "    training_details=training_details,\n",
    "    intended_uses=intended_uses,\n",
    "    evaluation_details=evaluation_details,\n",
    "    sagemaker_session=sess,\n",
    ")\n",
    "my_card.create()"
   ]
  },
  {
   "cell_type": "code",
   "execution_count": 20,
   "metadata": {},
   "outputs": [
    {
     "data": {
      "text/plain": [
       "{'ModelCardArn': 'arn:aws:sagemaker:us-east-1:343218227212:model-card/deepar-store-sales-prediction',\n",
       " 'ModelCardName': 'deepar-store-sales-prediction',\n",
       " 'ModelCardVersion': 1,\n",
       " 'Content': '{\"model_overview\": {\"model_id\": \"arn:aws:sagemaker:us-east-1:343218227212:model/deepar-hyperparamete-241007-2220-007-b18b6b1e\", \"model_name\": \"deepar-hyperparamete-241007-2220-007-b18b6b1e\", \"model_description\": \"DeepAR forecasting model trained to forecast daily sales for Favorita grocery stores.  This is a multi-timeseries model that can forecast sales at the store level for all 54 stores.\", \"problem_type\": \"Time series forecasting/regression\", \"algorithm_type\": \"DeepAR\", \"model_creator\": \"AAI-540-FA24-Team5\", \"model_owner\": \"AAI-540-FA24-Team5\", \"model_artifact\": [\"s3://sagemaker-us-east-1-343218227212/store-sales-forecasting/deepar/gold-dataset/output/deepar-hyperparamete-241007-2220-007-b18b6b1e/output/model.tar.gz\"], \"inference_environment\": {\"container_image\": [\"522234722520.dkr.ecr.us-east-1.amazonaws.com/forecasting-deepar:1\"]}}, \"intended_uses\": {\"purpose_of_model\": \"Store level forecasting of daily sales.\", \"intended_uses\": \"For educational purposes only.\", \"factors_affecting_model_efficiency\": \"Model does not handle seasonality spikes very well.\", \"risk_rating\": \"Low\", \"explanations_for_risk_rating\": \"Model is experimental only.\"}, \"training_details\": {\"training_observations\": \"RMSE on validation data was reasonable and model did a fair job converging.\", \"training_job_details\": {\"training_arn\": \"arn:aws:sagemaker:us-east-1:343218227212:training-job/deepar-hyperparamete-241007-2220-007-b18b6b1e\", \"training_datasets\": [], \"training_environment\": {\"container_image\": [\"522234722520.dkr.ecr.us-east-1.amazonaws.com/forecasting-deepar:1\"]}, \"training_metrics\": [{\"name\": \"test:mean_wQuantileLoss\", \"value\": 0.11499261111021042}, {\"name\": \"train:loss:batch\", \"value\": 8.55848217010498}, {\"name\": \"train:progress\", \"value\": 100.0}, {\"name\": \"train:loss\", \"value\": 8.615925788879395}, {\"name\": \"train:final_loss\", \"value\": 8.615925788879395}, {\"name\": \"train:throughput\", \"value\": 515.2215576171875}, {\"name\": \"test:RMSE\", \"value\": 3434.864990234375}, {\"name\": \"test:RMSE\", \"value\": 3434.864990234375}, {\"name\": \"ObjectiveMetric\", \"value\": 3434.864990234375}], \"user_provided_training_metrics\": [], \"hyper_parameters\": [{\"name\": \"_tuning_objective_metric\", \"value\": \"test:RMSE\"}, {\"name\": \"context_length\", \"value\": \"19\"}, {\"name\": \"epochs\", \"value\": \"70\"}, {\"name\": \"learning_rate\", \"value\": \"0.005678657455377156\"}, {\"name\": \"mini_batch_size\", \"value\": \"59\"}, {\"name\": \"num_cells\", \"value\": \"41\"}, {\"name\": \"prediction_length\", \"value\": \"7\"}, {\"name\": \"time_freq\", \"value\": \"1D\"}], \"user_provided_hyper_parameters\": []}}, \"evaluation_details\": [{\"name\": \"deepar-hyperparamete-241007-2220-007-b18b6b1e\", \"evaluation_observation\": \"Model generalizes reasonably well to the test dataset.\", \"datasets\": [\"s3://sagemaker-us-east-1-343218227212/store-sales-forecasting/deepar/gold-dataset/train/train.json\", \"s3://sagemaker-us-east-1-343218227212/store-sales-forecasting/deepar/gold-dataset/val/val.json\"], \"metric_groups\": []}]}',\n",
       " 'ModelCardStatus': 'Approved',\n",
       " 'CreationTime': datetime.datetime(2024, 10, 8, 23, 29, 6, 972000, tzinfo=tzlocal()),\n",
       " 'CreatedBy': {'UserProfileArn': 'arn:aws:sagemaker:us-east-1:343218227212:user-profile/d-nzj1ohif3tlp/default-20241007T091581',\n",
       "  'UserProfileName': 'default-20241007T091581',\n",
       "  'DomainId': 'd-nzj1ohif3tlp'},\n",
       " 'LastModifiedTime': datetime.datetime(2024, 10, 8, 23, 29, 6, 972000, tzinfo=tzlocal()),\n",
       " 'LastModifiedBy': {'UserProfileArn': 'arn:aws:sagemaker:us-east-1:343218227212:user-profile/d-nzj1ohif3tlp/default-20241007T091581',\n",
       "  'UserProfileName': 'default-20241007T091581',\n",
       "  'DomainId': 'd-nzj1ohif3tlp'},\n",
       " 'ResponseMetadata': {'RequestId': '38c4e2ac-24d6-49de-85f5-858e740c4a7e',\n",
       "  'HTTPStatusCode': 200,\n",
       "  'HTTPHeaders': {'x-amzn-requestid': '38c4e2ac-24d6-49de-85f5-858e740c4a7e',\n",
       "   'content-type': 'application/x-amz-json-1.1',\n",
       "   'content-length': '3859',\n",
       "   'date': 'Tue, 08 Oct 2024 23:29:16 GMT'},\n",
       "  'RetryAttempts': 0}}"
      ]
     },
     "execution_count": 20,
     "metadata": {},
     "output_type": "execute_result"
    }
   ],
   "source": [
    "# display model card \n",
    "response = sm.describe_model_card(\n",
    "    ModelCardName=model_card_name,\n",
    ")\n",
    "response"
   ]
  },
  {
   "cell_type": "markdown",
   "metadata": {},
   "source": [
    "### Create Endpoint for our Best DeepAR Model"
   ]
  },
  {
   "cell_type": "code",
   "execution_count": 21,
   "metadata": {},
   "outputs": [
    {
     "name": "stdout",
     "output_type": "stream",
     "text": [
      "Created EndpointConfig: arn:aws:sagemaker:us-east-1:343218227212:endpoint-config/deepar-store-sales-forecasting-config\n"
     ]
    }
   ],
   "source": [
    "# Create Endpoint Configuration\n",
    "best_model_name = 'deepar-hyperparamete-241007-2220-007-b18b6b1e'\n",
    "endpoint_config_name = 'deepar-store-sales-forecasting-config'\n",
    "\n",
    "instance_type = 'ml.m5.xlarge'\n",
    "\n",
    "endpoint_config_response = sm.create_endpoint_config(\n",
    "    EndpointConfigName=endpoint_config_name, \n",
    "    # List of ProductionVariant objects, one for each model that you want to host at this endpoint.\n",
    "    ProductionVariants=[\n",
    "        {\n",
    "            \"VariantName\": \"variant1\", # The name of the production variant.\n",
    "            \"ModelName\": best_model_name, \n",
    "            \"InstanceType\": instance_type, # Specify the compute instance type.\n",
    "            \"InitialInstanceCount\": 1 # Number of instances to launch initially.\n",
    "        }\n",
    "    ]\n",
    ")\n",
    "\n",
    "print(f\"Created EndpointConfig: {endpoint_config_response['EndpointConfigArn']}\")"
   ]
  },
  {
   "cell_type": "code",
   "execution_count": 23,
   "metadata": {},
   "outputs": [],
   "source": [
    "# Deploy our best model to real-time endpoint\n",
    "endpoint_name = 'deepar-store-sales-forecasting-realtime'\n",
    "create_endpoint_response = sm.create_endpoint(\n",
    "                                            EndpointName=endpoint_name, \n",
    "                                            EndpointConfigName=endpoint_config_name) "
   ]
  },
  {
   "cell_type": "code",
   "execution_count": 27,
   "metadata": {},
   "outputs": [
    {
     "name": "stdout",
     "output_type": "stream",
     "text": [
      "Getting Job Status\n",
      "Endpoint still creating...\n",
      "Getting Job Status\n",
      "Endpoint still creating...\n",
      "Getting Job Status\n",
      "Endpoint still creating...\n",
      "Getting Job Status\n",
      "Endpoint still creating...\n",
      "Getting Job Status\n",
      "Endpoint still creating...\n",
      "Getting Job Status\n",
      "Endpoint still creating...\n",
      "Getting Job Status\n",
      "Endpoint still creating...\n",
      "Getting Job Status\n",
      "Endpoint still creating...\n",
      "Getting Job Status\n",
      "Endpoint still creating...\n",
      "Getting Job Status\n",
      "Endpoint still creating...\n",
      "Getting Job Status\n",
      "Endpoint in Service\n"
     ]
    }
   ],
   "source": [
    "# Wait for endpoint to spin up\n",
    "import time \n",
    "sm.describe_endpoint(EndpointName=endpoint_name)\n",
    "\n",
    "while True:\n",
    "    print(\"Getting Job Status\")\n",
    "    res = sm.describe_endpoint(EndpointName=endpoint_name)\n",
    "    state = res[\"EndpointStatus\"]\n",
    "    \n",
    "    if state == \"InService\":\n",
    "        print(\"Endpoint in Service\")\n",
    "        break\n",
    "    elif state == \"Creating\":\n",
    "        print(\"Endpoint still creating...\")\n",
    "        time.sleep(20)\n",
    "    else:\n",
    "        print(\"Endpoint Creation Error - Check Sagemaker Console\")\n",
    "        break"
   ]
  },
  {
   "cell_type": "markdown",
   "metadata": {},
   "source": [
    "### Test the endpoint"
   ]
  },
  {
   "cell_type": "code",
   "execution_count": 83,
   "metadata": {},
   "outputs": [],
   "source": [
    "#from sagemaker.serializers import json_serializer\n",
    "from sagemaker.base_serializers import JSONSerializer, IdentitySerializer\n",
    "from sagemaker.base_deserializers import JSONDeserializer"
   ]
  },
  {
   "cell_type": "code",
   "execution_count": 84,
   "metadata": {},
   "outputs": [
    {
     "name": "stderr",
     "output_type": "stream",
     "text": [
      "The class RealTimePredictor has been renamed in sagemaker>=2.\n",
      "See: https://sagemaker.readthedocs.io/en/stable/v2.html for details.\n",
      "content_type is a no-op in sagemaker>=2.\n",
      "See: https://sagemaker.readthedocs.io/en/stable/v2.html for details.\n"
     ]
    }
   ],
   "source": [
    "# create predictor for real time\n",
    "json_serializer = JSONSerializer()\n",
    "predictor = sagemaker.predictor.RealTimePredictor(\n",
    "    endpoint_name, \n",
    "    sagemaker_session=sess, \n",
    "    serializer=IdentitySerializer(content_type=\"application/json\"),\n",
    "    deserializer=JSONDeserializer(),\n",
    "    content_type=\"application/json\")"
   ]
  },
  {
   "cell_type": "code",
   "execution_count": 30,
   "metadata": {},
   "outputs": [],
   "source": [
    "# setup variables\n",
    "input_data_path = \"{}/test/test.json\".format(s3_deepar_gold_dataset_path)\n",
    "inference_filename = \"test.json\"\n",
    "input_local_filename = f\"results/test-transform/{inference_filename}\""
   ]
  },
  {
   "cell_type": "code",
   "execution_count": 29,
   "metadata": {},
   "outputs": [
    {
     "name": "stdout",
     "output_type": "stream",
     "text": [
      "download: s3://sagemaker-us-east-1-343218227212/store-sales-forecasting/deepar/gold-dataset/test/test.json to results/test-transform/test.json\n"
     ]
    }
   ],
   "source": [
    "# copy test dataset to local path\n",
    "!aws s3 cp $input_data_path ./results/test-transform/"
   ]
  },
  {
   "cell_type": "code",
   "execution_count": 85,
   "metadata": {},
   "outputs": [],
   "source": [
    "# load test data\n",
    "test_input = load_json_by_line(input_local_filename)"
   ]
  },
  {
   "cell_type": "code",
   "execution_count": 111,
   "metadata": {},
   "outputs": [],
   "source": [
    "# create inference input from test sample\n",
    "def create_deepar_input_from_test(test_sample):\n",
    "    test_data = {\n",
    "        \"instances\": [\n",
    "            test_sample\n",
    "        ],\n",
    "        \"configuration\": {\n",
    "            \"output_types\": [\"mean\"]\n",
    "        }\n",
    "    }\n",
    "    return json.dumps(test_data).encode('utf-8')\n",
    "\n",
    "# helper function to compile dataset of inputs + forecasts\n",
    "def build_deepar_forecast_df(input_data, predictions, start_date):\n",
    "    forecasts = []\n",
    "    current_date = pd.to_datetime(start_date)\n",
    "    for input_step in input_data:\n",
    "        forecasts.append([current_date, input_step, 0])\n",
    "        current_date = current_date + datetime.timedelta(days=1)\n",
    "    for prediction in predictions:\n",
    "        forecasts.append([current_date, 0, prediction])\n",
    "        current_date = current_date + datetime.timedelta(days=1)\n",
    "\n",
    "    forecast_df = pd.DataFrame(columns=['date', 'true_sales', 'predicted_sales'], data=forecasts)\n",
    "    forecast_df['date'] = pd.to_datetime(forecast_df['date'])\n",
    "    return forecast_df"
   ]
  },
  {
   "cell_type": "code",
   "execution_count": 195,
   "metadata": {},
   "outputs": [],
   "source": [
    "# run prediction on a random sample input\n",
    "sample_idx = random.randint(0, len(test_input))\n",
    "result = predictor.predict(create_deepar_input_from_test(test_input[sample_idx]))"
   ]
  },
  {
   "cell_type": "code",
   "execution_count": 196,
   "metadata": {},
   "outputs": [],
   "source": [
    "# post process results\n",
    "store_forecast = build_deepar_forecast_df(test_input[sample_idx]['target'],result['predictions'][0]['mean'], test_input[sample_idx]['start'])\n",
    "store_nbr = test_input[sample_idx]['cat'][0] + 1"
   ]
  },
  {
   "cell_type": "code",
   "execution_count": 197,
   "metadata": {},
   "outputs": [
    {
     "data": {
      "image/png": "[encoded data removed]",
      "text/plain": [
       "<Figure size 640x480 with 1 Axes>"
      ]
     },
     "metadata": {},
     "output_type": "display_data"
    }
   ],
   "source": [
    "# plot the predictions\n",
    "plot_title = \"Forecast - Store {}\".format(store_nbr)\n",
    "sns.lineplot(data=store_forecast[:7], x='date', y='true_sales').set(title=plot_title)\n",
    "sns.lineplot(data=store_forecast[8:], x='date', y='predicted_sales')\n",
    "plt.xticks(rotation=30)\n",
    "plt.show()"
   ]
  },
  {
   "cell_type": "code",
   "execution_count": null,
   "metadata": {},
   "outputs": [],
   "source": []
  }
 ],
 "metadata": {
  "kernelspec": {
   "display_name": "base",
   "language": "python",
   "name": "python3"
  },
  "language_info": {
   "codemirror_mode": {
    "name": "ipython",
    "version": 3
   },
   "file_extension": ".py",
   "mimetype": "text/x-python",
   "name": "python",
   "nbconvert_exporter": "python",
   "pygments_lexer": "ipython3",
   "version": "3.11.9"
  }
 },
 "nbformat": 4,
 "nbformat_minor": 2
}
