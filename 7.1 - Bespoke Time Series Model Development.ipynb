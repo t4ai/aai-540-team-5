{
 "cells": [
  {
   "cell_type": "code",
   "execution_count": 3,
   "id": "18017092-349c-4b8b-bfa3-608701519d9d",
   "metadata": {
    "tags": []
   },
   "outputs": [
    {
     "name": "stdout",
     "output_type": "stream",
     "text": [
      "\u001b[33mWARNING: Running pip as the 'root' user can result in broken permissions and conflicting behaviour with the system package manager. It is recommended to use a virtual environment instead: https://pip.pypa.io/warnings/venv\u001b[0m\u001b[33m\n",
      "\u001b[0m\u001b[33mWARNING: Running pip as the 'root' user can result in broken permissions and conflicting behaviour with the system package manager. It is recommended to use a virtual environment instead: https://pip.pypa.io/warnings/venv\u001b[0m\u001b[33m\n",
      "\u001b[0m\u001b[33mWARNING: Running pip as the 'root' user can result in broken permissions and conflicting behaviour with the system package manager. It is recommended to use a virtual environment instead: https://pip.pypa.io/warnings/venv\u001b[0m\u001b[33m\n",
      "\u001b[0msagemaker.config INFO - Not applying SDK defaults from location: /etc/xdg/sagemaker/config.yaml\n",
      "sagemaker.config INFO - Not applying SDK defaults from location: /root/.config/sagemaker/config.yaml\n",
      "Stored 's3_datalake_path_csv' (str)\n",
      "Stored 'local_data_path_csv' (str)\n",
      "Stored 's3_datalake_path_parquet' (str)\n"
     ]
    }
   ],
   "source": [
    "# Setup environment\n",
    "%run 0-Environment_Setup.ipynb"
   ]
  },
  {
   "cell_type": "code",
   "execution_count": 4,
   "id": "d91c8f3e-48cb-4c01-9d13-58207cce2882",
   "metadata": {
    "tags": []
   },
   "outputs": [
    {
     "name": "stdout",
     "output_type": "stream",
     "text": [
      "Running \n",
      "    SELECT *\n",
      "    FROM\n",
      "        \"store_sales_feature_group_offline_1728164033\"\n",
      "    ORDER BY\n",
      "        date ASC, store_nbr ASC\n",
      "    \n"
     ]
    },
    {
     "data": {
      "text/html": [
       "<div>\n",
       "<style scoped>\n",
       "    .dataframe tbody tr th:only-of-type {\n",
       "        vertical-align: middle;\n",
       "    }\n",
       "\n",
       "    .dataframe tbody tr th {\n",
       "        vertical-align: top;\n",
       "    }\n",
       "\n",
       "    .dataframe thead th {\n",
       "        text-align: right;\n",
       "    }\n",
       "</style>\n",
       "<table border=\"1\" class=\"dataframe\">\n",
       "  <thead>\n",
       "    <tr style=\"text-align: right;\">\n",
       "      <th></th>\n",
       "      <th>date</th>\n",
       "      <th>store_nbr</th>\n",
       "      <th>sales</th>\n",
       "      <th>oil</th>\n",
       "      <th>onpromotion</th>\n",
       "      <th>is_holiday</th>\n",
       "      <th>city</th>\n",
       "      <th>state</th>\n",
       "      <th>cluster</th>\n",
       "      <th>year</th>\n",
       "      <th>...</th>\n",
       "      <th>month_sin</th>\n",
       "      <th>day_cos</th>\n",
       "      <th>day_sin</th>\n",
       "      <th>dow_cos</th>\n",
       "      <th>dow_sin</th>\n",
       "      <th>sales_record_id</th>\n",
       "      <th>event_time</th>\n",
       "      <th>write_time</th>\n",
       "      <th>api_invocation_time</th>\n",
       "      <th>is_deleted</th>\n",
       "    </tr>\n",
       "  </thead>\n",
       "  <tbody>\n",
       "    <tr>\n",
       "      <th>0</th>\n",
       "      <td>2013-01-01</td>\n",
       "      <td>1</td>\n",
       "      <td>0.0</td>\n",
       "      <td>93.14</td>\n",
       "      <td>0</td>\n",
       "      <td>1</td>\n",
       "      <td>18</td>\n",
       "      <td>12</td>\n",
       "      <td>13</td>\n",
       "      <td>2013</td>\n",
       "      <td>...</td>\n",
       "      <td>0.5</td>\n",
       "      <td>0.97953</td>\n",
       "      <td>0.201299</td>\n",
       "      <td>0.62349</td>\n",
       "      <td>0.781831</td>\n",
       "      <td>2013-01-01:1</td>\n",
       "      <td>1.728164e+09</td>\n",
       "      <td>2024-10-05 21:39:49.912</td>\n",
       "      <td>2024-10-05 21:34:48.000</td>\n",
       "      <td>False</td>\n",
       "    </tr>\n",
       "    <tr>\n",
       "      <th>1</th>\n",
       "      <td>2013-01-01</td>\n",
       "      <td>2</td>\n",
       "      <td>0.0</td>\n",
       "      <td>93.14</td>\n",
       "      <td>0</td>\n",
       "      <td>1</td>\n",
       "      <td>18</td>\n",
       "      <td>12</td>\n",
       "      <td>13</td>\n",
       "      <td>2013</td>\n",
       "      <td>...</td>\n",
       "      <td>0.5</td>\n",
       "      <td>0.97953</td>\n",
       "      <td>0.201299</td>\n",
       "      <td>0.62349</td>\n",
       "      <td>0.781831</td>\n",
       "      <td>2013-01-01:2</td>\n",
       "      <td>1.728164e+09</td>\n",
       "      <td>2024-10-05 21:39:50.076</td>\n",
       "      <td>2024-10-05 21:34:48.000</td>\n",
       "      <td>False</td>\n",
       "    </tr>\n",
       "    <tr>\n",
       "      <th>2</th>\n",
       "      <td>2013-01-01</td>\n",
       "      <td>3</td>\n",
       "      <td>0.0</td>\n",
       "      <td>93.14</td>\n",
       "      <td>0</td>\n",
       "      <td>1</td>\n",
       "      <td>18</td>\n",
       "      <td>12</td>\n",
       "      <td>8</td>\n",
       "      <td>2013</td>\n",
       "      <td>...</td>\n",
       "      <td>0.5</td>\n",
       "      <td>0.97953</td>\n",
       "      <td>0.201299</td>\n",
       "      <td>0.62349</td>\n",
       "      <td>0.781831</td>\n",
       "      <td>2013-01-01:3</td>\n",
       "      <td>1.728164e+09</td>\n",
       "      <td>2024-10-05 21:39:49.967</td>\n",
       "      <td>2024-10-05 21:34:48.000</td>\n",
       "      <td>False</td>\n",
       "    </tr>\n",
       "    <tr>\n",
       "      <th>3</th>\n",
       "      <td>2013-01-01</td>\n",
       "      <td>4</td>\n",
       "      <td>0.0</td>\n",
       "      <td>93.14</td>\n",
       "      <td>0</td>\n",
       "      <td>1</td>\n",
       "      <td>18</td>\n",
       "      <td>12</td>\n",
       "      <td>9</td>\n",
       "      <td>2013</td>\n",
       "      <td>...</td>\n",
       "      <td>0.5</td>\n",
       "      <td>0.97953</td>\n",
       "      <td>0.201299</td>\n",
       "      <td>0.62349</td>\n",
       "      <td>0.781831</td>\n",
       "      <td>2013-01-01:4</td>\n",
       "      <td>1.728164e+09</td>\n",
       "      <td>2024-10-05 21:39:50.013</td>\n",
       "      <td>2024-10-05 21:34:48.000</td>\n",
       "      <td>False</td>\n",
       "    </tr>\n",
       "    <tr>\n",
       "      <th>4</th>\n",
       "      <td>2013-01-01</td>\n",
       "      <td>5</td>\n",
       "      <td>0.0</td>\n",
       "      <td>93.14</td>\n",
       "      <td>0</td>\n",
       "      <td>1</td>\n",
       "      <td>21</td>\n",
       "      <td>14</td>\n",
       "      <td>4</td>\n",
       "      <td>2013</td>\n",
       "      <td>...</td>\n",
       "      <td>0.5</td>\n",
       "      <td>0.97953</td>\n",
       "      <td>0.201299</td>\n",
       "      <td>0.62349</td>\n",
       "      <td>0.781831</td>\n",
       "      <td>2013-01-01:5</td>\n",
       "      <td>1.728164e+09</td>\n",
       "      <td>2024-10-05 21:39:50.068</td>\n",
       "      <td>2024-10-05 21:34:48.000</td>\n",
       "      <td>False</td>\n",
       "    </tr>\n",
       "  </tbody>\n",
       "</table>\n",
       "<p>5 rows × 36 columns</p>\n",
       "</div>"
      ],
      "text/plain": [
       "         date  store_nbr  sales    oil  onpromotion  is_holiday  city  state  \\\n",
       "0  2013-01-01          1    0.0  93.14            0           1    18     12   \n",
       "1  2013-01-01          2    0.0  93.14            0           1    18     12   \n",
       "2  2013-01-01          3    0.0  93.14            0           1    18     12   \n",
       "3  2013-01-01          4    0.0  93.14            0           1    18     12   \n",
       "4  2013-01-01          5    0.0  93.14            0           1    21     14   \n",
       "\n",
       "   cluster  year  ...  month_sin  day_cos   day_sin  dow_cos   dow_sin  \\\n",
       "0       13  2013  ...        0.5  0.97953  0.201299  0.62349  0.781831   \n",
       "1       13  2013  ...        0.5  0.97953  0.201299  0.62349  0.781831   \n",
       "2        8  2013  ...        0.5  0.97953  0.201299  0.62349  0.781831   \n",
       "3        9  2013  ...        0.5  0.97953  0.201299  0.62349  0.781831   \n",
       "4        4  2013  ...        0.5  0.97953  0.201299  0.62349  0.781831   \n",
       "\n",
       "   sales_record_id    event_time               write_time  \\\n",
       "0     2013-01-01:1  1.728164e+09  2024-10-05 21:39:49.912   \n",
       "1     2013-01-01:2  1.728164e+09  2024-10-05 21:39:50.076   \n",
       "2     2013-01-01:3  1.728164e+09  2024-10-05 21:39:49.967   \n",
       "3     2013-01-01:4  1.728164e+09  2024-10-05 21:39:50.013   \n",
       "4     2013-01-01:5  1.728164e+09  2024-10-05 21:39:50.068   \n",
       "\n",
       "       api_invocation_time  is_deleted  \n",
       "0  2024-10-05 21:34:48.000       False  \n",
       "1  2024-10-05 21:34:48.000       False  \n",
       "2  2024-10-05 21:34:48.000       False  \n",
       "3  2024-10-05 21:34:48.000       False  \n",
       "4  2024-10-05 21:34:48.000       False  \n",
       "\n",
       "[5 rows x 36 columns]"
      ]
     },
     "execution_count": 4,
     "metadata": {},
     "output_type": "execute_result"
    }
   ],
   "source": [
    "# Pull the data from the feature store sorted by date and then store number\n",
    "sales_features_store_df = get_store_dataset_from_offline_feature_group_date_sort(store_sales_feature_group)\n",
    "sales_features_store_df.head()"
   ]
  },
  {
   "cell_type": "code",
   "execution_count": 5,
   "id": "1920fe74-4469-42cb-9ac1-c3ce106b733b",
   "metadata": {
    "tags": []
   },
   "outputs": [],
   "source": [
    "# Drop miscellaneous info\n",
    "sales_features_store_df.drop(columns=[\"sales_record_id\", \"event_time\", \"write_time\", \"api_invocation_time\", \"is_deleted\"], inplace=True)"
   ]
  },
  {
   "cell_type": "code",
   "execution_count": 6,
   "id": "f232c260-ff8f-4ca8-a632-48dc5667c593",
   "metadata": {
    "tags": []
   },
   "outputs": [
    {
     "name": "stdout",
     "output_type": "stream",
     "text": [
      "<class 'pandas.core.frame.DataFrame'>\n",
      "RangeIndex: 90936 entries, 0 to 90935\n",
      "Data columns (total 31 columns):\n",
      " #   Column              Non-Null Count  Dtype  \n",
      "---  ------              --------------  -----  \n",
      " 0   date                90936 non-null  object \n",
      " 1   store_nbr           90936 non-null  int64  \n",
      " 2   sales               90936 non-null  float64\n",
      " 3   oil                 90936 non-null  float64\n",
      " 4   onpromotion         90936 non-null  int64  \n",
      " 5   is_holiday          90936 non-null  int64  \n",
      " 6   city                90936 non-null  int64  \n",
      " 7   state               90936 non-null  int64  \n",
      " 8   cluster             90936 non-null  int64  \n",
      " 9   year                90936 non-null  int64  \n",
      " 10  month               90936 non-null  int64  \n",
      " 11  day                 90936 non-null  int64  \n",
      " 12  dow                 90936 non-null  int64  \n",
      " 13  city-state          90936 non-null  object \n",
      " 14  city-state-cluster  90936 non-null  object \n",
      " 15  hash_0              90936 non-null  float64\n",
      " 16  hash_1              90936 non-null  float64\n",
      " 17  hash_2              90936 non-null  float64\n",
      " 18  hash_3              90936 non-null  float64\n",
      " 19  hash_4              90936 non-null  float64\n",
      " 20  hash_5              90936 non-null  float64\n",
      " 21  hash_6              90936 non-null  float64\n",
      " 22  hash_7              90936 non-null  float64\n",
      " 23  hash_8              90936 non-null  float64\n",
      " 24  hash_9              90936 non-null  float64\n",
      " 25  month_cos           90936 non-null  float64\n",
      " 26  month_sin           90936 non-null  float64\n",
      " 27  day_cos             90936 non-null  float64\n",
      " 28  day_sin             90936 non-null  float64\n",
      " 29  dow_cos             90936 non-null  float64\n",
      " 30  dow_sin             90936 non-null  float64\n",
      "dtypes: float64(18), int64(10), object(3)\n",
      "memory usage: 21.5+ MB\n"
     ]
    }
   ],
   "source": [
    "sales_features_store_df.info()"
   ]
  },
  {
   "cell_type": "code",
   "execution_count": 7,
   "id": "15976a04-68ff-4009-ae25-a829cd7088ba",
   "metadata": {
    "tags": []
   },
   "outputs": [
    {
     "data": {
      "text/plain": [
       "0    [0.0, 93.14, 0, 1, 18, 12, 13, 1]\n",
       "1    [0.0, 93.14, 0, 1, 18, 12, 13, 1]\n",
       "2     [0.0, 93.14, 0, 1, 18, 12, 8, 1]\n",
       "3     [0.0, 93.14, 0, 1, 18, 12, 9, 1]\n",
       "4     [0.0, 93.14, 0, 1, 21, 14, 4, 1]\n",
       "dtype: object"
      ]
     },
     "execution_count": 7,
     "metadata": {},
     "output_type": "execute_result"
    }
   ],
   "source": [
    "# Perform feature selection\n",
    "def get_store_features(row):\n",
    "    sales, oil, onpromotion, is_holiday, city, state, cluster, dow = row[\"sales\"], row[\"oil\"], row[\"onpromotion\"], row[\"is_holiday\"], row[\"city\"], row[\"state\"], row[\"cluster\"], row[\"dow\"]\n",
    "    return [sales, oil, onpromotion, is_holiday, city, state, cluster, dow]\n",
    "\n",
    "sales_features_store_df.head().apply(get_store_features, axis=1)"
   ]
  },
  {
   "cell_type": "code",
   "execution_count": 8,
   "id": "9d57cdd2-f686-4f77-a10f-84facea1b32f",
   "metadata": {
    "tags": []
   },
   "outputs": [],
   "source": [
    "# Apply to the whole dataframe\n",
    "sales_features_store_df[\"features\"] = sales_features_store_df.apply(get_store_features, axis=1)"
   ]
  },
  {
   "cell_type": "code",
   "execution_count": 9,
   "id": "dce86ed5-db90-442e-a904-39e611b6665d",
   "metadata": {
    "tags": []
   },
   "outputs": [
    {
     "data": {
      "text/html": [
       "<div>\n",
       "<style scoped>\n",
       "    .dataframe tbody tr th:only-of-type {\n",
       "        vertical-align: middle;\n",
       "    }\n",
       "\n",
       "    .dataframe tbody tr th {\n",
       "        vertical-align: top;\n",
       "    }\n",
       "\n",
       "    .dataframe thead th {\n",
       "        text-align: right;\n",
       "    }\n",
       "</style>\n",
       "<table border=\"1\" class=\"dataframe\">\n",
       "  <thead>\n",
       "    <tr style=\"text-align: right;\">\n",
       "      <th></th>\n",
       "      <th>date</th>\n",
       "      <th>store_nbr</th>\n",
       "      <th>features</th>\n",
       "    </tr>\n",
       "  </thead>\n",
       "  <tbody>\n",
       "    <tr>\n",
       "      <th>0</th>\n",
       "      <td>2013-01-01</td>\n",
       "      <td>1</td>\n",
       "      <td>[0.0, 93.14, 0, 1, 18, 12, 13, 1]</td>\n",
       "    </tr>\n",
       "    <tr>\n",
       "      <th>1</th>\n",
       "      <td>2013-01-01</td>\n",
       "      <td>2</td>\n",
       "      <td>[0.0, 93.14, 0, 1, 18, 12, 13, 1]</td>\n",
       "    </tr>\n",
       "    <tr>\n",
       "      <th>2</th>\n",
       "      <td>2013-01-01</td>\n",
       "      <td>3</td>\n",
       "      <td>[0.0, 93.14, 0, 1, 18, 12, 8, 1]</td>\n",
       "    </tr>\n",
       "    <tr>\n",
       "      <th>3</th>\n",
       "      <td>2013-01-01</td>\n",
       "      <td>4</td>\n",
       "      <td>[0.0, 93.14, 0, 1, 18, 12, 9, 1]</td>\n",
       "    </tr>\n",
       "    <tr>\n",
       "      <th>4</th>\n",
       "      <td>2013-01-01</td>\n",
       "      <td>5</td>\n",
       "      <td>[0.0, 93.14, 0, 1, 21, 14, 4, 1]</td>\n",
       "    </tr>\n",
       "  </tbody>\n",
       "</table>\n",
       "</div>"
      ],
      "text/plain": [
       "         date  store_nbr                           features\n",
       "0  2013-01-01          1  [0.0, 93.14, 0, 1, 18, 12, 13, 1]\n",
       "1  2013-01-01          2  [0.0, 93.14, 0, 1, 18, 12, 13, 1]\n",
       "2  2013-01-01          3   [0.0, 93.14, 0, 1, 18, 12, 8, 1]\n",
       "3  2013-01-01          4   [0.0, 93.14, 0, 1, 18, 12, 9, 1]\n",
       "4  2013-01-01          5   [0.0, 93.14, 0, 1, 21, 14, 4, 1]"
      ]
     },
     "execution_count": 9,
     "metadata": {},
     "output_type": "execute_result"
    }
   ],
   "source": [
    "# Drop everything except the store number, date, and selected features\n",
    "drop_columns = [col for col in sales_features_store_df.columns if col not in [\"date\", \"store_nbr\", \"features\"]]\n",
    "sales_features_store_df.drop(columns=drop_columns, inplace=True)\n",
    "sales_features_store_df.head()"
   ]
  },
  {
   "cell_type": "code",
   "execution_count": 10,
   "id": "3f4d142b-c079-4cbe-9d0a-a5fd7d18f0e1",
   "metadata": {
    "tags": []
   },
   "outputs": [
    {
     "data": {
      "text/html": [
       "<div>\n",
       "<style scoped>\n",
       "    .dataframe tbody tr th:only-of-type {\n",
       "        vertical-align: middle;\n",
       "    }\n",
       "\n",
       "    .dataframe tbody tr th {\n",
       "        vertical-align: top;\n",
       "    }\n",
       "\n",
       "    .dataframe thead th {\n",
       "        text-align: right;\n",
       "    }\n",
       "</style>\n",
       "<table border=\"1\" class=\"dataframe\">\n",
       "  <thead>\n",
       "    <tr style=\"text-align: right;\">\n",
       "      <th>date</th>\n",
       "      <th>2013-01-01</th>\n",
       "      <th>2013-01-02</th>\n",
       "      <th>2013-01-03</th>\n",
       "      <th>2013-01-04</th>\n",
       "      <th>2013-01-05</th>\n",
       "      <th>2013-01-06</th>\n",
       "      <th>2013-01-07</th>\n",
       "      <th>2013-01-08</th>\n",
       "      <th>2013-01-09</th>\n",
       "      <th>2013-01-10</th>\n",
       "      <th>...</th>\n",
       "      <th>2017-08-06</th>\n",
       "      <th>2017-08-07</th>\n",
       "      <th>2017-08-08</th>\n",
       "      <th>2017-08-09</th>\n",
       "      <th>2017-08-10</th>\n",
       "      <th>2017-08-11</th>\n",
       "      <th>2017-08-12</th>\n",
       "      <th>2017-08-13</th>\n",
       "      <th>2017-08-14</th>\n",
       "      <th>2017-08-15</th>\n",
       "    </tr>\n",
       "    <tr>\n",
       "      <th>store_nbr</th>\n",
       "      <th></th>\n",
       "      <th></th>\n",
       "      <th></th>\n",
       "      <th></th>\n",
       "      <th></th>\n",
       "      <th></th>\n",
       "      <th></th>\n",
       "      <th></th>\n",
       "      <th></th>\n",
       "      <th></th>\n",
       "      <th></th>\n",
       "      <th></th>\n",
       "      <th></th>\n",
       "      <th></th>\n",
       "      <th></th>\n",
       "      <th></th>\n",
       "      <th></th>\n",
       "      <th></th>\n",
       "      <th></th>\n",
       "      <th></th>\n",
       "      <th></th>\n",
       "    </tr>\n",
       "  </thead>\n",
       "  <tbody>\n",
       "    <tr>\n",
       "      <th>1</th>\n",
       "      <td>[0.0, 93.14, 0, 1, 18, 12, 13, 1]</td>\n",
       "      <td>[7417.15, 93.14, 0, 0, 18, 12, 13, 2]</td>\n",
       "      <td>[5873.24, 92.97, 0, 0, 18, 12, 13, 3]</td>\n",
       "      <td>[5919.88, 93.12, 0, 0, 18, 12, 13, 4]</td>\n",
       "      <td>[6318.79, 93.12, 0, 1, 18, 12, 13, 5]</td>\n",
       "      <td>[2199.09, 93.12, 0, 0, 18, 12, 13, 6]</td>\n",
       "      <td>[6150.92, 93.2, 0, 0, 18, 12, 13, 0]</td>\n",
       "      <td>[5597.18, 93.21, 0, 0, 18, 12, 13, 1]</td>\n",
       "      <td>[6808.58, 93.08, 0, 0, 18, 12, 13, 2]</td>\n",
       "      <td>[4757.71, 93.81, 0, 0, 18, 12, 13, 3]</td>\n",
       "      <td>...</td>\n",
       "      <td>[4409.25, 49.57, 29, 0, 18, 12, 13, 6]</td>\n",
       "      <td>[10538.14, 49.37, 44, 0, 18, 12, 13, 0]</td>\n",
       "      <td>[11070.76, 49.07, 35, 0, 18, 12, 13, 1]</td>\n",
       "      <td>[12583.65, 49.59, 212, 0, 18, 12, 13, 2]</td>\n",
       "      <td>[10834.58, 48.54, 31, 1, 18, 12, 13, 3]</td>\n",
       "      <td>[5403.74, 48.81, 38, 1, 18, 12, 13, 4]</td>\n",
       "      <td>[7543.62, 48.81, 28, 0, 18, 12, 13, 5]</td>\n",
       "      <td>[3902.78, 48.81, 19, 0, 18, 12, 13, 6]</td>\n",
       "      <td>[10433.31, 47.59, 30, 0, 18, 12, 13, 0]</td>\n",
       "      <td>[9823.55, 47.57, 29, 0, 18, 12, 13, 1]</td>\n",
       "    </tr>\n",
       "    <tr>\n",
       "      <th>2</th>\n",
       "      <td>[0.0, 93.14, 0, 1, 18, 12, 13, 1]</td>\n",
       "      <td>[10266.72, 93.14, 0, 0, 18, 12, 13, 2]</td>\n",
       "      <td>[7612.54, 92.97, 0, 0, 18, 12, 13, 3]</td>\n",
       "      <td>[7526.38, 93.12, 0, 0, 18, 12, 13, 4]</td>\n",
       "      <td>[9539.57, 93.12, 0, 1, 18, 12, 13, 5]</td>\n",
       "      <td>[10322.39, 93.12, 0, 0, 18, 12, 13, 6]</td>\n",
       "      <td>[6675.97, 93.2, 0, 0, 18, 12, 13, 0]</td>\n",
       "      <td>[6109.57, 93.21, 0, 0, 18, 12, 13, 1]</td>\n",
       "      <td>[6740.52, 93.08, 0, 0, 18, 12, 13, 2]</td>\n",
       "      <td>[5565.04, 93.81, 0, 0, 18, 12, 13, 3]</td>\n",
       "      <td>...</td>\n",
       "      <td>[16987.57, 49.57, 43, 0, 18, 12, 13, 6]</td>\n",
       "      <td>[12382.45, 49.37, 39, 0, 18, 12, 13, 0]</td>\n",
       "      <td>[11304.55, 49.07, 38, 0, 18, 12, 13, 1]</td>\n",
       "      <td>[12615.75, 49.59, 213, 0, 18, 12, 13, 2]</td>\n",
       "      <td>[11317.83, 48.54, 26, 1, 18, 12, 13, 3]</td>\n",
       "      <td>[13081.77, 48.81, 57, 1, 18, 12, 13, 4]</td>\n",
       "      <td>[12382.42, 48.81, 33, 0, 18, 12, 13, 5]</td>\n",
       "      <td>[13766.82, 48.81, 32, 0, 18, 12, 13, 6]</td>\n",
       "      <td>[12211.46, 47.59, 36, 0, 18, 12, 13, 0]</td>\n",
       "      <td>[11196.26, 47.57, 33, 0, 18, 12, 13, 1]</td>\n",
       "    </tr>\n",
       "    <tr>\n",
       "      <th>3</th>\n",
       "      <td>[0.0, 93.14, 0, 1, 18, 12, 8, 1]</td>\n",
       "      <td>[24060.35, 93.14, 0, 0, 18, 12, 8, 2]</td>\n",
       "      <td>[18570.75, 92.97, 0, 0, 18, 12, 8, 3]</td>\n",
       "      <td>[17392.1, 93.12, 0, 0, 18, 12, 8, 4]</td>\n",
       "      <td>[22700.87, 93.12, 0, 1, 18, 12, 8, 5]</td>\n",
       "      <td>[25343.62, 93.12, 0, 0, 18, 12, 8, 6]</td>\n",
       "      <td>[17036.25, 93.2, 0, 0, 18, 12, 8, 0]</td>\n",
       "      <td>[14220.42, 93.21, 0, 0, 18, 12, 8, 1]</td>\n",
       "      <td>[14735.15, 93.08, 0, 0, 18, 12, 8, 2]</td>\n",
       "      <td>[12222.91, 93.81, 0, 0, 18, 12, 8, 3]</td>\n",
       "      <td>...</td>\n",
       "      <td>[42005.37, 49.57, 43, 0, 18, 12, 8, 6]</td>\n",
       "      <td>[32074.15, 49.37, 41, 0, 18, 12, 8, 0]</td>\n",
       "      <td>[28450.84, 49.07, 40, 0, 18, 12, 8, 1]</td>\n",
       "      <td>[32962.39, 49.59, 222, 0, 18, 12, 8, 2]</td>\n",
       "      <td>[26035.93, 48.54, 30, 1, 18, 12, 8, 3]</td>\n",
       "      <td>[32885.76, 48.81, 67, 1, 18, 12, 8, 4]</td>\n",
       "      <td>[31903.48, 48.81, 34, 0, 18, 12, 8, 5]</td>\n",
       "      <td>[34845.12, 48.81, 36, 0, 18, 12, 8, 6]</td>\n",
       "      <td>[32843.7, 47.59, 34, 0, 18, 12, 8, 0]</td>\n",
       "      <td>[30185.6, 47.57, 33, 0, 18, 12, 8, 1]</td>\n",
       "    </tr>\n",
       "    <tr>\n",
       "      <th>4</th>\n",
       "      <td>[0.0, 93.14, 0, 1, 18, 12, 9, 1]</td>\n",
       "      <td>[10200.08, 93.14, 0, 0, 18, 12, 9, 2]</td>\n",
       "      <td>[7400.25, 92.97, 0, 0, 18, 12, 9, 3]</td>\n",
       "      <td>[6902.05, 93.12, 0, 0, 18, 12, 9, 4]</td>\n",
       "      <td>[9948.38, 93.12, 0, 1, 18, 12, 9, 5]</td>\n",
       "      <td>[11679.69, 93.12, 0, 0, 18, 12, 9, 6]</td>\n",
       "      <td>[6748.2, 93.2, 0, 0, 18, 12, 9, 0]</td>\n",
       "      <td>[6017.61, 93.21, 0, 0, 18, 12, 9, 1]</td>\n",
       "      <td>[5867.88, 93.08, 0, 0, 18, 12, 9, 2]</td>\n",
       "      <td>[4674.25, 93.81, 0, 0, 18, 12, 9, 3]</td>\n",
       "      <td>...</td>\n",
       "      <td>[16801.05, 49.57, 32, 0, 18, 12, 9, 6]</td>\n",
       "      <td>[10214.14, 49.37, 29, 0, 18, 12, 9, 0]</td>\n",
       "      <td>[9760.27, 49.07, 32, 0, 18, 12, 9, 1]</td>\n",
       "      <td>[10671.73, 49.59, 198, 0, 18, 12, 9, 2]</td>\n",
       "      <td>[8623.36, 48.54, 24, 1, 18, 12, 9, 3]</td>\n",
       "      <td>[10819.54, 48.81, 54, 1, 18, 12, 9, 4]</td>\n",
       "      <td>[10622.3, 48.81, 30, 0, 18, 12, 9, 5]</td>\n",
       "      <td>[13065.9, 48.81, 28, 0, 18, 12, 9, 6]</td>\n",
       "      <td>[10911.89, 47.59, 29, 0, 18, 12, 9, 0]</td>\n",
       "      <td>[9709.09, 47.57, 31, 0, 18, 12, 9, 1]</td>\n",
       "    </tr>\n",
       "    <tr>\n",
       "      <th>5</th>\n",
       "      <td>[0.0, 93.14, 0, 1, 21, 14, 4, 1]</td>\n",
       "      <td>[10598.62, 93.14, 0, 0, 21, 14, 4, 2]</td>\n",
       "      <td>[7770.97, 92.97, 0, 0, 21, 14, 4, 3]</td>\n",
       "      <td>[7347.64, 93.12, 0, 0, 21, 14, 4, 4]</td>\n",
       "      <td>[8192.6, 93.12, 0, 1, 21, 14, 4, 5]</td>\n",
       "      <td>[10843.23, 93.12, 0, 0, 21, 14, 4, 6]</td>\n",
       "      <td>[6468.32, 93.2, 0, 0, 21, 14, 4, 0]</td>\n",
       "      <td>[6427.86, 93.21, 0, 0, 21, 14, 4, 1]</td>\n",
       "      <td>[6057.11, 93.08, 0, 0, 21, 14, 4, 2]</td>\n",
       "      <td>[5950.81, 93.81, 0, 0, 21, 14, 4, 3]</td>\n",
       "      <td>...</td>\n",
       "      <td>[11264.56, 49.57, 37, 0, 21, 14, 4, 6]</td>\n",
       "      <td>[10011.66, 49.37, 42, 0, 21, 14, 4, 0]</td>\n",
       "      <td>[7868.12, 49.07, 38, 0, 21, 14, 4, 1]</td>\n",
       "      <td>[9326.66, 49.59, 176, 0, 21, 14, 4, 2]</td>\n",
       "      <td>[8910.07, 48.54, 33, 1, 21, 14, 4, 3]</td>\n",
       "      <td>[9510.87, 48.81, 59, 1, 21, 14, 4, 4]</td>\n",
       "      <td>[8157.07, 48.81, 31, 0, 21, 14, 4, 5]</td>\n",
       "      <td>[10044.82, 48.81, 31, 0, 21, 14, 4, 6]</td>\n",
       "      <td>[9011.57, 47.59, 32, 0, 21, 14, 4, 0]</td>\n",
       "      <td>[8703.69, 47.57, 26, 0, 21, 14, 4, 1]</td>\n",
       "    </tr>\n",
       "  </tbody>\n",
       "</table>\n",
       "<p>5 rows × 1684 columns</p>\n",
       "</div>"
      ],
      "text/plain": [
       "date                              2013-01-01  \\\n",
       "store_nbr                                      \n",
       "1          [0.0, 93.14, 0, 1, 18, 12, 13, 1]   \n",
       "2          [0.0, 93.14, 0, 1, 18, 12, 13, 1]   \n",
       "3           [0.0, 93.14, 0, 1, 18, 12, 8, 1]   \n",
       "4           [0.0, 93.14, 0, 1, 18, 12, 9, 1]   \n",
       "5           [0.0, 93.14, 0, 1, 21, 14, 4, 1]   \n",
       "\n",
       "date                                   2013-01-02  \\\n",
       "store_nbr                                           \n",
       "1           [7417.15, 93.14, 0, 0, 18, 12, 13, 2]   \n",
       "2          [10266.72, 93.14, 0, 0, 18, 12, 13, 2]   \n",
       "3           [24060.35, 93.14, 0, 0, 18, 12, 8, 2]   \n",
       "4           [10200.08, 93.14, 0, 0, 18, 12, 9, 2]   \n",
       "5           [10598.62, 93.14, 0, 0, 21, 14, 4, 2]   \n",
       "\n",
       "date                                  2013-01-03  \\\n",
       "store_nbr                                          \n",
       "1          [5873.24, 92.97, 0, 0, 18, 12, 13, 3]   \n",
       "2          [7612.54, 92.97, 0, 0, 18, 12, 13, 3]   \n",
       "3          [18570.75, 92.97, 0, 0, 18, 12, 8, 3]   \n",
       "4           [7400.25, 92.97, 0, 0, 18, 12, 9, 3]   \n",
       "5           [7770.97, 92.97, 0, 0, 21, 14, 4, 3]   \n",
       "\n",
       "date                                  2013-01-04  \\\n",
       "store_nbr                                          \n",
       "1          [5919.88, 93.12, 0, 0, 18, 12, 13, 4]   \n",
       "2          [7526.38, 93.12, 0, 0, 18, 12, 13, 4]   \n",
       "3           [17392.1, 93.12, 0, 0, 18, 12, 8, 4]   \n",
       "4           [6902.05, 93.12, 0, 0, 18, 12, 9, 4]   \n",
       "5           [7347.64, 93.12, 0, 0, 21, 14, 4, 4]   \n",
       "\n",
       "date                                  2013-01-05  \\\n",
       "store_nbr                                          \n",
       "1          [6318.79, 93.12, 0, 1, 18, 12, 13, 5]   \n",
       "2          [9539.57, 93.12, 0, 1, 18, 12, 13, 5]   \n",
       "3          [22700.87, 93.12, 0, 1, 18, 12, 8, 5]   \n",
       "4           [9948.38, 93.12, 0, 1, 18, 12, 9, 5]   \n",
       "5            [8192.6, 93.12, 0, 1, 21, 14, 4, 5]   \n",
       "\n",
       "date                                   2013-01-06  \\\n",
       "store_nbr                                           \n",
       "1           [2199.09, 93.12, 0, 0, 18, 12, 13, 6]   \n",
       "2          [10322.39, 93.12, 0, 0, 18, 12, 13, 6]   \n",
       "3           [25343.62, 93.12, 0, 0, 18, 12, 8, 6]   \n",
       "4           [11679.69, 93.12, 0, 0, 18, 12, 9, 6]   \n",
       "5           [10843.23, 93.12, 0, 0, 21, 14, 4, 6]   \n",
       "\n",
       "date                                 2013-01-07  \\\n",
       "store_nbr                                         \n",
       "1          [6150.92, 93.2, 0, 0, 18, 12, 13, 0]   \n",
       "2          [6675.97, 93.2, 0, 0, 18, 12, 13, 0]   \n",
       "3          [17036.25, 93.2, 0, 0, 18, 12, 8, 0]   \n",
       "4            [6748.2, 93.2, 0, 0, 18, 12, 9, 0]   \n",
       "5           [6468.32, 93.2, 0, 0, 21, 14, 4, 0]   \n",
       "\n",
       "date                                  2013-01-08  \\\n",
       "store_nbr                                          \n",
       "1          [5597.18, 93.21, 0, 0, 18, 12, 13, 1]   \n",
       "2          [6109.57, 93.21, 0, 0, 18, 12, 13, 1]   \n",
       "3          [14220.42, 93.21, 0, 0, 18, 12, 8, 1]   \n",
       "4           [6017.61, 93.21, 0, 0, 18, 12, 9, 1]   \n",
       "5           [6427.86, 93.21, 0, 0, 21, 14, 4, 1]   \n",
       "\n",
       "date                                  2013-01-09  \\\n",
       "store_nbr                                          \n",
       "1          [6808.58, 93.08, 0, 0, 18, 12, 13, 2]   \n",
       "2          [6740.52, 93.08, 0, 0, 18, 12, 13, 2]   \n",
       "3          [14735.15, 93.08, 0, 0, 18, 12, 8, 2]   \n",
       "4           [5867.88, 93.08, 0, 0, 18, 12, 9, 2]   \n",
       "5           [6057.11, 93.08, 0, 0, 21, 14, 4, 2]   \n",
       "\n",
       "date                                  2013-01-10  ...  \\\n",
       "store_nbr                                         ...   \n",
       "1          [4757.71, 93.81, 0, 0, 18, 12, 13, 3]  ...   \n",
       "2          [5565.04, 93.81, 0, 0, 18, 12, 13, 3]  ...   \n",
       "3          [12222.91, 93.81, 0, 0, 18, 12, 8, 3]  ...   \n",
       "4           [4674.25, 93.81, 0, 0, 18, 12, 9, 3]  ...   \n",
       "5           [5950.81, 93.81, 0, 0, 21, 14, 4, 3]  ...   \n",
       "\n",
       "date                                    2017-08-06  \\\n",
       "store_nbr                                            \n",
       "1           [4409.25, 49.57, 29, 0, 18, 12, 13, 6]   \n",
       "2          [16987.57, 49.57, 43, 0, 18, 12, 13, 6]   \n",
       "3           [42005.37, 49.57, 43, 0, 18, 12, 8, 6]   \n",
       "4           [16801.05, 49.57, 32, 0, 18, 12, 9, 6]   \n",
       "5           [11264.56, 49.57, 37, 0, 21, 14, 4, 6]   \n",
       "\n",
       "date                                    2017-08-07  \\\n",
       "store_nbr                                            \n",
       "1          [10538.14, 49.37, 44, 0, 18, 12, 13, 0]   \n",
       "2          [12382.45, 49.37, 39, 0, 18, 12, 13, 0]   \n",
       "3           [32074.15, 49.37, 41, 0, 18, 12, 8, 0]   \n",
       "4           [10214.14, 49.37, 29, 0, 18, 12, 9, 0]   \n",
       "5           [10011.66, 49.37, 42, 0, 21, 14, 4, 0]   \n",
       "\n",
       "date                                    2017-08-08  \\\n",
       "store_nbr                                            \n",
       "1          [11070.76, 49.07, 35, 0, 18, 12, 13, 1]   \n",
       "2          [11304.55, 49.07, 38, 0, 18, 12, 13, 1]   \n",
       "3           [28450.84, 49.07, 40, 0, 18, 12, 8, 1]   \n",
       "4            [9760.27, 49.07, 32, 0, 18, 12, 9, 1]   \n",
       "5            [7868.12, 49.07, 38, 0, 21, 14, 4, 1]   \n",
       "\n",
       "date                                     2017-08-09  \\\n",
       "store_nbr                                             \n",
       "1          [12583.65, 49.59, 212, 0, 18, 12, 13, 2]   \n",
       "2          [12615.75, 49.59, 213, 0, 18, 12, 13, 2]   \n",
       "3           [32962.39, 49.59, 222, 0, 18, 12, 8, 2]   \n",
       "4           [10671.73, 49.59, 198, 0, 18, 12, 9, 2]   \n",
       "5            [9326.66, 49.59, 176, 0, 21, 14, 4, 2]   \n",
       "\n",
       "date                                    2017-08-10  \\\n",
       "store_nbr                                            \n",
       "1          [10834.58, 48.54, 31, 1, 18, 12, 13, 3]   \n",
       "2          [11317.83, 48.54, 26, 1, 18, 12, 13, 3]   \n",
       "3           [26035.93, 48.54, 30, 1, 18, 12, 8, 3]   \n",
       "4            [8623.36, 48.54, 24, 1, 18, 12, 9, 3]   \n",
       "5            [8910.07, 48.54, 33, 1, 21, 14, 4, 3]   \n",
       "\n",
       "date                                    2017-08-11  \\\n",
       "store_nbr                                            \n",
       "1           [5403.74, 48.81, 38, 1, 18, 12, 13, 4]   \n",
       "2          [13081.77, 48.81, 57, 1, 18, 12, 13, 4]   \n",
       "3           [32885.76, 48.81, 67, 1, 18, 12, 8, 4]   \n",
       "4           [10819.54, 48.81, 54, 1, 18, 12, 9, 4]   \n",
       "5            [9510.87, 48.81, 59, 1, 21, 14, 4, 4]   \n",
       "\n",
       "date                                    2017-08-12  \\\n",
       "store_nbr                                            \n",
       "1           [7543.62, 48.81, 28, 0, 18, 12, 13, 5]   \n",
       "2          [12382.42, 48.81, 33, 0, 18, 12, 13, 5]   \n",
       "3           [31903.48, 48.81, 34, 0, 18, 12, 8, 5]   \n",
       "4            [10622.3, 48.81, 30, 0, 18, 12, 9, 5]   \n",
       "5            [8157.07, 48.81, 31, 0, 21, 14, 4, 5]   \n",
       "\n",
       "date                                    2017-08-13  \\\n",
       "store_nbr                                            \n",
       "1           [3902.78, 48.81, 19, 0, 18, 12, 13, 6]   \n",
       "2          [13766.82, 48.81, 32, 0, 18, 12, 13, 6]   \n",
       "3           [34845.12, 48.81, 36, 0, 18, 12, 8, 6]   \n",
       "4            [13065.9, 48.81, 28, 0, 18, 12, 9, 6]   \n",
       "5           [10044.82, 48.81, 31, 0, 21, 14, 4, 6]   \n",
       "\n",
       "date                                    2017-08-14  \\\n",
       "store_nbr                                            \n",
       "1          [10433.31, 47.59, 30, 0, 18, 12, 13, 0]   \n",
       "2          [12211.46, 47.59, 36, 0, 18, 12, 13, 0]   \n",
       "3            [32843.7, 47.59, 34, 0, 18, 12, 8, 0]   \n",
       "4           [10911.89, 47.59, 29, 0, 18, 12, 9, 0]   \n",
       "5            [9011.57, 47.59, 32, 0, 21, 14, 4, 0]   \n",
       "\n",
       "date                                    2017-08-15  \n",
       "store_nbr                                           \n",
       "1           [9823.55, 47.57, 29, 0, 18, 12, 13, 1]  \n",
       "2          [11196.26, 47.57, 33, 0, 18, 12, 13, 1]  \n",
       "3            [30185.6, 47.57, 33, 0, 18, 12, 8, 1]  \n",
       "4            [9709.09, 47.57, 31, 0, 18, 12, 9, 1]  \n",
       "5            [8703.69, 47.57, 26, 0, 21, 14, 4, 1]  \n",
       "\n",
       "[5 rows x 1684 columns]"
      ]
     },
     "execution_count": 10,
     "metadata": {},
     "output_type": "execute_result"
    }
   ],
   "source": [
    "# Pivot the data to be in the format (store number, date, features)\n",
    "sales_data_pivoted = sales_features_store_df.pivot(index=\"store_nbr\", columns=\"date\", values=\"features\")\n",
    "sales_data_pivoted.head()"
   ]
  },
  {
   "cell_type": "code",
   "execution_count": 11,
   "id": "d742b6b9-3f4e-4cd3-91b0-6a3e7b92198e",
   "metadata": {
    "tags": []
   },
   "outputs": [
    {
     "data": {
      "text/plain": [
       "(54, 1684, 8)"
      ]
     },
     "execution_count": 11,
     "metadata": {},
     "output_type": "execute_result"
    }
   ],
   "source": [
    "# Convert the data to an array\n",
    "stacked_sales_data = np.array(sales_data_pivoted.values.tolist())\n",
    "stacked_sales_data.shape"
   ]
  },
  {
   "cell_type": "code",
   "execution_count": 12,
   "id": "a85251c5-5c67-4125-bb69-62b8d6bf2610",
   "metadata": {
    "tags": []
   },
   "outputs": [
    {
     "name": "stdout",
     "output_type": "stream",
     "text": [
      "Train data shape: (54, 1010, 8)\n",
      "Test data shape: (54, 337, 8)\n",
      "Validation data shape: (54, 337, 8)\n"
     ]
    }
   ],
   "source": [
    "# Split the data into test/train/val sets with a 60/20/20 split\n",
    "n = stacked_sales_data.shape[1]\n",
    "train_data = stacked_sales_data[:, :int(n*0.6), :]\n",
    "test_data = stacked_sales_data[:, int(n*0.6):int(n*0.8), :]\n",
    "val_data = stacked_sales_data[:, int(n*0.8):, :]\n",
    "print(f\"Train data shape: {train_data.shape}\")\n",
    "print(f\"Test data shape: {test_data.shape}\")\n",
    "print(f\"Validation data shape: {val_data.shape}\")"
   ]
  },
  {
   "cell_type": "code",
   "execution_count": 13,
   "id": "5196a6c1-f224-41d2-8581-72bdee265253",
   "metadata": {
    "tags": []
   },
   "outputs": [
    {
     "name": "stdout",
     "output_type": "stream",
     "text": [
      "Train data shape (2D): (54540, 8)\n",
      "Test data shape (2D): (18198, 8)\n",
      "Validation data shape (2D): (18198, 8)\n",
      "\n",
      "Train data shape: (54, 1010, 8)\n",
      "Test data shape: (54, 337, 8)\n",
      "Validation data shape: (54, 337, 8)\n"
     ]
    }
   ],
   "source": [
    "# Normalize the numerical features\n",
    "from sklearn import preprocessing\n",
    "\n",
    "scaler = preprocessing.StandardScaler()\n",
    "\n",
    "train_data_2d = train_data.reshape(-1, train_data.shape[2])\n",
    "test_data_2d = test_data.reshape(-1, test_data.shape[2])\n",
    "val_data_2d = val_data.reshape(-1, val_data.shape[2])\n",
    "\n",
    "train_data_2d[:, :3] = scaler.fit_transform(train_data_2d[:, :3])\n",
    "test_data_2d[:, :3] = scaler.transform(test_data_2d[:, :3])\n",
    "val_data_2d[:, :3] = scaler.transform(val_data_2d[:, :3])\n",
    "\n",
    "print(f\"Train data shape (2D): {train_data_2d.shape}\")\n",
    "print(f\"Test data shape (2D): {test_data_2d.shape}\")\n",
    "print(f\"Validation data shape (2D): {val_data_2d.shape}\\n\")\n",
    "\n",
    "train_data = train_data_2d.reshape(train_data.shape)\n",
    "test_data = test_data_2d.reshape(test_data.shape)\n",
    "val_data = val_data_2d.reshape(val_data.shape)\n",
    "\n",
    "print(f\"Train data shape: {train_data.shape}\")\n",
    "print(f\"Test data shape: {test_data.shape}\")\n",
    "print(f\"Validation data shape: {val_data.shape}\")"
   ]
  },
  {
   "cell_type": "code",
   "execution_count": 14,
   "id": "c47573cd-739b-465d-907c-e5872cb8efb7",
   "metadata": {
    "tags": []
   },
   "outputs": [],
   "source": [
    "# Add gaussian noise to the numerical features\n",
    "noisy_train_data = train_data.copy()\n",
    "noisy_train_data[:, :, :3] = train_data[:, :, :3] + (0.02 * np.random.normal(0, 1, train_data[:, :, :3].shape))"
   ]
  },
  {
   "cell_type": "code",
   "execution_count": 15,
   "id": "dc135473-f3bb-4360-bbb9-ac9aae49e813",
   "metadata": {},
   "outputs": [],
   "source": [
    "# Define a function that breaks the data into time series windows of a specified size\n",
    "# input_seq_length: The length of the input window\n",
    "# target_seq_length: The length of the target (prediction) window\n",
    "# stride: How much the windows overlap. A stride of 1 means each set of input/targets is shifted 1 day forward from the last input/targets\n",
    "def generate_windows(data, input_seq_length, target_seq_length, stride):\n",
    "    windows = []\n",
    "    targets = []\n",
    "    num_days = data.shape[1]\n",
    "    \n",
    "    for i in range(0, num_days, stride):\n",
    "        if (i+input_seq_length+target_seq_length) <= num_days:\n",
    "            input_window_end = i + input_seq_length\n",
    "            target_window_end = input_window_end + target_seq_length\n",
    "            \n",
    "            input_window = data[:, i:input_window_end, :]\n",
    "            target_window = data[:, input_window_end:target_window_end, 0]\n",
    "            \n",
    "            windows.append(input_window)\n",
    "            targets.append(target_window)\n",
    "            \n",
    "    return np.array(windows), np.array(targets)"
   ]
  },
  {
   "cell_type": "code",
   "execution_count": 16,
   "id": "4ce89346-a06d-49fd-9338-d2047d790da7",
   "metadata": {
    "tags": []
   },
   "outputs": [
    {
     "name": "stdout",
     "output_type": "stream",
     "text": [
      "Train inputs shape: (990, 54, 14, 8)\n",
      "Train targets shape: (990, 54, 7)\n",
      "Test inputs shape: (317, 54, 14, 8)\n",
      "Test targets shape: (317, 54, 7)\n",
      "Validation inputs shape: (317, 54, 14, 8)\n",
      "Validation inputs shape: (317, 54, 7)\n"
     ]
    }
   ],
   "source": [
    "# Generate windows for train/test/val sets\n",
    "input_seq_length = 14\n",
    "target_seq_length = 7\n",
    "stride = 1\n",
    "\n",
    "train_inputs, train_targets = generate_overlapping_windows(noisy_train_data, input_seq_length, target_seq_length, stride)\n",
    "print(f\"Train inputs shape: {train_inputs.shape}\")\n",
    "print(f\"Train targets shape: {train_targets.shape}\")\n",
    "\n",
    "test_inputs, test_targets = generate_overlapping_windows(test_data, input_seq_length, target_seq_length, stride)\n",
    "print(f\"Test inputs shape: {test_inputs.shape}\")\n",
    "print(f\"Test targets shape: {test_targets.shape}\")\n",
    "\n",
    "val_inputs, val_targets = generate_overlapping_windows(val_data, input_seq_length, target_seq_length, stride)\n",
    "print(f\"Validation inputs shape: {val_inputs.shape}\")\n",
    "print(f\"Validation inputs shape: {val_targets.shape}\")"
   ]
  },
  {
   "cell_type": "code",
   "execution_count": 20,
   "id": "0ba4dcc8-81f6-4a9a-b726-41bca85ca47f",
   "metadata": {
    "tags": []
   },
   "outputs": [],
   "source": [
    "import tensorflow as tf\n",
    "from tensorflow.keras.models import Sequential\n",
    "from tensorflow.keras.layers import Input, Reshape, Normalization, Flatten, Dropout\n",
    "from tensorflow.keras.layers import Dense, LSTM, TimeDistributed, RNN, GRU\n",
    "from sklearn import metrics\n",
    "from sklearn.metrics import mean_squared_error"
   ]
  },
  {
   "cell_type": "code",
   "execution_count": 21,
   "id": "c07b7b9a-842c-4fdc-9c03-ea9216bbab5e",
   "metadata": {
    "tags": []
   },
   "outputs": [
    {
     "data": {
      "text/html": [
       "<pre style=\"white-space:pre;overflow-x:auto;line-height:normal;font-family:Menlo,'DejaVu Sans Mono',consolas,'Courier New',monospace\"><span style=\"font-weight: bold\">Model: \"sequential\"</span>\n",
       "</pre>\n"
      ],
      "text/plain": [
       "\u001b[1mModel: \"sequential\"\u001b[0m\n"
      ]
     },
     "metadata": {},
     "output_type": "display_data"
    },
    {
     "data": {
      "text/html": [
       "<pre style=\"white-space:pre;overflow-x:auto;line-height:normal;font-family:Menlo,'DejaVu Sans Mono',consolas,'Courier New',monospace\">┏━━━━━━━━━━━━━━━━━━━━━━━━━━━━━━━━━┳━━━━━━━━━━━━━━━━━━━━━━━━┳━━━━━━━━━━━━━━━┓\n",
       "┃<span style=\"font-weight: bold\"> Layer (type)                    </span>┃<span style=\"font-weight: bold\"> Output Shape           </span>┃<span style=\"font-weight: bold\">       Param # </span>┃\n",
       "┡━━━━━━━━━━━━━━━━━━━━━━━━━━━━━━━━━╇━━━━━━━━━━━━━━━━━━━━━━━━╇━━━━━━━━━━━━━━━┩\n",
       "│ flatten (<span style=\"color: #0087ff; text-decoration-color: #0087ff\">Flatten</span>)               │ (<span style=\"color: #00d7ff; text-decoration-color: #00d7ff\">None</span>, <span style=\"color: #00af00; text-decoration-color: #00af00\">6048</span>)           │             <span style=\"color: #00af00; text-decoration-color: #00af00\">0</span> │\n",
       "├─────────────────────────────────┼────────────────────────┼───────────────┤\n",
       "│ dense (<span style=\"color: #0087ff; text-decoration-color: #0087ff\">Dense</span>)                   │ (<span style=\"color: #00d7ff; text-decoration-color: #00d7ff\">None</span>, <span style=\"color: #00af00; text-decoration-color: #00af00\">64</span>)             │       <span style=\"color: #00af00; text-decoration-color: #00af00\">387,136</span> │\n",
       "├─────────────────────────────────┼────────────────────────┼───────────────┤\n",
       "│ dense_1 (<span style=\"color: #0087ff; text-decoration-color: #0087ff\">Dense</span>)                 │ (<span style=\"color: #00d7ff; text-decoration-color: #00d7ff\">None</span>, <span style=\"color: #00af00; text-decoration-color: #00af00\">378</span>)            │        <span style=\"color: #00af00; text-decoration-color: #00af00\">24,570</span> │\n",
       "├─────────────────────────────────┼────────────────────────┼───────────────┤\n",
       "│ reshape (<span style=\"color: #0087ff; text-decoration-color: #0087ff\">Reshape</span>)               │ (<span style=\"color: #00d7ff; text-decoration-color: #00d7ff\">None</span>, <span style=\"color: #00af00; text-decoration-color: #00af00\">54</span>, <span style=\"color: #00af00; text-decoration-color: #00af00\">7</span>)          │             <span style=\"color: #00af00; text-decoration-color: #00af00\">0</span> │\n",
       "└─────────────────────────────────┴────────────────────────┴───────────────┘\n",
       "</pre>\n"
      ],
      "text/plain": [
       "┏━━━━━━━━━━━━━━━━━━━━━━━━━━━━━━━━━┳━━━━━━━━━━━━━━━━━━━━━━━━┳━━━━━━━━━━━━━━━┓\n",
       "┃\u001b[1m \u001b[0m\u001b[1mLayer (type)                   \u001b[0m\u001b[1m \u001b[0m┃\u001b[1m \u001b[0m\u001b[1mOutput Shape          \u001b[0m\u001b[1m \u001b[0m┃\u001b[1m \u001b[0m\u001b[1m      Param #\u001b[0m\u001b[1m \u001b[0m┃\n",
       "┡━━━━━━━━━━━━━━━━━━━━━━━━━━━━━━━━━╇━━━━━━━━━━━━━━━━━━━━━━━━╇━━━━━━━━━━━━━━━┩\n",
       "│ flatten (\u001b[38;5;33mFlatten\u001b[0m)               │ (\u001b[38;5;45mNone\u001b[0m, \u001b[38;5;34m6048\u001b[0m)           │             \u001b[38;5;34m0\u001b[0m │\n",
       "├─────────────────────────────────┼────────────────────────┼───────────────┤\n",
       "│ dense (\u001b[38;5;33mDense\u001b[0m)                   │ (\u001b[38;5;45mNone\u001b[0m, \u001b[38;5;34m64\u001b[0m)             │       \u001b[38;5;34m387,136\u001b[0m │\n",
       "├─────────────────────────────────┼────────────────────────┼───────────────┤\n",
       "│ dense_1 (\u001b[38;5;33mDense\u001b[0m)                 │ (\u001b[38;5;45mNone\u001b[0m, \u001b[38;5;34m378\u001b[0m)            │        \u001b[38;5;34m24,570\u001b[0m │\n",
       "├─────────────────────────────────┼────────────────────────┼───────────────┤\n",
       "│ reshape (\u001b[38;5;33mReshape\u001b[0m)               │ (\u001b[38;5;45mNone\u001b[0m, \u001b[38;5;34m54\u001b[0m, \u001b[38;5;34m7\u001b[0m)          │             \u001b[38;5;34m0\u001b[0m │\n",
       "└─────────────────────────────────┴────────────────────────┴───────────────┘\n"
      ]
     },
     "metadata": {},
     "output_type": "display_data"
    },
    {
     "data": {
      "text/html": [
       "<pre style=\"white-space:pre;overflow-x:auto;line-height:normal;font-family:Menlo,'DejaVu Sans Mono',consolas,'Courier New',monospace\"><span style=\"font-weight: bold\"> Total params: </span><span style=\"color: #00af00; text-decoration-color: #00af00\">411,706</span> (1.57 MB)\n",
       "</pre>\n"
      ],
      "text/plain": [
       "\u001b[1m Total params: \u001b[0m\u001b[38;5;34m411,706\u001b[0m (1.57 MB)\n"
      ]
     },
     "metadata": {},
     "output_type": "display_data"
    },
    {
     "data": {
      "text/html": [
       "<pre style=\"white-space:pre;overflow-x:auto;line-height:normal;font-family:Menlo,'DejaVu Sans Mono',consolas,'Courier New',monospace\"><span style=\"font-weight: bold\"> Trainable params: </span><span style=\"color: #00af00; text-decoration-color: #00af00\">411,706</span> (1.57 MB)\n",
       "</pre>\n"
      ],
      "text/plain": [
       "\u001b[1m Trainable params: \u001b[0m\u001b[38;5;34m411,706\u001b[0m (1.57 MB)\n"
      ]
     },
     "metadata": {},
     "output_type": "display_data"
    },
    {
     "data": {
      "text/html": [
       "<pre style=\"white-space:pre;overflow-x:auto;line-height:normal;font-family:Menlo,'DejaVu Sans Mono',consolas,'Courier New',monospace\"><span style=\"font-weight: bold\"> Non-trainable params: </span><span style=\"color: #00af00; text-decoration-color: #00af00\">0</span> (0.00 B)\n",
       "</pre>\n"
      ],
      "text/plain": [
       "\u001b[1m Non-trainable params: \u001b[0m\u001b[38;5;34m0\u001b[0m (0.00 B)\n"
      ]
     },
     "metadata": {},
     "output_type": "display_data"
    },
    {
     "name": "stdout",
     "output_type": "stream",
     "text": [
      "None\n"
     ]
    }
   ],
   "source": [
    "# Baseline MLP model\n",
    "simple_mlp_model = Sequential([\n",
    "    Input(shape=(train_inputs.shape[1], train_inputs.shape[2], train_inputs.shape[3])),\n",
    "    Flatten(),\n",
    "    Dense(64, activation='relu'),\n",
    "    Dense(54 * train_targets.shape[2]),\n",
    "    Reshape(target_shape=(54, train_targets.shape[2]))\n",
    "])\n",
    "\n",
    "simple_mlp_model.compile(loss='mean_squared_error', metrics=['mean_absolute_error'], optimizer=tf.keras.optimizers.Adam(0.001))\n",
    "\n",
    "print(simple_mlp_model.summary())"
   ]
  },
  {
   "cell_type": "code",
   "execution_count": 22,
   "id": "751092bb-e282-4d30-85e1-3c6f5b42648c",
   "metadata": {
    "tags": []
   },
   "outputs": [
    {
     "name": "stdout",
     "output_type": "stream",
     "text": [
      "Epoch 1/10\n",
      "\u001b[1m990/990\u001b[0m \u001b[32m━━━━━━━━━━━━━━━━━━━━\u001b[0m\u001b[37m\u001b[0m \u001b[1m6s\u001b[0m 6ms/step - loss: 0.9845 - mean_absolute_error: 0.6387 - val_loss: 1.7184 - val_mean_absolute_error: 0.7490\n",
      "Epoch 2/10\n",
      "\u001b[1m990/990\u001b[0m \u001b[32m━━━━━━━━━━━━━━━━━━━━\u001b[0m\u001b[37m\u001b[0m \u001b[1m10s\u001b[0m 6ms/step - loss: 0.5050 - mean_absolute_error: 0.4169 - val_loss: 1.4875 - val_mean_absolute_error: 0.7084\n",
      "Epoch 3/10\n",
      "\u001b[1m990/990\u001b[0m \u001b[32m━━━━━━━━━━━━━━━━━━━━\u001b[0m\u001b[37m\u001b[0m \u001b[1m6s\u001b[0m 6ms/step - loss: 0.4063 - mean_absolute_error: 0.3794 - val_loss: 1.3682 - val_mean_absolute_error: 0.6839\n",
      "Epoch 4/10\n",
      "\u001b[1m990/990\u001b[0m \u001b[32m━━━━━━━━━━━━━━━━━━━━\u001b[0m\u001b[37m\u001b[0m \u001b[1m5s\u001b[0m 5ms/step - loss: 0.3865 - mean_absolute_error: 0.3752 - val_loss: 1.3042 - val_mean_absolute_error: 0.6688\n",
      "Epoch 5/10\n",
      "\u001b[1m990/990\u001b[0m \u001b[32m━━━━━━━━━━━━━━━━━━━━\u001b[0m\u001b[37m\u001b[0m \u001b[1m5s\u001b[0m 5ms/step - loss: 0.3518 - mean_absolute_error: 0.3671 - val_loss: 1.2600 - val_mean_absolute_error: 0.6536\n",
      "Epoch 6/10\n",
      "\u001b[1m990/990\u001b[0m \u001b[32m━━━━━━━━━━━━━━━━━━━━\u001b[0m\u001b[37m\u001b[0m \u001b[1m6s\u001b[0m 5ms/step - loss: 0.3826 - mean_absolute_error: 0.3793 - val_loss: 1.2408 - val_mean_absolute_error: 0.6487\n",
      "Epoch 7/10\n",
      "\u001b[1m990/990\u001b[0m \u001b[32m━━━━━━━━━━━━━━━━━━━━\u001b[0m\u001b[37m\u001b[0m \u001b[1m6s\u001b[0m 6ms/step - loss: 0.3702 - mean_absolute_error: 0.3757 - val_loss: 1.2362 - val_mean_absolute_error: 0.6484\n",
      "Epoch 8/10\n",
      "\u001b[1m990/990\u001b[0m \u001b[32m━━━━━━━━━━━━━━━━━━━━\u001b[0m\u001b[37m\u001b[0m \u001b[1m6s\u001b[0m 6ms/step - loss: 0.3650 - mean_absolute_error: 0.3759 - val_loss: 1.2314 - val_mean_absolute_error: 0.6462\n",
      "Epoch 9/10\n",
      "\u001b[1m990/990\u001b[0m \u001b[32m━━━━━━━━━━━━━━━━━━━━\u001b[0m\u001b[37m\u001b[0m \u001b[1m6s\u001b[0m 6ms/step - loss: 0.3954 - mean_absolute_error: 0.3848 - val_loss: 1.2337 - val_mean_absolute_error: 0.6492\n",
      "Epoch 10/10\n",
      "\u001b[1m990/990\u001b[0m \u001b[32m━━━━━━━━━━━━━━━━━━━━\u001b[0m\u001b[37m\u001b[0m \u001b[1m6s\u001b[0m 6ms/step - loss: 0.3584 - mean_absolute_error: 0.3728 - val_loss: 1.2292 - val_mean_absolute_error: 0.6466\n"
     ]
    },
    {
     "data": {
      "image/png": "[encoded data removed]",
      "text/plain": [
       "<Figure size 640x480 with 1 Axes>"
      ]
     },
     "metadata": {},
     "output_type": "display_data"
    }
   ],
   "source": [
    "# Fit the baseline model\n",
    "history = simple_mlp_model.fit(train_inputs, train_targets, validation_data=(test_inputs, test_targets), epochs=10, batch_size=1)\n",
    "\n",
    "# Plot the learning curves\n",
    "plt.plot(history.history['loss'], label='Train Loss')\n",
    "plt.plot(history.history['val_loss'], label='Validation Loss')\n",
    "plt.xlabel('Epochs')\n",
    "plt.ylabel('Loss')\n",
    "plt.legend()\n",
    "plt.show()"
   ]
  },
  {
   "cell_type": "code",
   "execution_count": 23,
   "id": "febf62f8-68cd-457d-9f5a-82287d817696",
   "metadata": {
    "tags": []
   },
   "outputs": [
    {
     "name": "stdout",
     "output_type": "stream",
     "text": [
      "\u001b[1m10/10\u001b[0m \u001b[32m━━━━━━━━━━━━━━━━━━━━\u001b[0m\u001b[37m\u001b[0m \u001b[1m1s\u001b[0m 3ms/step - loss: 1.3362 - mean_absolute_error: 0.74866\n"
     ]
    }
   ],
   "source": [
    "# Evaluate the baseline model on the validation set\n",
    "eval = simple_mlp_model.evaluate(val_inputs, val_targets)"
   ]
  },
  {
   "cell_type": "code",
   "execution_count": 24,
   "id": "accde4e1-6136-4260-a1bf-a1b51d7fc2a5",
   "metadata": {
    "tags": []
   },
   "outputs": [
    {
     "data": {
      "text/html": [
       "<pre style=\"white-space:pre;overflow-x:auto;line-height:normal;font-family:Menlo,'DejaVu Sans Mono',consolas,'Courier New',monospace\"><span style=\"font-weight: bold\">Model: \"sequential_1\"</span>\n",
       "</pre>\n"
      ],
      "text/plain": [
       "\u001b[1mModel: \"sequential_1\"\u001b[0m\n"
      ]
     },
     "metadata": {},
     "output_type": "display_data"
    },
    {
     "data": {
      "text/html": [
       "<pre style=\"white-space:pre;overflow-x:auto;line-height:normal;font-family:Menlo,'DejaVu Sans Mono',consolas,'Courier New',monospace\">┏━━━━━━━━━━━━━━━━━━━━━━━━━━━━━━━━━┳━━━━━━━━━━━━━━━━━━━━━━━━┳━━━━━━━━━━━━━━━┓\n",
       "┃<span style=\"font-weight: bold\"> Layer (type)                    </span>┃<span style=\"font-weight: bold\"> Output Shape           </span>┃<span style=\"font-weight: bold\">       Param # </span>┃\n",
       "┡━━━━━━━━━━━━━━━━━━━━━━━━━━━━━━━━━╇━━━━━━━━━━━━━━━━━━━━━━━━╇━━━━━━━━━━━━━━━┩\n",
       "│ reshape_1 (<span style=\"color: #0087ff; text-decoration-color: #0087ff\">Reshape</span>)             │ (<span style=\"color: #00d7ff; text-decoration-color: #00d7ff\">None</span>, <span style=\"color: #00af00; text-decoration-color: #00af00\">756</span>, <span style=\"color: #00af00; text-decoration-color: #00af00\">8</span>)         │             <span style=\"color: #00af00; text-decoration-color: #00af00\">0</span> │\n",
       "├─────────────────────────────────┼────────────────────────┼───────────────┤\n",
       "│ lstm (<span style=\"color: #0087ff; text-decoration-color: #0087ff\">LSTM</span>)                     │ (<span style=\"color: #00d7ff; text-decoration-color: #00d7ff\">None</span>, <span style=\"color: #00af00; text-decoration-color: #00af00\">4</span>)              │           <span style=\"color: #00af00; text-decoration-color: #00af00\">208</span> │\n",
       "├─────────────────────────────────┼────────────────────────┼───────────────┤\n",
       "│ dropout (<span style=\"color: #0087ff; text-decoration-color: #0087ff\">Dropout</span>)               │ (<span style=\"color: #00d7ff; text-decoration-color: #00d7ff\">None</span>, <span style=\"color: #00af00; text-decoration-color: #00af00\">4</span>)              │             <span style=\"color: #00af00; text-decoration-color: #00af00\">0</span> │\n",
       "├─────────────────────────────────┼────────────────────────┼───────────────┤\n",
       "│ dense_2 (<span style=\"color: #0087ff; text-decoration-color: #0087ff\">Dense</span>)                 │ (<span style=\"color: #00d7ff; text-decoration-color: #00d7ff\">None</span>, <span style=\"color: #00af00; text-decoration-color: #00af00\">378</span>)            │         <span style=\"color: #00af00; text-decoration-color: #00af00\">1,890</span> │\n",
       "├─────────────────────────────────┼────────────────────────┼───────────────┤\n",
       "│ reshape_2 (<span style=\"color: #0087ff; text-decoration-color: #0087ff\">Reshape</span>)             │ (<span style=\"color: #00d7ff; text-decoration-color: #00d7ff\">None</span>, <span style=\"color: #00af00; text-decoration-color: #00af00\">54</span>, <span style=\"color: #00af00; text-decoration-color: #00af00\">7</span>)          │             <span style=\"color: #00af00; text-decoration-color: #00af00\">0</span> │\n",
       "└─────────────────────────────────┴────────────────────────┴───────────────┘\n",
       "</pre>\n"
      ],
      "text/plain": [
       "┏━━━━━━━━━━━━━━━━━━━━━━━━━━━━━━━━━┳━━━━━━━━━━━━━━━━━━━━━━━━┳━━━━━━━━━━━━━━━┓\n",
       "┃\u001b[1m \u001b[0m\u001b[1mLayer (type)                   \u001b[0m\u001b[1m \u001b[0m┃\u001b[1m \u001b[0m\u001b[1mOutput Shape          \u001b[0m\u001b[1m \u001b[0m┃\u001b[1m \u001b[0m\u001b[1m      Param #\u001b[0m\u001b[1m \u001b[0m┃\n",
       "┡━━━━━━━━━━━━━━━━━━━━━━━━━━━━━━━━━╇━━━━━━━━━━━━━━━━━━━━━━━━╇━━━━━━━━━━━━━━━┩\n",
       "│ reshape_1 (\u001b[38;5;33mReshape\u001b[0m)             │ (\u001b[38;5;45mNone\u001b[0m, \u001b[38;5;34m756\u001b[0m, \u001b[38;5;34m8\u001b[0m)         │             \u001b[38;5;34m0\u001b[0m │\n",
       "├─────────────────────────────────┼────────────────────────┼───────────────┤\n",
       "│ lstm (\u001b[38;5;33mLSTM\u001b[0m)                     │ (\u001b[38;5;45mNone\u001b[0m, \u001b[38;5;34m4\u001b[0m)              │           \u001b[38;5;34m208\u001b[0m │\n",
       "├─────────────────────────────────┼────────────────────────┼───────────────┤\n",
       "│ dropout (\u001b[38;5;33mDropout\u001b[0m)               │ (\u001b[38;5;45mNone\u001b[0m, \u001b[38;5;34m4\u001b[0m)              │             \u001b[38;5;34m0\u001b[0m │\n",
       "├─────────────────────────────────┼────────────────────────┼───────────────┤\n",
       "│ dense_2 (\u001b[38;5;33mDense\u001b[0m)                 │ (\u001b[38;5;45mNone\u001b[0m, \u001b[38;5;34m378\u001b[0m)            │         \u001b[38;5;34m1,890\u001b[0m │\n",
       "├─────────────────────────────────┼────────────────────────┼───────────────┤\n",
       "│ reshape_2 (\u001b[38;5;33mReshape\u001b[0m)             │ (\u001b[38;5;45mNone\u001b[0m, \u001b[38;5;34m54\u001b[0m, \u001b[38;5;34m7\u001b[0m)          │             \u001b[38;5;34m0\u001b[0m │\n",
       "└─────────────────────────────────┴────────────────────────┴───────────────┘\n"
      ]
     },
     "metadata": {},
     "output_type": "display_data"
    },
    {
     "data": {
      "text/html": [
       "<pre style=\"white-space:pre;overflow-x:auto;line-height:normal;font-family:Menlo,'DejaVu Sans Mono',consolas,'Courier New',monospace\"><span style=\"font-weight: bold\"> Total params: </span><span style=\"color: #00af00; text-decoration-color: #00af00\">2,098</span> (8.20 KB)\n",
       "</pre>\n"
      ],
      "text/plain": [
       "\u001b[1m Total params: \u001b[0m\u001b[38;5;34m2,098\u001b[0m (8.20 KB)\n"
      ]
     },
     "metadata": {},
     "output_type": "display_data"
    },
    {
     "data": {
      "text/html": [
       "<pre style=\"white-space:pre;overflow-x:auto;line-height:normal;font-family:Menlo,'DejaVu Sans Mono',consolas,'Courier New',monospace\"><span style=\"font-weight: bold\"> Trainable params: </span><span style=\"color: #00af00; text-decoration-color: #00af00\">2,098</span> (8.20 KB)\n",
       "</pre>\n"
      ],
      "text/plain": [
       "\u001b[1m Trainable params: \u001b[0m\u001b[38;5;34m2,098\u001b[0m (8.20 KB)\n"
      ]
     },
     "metadata": {},
     "output_type": "display_data"
    },
    {
     "data": {
      "text/html": [
       "<pre style=\"white-space:pre;overflow-x:auto;line-height:normal;font-family:Menlo,'DejaVu Sans Mono',consolas,'Courier New',monospace\"><span style=\"font-weight: bold\"> Non-trainable params: </span><span style=\"color: #00af00; text-decoration-color: #00af00\">0</span> (0.00 B)\n",
       "</pre>\n"
      ],
      "text/plain": [
       "\u001b[1m Non-trainable params: \u001b[0m\u001b[38;5;34m0\u001b[0m (0.00 B)\n"
      ]
     },
     "metadata": {},
     "output_type": "display_data"
    },
    {
     "name": "stdout",
     "output_type": "stream",
     "text": [
      "None\n"
     ]
    }
   ],
   "source": [
    "# LSTM model\n",
    "lstm_model = Sequential([\n",
    "    Input(shape=(train_inputs.shape[1], train_inputs.shape[2], train_inputs.shape[3])),\n",
    "    Reshape(target_shape=(-1, train_inputs.shape[3])),\n",
    "    #LSTM(4, kernel_regularizer=tf.keras.regularizers.l2(0.002), recurrent_dropout=0.2),\n",
    "    LSTM(4, kernel_regularizer=tf.keras.regularizers.l2(0.002)),\n",
    "    Dropout(0.2),\n",
    "    Dense(54 * train_targets.shape[2]),\n",
    "    Reshape(target_shape=(54, train_targets.shape[2]))\n",
    "])\n",
    "\n",
    "lstm_model.compile(loss='mean_squared_error', metrics=['mean_absolute_error'], optimizer=tf.keras.optimizers.Adam(0.001))\n",
    "\n",
    "print(lstm_model.summary())"
   ]
  },
  {
   "cell_type": "code",
   "execution_count": 25,
   "id": "db7d8807-e7ca-4cd3-a78c-aaf0673e4e1b",
   "metadata": {
    "tags": []
   },
   "outputs": [
    {
     "name": "stdout",
     "output_type": "stream",
     "text": [
      "Epoch 1/10\n",
      "\u001b[1m990/990\u001b[0m \u001b[32m━━━━━━━━━━━━━━━━━━━━\u001b[0m\u001b[37m\u001b[0m \u001b[1m100s\u001b[0m 99ms/step - loss: 0.6173 - mean_absolute_error: 0.4936 - val_loss: 1.2617 - val_mean_absolute_error: 0.6478\n",
      "Epoch 2/10\n",
      "\u001b[1m990/990\u001b[0m \u001b[32m━━━━━━━━━━━━━━━━━━━━\u001b[0m\u001b[37m\u001b[0m \u001b[1m96s\u001b[0m 97ms/step - loss: 0.4280 - mean_absolute_error: 0.4043 - val_loss: 1.2307 - val_mean_absolute_error: 0.6510\n",
      "Epoch 3/10\n",
      "\u001b[1m990/990\u001b[0m \u001b[32m━━━━━━━━━━━━━━━━━━━━\u001b[0m\u001b[37m\u001b[0m \u001b[1m146s\u001b[0m 100ms/step - loss: 0.3824 - mean_absolute_error: 0.3938 - val_loss: 1.1337 - val_mean_absolute_error: 0.6134\n",
      "Epoch 4/10\n",
      "\u001b[1m990/990\u001b[0m \u001b[32m━━━━━━━━━━━━━━━━━━━━\u001b[0m\u001b[37m\u001b[0m \u001b[1m139s\u001b[0m 97ms/step - loss: 0.3623 - mean_absolute_error: 0.3741 - val_loss: 0.9807 - val_mean_absolute_error: 0.5407\n",
      "Epoch 5/10\n",
      "\u001b[1m990/990\u001b[0m \u001b[32m━━━━━━━━━━━━━━━━━━━━\u001b[0m\u001b[37m\u001b[0m \u001b[1m139s\u001b[0m 94ms/step - loss: 0.3466 - mean_absolute_error: 0.3480 - val_loss: 0.8992 - val_mean_absolute_error: 0.5040\n",
      "Epoch 6/10\n",
      "\u001b[1m990/990\u001b[0m \u001b[32m━━━━━━━━━━━━━━━━━━━━\u001b[0m\u001b[37m\u001b[0m \u001b[1m149s\u001b[0m 101ms/step - loss: 0.3026 - mean_absolute_error: 0.3214 - val_loss: 0.8598 - val_mean_absolute_error: 0.4922\n",
      "Epoch 7/10\n",
      "\u001b[1m990/990\u001b[0m \u001b[32m━━━━━━━━━━━━━━━━━━━━\u001b[0m\u001b[37m\u001b[0m \u001b[1m132s\u001b[0m 92ms/step - loss: 0.2883 - mean_absolute_error: 0.3195 - val_loss: 0.8316 - val_mean_absolute_error: 0.4832\n",
      "Epoch 8/10\n",
      "\u001b[1m990/990\u001b[0m \u001b[32m━━━━━━━━━━━━━━━━━━━━\u001b[0m\u001b[37m\u001b[0m \u001b[1m145s\u001b[0m 95ms/step - loss: 0.2855 - mean_absolute_error: 0.3156 - val_loss: 0.8113 - val_mean_absolute_error: 0.4792\n",
      "Epoch 9/10\n",
      "\u001b[1m990/990\u001b[0m \u001b[32m━━━━━━━━━━━━━━━━━━━━\u001b[0m\u001b[37m\u001b[0m \u001b[1m94s\u001b[0m 95ms/step - loss: 0.2941 - mean_absolute_error: 0.3186 - val_loss: 0.8005 - val_mean_absolute_error: 0.4744\n",
      "Epoch 10/10\n",
      "\u001b[1m990/990\u001b[0m \u001b[32m━━━━━━━━━━━━━━━━━━━━\u001b[0m\u001b[37m\u001b[0m \u001b[1m140s\u001b[0m 94ms/step - loss: 0.2664 - mean_absolute_error: 0.3043 - val_loss: 0.8256 - val_mean_absolute_error: 0.4853\n"
     ]
    },
    {
     "data": {
      "image/png": "[encoded data removed]",
      "text/plain": [
       "<Figure size 640x480 with 1 Axes>"
      ]
     },
     "metadata": {},
     "output_type": "display_data"
    }
   ],
   "source": [
    "# Fit the model\n",
    "history = lstm_model.fit(train_inputs, train_targets, validation_data=(test_inputs, test_targets), epochs=10, batch_size=1)\n",
    "\n",
    "# Plot the learning curves\n",
    "plt.plot(history.history['loss'], label='Train Loss')\n",
    "plt.plot(history.history['val_loss'], label='Validation Loss')\n",
    "plt.xlabel('Epochs')\n",
    "plt.ylabel('Loss')\n",
    "plt.legend()\n",
    "plt.show()"
   ]
  },
  {
   "cell_type": "code",
   "execution_count": 26,
   "id": "c3043f6f-6ea2-4f2f-aa1b-f592488318d1",
   "metadata": {
    "tags": []
   },
   "outputs": [
    {
     "name": "stdout",
     "output_type": "stream",
     "text": [
      "\u001b[1m10/10\u001b[0m \u001b[32m━━━━━━━━━━━━━━━━━━━━\u001b[0m\u001b[37m\u001b[0m \u001b[1m1s\u001b[0m 58ms/step - loss: 0.7761 - mean_absolute_error: 0.5272\n"
     ]
    }
   ],
   "source": [
    "# Evaluate the LSTM model on the validation set\n",
    "eval = lstm_model.evaluate(val_inputs, val_targets)"
   ]
  },
  {
   "cell_type": "code",
   "execution_count": 27,
   "id": "765a6991-f79c-4c97-a453-9c73a73cba83",
   "metadata": {
    "tags": []
   },
   "outputs": [
    {
     "data": {
      "text/html": [
       "<pre style=\"white-space:pre;overflow-x:auto;line-height:normal;font-family:Menlo,'DejaVu Sans Mono',consolas,'Courier New',monospace\"><span style=\"font-weight: bold\">Model: \"sequential_2\"</span>\n",
       "</pre>\n"
      ],
      "text/plain": [
       "\u001b[1mModel: \"sequential_2\"\u001b[0m\n"
      ]
     },
     "metadata": {},
     "output_type": "display_data"
    },
    {
     "data": {
      "text/html": [
       "<pre style=\"white-space:pre;overflow-x:auto;line-height:normal;font-family:Menlo,'DejaVu Sans Mono',consolas,'Courier New',monospace\">┏━━━━━━━━━━━━━━━━━━━━━━━━━━━━━━━━━┳━━━━━━━━━━━━━━━━━━━━━━━━┳━━━━━━━━━━━━━━━┓\n",
       "┃<span style=\"font-weight: bold\"> Layer (type)                    </span>┃<span style=\"font-weight: bold\"> Output Shape           </span>┃<span style=\"font-weight: bold\">       Param # </span>┃\n",
       "┡━━━━━━━━━━━━━━━━━━━━━━━━━━━━━━━━━╇━━━━━━━━━━━━━━━━━━━━━━━━╇━━━━━━━━━━━━━━━┩\n",
       "│ reshape_3 (<span style=\"color: #0087ff; text-decoration-color: #0087ff\">Reshape</span>)             │ (<span style=\"color: #00d7ff; text-decoration-color: #00d7ff\">None</span>, <span style=\"color: #00af00; text-decoration-color: #00af00\">756</span>, <span style=\"color: #00af00; text-decoration-color: #00af00\">8</span>)         │             <span style=\"color: #00af00; text-decoration-color: #00af00\">0</span> │\n",
       "├─────────────────────────────────┼────────────────────────┼───────────────┤\n",
       "│ gru (<span style=\"color: #0087ff; text-decoration-color: #0087ff\">GRU</span>)                       │ (<span style=\"color: #00d7ff; text-decoration-color: #00d7ff\">None</span>, <span style=\"color: #00af00; text-decoration-color: #00af00\">2</span>)              │            <span style=\"color: #00af00; text-decoration-color: #00af00\">72</span> │\n",
       "├─────────────────────────────────┼────────────────────────┼───────────────┤\n",
       "│ dropout_1 (<span style=\"color: #0087ff; text-decoration-color: #0087ff\">Dropout</span>)             │ (<span style=\"color: #00d7ff; text-decoration-color: #00d7ff\">None</span>, <span style=\"color: #00af00; text-decoration-color: #00af00\">2</span>)              │             <span style=\"color: #00af00; text-decoration-color: #00af00\">0</span> │\n",
       "├─────────────────────────────────┼────────────────────────┼───────────────┤\n",
       "│ dense_3 (<span style=\"color: #0087ff; text-decoration-color: #0087ff\">Dense</span>)                 │ (<span style=\"color: #00d7ff; text-decoration-color: #00d7ff\">None</span>, <span style=\"color: #00af00; text-decoration-color: #00af00\">378</span>)            │         <span style=\"color: #00af00; text-decoration-color: #00af00\">1,134</span> │\n",
       "├─────────────────────────────────┼────────────────────────┼───────────────┤\n",
       "│ reshape_4 (<span style=\"color: #0087ff; text-decoration-color: #0087ff\">Reshape</span>)             │ (<span style=\"color: #00d7ff; text-decoration-color: #00d7ff\">None</span>, <span style=\"color: #00af00; text-decoration-color: #00af00\">54</span>, <span style=\"color: #00af00; text-decoration-color: #00af00\">7</span>)          │             <span style=\"color: #00af00; text-decoration-color: #00af00\">0</span> │\n",
       "└─────────────────────────────────┴────────────────────────┴───────────────┘\n",
       "</pre>\n"
      ],
      "text/plain": [
       "┏━━━━━━━━━━━━━━━━━━━━━━━━━━━━━━━━━┳━━━━━━━━━━━━━━━━━━━━━━━━┳━━━━━━━━━━━━━━━┓\n",
       "┃\u001b[1m \u001b[0m\u001b[1mLayer (type)                   \u001b[0m\u001b[1m \u001b[0m┃\u001b[1m \u001b[0m\u001b[1mOutput Shape          \u001b[0m\u001b[1m \u001b[0m┃\u001b[1m \u001b[0m\u001b[1m      Param #\u001b[0m\u001b[1m \u001b[0m┃\n",
       "┡━━━━━━━━━━━━━━━━━━━━━━━━━━━━━━━━━╇━━━━━━━━━━━━━━━━━━━━━━━━╇━━━━━━━━━━━━━━━┩\n",
       "│ reshape_3 (\u001b[38;5;33mReshape\u001b[0m)             │ (\u001b[38;5;45mNone\u001b[0m, \u001b[38;5;34m756\u001b[0m, \u001b[38;5;34m8\u001b[0m)         │             \u001b[38;5;34m0\u001b[0m │\n",
       "├─────────────────────────────────┼────────────────────────┼───────────────┤\n",
       "│ gru (\u001b[38;5;33mGRU\u001b[0m)                       │ (\u001b[38;5;45mNone\u001b[0m, \u001b[38;5;34m2\u001b[0m)              │            \u001b[38;5;34m72\u001b[0m │\n",
       "├─────────────────────────────────┼────────────────────────┼───────────────┤\n",
       "│ dropout_1 (\u001b[38;5;33mDropout\u001b[0m)             │ (\u001b[38;5;45mNone\u001b[0m, \u001b[38;5;34m2\u001b[0m)              │             \u001b[38;5;34m0\u001b[0m │\n",
       "├─────────────────────────────────┼────────────────────────┼───────────────┤\n",
       "│ dense_3 (\u001b[38;5;33mDense\u001b[0m)                 │ (\u001b[38;5;45mNone\u001b[0m, \u001b[38;5;34m378\u001b[0m)            │         \u001b[38;5;34m1,134\u001b[0m │\n",
       "├─────────────────────────────────┼────────────────────────┼───────────────┤\n",
       "│ reshape_4 (\u001b[38;5;33mReshape\u001b[0m)             │ (\u001b[38;5;45mNone\u001b[0m, \u001b[38;5;34m54\u001b[0m, \u001b[38;5;34m7\u001b[0m)          │             \u001b[38;5;34m0\u001b[0m │\n",
       "└─────────────────────────────────┴────────────────────────┴───────────────┘\n"
      ]
     },
     "metadata": {},
     "output_type": "display_data"
    },
    {
     "data": {
      "text/html": [
       "<pre style=\"white-space:pre;overflow-x:auto;line-height:normal;font-family:Menlo,'DejaVu Sans Mono',consolas,'Courier New',monospace\"><span style=\"font-weight: bold\"> Total params: </span><span style=\"color: #00af00; text-decoration-color: #00af00\">1,206</span> (4.71 KB)\n",
       "</pre>\n"
      ],
      "text/plain": [
       "\u001b[1m Total params: \u001b[0m\u001b[38;5;34m1,206\u001b[0m (4.71 KB)\n"
      ]
     },
     "metadata": {},
     "output_type": "display_data"
    },
    {
     "data": {
      "text/html": [
       "<pre style=\"white-space:pre;overflow-x:auto;line-height:normal;font-family:Menlo,'DejaVu Sans Mono',consolas,'Courier New',monospace\"><span style=\"font-weight: bold\"> Trainable params: </span><span style=\"color: #00af00; text-decoration-color: #00af00\">1,206</span> (4.71 KB)\n",
       "</pre>\n"
      ],
      "text/plain": [
       "\u001b[1m Trainable params: \u001b[0m\u001b[38;5;34m1,206\u001b[0m (4.71 KB)\n"
      ]
     },
     "metadata": {},
     "output_type": "display_data"
    },
    {
     "data": {
      "text/html": [
       "<pre style=\"white-space:pre;overflow-x:auto;line-height:normal;font-family:Menlo,'DejaVu Sans Mono',consolas,'Courier New',monospace\"><span style=\"font-weight: bold\"> Non-trainable params: </span><span style=\"color: #00af00; text-decoration-color: #00af00\">0</span> (0.00 B)\n",
       "</pre>\n"
      ],
      "text/plain": [
       "\u001b[1m Non-trainable params: \u001b[0m\u001b[38;5;34m0\u001b[0m (0.00 B)\n"
      ]
     },
     "metadata": {},
     "output_type": "display_data"
    },
    {
     "name": "stdout",
     "output_type": "stream",
     "text": [
      "None\n"
     ]
    }
   ],
   "source": [
    "# GRU model\n",
    "gru_model = Sequential([\n",
    "    Input(shape=(train_inputs.shape[1], train_inputs.shape[2], train_inputs.shape[3])),\n",
    "    Reshape(target_shape=(-1, train_inputs.shape[3])),\n",
    "    GRU(2, kernel_regularizer=tf.keras.regularizers.l2(0.002)),\n",
    "    Dropout(0.2),\n",
    "    Dense(54 * train_targets.shape[2]),\n",
    "    Reshape(target_shape=(54, train_targets.shape[2]))\n",
    "])\n",
    "\n",
    "gru_model.compile(loss='mean_squared_error', metrics=['mean_absolute_error'], optimizer=tf.keras.optimizers.Adam(0.001))\n",
    "\n",
    "print(gru_model.summary())"
   ]
  },
  {
   "cell_type": "code",
   "execution_count": 28,
   "id": "9daa2931-024a-4c6d-90ae-995d1bc2cf21",
   "metadata": {
    "tags": []
   },
   "outputs": [
    {
     "name": "stdout",
     "output_type": "stream",
     "text": [
      "Epoch 1/10\n",
      "\u001b[1m990/990\u001b[0m \u001b[32m━━━━━━━━━━━━━━━━━━━━\u001b[0m\u001b[37m\u001b[0m \u001b[1m102s\u001b[0m 101ms/step - loss: 0.7091 - mean_absolute_error: 0.5285 - val_loss: 1.3747 - val_mean_absolute_error: 0.6748\n",
      "Epoch 2/10\n",
      "\u001b[1m990/990\u001b[0m \u001b[32m━━━━━━━━━━━━━━━━━━━━\u001b[0m\u001b[37m\u001b[0m \u001b[1m140s\u001b[0m 99ms/step - loss: 0.4030 - mean_absolute_error: 0.3943 - val_loss: 1.2892 - val_mean_absolute_error: 0.6651\n",
      "Epoch 3/10\n",
      "\u001b[1m990/990\u001b[0m \u001b[32m━━━━━━━━━━━━━━━━━━━━\u001b[0m\u001b[37m\u001b[0m \u001b[1m146s\u001b[0m 103ms/step - loss: 0.3875 - mean_absolute_error: 0.3877 - val_loss: 1.1682 - val_mean_absolute_error: 0.6240\n",
      "Epoch 4/10\n",
      "\u001b[1m990/990\u001b[0m \u001b[32m━━━━━━━━━━━━━━━━━━━━\u001b[0m\u001b[37m\u001b[0m \u001b[1m137s\u001b[0m 98ms/step - loss: 0.3708 - mean_absolute_error: 0.3752 - val_loss: 0.9897 - val_mean_absolute_error: 0.5369\n",
      "Epoch 5/10\n",
      "\u001b[1m990/990\u001b[0m \u001b[32m━━━━━━━━━━━━━━━━━━━━\u001b[0m\u001b[37m\u001b[0m \u001b[1m150s\u001b[0m 106ms/step - loss: 0.3328 - mean_absolute_error: 0.3366 - val_loss: 0.8991 - val_mean_absolute_error: 0.5022\n",
      "Epoch 6/10\n",
      "\u001b[1m990/990\u001b[0m \u001b[32m━━━━━━━━━━━━━━━━━━━━\u001b[0m\u001b[37m\u001b[0m \u001b[1m148s\u001b[0m 112ms/step - loss: 0.3017 - mean_absolute_error: 0.3200 - val_loss: 0.8555 - val_mean_absolute_error: 0.4910\n",
      "Epoch 7/10\n",
      "\u001b[1m990/990\u001b[0m \u001b[32m━━━━━━━━━━━━━━━━━━━━\u001b[0m\u001b[37m\u001b[0m \u001b[1m128s\u001b[0m 98ms/step - loss: 0.2776 - mean_absolute_error: 0.3114 - val_loss: 0.8295 - val_mean_absolute_error: 0.4851\n",
      "Epoch 8/10\n",
      "\u001b[1m990/990\u001b[0m \u001b[32m━━━━━━━━━━━━━━━━━━━━\u001b[0m\u001b[37m\u001b[0m \u001b[1m148s\u001b[0m 104ms/step - loss: 0.2581 - mean_absolute_error: 0.3017 - val_loss: 0.8242 - val_mean_absolute_error: 0.4844\n",
      "Epoch 9/10\n",
      "\u001b[1m990/990\u001b[0m \u001b[32m━━━━━━━━━━━━━━━━━━━━\u001b[0m\u001b[37m\u001b[0m \u001b[1m139s\u001b[0m 102ms/step - loss: 0.2660 - mean_absolute_error: 0.2981 - val_loss: 0.8048 - val_mean_absolute_error: 0.4766\n",
      "Epoch 10/10\n",
      "\u001b[1m990/990\u001b[0m \u001b[32m━━━━━━━━━━━━━━━━━━━━\u001b[0m\u001b[37m\u001b[0m \u001b[1m138s\u001b[0m 98ms/step - loss: 0.2569 - mean_absolute_error: 0.2960 - val_loss: 0.7926 - val_mean_absolute_error: 0.4770\n"
     ]
    },
    {
     "data": {
      "image/png": "[encoded data removed]",
      "text/plain": [
       "<Figure size 640x480 with 1 Axes>"
      ]
     },
     "metadata": {},
     "output_type": "display_data"
    }
   ],
   "source": [
    "# Fit the model\n",
    "history = gru_model.fit(train_inputs, train_targets, validation_data=(test_inputs, test_targets), epochs=10, batch_size=1)\n",
    "\n",
    "# Plot the learning curves\n",
    "plt.plot(history.history['loss'], label='Train Loss')\n",
    "plt.plot(history.history['val_loss'], label='Validation Loss')\n",
    "plt.xlabel('Epochs')\n",
    "plt.ylabel('Loss')\n",
    "plt.legend()\n",
    "plt.show()"
   ]
  },
  {
   "cell_type": "code",
   "execution_count": 29,
   "id": "47a372ee-5223-43e4-be24-b4053004534f",
   "metadata": {
    "tags": []
   },
   "outputs": [
    {
     "name": "stdout",
     "output_type": "stream",
     "text": [
      "\u001b[1m10/10\u001b[0m \u001b[32m━━━━━━━━━━━━━━━━━━━━\u001b[0m\u001b[37m\u001b[0m \u001b[1m1s\u001b[0m 58ms/step - loss: 0.7563 - mean_absolute_error: 0.5178\n"
     ]
    }
   ],
   "source": [
    "# Evaluate the GRU model on the validation set\n",
    "eval = gru_model.evaluate(val_inputs, val_targets)"
   ]
  },
  {
   "cell_type": "code",
   "execution_count": null,
   "id": "f5ab4179-9329-420f-b3f4-424af3de5bd5",
   "metadata": {},
   "outputs": [],
   "source": []
  }
 ],
 "metadata": {
  "availableInstances": [
   {
    "_defaultOrder": 0,
    "_isFastLaunch": true,
    "category": "General purpose",
    "gpuNum": 0,
    "hideHardwareSpecs": false,
    "memoryGiB": 4,
    "name": "ml.t3.medium",
    "vcpuNum": 2
   },
   {
    "_defaultOrder": 1,
    "_isFastLaunch": false,
    "category": "General purpose",
    "gpuNum": 0,
    "hideHardwareSpecs": false,
    "memoryGiB": 8,
    "name": "ml.t3.large",
    "vcpuNum": 2
   },
   {
    "_defaultOrder": 2,
    "_isFastLaunch": false,
    "category": "General purpose",
    "gpuNum": 0,
    "hideHardwareSpecs": false,
    "memoryGiB": 16,
    "name": "ml.t3.xlarge",
    "vcpuNum": 4
   },
   {
    "_defaultOrder": 3,
    "_isFastLaunch": false,
    "category": "General purpose",
    "gpuNum": 0,
    "hideHardwareSpecs": false,
    "memoryGiB": 32,
    "name": "ml.t3.2xlarge",
    "vcpuNum": 8
   },
   {
    "_defaultOrder": 4,
    "_isFastLaunch": true,
    "category": "General purpose",
    "gpuNum": 0,
    "hideHardwareSpecs": false,
    "memoryGiB": 8,
    "name": "ml.m5.large",
    "vcpuNum": 2
   },
   {
    "_defaultOrder": 5,
    "_isFastLaunch": false,
    "category": "General purpose",
    "gpuNum": 0,
    "hideHardwareSpecs": false,
    "memoryGiB": 16,
    "name": "ml.m5.xlarge",
    "vcpuNum": 4
   },
   {
    "_defaultOrder": 6,
    "_isFastLaunch": false,
    "category": "General purpose",
    "gpuNum": 0,
    "hideHardwareSpecs": false,
    "memoryGiB": 32,
    "name": "ml.m5.2xlarge",
    "vcpuNum": 8
   },
   {
    "_defaultOrder": 7,
    "_isFastLaunch": false,
    "category": "General purpose",
    "gpuNum": 0,
    "hideHardwareSpecs": false,
    "memoryGiB": 64,
    "name": "ml.m5.4xlarge",
    "vcpuNum": 16
   },
   {
    "_defaultOrder": 8,
    "_isFastLaunch": false,
    "category": "General purpose",
    "gpuNum": 0,
    "hideHardwareSpecs": false,
    "memoryGiB": 128,
    "name": "ml.m5.8xlarge",
    "vcpuNum": 32
   },
   {
    "_defaultOrder": 9,
    "_isFastLaunch": false,
    "category": "General purpose",
    "gpuNum": 0,
    "hideHardwareSpecs": false,
    "memoryGiB": 192,
    "name": "ml.m5.12xlarge",
    "vcpuNum": 48
   },
   {
    "_defaultOrder": 10,
    "_isFastLaunch": false,
    "category": "General purpose",
    "gpuNum": 0,
    "hideHardwareSpecs": false,
    "memoryGiB": 256,
    "name": "ml.m5.16xlarge",
    "vcpuNum": 64
   },
   {
    "_defaultOrder": 11,
    "_isFastLaunch": false,
    "category": "General purpose",
    "gpuNum": 0,
    "hideHardwareSpecs": false,
    "memoryGiB": 384,
    "name": "ml.m5.24xlarge",
    "vcpuNum": 96
   },
   {
    "_defaultOrder": 12,
    "_isFastLaunch": false,
    "category": "General purpose",
    "gpuNum": 0,
    "hideHardwareSpecs": false,
    "memoryGiB": 8,
    "name": "ml.m5d.large",
    "vcpuNum": 2
   },
   {
    "_defaultOrder": 13,
    "_isFastLaunch": false,
    "category": "General purpose",
    "gpuNum": 0,
    "hideHardwareSpecs": false,
    "memoryGiB": 16,
    "name": "ml.m5d.xlarge",
    "vcpuNum": 4
   },
   {
    "_defaultOrder": 14,
    "_isFastLaunch": false,
    "category": "General purpose",
    "gpuNum": 0,
    "hideHardwareSpecs": false,
    "memoryGiB": 32,
    "name": "ml.m5d.2xlarge",
    "vcpuNum": 8
   },
   {
    "_defaultOrder": 15,
    "_isFastLaunch": false,
    "category": "General purpose",
    "gpuNum": 0,
    "hideHardwareSpecs": false,
    "memoryGiB": 64,
    "name": "ml.m5d.4xlarge",
    "vcpuNum": 16
   },
   {
    "_defaultOrder": 16,
    "_isFastLaunch": false,
    "category": "General purpose",
    "gpuNum": 0,
    "hideHardwareSpecs": false,
    "memoryGiB": 128,
    "name": "ml.m5d.8xlarge",
    "vcpuNum": 32
   },
   {
    "_defaultOrder": 17,
    "_isFastLaunch": false,
    "category": "General purpose",
    "gpuNum": 0,
    "hideHardwareSpecs": false,
    "memoryGiB": 192,
    "name": "ml.m5d.12xlarge",
    "vcpuNum": 48
   },
   {
    "_defaultOrder": 18,
    "_isFastLaunch": false,
    "category": "General purpose",
    "gpuNum": 0,
    "hideHardwareSpecs": false,
    "memoryGiB": 256,
    "name": "ml.m5d.16xlarge",
    "vcpuNum": 64
   },
   {
    "_defaultOrder": 19,
    "_isFastLaunch": false,
    "category": "General purpose",
    "gpuNum": 0,
    "hideHardwareSpecs": false,
    "memoryGiB": 384,
    "name": "ml.m5d.24xlarge",
    "vcpuNum": 96
   },
   {
    "_defaultOrder": 20,
    "_isFastLaunch": false,
    "category": "General purpose",
    "gpuNum": 0,
    "hideHardwareSpecs": true,
    "memoryGiB": 0,
    "name": "ml.geospatial.interactive",
    "supportedImageNames": [
     "sagemaker-geospatial-v1-0"
    ],
    "vcpuNum": 0
   },
   {
    "_defaultOrder": 21,
    "_isFastLaunch": true,
    "category": "Compute optimized",
    "gpuNum": 0,
    "hideHardwareSpecs": false,
    "memoryGiB": 4,
    "name": "ml.c5.large",
    "vcpuNum": 2
   },
   {
    "_defaultOrder": 22,
    "_isFastLaunch": false,
    "category": "Compute optimized",
    "gpuNum": 0,
    "hideHardwareSpecs": false,
    "memoryGiB": 8,
    "name": "ml.c5.xlarge",
    "vcpuNum": 4
   },
   {
    "_defaultOrder": 23,
    "_isFastLaunch": false,
    "category": "Compute optimized",
    "gpuNum": 0,
    "hideHardwareSpecs": false,
    "memoryGiB": 16,
    "name": "ml.c5.2xlarge",
    "vcpuNum": 8
   },
   {
    "_defaultOrder": 24,
    "_isFastLaunch": false,
    "category": "Compute optimized",
    "gpuNum": 0,
    "hideHardwareSpecs": false,
    "memoryGiB": 32,
    "name": "ml.c5.4xlarge",
    "vcpuNum": 16
   },
   {
    "_defaultOrder": 25,
    "_isFastLaunch": false,
    "category": "Compute optimized",
    "gpuNum": 0,
    "hideHardwareSpecs": false,
    "memoryGiB": 72,
    "name": "ml.c5.9xlarge",
    "vcpuNum": 36
   },
   {
    "_defaultOrder": 26,
    "_isFastLaunch": false,
    "category": "Compute optimized",
    "gpuNum": 0,
    "hideHardwareSpecs": false,
    "memoryGiB": 96,
    "name": "ml.c5.12xlarge",
    "vcpuNum": 48
   },
   {
    "_defaultOrder": 27,
    "_isFastLaunch": false,
    "category": "Compute optimized",
    "gpuNum": 0,
    "hideHardwareSpecs": false,
    "memoryGiB": 144,
    "name": "ml.c5.18xlarge",
    "vcpuNum": 72
   },
   {
    "_defaultOrder": 28,
    "_isFastLaunch": false,
    "category": "Compute optimized",
    "gpuNum": 0,
    "hideHardwareSpecs": false,
    "memoryGiB": 192,
    "name": "ml.c5.24xlarge",
    "vcpuNum": 96
   },
   {
    "_defaultOrder": 29,
    "_isFastLaunch": true,
    "category": "Accelerated computing",
    "gpuNum": 1,
    "hideHardwareSpecs": false,
    "memoryGiB": 16,
    "name": "ml.g4dn.xlarge",
    "vcpuNum": 4
   },
   {
    "_defaultOrder": 30,
    "_isFastLaunch": false,
    "category": "Accelerated computing",
    "gpuNum": 1,
    "hideHardwareSpecs": false,
    "memoryGiB": 32,
    "name": "ml.g4dn.2xlarge",
    "vcpuNum": 8
   },
   {
    "_defaultOrder": 31,
    "_isFastLaunch": false,
    "category": "Accelerated computing",
    "gpuNum": 1,
    "hideHardwareSpecs": false,
    "memoryGiB": 64,
    "name": "ml.g4dn.4xlarge",
    "vcpuNum": 16
   },
   {
    "_defaultOrder": 32,
    "_isFastLaunch": false,
    "category": "Accelerated computing",
    "gpuNum": 1,
    "hideHardwareSpecs": false,
    "memoryGiB": 128,
    "name": "ml.g4dn.8xlarge",
    "vcpuNum": 32
   },
   {
    "_defaultOrder": 33,
    "_isFastLaunch": false,
    "category": "Accelerated computing",
    "gpuNum": 4,
    "hideHardwareSpecs": false,
    "memoryGiB": 192,
    "name": "ml.g4dn.12xlarge",
    "vcpuNum": 48
   },
   {
    "_defaultOrder": 34,
    "_isFastLaunch": false,
    "category": "Accelerated computing",
    "gpuNum": 1,
    "hideHardwareSpecs": false,
    "memoryGiB": 256,
    "name": "ml.g4dn.16xlarge",
    "vcpuNum": 64
   },
   {
    "_defaultOrder": 35,
    "_isFastLaunch": false,
    "category": "Accelerated computing",
    "gpuNum": 1,
    "hideHardwareSpecs": false,
    "memoryGiB": 61,
    "name": "ml.p3.2xlarge",
    "vcpuNum": 8
   },
   {
    "_defaultOrder": 36,
    "_isFastLaunch": false,
    "category": "Accelerated computing",
    "gpuNum": 4,
    "hideHardwareSpecs": false,
    "memoryGiB": 244,
    "name": "ml.p3.8xlarge",
    "vcpuNum": 32
   },
   {
    "_defaultOrder": 37,
    "_isFastLaunch": false,
    "category": "Accelerated computing",
    "gpuNum": 8,
    "hideHardwareSpecs": false,
    "memoryGiB": 488,
    "name": "ml.p3.16xlarge",
    "vcpuNum": 64
   },
   {
    "_defaultOrder": 38,
    "_isFastLaunch": false,
    "category": "Accelerated computing",
    "gpuNum": 8,
    "hideHardwareSpecs": false,
    "memoryGiB": 768,
    "name": "ml.p3dn.24xlarge",
    "vcpuNum": 96
   },
   {
    "_defaultOrder": 39,
    "_isFastLaunch": false,
    "category": "Memory Optimized",
    "gpuNum": 0,
    "hideHardwareSpecs": false,
    "memoryGiB": 16,
    "name": "ml.r5.large",
    "vcpuNum": 2
   },
   {
    "_defaultOrder": 40,
    "_isFastLaunch": false,
    "category": "Memory Optimized",
    "gpuNum": 0,
    "hideHardwareSpecs": false,
    "memoryGiB": 32,
    "name": "ml.r5.xlarge",
    "vcpuNum": 4
   },
   {
    "_defaultOrder": 41,
    "_isFastLaunch": false,
    "category": "Memory Optimized",
    "gpuNum": 0,
    "hideHardwareSpecs": false,
    "memoryGiB": 64,
    "name": "ml.r5.2xlarge",
    "vcpuNum": 8
   },
   {
    "_defaultOrder": 42,
    "_isFastLaunch": false,
    "category": "Memory Optimized",
    "gpuNum": 0,
    "hideHardwareSpecs": false,
    "memoryGiB": 128,
    "name": "ml.r5.4xlarge",
    "vcpuNum": 16
   },
   {
    "_defaultOrder": 43,
    "_isFastLaunch": false,
    "category": "Memory Optimized",
    "gpuNum": 0,
    "hideHardwareSpecs": false,
    "memoryGiB": 256,
    "name": "ml.r5.8xlarge",
    "vcpuNum": 32
   },
   {
    "_defaultOrder": 44,
    "_isFastLaunch": false,
    "category": "Memory Optimized",
    "gpuNum": 0,
    "hideHardwareSpecs": false,
    "memoryGiB": 384,
    "name": "ml.r5.12xlarge",
    "vcpuNum": 48
   },
   {
    "_defaultOrder": 45,
    "_isFastLaunch": false,
    "category": "Memory Optimized",
    "gpuNum": 0,
    "hideHardwareSpecs": false,
    "memoryGiB": 512,
    "name": "ml.r5.16xlarge",
    "vcpuNum": 64
   },
   {
    "_defaultOrder": 46,
    "_isFastLaunch": false,
    "category": "Memory Optimized",
    "gpuNum": 0,
    "hideHardwareSpecs": false,
    "memoryGiB": 768,
    "name": "ml.r5.24xlarge",
    "vcpuNum": 96
   },
   {
    "_defaultOrder": 47,
    "_isFastLaunch": false,
    "category": "Accelerated computing",
    "gpuNum": 1,
    "hideHardwareSpecs": false,
    "memoryGiB": 16,
    "name": "ml.g5.xlarge",
    "vcpuNum": 4
   },
   {
    "_defaultOrder": 48,
    "_isFastLaunch": false,
    "category": "Accelerated computing",
    "gpuNum": 1,
    "hideHardwareSpecs": false,
    "memoryGiB": 32,
    "name": "ml.g5.2xlarge",
    "vcpuNum": 8
   },
   {
    "_defaultOrder": 49,
    "_isFastLaunch": false,
    "category": "Accelerated computing",
    "gpuNum": 1,
    "hideHardwareSpecs": false,
    "memoryGiB": 64,
    "name": "ml.g5.4xlarge",
    "vcpuNum": 16
   },
   {
    "_defaultOrder": 50,
    "_isFastLaunch": false,
    "category": "Accelerated computing",
    "gpuNum": 1,
    "hideHardwareSpecs": false,
    "memoryGiB": 128,
    "name": "ml.g5.8xlarge",
    "vcpuNum": 32
   },
   {
    "_defaultOrder": 51,
    "_isFastLaunch": false,
    "category": "Accelerated computing",
    "gpuNum": 1,
    "hideHardwareSpecs": false,
    "memoryGiB": 256,
    "name": "ml.g5.16xlarge",
    "vcpuNum": 64
   },
   {
    "_defaultOrder": 52,
    "_isFastLaunch": false,
    "category": "Accelerated computing",
    "gpuNum": 4,
    "hideHardwareSpecs": false,
    "memoryGiB": 192,
    "name": "ml.g5.12xlarge",
    "vcpuNum": 48
   },
   {
    "_defaultOrder": 53,
    "_isFastLaunch": false,
    "category": "Accelerated computing",
    "gpuNum": 4,
    "hideHardwareSpecs": false,
    "memoryGiB": 384,
    "name": "ml.g5.24xlarge",
    "vcpuNum": 96
   },
   {
    "_defaultOrder": 54,
    "_isFastLaunch": false,
    "category": "Accelerated computing",
    "gpuNum": 8,
    "hideHardwareSpecs": false,
    "memoryGiB": 768,
    "name": "ml.g5.48xlarge",
    "vcpuNum": 192
   },
   {
    "_defaultOrder": 55,
    "_isFastLaunch": false,
    "category": "Accelerated computing",
    "gpuNum": 8,
    "hideHardwareSpecs": false,
    "memoryGiB": 1152,
    "name": "ml.p4d.24xlarge",
    "vcpuNum": 96
   },
   {
    "_defaultOrder": 56,
    "_isFastLaunch": false,
    "category": "Accelerated computing",
    "gpuNum": 8,
    "hideHardwareSpecs": false,
    "memoryGiB": 1152,
    "name": "ml.p4de.24xlarge",
    "vcpuNum": 96
   },
   {
    "_defaultOrder": 57,
    "_isFastLaunch": false,
    "category": "Accelerated computing",
    "gpuNum": 0,
    "hideHardwareSpecs": false,
    "memoryGiB": 32,
    "name": "ml.trn1.2xlarge",
    "vcpuNum": 8
   },
   {
    "_defaultOrder": 58,
    "_isFastLaunch": false,
    "category": "Accelerated computing",
    "gpuNum": 0,
    "hideHardwareSpecs": false,
    "memoryGiB": 512,
    "name": "ml.trn1.32xlarge",
    "vcpuNum": 128
   },
   {
    "_defaultOrder": 59,
    "_isFastLaunch": false,
    "category": "Accelerated computing",
    "gpuNum": 0,
    "hideHardwareSpecs": false,
    "memoryGiB": 512,
    "name": "ml.trn1n.32xlarge",
    "vcpuNum": 128
   }
  ],
  "instance_type": "ml.t3.medium",
  "kernelspec": {
   "display_name": "Python 3 (Data Science 3.0)",
   "language": "python",
   "name": "python3__SAGEMAKER_INTERNAL__arn:aws:sagemaker:us-east-1:081325390199:image/sagemaker-data-science-310-v1"
  },
  "language_info": {
   "codemirror_mode": {
    "name": "ipython",
    "version": 3
   },
   "file_extension": ".py",
   "mimetype": "text/x-python",
   "name": "python",
   "nbconvert_exporter": "python",
   "pygments_lexer": "ipython3",
   "version": "3.10.6"
  }
 },
 "nbformat": 4,
 "nbformat_minor": 5
}
