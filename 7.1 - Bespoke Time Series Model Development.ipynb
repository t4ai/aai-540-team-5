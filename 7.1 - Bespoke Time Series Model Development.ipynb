{
 "cells": [
  {
   "cell_type": "code",
   "execution_count": 2,
   "id": "18017092-349c-4b8b-bfa3-608701519d9d",
   "metadata": {
    "tags": []
   },
   "outputs": [
    {
     "name": "stdout",
     "output_type": "stream",
     "text": [
      "\u001b[33mWARNING: Running pip as the 'root' user can result in broken permissions and conflicting behaviour with the system package manager. It is recommended to use a virtual environment instead: https://pip.pypa.io/warnings/venv\u001b[0m\u001b[33m\n",
      "\u001b[0m\u001b[33mWARNING: Running pip as the 'root' user can result in broken permissions and conflicting behaviour with the system package manager. It is recommended to use a virtual environment instead: https://pip.pypa.io/warnings/venv\u001b[0m\u001b[33m\n",
      "\u001b[0m\u001b[33mWARNING: Running pip as the 'root' user can result in broken permissions and conflicting behaviour with the system package manager. It is recommended to use a virtual environment instead: https://pip.pypa.io/warnings/venv\u001b[0m\u001b[33m\n",
      "\u001b[0m\u001b[33mWARNING: Running pip as the 'root' user can result in broken permissions and conflicting behaviour with the system package manager. It is recommended to use a virtual environment instead: https://pip.pypa.io/warnings/venv\u001b[0m\u001b[33m\n",
      "\u001b[0msagemaker.config INFO - Not applying SDK defaults from location: /etc/xdg/sagemaker/config.yaml\n",
      "sagemaker.config INFO - Not applying SDK defaults from location: /root/.config/sagemaker/config.yaml\n",
      "Stored 's3_datalake_path_csv' (str)\n",
      "Stored 'local_data_path_csv' (str)\n",
      "Stored 's3_datalake_path_parquet' (str)\n"
     ]
    }
   ],
   "source": [
    "# Setup environment\n",
    "%run 0-Environment_Setup.ipynb"
   ]
  },
  {
   "cell_type": "code",
   "execution_count": 6,
   "id": "4a4b74d3-ef83-41ab-9c13-0a329d4a10dd",
   "metadata": {
    "tags": []
   },
   "outputs": [
    {
     "name": "stderr",
     "output_type": "stream",
     "text": [
      "2024-10-07 06:56:33.278426: I tensorflow/core/util/port.cc:153] oneDNN custom operations are on. You may see slightly different numerical results due to floating-point round-off errors from different computation orders. To turn them off, set the environment variable `TF_ENABLE_ONEDNN_OPTS=0`.\n",
      "2024-10-07 06:56:33.280747: I external/local_xla/xla/tsl/cuda/cudart_stub.cc:32] Could not find cuda drivers on your machine, GPU will not be used.\n",
      "2024-10-07 06:56:33.284116: I external/local_xla/xla/tsl/cuda/cudart_stub.cc:32] Could not find cuda drivers on your machine, GPU will not be used.\n",
      "2024-10-07 06:56:33.293571: E external/local_xla/xla/stream_executor/cuda/cuda_fft.cc:485] Unable to register cuFFT factory: Attempting to register factory for plugin cuFFT when one has already been registered\n",
      "2024-10-07 06:56:33.309232: E external/local_xla/xla/stream_executor/cuda/cuda_dnn.cc:8454] Unable to register cuDNN factory: Attempting to register factory for plugin cuDNN when one has already been registered\n",
      "2024-10-07 06:56:33.313745: E external/local_xla/xla/stream_executor/cuda/cuda_blas.cc:1452] Unable to register cuBLAS factory: Attempting to register factory for plugin cuBLAS when one has already been registered\n",
      "2024-10-07 06:56:33.324759: I tensorflow/core/platform/cpu_feature_guard.cc:210] This TensorFlow binary is optimized to use available CPU instructions in performance-critical operations.\n",
      "To enable the following instructions: AVX2 AVX512F AVX512_VNNI FMA, in other operations, rebuild TensorFlow with the appropriate compiler flags.\n",
      "2024-10-07 06:56:34.258222: W tensorflow/compiler/tf2tensorrt/utils/py_utils.cc:38] TF-TRT Warning: Could not find TensorRT\n"
     ]
    }
   ],
   "source": [
    "import tensorflow as tf\n",
    "from tensorflow.keras.models import Sequential, Model\n",
    "from tensorflow.keras.layers import Input, Reshape, Normalization, Flatten, Dropout \n",
    "from tensorflow.keras.layers import Concatenate, GaussianNoise, Lambda\n",
    "from tensorflow.keras.layers import Dense, LSTM, TimeDistributed, RNN, GRU\n",
    "from sklearn import preprocessing"
   ]
  },
  {
   "cell_type": "code",
   "execution_count": 3,
   "id": "d91c8f3e-48cb-4c01-9d13-58207cce2882",
   "metadata": {
    "tags": []
   },
   "outputs": [
    {
     "name": "stdout",
     "output_type": "stream",
     "text": [
      "Running \n",
      "    SELECT *\n",
      "    FROM\n",
      "        \"store_sales_feature_group_offline_1728164033\"\n",
      "    ORDER BY\n",
      "        date ASC, store_nbr ASC\n",
      "    \n"
     ]
    },
    {
     "data": {
      "text/html": [
       "<div>\n",
       "<style scoped>\n",
       "    .dataframe tbody tr th:only-of-type {\n",
       "        vertical-align: middle;\n",
       "    }\n",
       "\n",
       "    .dataframe tbody tr th {\n",
       "        vertical-align: top;\n",
       "    }\n",
       "\n",
       "    .dataframe thead th {\n",
       "        text-align: right;\n",
       "    }\n",
       "</style>\n",
       "<table border=\"1\" class=\"dataframe\">\n",
       "  <thead>\n",
       "    <tr style=\"text-align: right;\">\n",
       "      <th></th>\n",
       "      <th>date</th>\n",
       "      <th>store_nbr</th>\n",
       "      <th>sales</th>\n",
       "      <th>oil</th>\n",
       "      <th>onpromotion</th>\n",
       "      <th>is_holiday</th>\n",
       "      <th>city</th>\n",
       "      <th>state</th>\n",
       "      <th>cluster</th>\n",
       "      <th>year</th>\n",
       "      <th>...</th>\n",
       "      <th>month_sin</th>\n",
       "      <th>day_cos</th>\n",
       "      <th>day_sin</th>\n",
       "      <th>dow_cos</th>\n",
       "      <th>dow_sin</th>\n",
       "      <th>sales_record_id</th>\n",
       "      <th>event_time</th>\n",
       "      <th>write_time</th>\n",
       "      <th>api_invocation_time</th>\n",
       "      <th>is_deleted</th>\n",
       "    </tr>\n",
       "  </thead>\n",
       "  <tbody>\n",
       "    <tr>\n",
       "      <th>0</th>\n",
       "      <td>2013-01-01</td>\n",
       "      <td>1</td>\n",
       "      <td>0.0</td>\n",
       "      <td>93.14</td>\n",
       "      <td>0</td>\n",
       "      <td>1</td>\n",
       "      <td>18</td>\n",
       "      <td>12</td>\n",
       "      <td>13</td>\n",
       "      <td>2013</td>\n",
       "      <td>...</td>\n",
       "      <td>0.5</td>\n",
       "      <td>0.97953</td>\n",
       "      <td>0.201299</td>\n",
       "      <td>0.62349</td>\n",
       "      <td>0.781831</td>\n",
       "      <td>2013-01-01:1</td>\n",
       "      <td>1.728164e+09</td>\n",
       "      <td>2024-10-05 21:39:49.912</td>\n",
       "      <td>2024-10-05 21:34:48.000</td>\n",
       "      <td>False</td>\n",
       "    </tr>\n",
       "    <tr>\n",
       "      <th>1</th>\n",
       "      <td>2013-01-01</td>\n",
       "      <td>2</td>\n",
       "      <td>0.0</td>\n",
       "      <td>93.14</td>\n",
       "      <td>0</td>\n",
       "      <td>1</td>\n",
       "      <td>18</td>\n",
       "      <td>12</td>\n",
       "      <td>13</td>\n",
       "      <td>2013</td>\n",
       "      <td>...</td>\n",
       "      <td>0.5</td>\n",
       "      <td>0.97953</td>\n",
       "      <td>0.201299</td>\n",
       "      <td>0.62349</td>\n",
       "      <td>0.781831</td>\n",
       "      <td>2013-01-01:2</td>\n",
       "      <td>1.728164e+09</td>\n",
       "      <td>2024-10-05 21:39:50.076</td>\n",
       "      <td>2024-10-05 21:34:48.000</td>\n",
       "      <td>False</td>\n",
       "    </tr>\n",
       "    <tr>\n",
       "      <th>2</th>\n",
       "      <td>2013-01-01</td>\n",
       "      <td>3</td>\n",
       "      <td>0.0</td>\n",
       "      <td>93.14</td>\n",
       "      <td>0</td>\n",
       "      <td>1</td>\n",
       "      <td>18</td>\n",
       "      <td>12</td>\n",
       "      <td>8</td>\n",
       "      <td>2013</td>\n",
       "      <td>...</td>\n",
       "      <td>0.5</td>\n",
       "      <td>0.97953</td>\n",
       "      <td>0.201299</td>\n",
       "      <td>0.62349</td>\n",
       "      <td>0.781831</td>\n",
       "      <td>2013-01-01:3</td>\n",
       "      <td>1.728164e+09</td>\n",
       "      <td>2024-10-05 21:39:49.967</td>\n",
       "      <td>2024-10-05 21:34:48.000</td>\n",
       "      <td>False</td>\n",
       "    </tr>\n",
       "    <tr>\n",
       "      <th>3</th>\n",
       "      <td>2013-01-01</td>\n",
       "      <td>4</td>\n",
       "      <td>0.0</td>\n",
       "      <td>93.14</td>\n",
       "      <td>0</td>\n",
       "      <td>1</td>\n",
       "      <td>18</td>\n",
       "      <td>12</td>\n",
       "      <td>9</td>\n",
       "      <td>2013</td>\n",
       "      <td>...</td>\n",
       "      <td>0.5</td>\n",
       "      <td>0.97953</td>\n",
       "      <td>0.201299</td>\n",
       "      <td>0.62349</td>\n",
       "      <td>0.781831</td>\n",
       "      <td>2013-01-01:4</td>\n",
       "      <td>1.728164e+09</td>\n",
       "      <td>2024-10-05 21:39:50.013</td>\n",
       "      <td>2024-10-05 21:34:48.000</td>\n",
       "      <td>False</td>\n",
       "    </tr>\n",
       "    <tr>\n",
       "      <th>4</th>\n",
       "      <td>2013-01-01</td>\n",
       "      <td>5</td>\n",
       "      <td>0.0</td>\n",
       "      <td>93.14</td>\n",
       "      <td>0</td>\n",
       "      <td>1</td>\n",
       "      <td>21</td>\n",
       "      <td>14</td>\n",
       "      <td>4</td>\n",
       "      <td>2013</td>\n",
       "      <td>...</td>\n",
       "      <td>0.5</td>\n",
       "      <td>0.97953</td>\n",
       "      <td>0.201299</td>\n",
       "      <td>0.62349</td>\n",
       "      <td>0.781831</td>\n",
       "      <td>2013-01-01:5</td>\n",
       "      <td>1.728164e+09</td>\n",
       "      <td>2024-10-05 21:39:50.068</td>\n",
       "      <td>2024-10-05 21:34:48.000</td>\n",
       "      <td>False</td>\n",
       "    </tr>\n",
       "  </tbody>\n",
       "</table>\n",
       "<p>5 rows × 36 columns</p>\n",
       "</div>"
      ],
      "text/plain": [
       "         date  store_nbr  sales    oil  onpromotion  is_holiday  city  state  \\\n",
       "0  2013-01-01          1    0.0  93.14            0           1    18     12   \n",
       "1  2013-01-01          2    0.0  93.14            0           1    18     12   \n",
       "2  2013-01-01          3    0.0  93.14            0           1    18     12   \n",
       "3  2013-01-01          4    0.0  93.14            0           1    18     12   \n",
       "4  2013-01-01          5    0.0  93.14            0           1    21     14   \n",
       "\n",
       "   cluster  year  ...  month_sin  day_cos   day_sin  dow_cos   dow_sin  \\\n",
       "0       13  2013  ...        0.5  0.97953  0.201299  0.62349  0.781831   \n",
       "1       13  2013  ...        0.5  0.97953  0.201299  0.62349  0.781831   \n",
       "2        8  2013  ...        0.5  0.97953  0.201299  0.62349  0.781831   \n",
       "3        9  2013  ...        0.5  0.97953  0.201299  0.62349  0.781831   \n",
       "4        4  2013  ...        0.5  0.97953  0.201299  0.62349  0.781831   \n",
       "\n",
       "   sales_record_id    event_time               write_time  \\\n",
       "0     2013-01-01:1  1.728164e+09  2024-10-05 21:39:49.912   \n",
       "1     2013-01-01:2  1.728164e+09  2024-10-05 21:39:50.076   \n",
       "2     2013-01-01:3  1.728164e+09  2024-10-05 21:39:49.967   \n",
       "3     2013-01-01:4  1.728164e+09  2024-10-05 21:39:50.013   \n",
       "4     2013-01-01:5  1.728164e+09  2024-10-05 21:39:50.068   \n",
       "\n",
       "       api_invocation_time  is_deleted  \n",
       "0  2024-10-05 21:34:48.000       False  \n",
       "1  2024-10-05 21:34:48.000       False  \n",
       "2  2024-10-05 21:34:48.000       False  \n",
       "3  2024-10-05 21:34:48.000       False  \n",
       "4  2024-10-05 21:34:48.000       False  \n",
       "\n",
       "[5 rows x 36 columns]"
      ]
     },
     "execution_count": 3,
     "metadata": {},
     "output_type": "execute_result"
    }
   ],
   "source": [
    "# Pull the data from the feature store sorted by date and then store number\n",
    "sales_features_store_df = get_store_dataset_from_offline_feature_group_date_sort(store_sales_feature_group)\n",
    "sales_features_store_df.head()"
   ]
  },
  {
   "cell_type": "code",
   "execution_count": 4,
   "id": "1920fe74-4469-42cb-9ac1-c3ce106b733b",
   "metadata": {
    "tags": []
   },
   "outputs": [],
   "source": [
    "# Drop miscellaneous info\n",
    "sales_features_store_df.drop(columns=[\"sales_record_id\", \"event_time\", \"write_time\", \"api_invocation_time\", \"is_deleted\"], inplace=True)"
   ]
  },
  {
   "cell_type": "code",
   "execution_count": 7,
   "id": "f232c260-ff8f-4ca8-a632-48dc5667c593",
   "metadata": {
    "tags": []
   },
   "outputs": [
    {
     "name": "stdout",
     "output_type": "stream",
     "text": [
      "<class 'pandas.core.frame.DataFrame'>\n",
      "RangeIndex: 90936 entries, 0 to 90935\n",
      "Data columns (total 31 columns):\n",
      " #   Column              Non-Null Count  Dtype  \n",
      "---  ------              --------------  -----  \n",
      " 0   date                90936 non-null  object \n",
      " 1   store_nbr           90936 non-null  int64  \n",
      " 2   sales               90936 non-null  float64\n",
      " 3   oil                 90936 non-null  float64\n",
      " 4   onpromotion         90936 non-null  int64  \n",
      " 5   is_holiday          90936 non-null  int64  \n",
      " 6   city                90936 non-null  int64  \n",
      " 7   state               90936 non-null  int64  \n",
      " 8   cluster             90936 non-null  int64  \n",
      " 9   year                90936 non-null  int64  \n",
      " 10  month               90936 non-null  int64  \n",
      " 11  day                 90936 non-null  int64  \n",
      " 12  dow                 90936 non-null  int64  \n",
      " 13  city-state          90936 non-null  object \n",
      " 14  city-state-cluster  90936 non-null  object \n",
      " 15  hash_0              90936 non-null  float64\n",
      " 16  hash_1              90936 non-null  float64\n",
      " 17  hash_2              90936 non-null  float64\n",
      " 18  hash_3              90936 non-null  float64\n",
      " 19  hash_4              90936 non-null  float64\n",
      " 20  hash_5              90936 non-null  float64\n",
      " 21  hash_6              90936 non-null  float64\n",
      " 22  hash_7              90936 non-null  float64\n",
      " 23  hash_8              90936 non-null  float64\n",
      " 24  hash_9              90936 non-null  float64\n",
      " 25  month_cos           90936 non-null  float64\n",
      " 26  month_sin           90936 non-null  float64\n",
      " 27  day_cos             90936 non-null  float64\n",
      " 28  day_sin             90936 non-null  float64\n",
      " 29  dow_cos             90936 non-null  float64\n",
      " 30  dow_sin             90936 non-null  float64\n",
      "dtypes: float64(18), int64(10), object(3)\n",
      "memory usage: 21.5+ MB\n"
     ]
    }
   ],
   "source": [
    "sales_features_store_df.info()"
   ]
  },
  {
   "cell_type": "code",
   "execution_count": 8,
   "id": "15976a04-68ff-4009-ae25-a829cd7088ba",
   "metadata": {
    "tags": []
   },
   "outputs": [
    {
     "data": {
      "text/plain": [
       "0    [0.0, 93.14, 0, 0.8660254037844387, 0.49999999...\n",
       "1    [0.0, 93.14, 0, 0.8660254037844387, 0.49999999...\n",
       "2    [0.0, 93.14, 0, 0.8660254037844387, 0.49999999...\n",
       "3    [0.0, 93.14, 0, 0.8660254037844387, 0.49999999...\n",
       "4    [0.0, 93.14, 0, 0.8660254037844387, 0.49999999...\n",
       "dtype: object"
      ]
     },
     "execution_count": 8,
     "metadata": {},
     "output_type": "execute_result"
    }
   ],
   "source": [
    "# Perform feature selection\n",
    "def get_store_features(row):\n",
    "    return [\n",
    "      row[\"sales\"], \n",
    "      row[\"oil\"], \n",
    "      row[\"onpromotion\"],\n",
    "      # row[\"is_holiday\"], \n",
    "      # row[\"hash_0\"], \n",
    "      # row[\"hash_1\"], \n",
    "      # row[\"hash_2\"], \n",
    "      # row[\"hash_3\"], \n",
    "      # row[\"hash_4\"], \n",
    "      # row[\"hash_5\"], \n",
    "      # row[\"hash_6\"], \n",
    "      # row[\"hash_7\"], \n",
    "      # row[\"hash_8\"], \n",
    "      # row[\"hash_9\"], \n",
    "      row[\"month_cos\"],\n",
    "      row[\"month_sin\"],\n",
    "      row[\"day_cos\"],\n",
    "      row[\"day_sin\"],\n",
    "      # row[\"dow_cos\"],\n",
    "      # row[\"dow_sin\"]\n",
    "]\n",
    "\n",
    "sales_features_store_df.head().apply(get_store_features, axis=1)"
   ]
  },
  {
   "cell_type": "code",
   "execution_count": 9,
   "id": "9d57cdd2-f686-4f77-a10f-84facea1b32f",
   "metadata": {
    "tags": []
   },
   "outputs": [],
   "source": [
    "# Apply to the whole dataframe\n",
    "sales_features_store_df[\"features\"] = sales_features_store_df.apply(get_store_features, axis=1)"
   ]
  },
  {
   "cell_type": "code",
   "execution_count": 10,
   "id": "dce86ed5-db90-442e-a904-39e611b6665d",
   "metadata": {
    "tags": []
   },
   "outputs": [
    {
     "data": {
      "text/html": [
       "<div>\n",
       "<style scoped>\n",
       "    .dataframe tbody tr th:only-of-type {\n",
       "        vertical-align: middle;\n",
       "    }\n",
       "\n",
       "    .dataframe tbody tr th {\n",
       "        vertical-align: top;\n",
       "    }\n",
       "\n",
       "    .dataframe thead th {\n",
       "        text-align: right;\n",
       "    }\n",
       "</style>\n",
       "<table border=\"1\" class=\"dataframe\">\n",
       "  <thead>\n",
       "    <tr style=\"text-align: right;\">\n",
       "      <th></th>\n",
       "      <th>date</th>\n",
       "      <th>store_nbr</th>\n",
       "      <th>features</th>\n",
       "    </tr>\n",
       "  </thead>\n",
       "  <tbody>\n",
       "    <tr>\n",
       "      <th>0</th>\n",
       "      <td>2013-01-01</td>\n",
       "      <td>1</td>\n",
       "      <td>[0.0, 93.14, 0, 0.8660254037844387, 0.49999999...</td>\n",
       "    </tr>\n",
       "    <tr>\n",
       "      <th>1</th>\n",
       "      <td>2013-01-01</td>\n",
       "      <td>2</td>\n",
       "      <td>[0.0, 93.14, 0, 0.8660254037844387, 0.49999999...</td>\n",
       "    </tr>\n",
       "    <tr>\n",
       "      <th>2</th>\n",
       "      <td>2013-01-01</td>\n",
       "      <td>3</td>\n",
       "      <td>[0.0, 93.14, 0, 0.8660254037844387, 0.49999999...</td>\n",
       "    </tr>\n",
       "    <tr>\n",
       "      <th>3</th>\n",
       "      <td>2013-01-01</td>\n",
       "      <td>4</td>\n",
       "      <td>[0.0, 93.14, 0, 0.8660254037844387, 0.49999999...</td>\n",
       "    </tr>\n",
       "    <tr>\n",
       "      <th>4</th>\n",
       "      <td>2013-01-01</td>\n",
       "      <td>5</td>\n",
       "      <td>[0.0, 93.14, 0, 0.8660254037844387, 0.49999999...</td>\n",
       "    </tr>\n",
       "  </tbody>\n",
       "</table>\n",
       "</div>"
      ],
      "text/plain": [
       "         date  store_nbr                                           features\n",
       "0  2013-01-01          1  [0.0, 93.14, 0, 0.8660254037844387, 0.49999999...\n",
       "1  2013-01-01          2  [0.0, 93.14, 0, 0.8660254037844387, 0.49999999...\n",
       "2  2013-01-01          3  [0.0, 93.14, 0, 0.8660254037844387, 0.49999999...\n",
       "3  2013-01-01          4  [0.0, 93.14, 0, 0.8660254037844387, 0.49999999...\n",
       "4  2013-01-01          5  [0.0, 93.14, 0, 0.8660254037844387, 0.49999999..."
      ]
     },
     "execution_count": 10,
     "metadata": {},
     "output_type": "execute_result"
    }
   ],
   "source": [
    "# Drop everything except the store number, date, and selected features\n",
    "drop_columns = [col for col in sales_features_store_df.columns if col not in [\"date\", \"store_nbr\", \"features\"]]\n",
    "sales_features_store_df.drop(columns=drop_columns, inplace=True)\n",
    "sales_features_store_df.head()"
   ]
  },
  {
   "cell_type": "code",
   "execution_count": 11,
   "id": "3f4d142b-c079-4cbe-9d0a-a5fd7d18f0e1",
   "metadata": {
    "tags": []
   },
   "outputs": [
    {
     "data": {
      "text/html": [
       "<div>\n",
       "<style scoped>\n",
       "    .dataframe tbody tr th:only-of-type {\n",
       "        vertical-align: middle;\n",
       "    }\n",
       "\n",
       "    .dataframe tbody tr th {\n",
       "        vertical-align: top;\n",
       "    }\n",
       "\n",
       "    .dataframe thead th {\n",
       "        text-align: right;\n",
       "    }\n",
       "</style>\n",
       "<table border=\"1\" class=\"dataframe\">\n",
       "  <thead>\n",
       "    <tr style=\"text-align: right;\">\n",
       "      <th>date</th>\n",
       "      <th>2013-01-01</th>\n",
       "      <th>2013-01-02</th>\n",
       "      <th>2013-01-03</th>\n",
       "      <th>2013-01-04</th>\n",
       "      <th>2013-01-05</th>\n",
       "      <th>2013-01-06</th>\n",
       "      <th>2013-01-07</th>\n",
       "      <th>2013-01-08</th>\n",
       "      <th>2013-01-09</th>\n",
       "      <th>2013-01-10</th>\n",
       "      <th>...</th>\n",
       "      <th>2017-08-06</th>\n",
       "      <th>2017-08-07</th>\n",
       "      <th>2017-08-08</th>\n",
       "      <th>2017-08-09</th>\n",
       "      <th>2017-08-10</th>\n",
       "      <th>2017-08-11</th>\n",
       "      <th>2017-08-12</th>\n",
       "      <th>2017-08-13</th>\n",
       "      <th>2017-08-14</th>\n",
       "      <th>2017-08-15</th>\n",
       "    </tr>\n",
       "    <tr>\n",
       "      <th>store_nbr</th>\n",
       "      <th></th>\n",
       "      <th></th>\n",
       "      <th></th>\n",
       "      <th></th>\n",
       "      <th></th>\n",
       "      <th></th>\n",
       "      <th></th>\n",
       "      <th></th>\n",
       "      <th></th>\n",
       "      <th></th>\n",
       "      <th></th>\n",
       "      <th></th>\n",
       "      <th></th>\n",
       "      <th></th>\n",
       "      <th></th>\n",
       "      <th></th>\n",
       "      <th></th>\n",
       "      <th></th>\n",
       "      <th></th>\n",
       "      <th></th>\n",
       "      <th></th>\n",
       "    </tr>\n",
       "  </thead>\n",
       "  <tbody>\n",
       "    <tr>\n",
       "      <th>1</th>\n",
       "      <td>[0.0, 93.14, 0, 0.8660254037844387, 0.49999999...</td>\n",
       "      <td>[7417.15, 93.14, 0, 0.8660254037844387, 0.4999...</td>\n",
       "      <td>[5873.24, 92.97, 0, 0.8660254037844387, 0.4999...</td>\n",
       "      <td>[5919.88, 93.12, 0, 0.8660254037844387, 0.4999...</td>\n",
       "      <td>[6318.79, 93.12, 0, 0.8660254037844387, 0.4999...</td>\n",
       "      <td>[2199.09, 93.12, 0, 0.8660254037844387, 0.4999...</td>\n",
       "      <td>[6150.92, 93.2, 0, 0.8660254037844387, 0.49999...</td>\n",
       "      <td>[5597.18, 93.21, 0, 0.8660254037844387, 0.4999...</td>\n",
       "      <td>[6808.58, 93.08, 0, 0.8660254037844387, 0.4999...</td>\n",
       "      <td>[4757.71, 93.81, 0, 0.8660254037844387, 0.4999...</td>\n",
       "      <td>...</td>\n",
       "      <td>[4409.25, 49.57, 29, -0.5000000000000004, -0.8...</td>\n",
       "      <td>[10538.14, 49.37, 44, -0.5000000000000004, -0....</td>\n",
       "      <td>[11070.76, 49.07, 35, -0.5000000000000004, -0....</td>\n",
       "      <td>[12583.65, 49.59, 212, -0.5000000000000004, -0...</td>\n",
       "      <td>[10834.58, 48.54, 31, -0.5000000000000004, -0....</td>\n",
       "      <td>[5403.74, 48.81, 38, -0.5000000000000004, -0.8...</td>\n",
       "      <td>[7543.62, 48.81, 28, -0.5000000000000004, -0.8...</td>\n",
       "      <td>[3902.78, 48.81, 19, -0.5000000000000004, -0.8...</td>\n",
       "      <td>[10433.31, 47.59, 30, -0.5000000000000004, -0....</td>\n",
       "      <td>[9823.55, 47.57, 29, -0.5000000000000004, -0.8...</td>\n",
       "    </tr>\n",
       "    <tr>\n",
       "      <th>2</th>\n",
       "      <td>[0.0, 93.14, 0, 0.8660254037844387, 0.49999999...</td>\n",
       "      <td>[10266.72, 93.14, 0, 0.8660254037844387, 0.499...</td>\n",
       "      <td>[7612.54, 92.97, 0, 0.8660254037844387, 0.4999...</td>\n",
       "      <td>[7526.38, 93.12, 0, 0.8660254037844387, 0.4999...</td>\n",
       "      <td>[9539.57, 93.12, 0, 0.8660254037844387, 0.4999...</td>\n",
       "      <td>[10322.39, 93.12, 0, 0.8660254037844387, 0.499...</td>\n",
       "      <td>[6675.97, 93.2, 0, 0.8660254037844387, 0.49999...</td>\n",
       "      <td>[6109.57, 93.21, 0, 0.8660254037844387, 0.4999...</td>\n",
       "      <td>[6740.52, 93.08, 0, 0.8660254037844387, 0.4999...</td>\n",
       "      <td>[5565.04, 93.81, 0, 0.8660254037844387, 0.4999...</td>\n",
       "      <td>...</td>\n",
       "      <td>[16987.57, 49.57, 43, -0.5000000000000004, -0....</td>\n",
       "      <td>[12382.45, 49.37, 39, -0.5000000000000004, -0....</td>\n",
       "      <td>[11304.55, 49.07, 38, -0.5000000000000004, -0....</td>\n",
       "      <td>[12615.75, 49.59, 213, -0.5000000000000004, -0...</td>\n",
       "      <td>[11317.83, 48.54, 26, -0.5000000000000004, -0....</td>\n",
       "      <td>[13081.77, 48.81, 57, -0.5000000000000004, -0....</td>\n",
       "      <td>[12382.42, 48.81, 33, -0.5000000000000004, -0....</td>\n",
       "      <td>[13766.82, 48.81, 32, -0.5000000000000004, -0....</td>\n",
       "      <td>[12211.46, 47.59, 36, -0.5000000000000004, -0....</td>\n",
       "      <td>[11196.26, 47.57, 33, -0.5000000000000004, -0....</td>\n",
       "    </tr>\n",
       "    <tr>\n",
       "      <th>3</th>\n",
       "      <td>[0.0, 93.14, 0, 0.8660254037844387, 0.49999999...</td>\n",
       "      <td>[24060.35, 93.14, 0, 0.8660254037844387, 0.499...</td>\n",
       "      <td>[18570.75, 92.97, 0, 0.8660254037844387, 0.499...</td>\n",
       "      <td>[17392.1, 93.12, 0, 0.8660254037844387, 0.4999...</td>\n",
       "      <td>[22700.87, 93.12, 0, 0.8660254037844387, 0.499...</td>\n",
       "      <td>[25343.62, 93.12, 0, 0.8660254037844387, 0.499...</td>\n",
       "      <td>[17036.25, 93.2, 0, 0.8660254037844387, 0.4999...</td>\n",
       "      <td>[14220.42, 93.21, 0, 0.8660254037844387, 0.499...</td>\n",
       "      <td>[14735.15, 93.08, 0, 0.8660254037844387, 0.499...</td>\n",
       "      <td>[12222.91, 93.81, 0, 0.8660254037844387, 0.499...</td>\n",
       "      <td>...</td>\n",
       "      <td>[42005.37, 49.57, 43, -0.5000000000000004, -0....</td>\n",
       "      <td>[32074.15, 49.37, 41, -0.5000000000000004, -0....</td>\n",
       "      <td>[28450.84, 49.07, 40, -0.5000000000000004, -0....</td>\n",
       "      <td>[32962.39, 49.59, 222, -0.5000000000000004, -0...</td>\n",
       "      <td>[26035.93, 48.54, 30, -0.5000000000000004, -0....</td>\n",
       "      <td>[32885.76, 48.81, 67, -0.5000000000000004, -0....</td>\n",
       "      <td>[31903.48, 48.81, 34, -0.5000000000000004, -0....</td>\n",
       "      <td>[34845.12, 48.81, 36, -0.5000000000000004, -0....</td>\n",
       "      <td>[32843.7, 47.59, 34, -0.5000000000000004, -0.8...</td>\n",
       "      <td>[30185.6, 47.57, 33, -0.5000000000000004, -0.8...</td>\n",
       "    </tr>\n",
       "    <tr>\n",
       "      <th>4</th>\n",
       "      <td>[0.0, 93.14, 0, 0.8660254037844387, 0.49999999...</td>\n",
       "      <td>[10200.08, 93.14, 0, 0.8660254037844387, 0.499...</td>\n",
       "      <td>[7400.25, 92.97, 0, 0.8660254037844387, 0.4999...</td>\n",
       "      <td>[6902.05, 93.12, 0, 0.8660254037844387, 0.4999...</td>\n",
       "      <td>[9948.38, 93.12, 0, 0.8660254037844387, 0.4999...</td>\n",
       "      <td>[11679.69, 93.12, 0, 0.8660254037844387, 0.499...</td>\n",
       "      <td>[6748.2, 93.2, 0, 0.8660254037844387, 0.499999...</td>\n",
       "      <td>[6017.61, 93.21, 0, 0.8660254037844387, 0.4999...</td>\n",
       "      <td>[5867.88, 93.08, 0, 0.8660254037844387, 0.4999...</td>\n",
       "      <td>[4674.25, 93.81, 0, 0.8660254037844387, 0.4999...</td>\n",
       "      <td>...</td>\n",
       "      <td>[16801.05, 49.57, 32, -0.5000000000000004, -0....</td>\n",
       "      <td>[10214.14, 49.37, 29, -0.5000000000000004, -0....</td>\n",
       "      <td>[9760.27, 49.07, 32, -0.5000000000000004, -0.8...</td>\n",
       "      <td>[10671.73, 49.59, 198, -0.5000000000000004, -0...</td>\n",
       "      <td>[8623.36, 48.54, 24, -0.5000000000000004, -0.8...</td>\n",
       "      <td>[10819.54, 48.81, 54, -0.5000000000000004, -0....</td>\n",
       "      <td>[10622.3, 48.81, 30, -0.5000000000000004, -0.8...</td>\n",
       "      <td>[13065.9, 48.81, 28, -0.5000000000000004, -0.8...</td>\n",
       "      <td>[10911.89, 47.59, 29, -0.5000000000000004, -0....</td>\n",
       "      <td>[9709.09, 47.57, 31, -0.5000000000000004, -0.8...</td>\n",
       "    </tr>\n",
       "    <tr>\n",
       "      <th>5</th>\n",
       "      <td>[0.0, 93.14, 0, 0.8660254037844387, 0.49999999...</td>\n",
       "      <td>[10598.62, 93.14, 0, 0.8660254037844387, 0.499...</td>\n",
       "      <td>[7770.97, 92.97, 0, 0.8660254037844387, 0.4999...</td>\n",
       "      <td>[7347.64, 93.12, 0, 0.8660254037844387, 0.4999...</td>\n",
       "      <td>[8192.6, 93.12, 0, 0.8660254037844387, 0.49999...</td>\n",
       "      <td>[10843.23, 93.12, 0, 0.8660254037844387, 0.499...</td>\n",
       "      <td>[6468.32, 93.2, 0, 0.8660254037844387, 0.49999...</td>\n",
       "      <td>[6427.86, 93.21, 0, 0.8660254037844387, 0.4999...</td>\n",
       "      <td>[6057.11, 93.08, 0, 0.8660254037844387, 0.4999...</td>\n",
       "      <td>[5950.81, 93.81, 0, 0.8660254037844387, 0.4999...</td>\n",
       "      <td>...</td>\n",
       "      <td>[11264.56, 49.57, 37, -0.5000000000000004, -0....</td>\n",
       "      <td>[10011.66, 49.37, 42, -0.5000000000000004, -0....</td>\n",
       "      <td>[7868.12, 49.07, 38, -0.5000000000000004, -0.8...</td>\n",
       "      <td>[9326.66, 49.59, 176, -0.5000000000000004, -0....</td>\n",
       "      <td>[8910.07, 48.54, 33, -0.5000000000000004, -0.8...</td>\n",
       "      <td>[9510.87, 48.81, 59, -0.5000000000000004, -0.8...</td>\n",
       "      <td>[8157.07, 48.81, 31, -0.5000000000000004, -0.8...</td>\n",
       "      <td>[10044.82, 48.81, 31, -0.5000000000000004, -0....</td>\n",
       "      <td>[9011.57, 47.59, 32, -0.5000000000000004, -0.8...</td>\n",
       "      <td>[8703.69, 47.57, 26, -0.5000000000000004, -0.8...</td>\n",
       "    </tr>\n",
       "  </tbody>\n",
       "</table>\n",
       "<p>5 rows × 1684 columns</p>\n",
       "</div>"
      ],
      "text/plain": [
       "date                                              2013-01-01  \\\n",
       "store_nbr                                                      \n",
       "1          [0.0, 93.14, 0, 0.8660254037844387, 0.49999999...   \n",
       "2          [0.0, 93.14, 0, 0.8660254037844387, 0.49999999...   \n",
       "3          [0.0, 93.14, 0, 0.8660254037844387, 0.49999999...   \n",
       "4          [0.0, 93.14, 0, 0.8660254037844387, 0.49999999...   \n",
       "5          [0.0, 93.14, 0, 0.8660254037844387, 0.49999999...   \n",
       "\n",
       "date                                              2013-01-02  \\\n",
       "store_nbr                                                      \n",
       "1          [7417.15, 93.14, 0, 0.8660254037844387, 0.4999...   \n",
       "2          [10266.72, 93.14, 0, 0.8660254037844387, 0.499...   \n",
       "3          [24060.35, 93.14, 0, 0.8660254037844387, 0.499...   \n",
       "4          [10200.08, 93.14, 0, 0.8660254037844387, 0.499...   \n",
       "5          [10598.62, 93.14, 0, 0.8660254037844387, 0.499...   \n",
       "\n",
       "date                                              2013-01-03  \\\n",
       "store_nbr                                                      \n",
       "1          [5873.24, 92.97, 0, 0.8660254037844387, 0.4999...   \n",
       "2          [7612.54, 92.97, 0, 0.8660254037844387, 0.4999...   \n",
       "3          [18570.75, 92.97, 0, 0.8660254037844387, 0.499...   \n",
       "4          [7400.25, 92.97, 0, 0.8660254037844387, 0.4999...   \n",
       "5          [7770.97, 92.97, 0, 0.8660254037844387, 0.4999...   \n",
       "\n",
       "date                                              2013-01-04  \\\n",
       "store_nbr                                                      \n",
       "1          [5919.88, 93.12, 0, 0.8660254037844387, 0.4999...   \n",
       "2          [7526.38, 93.12, 0, 0.8660254037844387, 0.4999...   \n",
       "3          [17392.1, 93.12, 0, 0.8660254037844387, 0.4999...   \n",
       "4          [6902.05, 93.12, 0, 0.8660254037844387, 0.4999...   \n",
       "5          [7347.64, 93.12, 0, 0.8660254037844387, 0.4999...   \n",
       "\n",
       "date                                              2013-01-05  \\\n",
       "store_nbr                                                      \n",
       "1          [6318.79, 93.12, 0, 0.8660254037844387, 0.4999...   \n",
       "2          [9539.57, 93.12, 0, 0.8660254037844387, 0.4999...   \n",
       "3          [22700.87, 93.12, 0, 0.8660254037844387, 0.499...   \n",
       "4          [9948.38, 93.12, 0, 0.8660254037844387, 0.4999...   \n",
       "5          [8192.6, 93.12, 0, 0.8660254037844387, 0.49999...   \n",
       "\n",
       "date                                              2013-01-06  \\\n",
       "store_nbr                                                      \n",
       "1          [2199.09, 93.12, 0, 0.8660254037844387, 0.4999...   \n",
       "2          [10322.39, 93.12, 0, 0.8660254037844387, 0.499...   \n",
       "3          [25343.62, 93.12, 0, 0.8660254037844387, 0.499...   \n",
       "4          [11679.69, 93.12, 0, 0.8660254037844387, 0.499...   \n",
       "5          [10843.23, 93.12, 0, 0.8660254037844387, 0.499...   \n",
       "\n",
       "date                                              2013-01-07  \\\n",
       "store_nbr                                                      \n",
       "1          [6150.92, 93.2, 0, 0.8660254037844387, 0.49999...   \n",
       "2          [6675.97, 93.2, 0, 0.8660254037844387, 0.49999...   \n",
       "3          [17036.25, 93.2, 0, 0.8660254037844387, 0.4999...   \n",
       "4          [6748.2, 93.2, 0, 0.8660254037844387, 0.499999...   \n",
       "5          [6468.32, 93.2, 0, 0.8660254037844387, 0.49999...   \n",
       "\n",
       "date                                              2013-01-08  \\\n",
       "store_nbr                                                      \n",
       "1          [5597.18, 93.21, 0, 0.8660254037844387, 0.4999...   \n",
       "2          [6109.57, 93.21, 0, 0.8660254037844387, 0.4999...   \n",
       "3          [14220.42, 93.21, 0, 0.8660254037844387, 0.499...   \n",
       "4          [6017.61, 93.21, 0, 0.8660254037844387, 0.4999...   \n",
       "5          [6427.86, 93.21, 0, 0.8660254037844387, 0.4999...   \n",
       "\n",
       "date                                              2013-01-09  \\\n",
       "store_nbr                                                      \n",
       "1          [6808.58, 93.08, 0, 0.8660254037844387, 0.4999...   \n",
       "2          [6740.52, 93.08, 0, 0.8660254037844387, 0.4999...   \n",
       "3          [14735.15, 93.08, 0, 0.8660254037844387, 0.499...   \n",
       "4          [5867.88, 93.08, 0, 0.8660254037844387, 0.4999...   \n",
       "5          [6057.11, 93.08, 0, 0.8660254037844387, 0.4999...   \n",
       "\n",
       "date                                              2013-01-10  ...  \\\n",
       "store_nbr                                                     ...   \n",
       "1          [4757.71, 93.81, 0, 0.8660254037844387, 0.4999...  ...   \n",
       "2          [5565.04, 93.81, 0, 0.8660254037844387, 0.4999...  ...   \n",
       "3          [12222.91, 93.81, 0, 0.8660254037844387, 0.499...  ...   \n",
       "4          [4674.25, 93.81, 0, 0.8660254037844387, 0.4999...  ...   \n",
       "5          [5950.81, 93.81, 0, 0.8660254037844387, 0.4999...  ...   \n",
       "\n",
       "date                                              2017-08-06  \\\n",
       "store_nbr                                                      \n",
       "1          [4409.25, 49.57, 29, -0.5000000000000004, -0.8...   \n",
       "2          [16987.57, 49.57, 43, -0.5000000000000004, -0....   \n",
       "3          [42005.37, 49.57, 43, -0.5000000000000004, -0....   \n",
       "4          [16801.05, 49.57, 32, -0.5000000000000004, -0....   \n",
       "5          [11264.56, 49.57, 37, -0.5000000000000004, -0....   \n",
       "\n",
       "date                                              2017-08-07  \\\n",
       "store_nbr                                                      \n",
       "1          [10538.14, 49.37, 44, -0.5000000000000004, -0....   \n",
       "2          [12382.45, 49.37, 39, -0.5000000000000004, -0....   \n",
       "3          [32074.15, 49.37, 41, -0.5000000000000004, -0....   \n",
       "4          [10214.14, 49.37, 29, -0.5000000000000004, -0....   \n",
       "5          [10011.66, 49.37, 42, -0.5000000000000004, -0....   \n",
       "\n",
       "date                                              2017-08-08  \\\n",
       "store_nbr                                                      \n",
       "1          [11070.76, 49.07, 35, -0.5000000000000004, -0....   \n",
       "2          [11304.55, 49.07, 38, -0.5000000000000004, -0....   \n",
       "3          [28450.84, 49.07, 40, -0.5000000000000004, -0....   \n",
       "4          [9760.27, 49.07, 32, -0.5000000000000004, -0.8...   \n",
       "5          [7868.12, 49.07, 38, -0.5000000000000004, -0.8...   \n",
       "\n",
       "date                                              2017-08-09  \\\n",
       "store_nbr                                                      \n",
       "1          [12583.65, 49.59, 212, -0.5000000000000004, -0...   \n",
       "2          [12615.75, 49.59, 213, -0.5000000000000004, -0...   \n",
       "3          [32962.39, 49.59, 222, -0.5000000000000004, -0...   \n",
       "4          [10671.73, 49.59, 198, -0.5000000000000004, -0...   \n",
       "5          [9326.66, 49.59, 176, -0.5000000000000004, -0....   \n",
       "\n",
       "date                                              2017-08-10  \\\n",
       "store_nbr                                                      \n",
       "1          [10834.58, 48.54, 31, -0.5000000000000004, -0....   \n",
       "2          [11317.83, 48.54, 26, -0.5000000000000004, -0....   \n",
       "3          [26035.93, 48.54, 30, -0.5000000000000004, -0....   \n",
       "4          [8623.36, 48.54, 24, -0.5000000000000004, -0.8...   \n",
       "5          [8910.07, 48.54, 33, -0.5000000000000004, -0.8...   \n",
       "\n",
       "date                                              2017-08-11  \\\n",
       "store_nbr                                                      \n",
       "1          [5403.74, 48.81, 38, -0.5000000000000004, -0.8...   \n",
       "2          [13081.77, 48.81, 57, -0.5000000000000004, -0....   \n",
       "3          [32885.76, 48.81, 67, -0.5000000000000004, -0....   \n",
       "4          [10819.54, 48.81, 54, -0.5000000000000004, -0....   \n",
       "5          [9510.87, 48.81, 59, -0.5000000000000004, -0.8...   \n",
       "\n",
       "date                                              2017-08-12  \\\n",
       "store_nbr                                                      \n",
       "1          [7543.62, 48.81, 28, -0.5000000000000004, -0.8...   \n",
       "2          [12382.42, 48.81, 33, -0.5000000000000004, -0....   \n",
       "3          [31903.48, 48.81, 34, -0.5000000000000004, -0....   \n",
       "4          [10622.3, 48.81, 30, -0.5000000000000004, -0.8...   \n",
       "5          [8157.07, 48.81, 31, -0.5000000000000004, -0.8...   \n",
       "\n",
       "date                                              2017-08-13  \\\n",
       "store_nbr                                                      \n",
       "1          [3902.78, 48.81, 19, -0.5000000000000004, -0.8...   \n",
       "2          [13766.82, 48.81, 32, -0.5000000000000004, -0....   \n",
       "3          [34845.12, 48.81, 36, -0.5000000000000004, -0....   \n",
       "4          [13065.9, 48.81, 28, -0.5000000000000004, -0.8...   \n",
       "5          [10044.82, 48.81, 31, -0.5000000000000004, -0....   \n",
       "\n",
       "date                                              2017-08-14  \\\n",
       "store_nbr                                                      \n",
       "1          [10433.31, 47.59, 30, -0.5000000000000004, -0....   \n",
       "2          [12211.46, 47.59, 36, -0.5000000000000004, -0....   \n",
       "3          [32843.7, 47.59, 34, -0.5000000000000004, -0.8...   \n",
       "4          [10911.89, 47.59, 29, -0.5000000000000004, -0....   \n",
       "5          [9011.57, 47.59, 32, -0.5000000000000004, -0.8...   \n",
       "\n",
       "date                                              2017-08-15  \n",
       "store_nbr                                                     \n",
       "1          [9823.55, 47.57, 29, -0.5000000000000004, -0.8...  \n",
       "2          [11196.26, 47.57, 33, -0.5000000000000004, -0....  \n",
       "3          [30185.6, 47.57, 33, -0.5000000000000004, -0.8...  \n",
       "4          [9709.09, 47.57, 31, -0.5000000000000004, -0.8...  \n",
       "5          [8703.69, 47.57, 26, -0.5000000000000004, -0.8...  \n",
       "\n",
       "[5 rows x 1684 columns]"
      ]
     },
     "execution_count": 11,
     "metadata": {},
     "output_type": "execute_result"
    }
   ],
   "source": [
    "# Pivot the data to be in the format (store number, date, features)\n",
    "sales_data_pivoted = sales_features_store_df.pivot(index=\"store_nbr\", columns=\"date\", values=\"features\")\n",
    "sales_data_pivoted.head()"
   ]
  },
  {
   "cell_type": "code",
   "execution_count": 12,
   "id": "d742b6b9-3f4e-4cd3-91b0-6a3e7b92198e",
   "metadata": {
    "tags": []
   },
   "outputs": [
    {
     "data": {
      "text/plain": [
       "(54, 1684, 7)"
      ]
     },
     "execution_count": 12,
     "metadata": {},
     "output_type": "execute_result"
    }
   ],
   "source": [
    "# Convert the data to an array\n",
    "stacked_sales_data = np.array(sales_data_pivoted.values.tolist())\n",
    "stacked_sales_data.shape"
   ]
  },
  {
   "cell_type": "code",
   "execution_count": 19,
   "id": "a85251c5-5c67-4125-bb69-62b8d6bf2610",
   "metadata": {
    "tags": []
   },
   "outputs": [
    {
     "name": "stdout",
     "output_type": "stream",
     "text": [
      "Train data shape: (54, 1010, 7)\n",
      "Test data shape: (54, 337, 7)\n",
      "Validation data shape: (54, 337, 7)\n"
     ]
    }
   ],
   "source": [
    "# Split the data into test/train/val sets with a 60/20/20 split\n",
    "n = stacked_sales_data.shape[1]\n",
    "train_data = stacked_sales_data[:, :int(n*0.6), :]\n",
    "test_data = stacked_sales_data[:, int(n*0.6):int(n*0.8), :]\n",
    "val_data = stacked_sales_data[:, int(n*0.8):, :]\n",
    "print(f\"Train data shape: {train_data.shape}\")\n",
    "print(f\"Test data shape: {test_data.shape}\")\n",
    "print(f\"Validation data shape: {val_data.shape}\")"
   ]
  },
  {
   "cell_type": "code",
   "execution_count": 20,
   "id": "5196a6c1-f224-41d2-8581-72bdee265253",
   "metadata": {
    "tags": []
   },
   "outputs": [
    {
     "name": "stdout",
     "output_type": "stream",
     "text": [
      "[9754.29461184   83.15427319   11.49229923] [8771.22271946   22.17583982   29.16430315]\n"
     ]
    }
   ],
   "source": [
    "# Get the mean and standard deviation for normalization\n",
    "scaler = preprocessing.StandardScaler()\n",
    "train_data_2d = train_data.reshape(-1, train_data.shape[2])\n",
    "scaler.fit(train_data_2d[:, :3])\n",
    "\n",
    "global_mean = scaler.mean_\n",
    "global_stddev = scaler.scale_\n",
    "\n",
    "print(global_mean, global_stddev)\n",
    "\n",
    "# train_data_2d = train_data.reshape(-1, train_data.shape[2])\n",
    "# test_data_2d = test_data.reshape(-1, test_data.shape[2])\n",
    "# val_data_2d = val_data.reshape(-1, val_data.shape[2])\n",
    "\n",
    "# train_data_2d[:, :3] = scaler.fit_transform(train_data_2d[:, :3])\n",
    "# test_data_2d[:, :3] = scaler.transform(test_data_2d[:, :3])\n",
    "# val_data_2d[:, :3] = scaler.transform(val_data_2d[:, :3])\n",
    "\n",
    "# print(f\"Train data shape (2D): {train_data_2d.shape}\")\n",
    "# print(f\"Test data shape (2D): {test_data_2d.shape}\")\n",
    "# print(f\"Validation data shape (2D): {val_data_2d.shape}\\n\")\n",
    "\n",
    "# train_data = train_data_2d.reshape(train_data.shape)\n",
    "# test_data = test_data_2d.reshape(test_data.shape)\n",
    "# val_data = val_data_2d.reshape(val_data.shape)\n",
    "\n",
    "# print(f\"Train data shape: {train_data.shape}\")\n",
    "# print(f\"Test data shape: {test_data.shape}\")\n",
    "# print(f\"Validation data shape: {val_data.shape}\")"
   ]
  },
  {
   "cell_type": "code",
   "execution_count": 21,
   "id": "dc135473-f3bb-4360-bbb9-ac9aae49e813",
   "metadata": {},
   "outputs": [],
   "source": [
    "# Define a function that breaks the data into time series windows of a specified size\n",
    "# input_seq_length: The length of the input window\n",
    "# target_seq_length: The length of the target (prediction) window\n",
    "# stride: How much the windows overlap. A stride of 1 means each set of input/targets is shifted 1 day forward from the last input/targets\n",
    "def generate_windows(data, input_seq_length, target_seq_length, stride):\n",
    "    windows = []\n",
    "    targets = []\n",
    "    num_days = data.shape[1]\n",
    "    \n",
    "    for i in range(0, num_days, stride):\n",
    "        if (i+input_seq_length+target_seq_length) <= num_days:\n",
    "            input_window_end = i + input_seq_length\n",
    "            target_window_end = input_window_end + target_seq_length\n",
    "            \n",
    "            input_window = data[:, i:input_window_end, :]\n",
    "            target_window = data[:, input_window_end:target_window_end, 0]\n",
    "            \n",
    "            windows.append(input_window)\n",
    "            targets.append(target_window)\n",
    "            \n",
    "    return np.array(windows), np.array(targets)"
   ]
  },
  {
   "cell_type": "code",
   "execution_count": 22,
   "id": "4ce89346-a06d-49fd-9338-d2047d790da7",
   "metadata": {
    "tags": []
   },
   "outputs": [
    {
     "name": "stdout",
     "output_type": "stream",
     "text": [
      "Train inputs shape: (990, 54, 14, 7)\n",
      "Train targets shape: (990, 54, 7)\n",
      "Continuous train inputs shape: (990, 54, 14, 3)\n",
      "Categorical train inputs shape: (990, 54, 14, 4)\n",
      "\n",
      "Test inputs shape: (317, 54, 14, 7)\n",
      "Test targets shape: (317, 54, 7)\n",
      "Continuous test inputs shape: (317, 54, 14, 3)\n",
      "Categorical test inputs shape: (317, 54, 14, 4)\n",
      "\n",
      "Validation inputs shape: (317, 54, 14, 7)\n",
      "Validation inputs shape: (317, 54, 7)\n",
      "Continuous validation inputs shape: (317, 54, 14, 3)\n",
      "Categorical validation inputs shape: (317, 54, 14, 4)\n"
     ]
    }
   ],
   "source": [
    "# Generate windows for train/test/val sets\n",
    "input_seq_length = 14\n",
    "target_seq_length = 7\n",
    "stride = 1\n",
    "\n",
    "train_inputs, train_targets = generate_windows(train_data, input_seq_length, target_seq_length, stride)\n",
    "print(f\"Train inputs shape: {train_inputs.shape}\")\n",
    "print(f\"Train targets shape: {train_targets.shape}\")\n",
    "\n",
    "continuous_train_inputs = train_inputs[:, :, :, :3]\n",
    "categorical_train_inputs = train_inputs[:, :, :, 3:]\n",
    "print(f\"Continuous train inputs shape: {continuous_train_inputs.shape}\")\n",
    "print(f\"Categorical train inputs shape: {categorical_train_inputs.shape}\\n\")\n",
    "\n",
    "test_inputs, test_targets = generate_windows(test_data, input_seq_length, target_seq_length, stride)\n",
    "print(f\"Test inputs shape: {test_inputs.shape}\")\n",
    "print(f\"Test targets shape: {test_targets.shape}\")\n",
    "\n",
    "continuous_test_inputs = test_inputs[:, :, :, :3]\n",
    "categorical_test_inputs = test_inputs[:, :, :, 3:]\n",
    "print(f\"Continuous test inputs shape: {continuous_test_inputs.shape}\")\n",
    "print(f\"Categorical test inputs shape: {categorical_test_inputs.shape}\\n\")\n",
    "\n",
    "val_inputs, val_targets = generate_windows(val_data, input_seq_length, target_seq_length, stride)\n",
    "print(f\"Validation inputs shape: {val_inputs.shape}\")\n",
    "print(f\"Validation inputs shape: {val_targets.shape}\")\n",
    "\n",
    "continuous_val_inputs = val_inputs[:, :, :, :3]\n",
    "categorical_val_inputs = val_inputs[:, :, :, 3:]\n",
    "print(f\"Continuous validation inputs shape: {continuous_val_inputs.shape}\")\n",
    "print(f\"Categorical validation inputs shape: {categorical_val_inputs.shape}\")"
   ]
  },
  {
   "cell_type": "code",
   "execution_count": 21,
   "id": "c07b7b9a-842c-4fdc-9c03-ea9216bbab5e",
   "metadata": {
    "tags": []
   },
   "outputs": [
    {
     "data": {
      "text/html": [
       "<pre style=\"white-space:pre;overflow-x:auto;line-height:normal;font-family:Menlo,'DejaVu Sans Mono',consolas,'Courier New',monospace\"><span style=\"font-weight: bold\">Model: \"sequential\"</span>\n",
       "</pre>\n"
      ],
      "text/plain": [
       "\u001b[1mModel: \"sequential\"\u001b[0m\n"
      ]
     },
     "metadata": {},
     "output_type": "display_data"
    },
    {
     "data": {
      "text/html": [
       "<pre style=\"white-space:pre;overflow-x:auto;line-height:normal;font-family:Menlo,'DejaVu Sans Mono',consolas,'Courier New',monospace\">┏━━━━━━━━━━━━━━━━━━━━━━━━━━━━━━━━━┳━━━━━━━━━━━━━━━━━━━━━━━━┳━━━━━━━━━━━━━━━┓\n",
       "┃<span style=\"font-weight: bold\"> Layer (type)                    </span>┃<span style=\"font-weight: bold\"> Output Shape           </span>┃<span style=\"font-weight: bold\">       Param # </span>┃\n",
       "┡━━━━━━━━━━━━━━━━━━━━━━━━━━━━━━━━━╇━━━━━━━━━━━━━━━━━━━━━━━━╇━━━━━━━━━━━━━━━┩\n",
       "│ flatten (<span style=\"color: #0087ff; text-decoration-color: #0087ff\">Flatten</span>)               │ (<span style=\"color: #00d7ff; text-decoration-color: #00d7ff\">None</span>, <span style=\"color: #00af00; text-decoration-color: #00af00\">6048</span>)           │             <span style=\"color: #00af00; text-decoration-color: #00af00\">0</span> │\n",
       "├─────────────────────────────────┼────────────────────────┼───────────────┤\n",
       "│ dense (<span style=\"color: #0087ff; text-decoration-color: #0087ff\">Dense</span>)                   │ (<span style=\"color: #00d7ff; text-decoration-color: #00d7ff\">None</span>, <span style=\"color: #00af00; text-decoration-color: #00af00\">64</span>)             │       <span style=\"color: #00af00; text-decoration-color: #00af00\">387,136</span> │\n",
       "├─────────────────────────────────┼────────────────────────┼───────────────┤\n",
       "│ dense_1 (<span style=\"color: #0087ff; text-decoration-color: #0087ff\">Dense</span>)                 │ (<span style=\"color: #00d7ff; text-decoration-color: #00d7ff\">None</span>, <span style=\"color: #00af00; text-decoration-color: #00af00\">378</span>)            │        <span style=\"color: #00af00; text-decoration-color: #00af00\">24,570</span> │\n",
       "├─────────────────────────────────┼────────────────────────┼───────────────┤\n",
       "│ reshape (<span style=\"color: #0087ff; text-decoration-color: #0087ff\">Reshape</span>)               │ (<span style=\"color: #00d7ff; text-decoration-color: #00d7ff\">None</span>, <span style=\"color: #00af00; text-decoration-color: #00af00\">54</span>, <span style=\"color: #00af00; text-decoration-color: #00af00\">7</span>)          │             <span style=\"color: #00af00; text-decoration-color: #00af00\">0</span> │\n",
       "└─────────────────────────────────┴────────────────────────┴───────────────┘\n",
       "</pre>\n"
      ],
      "text/plain": [
       "┏━━━━━━━━━━━━━━━━━━━━━━━━━━━━━━━━━┳━━━━━━━━━━━━━━━━━━━━━━━━┳━━━━━━━━━━━━━━━┓\n",
       "┃\u001b[1m \u001b[0m\u001b[1mLayer (type)                   \u001b[0m\u001b[1m \u001b[0m┃\u001b[1m \u001b[0m\u001b[1mOutput Shape          \u001b[0m\u001b[1m \u001b[0m┃\u001b[1m \u001b[0m\u001b[1m      Param #\u001b[0m\u001b[1m \u001b[0m┃\n",
       "┡━━━━━━━━━━━━━━━━━━━━━━━━━━━━━━━━━╇━━━━━━━━━━━━━━━━━━━━━━━━╇━━━━━━━━━━━━━━━┩\n",
       "│ flatten (\u001b[38;5;33mFlatten\u001b[0m)               │ (\u001b[38;5;45mNone\u001b[0m, \u001b[38;5;34m6048\u001b[0m)           │             \u001b[38;5;34m0\u001b[0m │\n",
       "├─────────────────────────────────┼────────────────────────┼───────────────┤\n",
       "│ dense (\u001b[38;5;33mDense\u001b[0m)                   │ (\u001b[38;5;45mNone\u001b[0m, \u001b[38;5;34m64\u001b[0m)             │       \u001b[38;5;34m387,136\u001b[0m │\n",
       "├─────────────────────────────────┼────────────────────────┼───────────────┤\n",
       "│ dense_1 (\u001b[38;5;33mDense\u001b[0m)                 │ (\u001b[38;5;45mNone\u001b[0m, \u001b[38;5;34m378\u001b[0m)            │        \u001b[38;5;34m24,570\u001b[0m │\n",
       "├─────────────────────────────────┼────────────────────────┼───────────────┤\n",
       "│ reshape (\u001b[38;5;33mReshape\u001b[0m)               │ (\u001b[38;5;45mNone\u001b[0m, \u001b[38;5;34m54\u001b[0m, \u001b[38;5;34m7\u001b[0m)          │             \u001b[38;5;34m0\u001b[0m │\n",
       "└─────────────────────────────────┴────────────────────────┴───────────────┘\n"
      ]
     },
     "metadata": {},
     "output_type": "display_data"
    },
    {
     "data": {
      "text/html": [
       "<pre style=\"white-space:pre;overflow-x:auto;line-height:normal;font-family:Menlo,'DejaVu Sans Mono',consolas,'Courier New',monospace\"><span style=\"font-weight: bold\"> Total params: </span><span style=\"color: #00af00; text-decoration-color: #00af00\">411,706</span> (1.57 MB)\n",
       "</pre>\n"
      ],
      "text/plain": [
       "\u001b[1m Total params: \u001b[0m\u001b[38;5;34m411,706\u001b[0m (1.57 MB)\n"
      ]
     },
     "metadata": {},
     "output_type": "display_data"
    },
    {
     "data": {
      "text/html": [
       "<pre style=\"white-space:pre;overflow-x:auto;line-height:normal;font-family:Menlo,'DejaVu Sans Mono',consolas,'Courier New',monospace\"><span style=\"font-weight: bold\"> Trainable params: </span><span style=\"color: #00af00; text-decoration-color: #00af00\">411,706</span> (1.57 MB)\n",
       "</pre>\n"
      ],
      "text/plain": [
       "\u001b[1m Trainable params: \u001b[0m\u001b[38;5;34m411,706\u001b[0m (1.57 MB)\n"
      ]
     },
     "metadata": {},
     "output_type": "display_data"
    },
    {
     "data": {
      "text/html": [
       "<pre style=\"white-space:pre;overflow-x:auto;line-height:normal;font-family:Menlo,'DejaVu Sans Mono',consolas,'Courier New',monospace\"><span style=\"font-weight: bold\"> Non-trainable params: </span><span style=\"color: #00af00; text-decoration-color: #00af00\">0</span> (0.00 B)\n",
       "</pre>\n"
      ],
      "text/plain": [
       "\u001b[1m Non-trainable params: \u001b[0m\u001b[38;5;34m0\u001b[0m (0.00 B)\n"
      ]
     },
     "metadata": {},
     "output_type": "display_data"
    },
    {
     "name": "stdout",
     "output_type": "stream",
     "text": [
      "None\n"
     ]
    }
   ],
   "source": [
    "# Baseline MLP model\n",
    "# simple_mlp_model = Sequential([\n",
    "#     Input(shape=(train_inputs.shape[1], train_inputs.shape[2], train_inputs.shape[3])),\n",
    "#     Flatten(),\n",
    "#     Dense(64, activation='relu'),\n",
    "#     Dense(54 * train_targets.shape[2]),\n",
    "#     Reshape(target_shape=(54, train_targets.shape[2]))\n",
    "# ])\n",
    "\n",
    "# simple_mlp_model.compile(loss='mean_squared_error', metrics=['mean_absolute_error'], optimizer=tf.keras.optimizers.Adam(0.001))\n",
    "\n",
    "# print(simple_mlp_model.summary())"
   ]
  },
  {
   "cell_type": "code",
   "execution_count": 22,
   "id": "751092bb-e282-4d30-85e1-3c6f5b42648c",
   "metadata": {
    "tags": []
   },
   "outputs": [
    {
     "name": "stdout",
     "output_type": "stream",
     "text": [
      "Epoch 1/10\n",
      "\u001b[1m990/990\u001b[0m \u001b[32m━━━━━━━━━━━━━━━━━━━━\u001b[0m\u001b[37m\u001b[0m \u001b[1m6s\u001b[0m 6ms/step - loss: 0.9845 - mean_absolute_error: 0.6387 - val_loss: 1.7184 - val_mean_absolute_error: 0.7490\n",
      "Epoch 2/10\n",
      "\u001b[1m990/990\u001b[0m \u001b[32m━━━━━━━━━━━━━━━━━━━━\u001b[0m\u001b[37m\u001b[0m \u001b[1m10s\u001b[0m 6ms/step - loss: 0.5050 - mean_absolute_error: 0.4169 - val_loss: 1.4875 - val_mean_absolute_error: 0.7084\n",
      "Epoch 3/10\n",
      "\u001b[1m990/990\u001b[0m \u001b[32m━━━━━━━━━━━━━━━━━━━━\u001b[0m\u001b[37m\u001b[0m \u001b[1m6s\u001b[0m 6ms/step - loss: 0.4063 - mean_absolute_error: 0.3794 - val_loss: 1.3682 - val_mean_absolute_error: 0.6839\n",
      "Epoch 4/10\n",
      "\u001b[1m990/990\u001b[0m \u001b[32m━━━━━━━━━━━━━━━━━━━━\u001b[0m\u001b[37m\u001b[0m \u001b[1m5s\u001b[0m 5ms/step - loss: 0.3865 - mean_absolute_error: 0.3752 - val_loss: 1.3042 - val_mean_absolute_error: 0.6688\n",
      "Epoch 5/10\n",
      "\u001b[1m990/990\u001b[0m \u001b[32m━━━━━━━━━━━━━━━━━━━━\u001b[0m\u001b[37m\u001b[0m \u001b[1m5s\u001b[0m 5ms/step - loss: 0.3518 - mean_absolute_error: 0.3671 - val_loss: 1.2600 - val_mean_absolute_error: 0.6536\n",
      "Epoch 6/10\n",
      "\u001b[1m990/990\u001b[0m \u001b[32m━━━━━━━━━━━━━━━━━━━━\u001b[0m\u001b[37m\u001b[0m \u001b[1m6s\u001b[0m 5ms/step - loss: 0.3826 - mean_absolute_error: 0.3793 - val_loss: 1.2408 - val_mean_absolute_error: 0.6487\n",
      "Epoch 7/10\n",
      "\u001b[1m990/990\u001b[0m \u001b[32m━━━━━━━━━━━━━━━━━━━━\u001b[0m\u001b[37m\u001b[0m \u001b[1m6s\u001b[0m 6ms/step - loss: 0.3702 - mean_absolute_error: 0.3757 - val_loss: 1.2362 - val_mean_absolute_error: 0.6484\n",
      "Epoch 8/10\n",
      "\u001b[1m990/990\u001b[0m \u001b[32m━━━━━━━━━━━━━━━━━━━━\u001b[0m\u001b[37m\u001b[0m \u001b[1m6s\u001b[0m 6ms/step - loss: 0.3650 - mean_absolute_error: 0.3759 - val_loss: 1.2314 - val_mean_absolute_error: 0.6462\n",
      "Epoch 9/10\n",
      "\u001b[1m990/990\u001b[0m \u001b[32m━━━━━━━━━━━━━━━━━━━━\u001b[0m\u001b[37m\u001b[0m \u001b[1m6s\u001b[0m 6ms/step - loss: 0.3954 - mean_absolute_error: 0.3848 - val_loss: 1.2337 - val_mean_absolute_error: 0.6492\n",
      "Epoch 10/10\n",
      "\u001b[1m990/990\u001b[0m \u001b[32m━━━━━━━━━━━━━━━━━━━━\u001b[0m\u001b[37m\u001b[0m \u001b[1m6s\u001b[0m 6ms/step - loss: 0.3584 - mean_absolute_error: 0.3728 - val_loss: 1.2292 - val_mean_absolute_error: 0.6466\n"
     ]
    },
    {
     "data": {
      "image/png": "[encoded data removed]",
      "text/plain": [
       "<Figure size 640x480 with 1 Axes>"
      ]
     },
     "metadata": {},
     "output_type": "display_data"
    }
   ],
   "source": [
    "# # Fit the baseline model\n",
    "# history = simple_mlp_model.fit(train_inputs, train_targets, validation_data=(test_inputs, test_targets), epochs=10, batch_size=1)\n",
    "\n",
    "# # Plot the learning curves\n",
    "# plt.plot(history.history['loss'], label='Train Loss')\n",
    "# plt.plot(history.history['val_loss'], label='Validation Loss')\n",
    "# plt.xlabel('Epochs')\n",
    "# plt.ylabel('Loss')\n",
    "# plt.legend()\n",
    "# plt.show()"
   ]
  },
  {
   "cell_type": "code",
   "execution_count": 23,
   "id": "febf62f8-68cd-457d-9f5a-82287d817696",
   "metadata": {
    "tags": []
   },
   "outputs": [
    {
     "name": "stdout",
     "output_type": "stream",
     "text": [
      "\u001b[1m10/10\u001b[0m \u001b[32m━━━━━━━━━━━━━━━━━━━━\u001b[0m\u001b[37m\u001b[0m \u001b[1m1s\u001b[0m 3ms/step - loss: 1.3362 - mean_absolute_error: 0.74866\n"
     ]
    }
   ],
   "source": [
    "# # Evaluate the baseline model on the validation set\n",
    "# eval = simple_mlp_model.evaluate(val_inputs, val_targets)"
   ]
  },
  {
   "cell_type": "code",
   "execution_count": 24,
   "id": "accde4e1-6136-4260-a1bf-a1b51d7fc2a5",
   "metadata": {
    "tags": []
   },
   "outputs": [
    {
     "data": {
      "text/html": [
       "<pre style=\"white-space:pre;overflow-x:auto;line-height:normal;font-family:Menlo,'DejaVu Sans Mono',consolas,'Courier New',monospace\"><span style=\"font-weight: bold\">Model: \"functional_1\"</span>\n",
       "</pre>\n"
      ],
      "text/plain": [
       "\u001b[1mModel: \"functional_1\"\u001b[0m\n"
      ]
     },
     "metadata": {},
     "output_type": "display_data"
    },
    {
     "data": {
      "text/html": [
       "<pre style=\"white-space:pre;overflow-x:auto;line-height:normal;font-family:Menlo,'DejaVu Sans Mono',consolas,'Courier New',monospace\">┏━━━━━━━━━━━━━━━━━━━━━┳━━━━━━━━━━━━━━━━━━━┳━━━━━━━━━━━━┳━━━━━━━━━━━━━━━━━━━┓\n",
       "┃<span style=\"font-weight: bold\"> Layer (type)        </span>┃<span style=\"font-weight: bold\"> Output Shape      </span>┃<span style=\"font-weight: bold\">    Param # </span>┃<span style=\"font-weight: bold\"> Connected to      </span>┃\n",
       "┡━━━━━━━━━━━━━━━━━━━━━╇━━━━━━━━━━━━━━━━━━━╇━━━━━━━━━━━━╇━━━━━━━━━━━━━━━━━━━┩\n",
       "│ continuous_input    │ (<span style=\"color: #00d7ff; text-decoration-color: #00d7ff\">None</span>, <span style=\"color: #00af00; text-decoration-color: #00af00\">54</span>, <span style=\"color: #00af00; text-decoration-color: #00af00\">14</span>, <span style=\"color: #00af00; text-decoration-color: #00af00\">3</span>) │          <span style=\"color: #00af00; text-decoration-color: #00af00\">0</span> │ -                 │\n",
       "│ (<span style=\"color: #0087ff; text-decoration-color: #0087ff\">InputLayer</span>)        │                   │            │                   │\n",
       "├─────────────────────┼───────────────────┼────────────┼───────────────────┤\n",
       "│ lambda_2 (<span style=\"color: #0087ff; text-decoration-color: #0087ff\">Lambda</span>)   │ (<span style=\"color: #00d7ff; text-decoration-color: #00d7ff\">None</span>, <span style=\"color: #00af00; text-decoration-color: #00af00\">54</span>, <span style=\"color: #00af00; text-decoration-color: #00af00\">14</span>, <span style=\"color: #00af00; text-decoration-color: #00af00\">3</span>) │          <span style=\"color: #00af00; text-decoration-color: #00af00\">0</span> │ continuous_input… │\n",
       "├─────────────────────┼───────────────────┼────────────┼───────────────────┤\n",
       "│ gaussian_noise_1    │ (<span style=\"color: #00d7ff; text-decoration-color: #00d7ff\">None</span>, <span style=\"color: #00af00; text-decoration-color: #00af00\">54</span>, <span style=\"color: #00af00; text-decoration-color: #00af00\">14</span>, <span style=\"color: #00af00; text-decoration-color: #00af00\">3</span>) │          <span style=\"color: #00af00; text-decoration-color: #00af00\">0</span> │ lambda_2[<span style=\"color: #00af00; text-decoration-color: #00af00\">0</span>][<span style=\"color: #00af00; text-decoration-color: #00af00\">0</span>]    │\n",
       "│ (<span style=\"color: #0087ff; text-decoration-color: #0087ff\">GaussianNoise</span>)     │                   │            │                   │\n",
       "├─────────────────────┼───────────────────┼────────────┼───────────────────┤\n",
       "│ categorical_input   │ (<span style=\"color: #00d7ff; text-decoration-color: #00d7ff\">None</span>, <span style=\"color: #00af00; text-decoration-color: #00af00\">54</span>, <span style=\"color: #00af00; text-decoration-color: #00af00\">14</span>, <span style=\"color: #00af00; text-decoration-color: #00af00\">4</span>) │          <span style=\"color: #00af00; text-decoration-color: #00af00\">0</span> │ -                 │\n",
       "│ (<span style=\"color: #0087ff; text-decoration-color: #0087ff\">InputLayer</span>)        │                   │            │                   │\n",
       "├─────────────────────┼───────────────────┼────────────┼───────────────────┤\n",
       "│ concatenate_1       │ (<span style=\"color: #00d7ff; text-decoration-color: #00d7ff\">None</span>, <span style=\"color: #00af00; text-decoration-color: #00af00\">54</span>, <span style=\"color: #00af00; text-decoration-color: #00af00\">14</span>, <span style=\"color: #00af00; text-decoration-color: #00af00\">7</span>) │          <span style=\"color: #00af00; text-decoration-color: #00af00\">0</span> │ gaussian_noise_1… │\n",
       "│ (<span style=\"color: #0087ff; text-decoration-color: #0087ff\">Concatenate</span>)       │                   │            │ categorical_inpu… │\n",
       "├─────────────────────┼───────────────────┼────────────┼───────────────────┤\n",
       "│ reshape_2 (<span style=\"color: #0087ff; text-decoration-color: #0087ff\">Reshape</span>) │ (<span style=\"color: #00d7ff; text-decoration-color: #00d7ff\">None</span>, <span style=\"color: #00af00; text-decoration-color: #00af00\">756</span>, <span style=\"color: #00af00; text-decoration-color: #00af00\">7</span>)    │          <span style=\"color: #00af00; text-decoration-color: #00af00\">0</span> │ concatenate_1[<span style=\"color: #00af00; text-decoration-color: #00af00\">0</span>]… │\n",
       "├─────────────────────┼───────────────────┼────────────┼───────────────────┤\n",
       "│ lstm_1 (<span style=\"color: #0087ff; text-decoration-color: #0087ff\">LSTM</span>)       │ (<span style=\"color: #00d7ff; text-decoration-color: #00d7ff\">None</span>, <span style=\"color: #00af00; text-decoration-color: #00af00\">8</span>)         │        <span style=\"color: #00af00; text-decoration-color: #00af00\">512</span> │ reshape_2[<span style=\"color: #00af00; text-decoration-color: #00af00\">0</span>][<span style=\"color: #00af00; text-decoration-color: #00af00\">0</span>]   │\n",
       "├─────────────────────┼───────────────────┼────────────┼───────────────────┤\n",
       "│ dense_1 (<span style=\"color: #0087ff; text-decoration-color: #0087ff\">Dense</span>)     │ (<span style=\"color: #00d7ff; text-decoration-color: #00d7ff\">None</span>, <span style=\"color: #00af00; text-decoration-color: #00af00\">378</span>)       │      <span style=\"color: #00af00; text-decoration-color: #00af00\">3,402</span> │ lstm_1[<span style=\"color: #00af00; text-decoration-color: #00af00\">0</span>][<span style=\"color: #00af00; text-decoration-color: #00af00\">0</span>]      │\n",
       "├─────────────────────┼───────────────────┼────────────┼───────────────────┤\n",
       "│ reshape_3 (<span style=\"color: #0087ff; text-decoration-color: #0087ff\">Reshape</span>) │ (<span style=\"color: #00d7ff; text-decoration-color: #00d7ff\">None</span>, <span style=\"color: #00af00; text-decoration-color: #00af00\">54</span>, <span style=\"color: #00af00; text-decoration-color: #00af00\">7</span>)     │          <span style=\"color: #00af00; text-decoration-color: #00af00\">0</span> │ dense_1[<span style=\"color: #00af00; text-decoration-color: #00af00\">0</span>][<span style=\"color: #00af00; text-decoration-color: #00af00\">0</span>]     │\n",
       "├─────────────────────┼───────────────────┼────────────┼───────────────────┤\n",
       "│ lambda_3 (<span style=\"color: #0087ff; text-decoration-color: #0087ff\">Lambda</span>)   │ (<span style=\"color: #00d7ff; text-decoration-color: #00d7ff\">None</span>, <span style=\"color: #00af00; text-decoration-color: #00af00\">54</span>, <span style=\"color: #00af00; text-decoration-color: #00af00\">7</span>)     │          <span style=\"color: #00af00; text-decoration-color: #00af00\">0</span> │ reshape_3[<span style=\"color: #00af00; text-decoration-color: #00af00\">0</span>][<span style=\"color: #00af00; text-decoration-color: #00af00\">0</span>]   │\n",
       "└─────────────────────┴───────────────────┴────────────┴───────────────────┘\n",
       "</pre>\n"
      ],
      "text/plain": [
       "┏━━━━━━━━━━━━━━━━━━━━━┳━━━━━━━━━━━━━━━━━━━┳━━━━━━━━━━━━┳━━━━━━━━━━━━━━━━━━━┓\n",
       "┃\u001b[1m \u001b[0m\u001b[1mLayer (type)       \u001b[0m\u001b[1m \u001b[0m┃\u001b[1m \u001b[0m\u001b[1mOutput Shape     \u001b[0m\u001b[1m \u001b[0m┃\u001b[1m \u001b[0m\u001b[1m   Param #\u001b[0m\u001b[1m \u001b[0m┃\u001b[1m \u001b[0m\u001b[1mConnected to     \u001b[0m\u001b[1m \u001b[0m┃\n",
       "┡━━━━━━━━━━━━━━━━━━━━━╇━━━━━━━━━━━━━━━━━━━╇━━━━━━━━━━━━╇━━━━━━━━━━━━━━━━━━━┩\n",
       "│ continuous_input    │ (\u001b[38;5;45mNone\u001b[0m, \u001b[38;5;34m54\u001b[0m, \u001b[38;5;34m14\u001b[0m, \u001b[38;5;34m3\u001b[0m) │          \u001b[38;5;34m0\u001b[0m │ -                 │\n",
       "│ (\u001b[38;5;33mInputLayer\u001b[0m)        │                   │            │                   │\n",
       "├─────────────────────┼───────────────────┼────────────┼───────────────────┤\n",
       "│ lambda_2 (\u001b[38;5;33mLambda\u001b[0m)   │ (\u001b[38;5;45mNone\u001b[0m, \u001b[38;5;34m54\u001b[0m, \u001b[38;5;34m14\u001b[0m, \u001b[38;5;34m3\u001b[0m) │          \u001b[38;5;34m0\u001b[0m │ continuous_input… │\n",
       "├─────────────────────┼───────────────────┼────────────┼───────────────────┤\n",
       "│ gaussian_noise_1    │ (\u001b[38;5;45mNone\u001b[0m, \u001b[38;5;34m54\u001b[0m, \u001b[38;5;34m14\u001b[0m, \u001b[38;5;34m3\u001b[0m) │          \u001b[38;5;34m0\u001b[0m │ lambda_2[\u001b[38;5;34m0\u001b[0m][\u001b[38;5;34m0\u001b[0m]    │\n",
       "│ (\u001b[38;5;33mGaussianNoise\u001b[0m)     │                   │            │                   │\n",
       "├─────────────────────┼───────────────────┼────────────┼───────────────────┤\n",
       "│ categorical_input   │ (\u001b[38;5;45mNone\u001b[0m, \u001b[38;5;34m54\u001b[0m, \u001b[38;5;34m14\u001b[0m, \u001b[38;5;34m4\u001b[0m) │          \u001b[38;5;34m0\u001b[0m │ -                 │\n",
       "│ (\u001b[38;5;33mInputLayer\u001b[0m)        │                   │            │                   │\n",
       "├─────────────────────┼───────────────────┼────────────┼───────────────────┤\n",
       "│ concatenate_1       │ (\u001b[38;5;45mNone\u001b[0m, \u001b[38;5;34m54\u001b[0m, \u001b[38;5;34m14\u001b[0m, \u001b[38;5;34m7\u001b[0m) │          \u001b[38;5;34m0\u001b[0m │ gaussian_noise_1… │\n",
       "│ (\u001b[38;5;33mConcatenate\u001b[0m)       │                   │            │ categorical_inpu… │\n",
       "├─────────────────────┼───────────────────┼────────────┼───────────────────┤\n",
       "│ reshape_2 (\u001b[38;5;33mReshape\u001b[0m) │ (\u001b[38;5;45mNone\u001b[0m, \u001b[38;5;34m756\u001b[0m, \u001b[38;5;34m7\u001b[0m)    │          \u001b[38;5;34m0\u001b[0m │ concatenate_1[\u001b[38;5;34m0\u001b[0m]… │\n",
       "├─────────────────────┼───────────────────┼────────────┼───────────────────┤\n",
       "│ lstm_1 (\u001b[38;5;33mLSTM\u001b[0m)       │ (\u001b[38;5;45mNone\u001b[0m, \u001b[38;5;34m8\u001b[0m)         │        \u001b[38;5;34m512\u001b[0m │ reshape_2[\u001b[38;5;34m0\u001b[0m][\u001b[38;5;34m0\u001b[0m]   │\n",
       "├─────────────────────┼───────────────────┼────────────┼───────────────────┤\n",
       "│ dense_1 (\u001b[38;5;33mDense\u001b[0m)     │ (\u001b[38;5;45mNone\u001b[0m, \u001b[38;5;34m378\u001b[0m)       │      \u001b[38;5;34m3,402\u001b[0m │ lstm_1[\u001b[38;5;34m0\u001b[0m][\u001b[38;5;34m0\u001b[0m]      │\n",
       "├─────────────────────┼───────────────────┼────────────┼───────────────────┤\n",
       "│ reshape_3 (\u001b[38;5;33mReshape\u001b[0m) │ (\u001b[38;5;45mNone\u001b[0m, \u001b[38;5;34m54\u001b[0m, \u001b[38;5;34m7\u001b[0m)     │          \u001b[38;5;34m0\u001b[0m │ dense_1[\u001b[38;5;34m0\u001b[0m][\u001b[38;5;34m0\u001b[0m]     │\n",
       "├─────────────────────┼───────────────────┼────────────┼───────────────────┤\n",
       "│ lambda_3 (\u001b[38;5;33mLambda\u001b[0m)   │ (\u001b[38;5;45mNone\u001b[0m, \u001b[38;5;34m54\u001b[0m, \u001b[38;5;34m7\u001b[0m)     │          \u001b[38;5;34m0\u001b[0m │ reshape_3[\u001b[38;5;34m0\u001b[0m][\u001b[38;5;34m0\u001b[0m]   │\n",
       "└─────────────────────┴───────────────────┴────────────┴───────────────────┘\n"
      ]
     },
     "metadata": {},
     "output_type": "display_data"
    },
    {
     "data": {
      "text/html": [
       "<pre style=\"white-space:pre;overflow-x:auto;line-height:normal;font-family:Menlo,'DejaVu Sans Mono',consolas,'Courier New',monospace\"><span style=\"font-weight: bold\"> Total params: </span><span style=\"color: #00af00; text-decoration-color: #00af00\">3,914</span> (15.29 KB)\n",
       "</pre>\n"
      ],
      "text/plain": [
       "\u001b[1m Total params: \u001b[0m\u001b[38;5;34m3,914\u001b[0m (15.29 KB)\n"
      ]
     },
     "metadata": {},
     "output_type": "display_data"
    },
    {
     "data": {
      "text/html": [
       "<pre style=\"white-space:pre;overflow-x:auto;line-height:normal;font-family:Menlo,'DejaVu Sans Mono',consolas,'Courier New',monospace\"><span style=\"font-weight: bold\"> Trainable params: </span><span style=\"color: #00af00; text-decoration-color: #00af00\">3,914</span> (15.29 KB)\n",
       "</pre>\n"
      ],
      "text/plain": [
       "\u001b[1m Trainable params: \u001b[0m\u001b[38;5;34m3,914\u001b[0m (15.29 KB)\n"
      ]
     },
     "metadata": {},
     "output_type": "display_data"
    },
    {
     "data": {
      "text/html": [
       "<pre style=\"white-space:pre;overflow-x:auto;line-height:normal;font-family:Menlo,'DejaVu Sans Mono',consolas,'Courier New',monospace\"><span style=\"font-weight: bold\"> Non-trainable params: </span><span style=\"color: #00af00; text-decoration-color: #00af00\">0</span> (0.00 B)\n",
       "</pre>\n"
      ],
      "text/plain": [
       "\u001b[1m Non-trainable params: \u001b[0m\u001b[38;5;34m0\u001b[0m (0.00 B)\n"
      ]
     },
     "metadata": {},
     "output_type": "display_data"
    },
    {
     "name": "stdout",
     "output_type": "stream",
     "text": [
      "None\n",
      "Epoch 1/50\n",
      "\u001b[1m62/62\u001b[0m \u001b[32m━━━━━━━━━━━━━━━━━━━━\u001b[0m\u001b[37m\u001b[0m \u001b[1m11s\u001b[0m 156ms/step - loss: 75715040.0000 - mean_absolute_error: 5927.3179 - val_loss: 158319088.0000 - val_mean_absolute_error: 7262.0850\n",
      "Epoch 2/50\n",
      "\u001b[1m62/62\u001b[0m \u001b[32m━━━━━━━━━━━━━━━━━━━━\u001b[0m\u001b[37m\u001b[0m \u001b[1m10s\u001b[0m 154ms/step - loss: 53884552.0000 - mean_absolute_error: 4505.7349 - val_loss: 126730120.0000 - val_mean_absolute_error: 6483.7749\n",
      "Epoch 3/50\n",
      "\u001b[1m62/62\u001b[0m \u001b[32m━━━━━━━━━━━━━━━━━━━━\u001b[0m\u001b[37m\u001b[0m \u001b[1m10s\u001b[0m 154ms/step - loss: 35717264.0000 - mean_absolute_error: 3500.8013 - val_loss: 111175464.0000 - val_mean_absolute_error: 6126.7305\n",
      "Epoch 4/50\n",
      "\u001b[1m62/62\u001b[0m \u001b[32m━━━━━━━━━━━━━━━━━━━━\u001b[0m\u001b[37m\u001b[0m \u001b[1m10s\u001b[0m 154ms/step - loss: 31094626.0000 - mean_absolute_error: 3346.4673 - val_loss: 103856640.0000 - val_mean_absolute_error: 5912.2061\n",
      "Epoch 5/50\n",
      "\u001b[1m62/62\u001b[0m \u001b[32m━━━━━━━━━━━━━━━━━━━━\u001b[0m\u001b[37m\u001b[0m \u001b[1m10s\u001b[0m 154ms/step - loss: 27272506.0000 - mean_absolute_error: 3264.4270 - val_loss: 99248640.0000 - val_mean_absolute_error: 5766.2632\n",
      "Epoch 6/50\n",
      "\u001b[1m62/62\u001b[0m \u001b[32m━━━━━━━━━━━━━━━━━━━━\u001b[0m\u001b[37m\u001b[0m \u001b[1m10s\u001b[0m 154ms/step - loss: 27019522.0000 - mean_absolute_error: 3260.6089 - val_loss: 97475312.0000 - val_mean_absolute_error: 5722.3174\n",
      "Epoch 7/50\n",
      "\u001b[1m62/62\u001b[0m \u001b[32m━━━━━━━━━━━━━━━━━━━━\u001b[0m\u001b[37m\u001b[0m \u001b[1m10s\u001b[0m 155ms/step - loss: 28396884.0000 - mean_absolute_error: 3305.7422 - val_loss: 95699184.0000 - val_mean_absolute_error: 5667.5586\n",
      "Epoch 8/50\n",
      "\u001b[1m62/62\u001b[0m \u001b[32m━━━━━━━━━━━━━━━━━━━━\u001b[0m\u001b[37m\u001b[0m \u001b[1m10s\u001b[0m 158ms/step - loss: 27358552.0000 - mean_absolute_error: 3284.9517 - val_loss: 93642176.0000 - val_mean_absolute_error: 5590.9409\n",
      "Epoch 9/50\n",
      "\u001b[1m62/62\u001b[0m \u001b[32m━━━━━━━━━━━━━━━━━━━━\u001b[0m\u001b[37m\u001b[0m \u001b[1m10s\u001b[0m 155ms/step - loss: 27238170.0000 - mean_absolute_error: 3282.0334 - val_loss: 90168864.0000 - val_mean_absolute_error: 5444.4971\n",
      "Epoch 10/50\n",
      "\u001b[1m62/62\u001b[0m \u001b[32m━━━━━━━━━━━━━━━━━━━━\u001b[0m\u001b[37m\u001b[0m \u001b[1m10s\u001b[0m 156ms/step - loss: 26407406.0000 - mean_absolute_error: 3187.7981 - val_loss: 84010232.0000 - val_mean_absolute_error: 5182.2817\n",
      "Epoch 11/50\n",
      "\u001b[1m62/62\u001b[0m \u001b[32m━━━━━━━━━━━━━━━━━━━━\u001b[0m\u001b[37m\u001b[0m \u001b[1m10s\u001b[0m 155ms/step - loss: 25292026.0000 - mean_absolute_error: 3090.1602 - val_loss: 79626856.0000 - val_mean_absolute_error: 4961.9316\n",
      "Epoch 12/50\n",
      "\u001b[1m62/62\u001b[0m \u001b[32m━━━━━━━━━━━━━━━━━━━━\u001b[0m\u001b[37m\u001b[0m \u001b[1m10s\u001b[0m 158ms/step - loss: 23553358.0000 - mean_absolute_error: 2978.2544 - val_loss: 75285224.0000 - val_mean_absolute_error: 4753.5840\n",
      "Epoch 13/50\n",
      "\u001b[1m62/62\u001b[0m \u001b[32m━━━━━━━━━━━━━━━━━━━━\u001b[0m\u001b[37m\u001b[0m \u001b[1m10s\u001b[0m 157ms/step - loss: 21452760.0000 - mean_absolute_error: 2827.0432 - val_loss: 71572336.0000 - val_mean_absolute_error: 4597.4810\n",
      "Epoch 14/50\n",
      "\u001b[1m62/62\u001b[0m \u001b[32m━━━━━━━━━━━━━━━━━━━━\u001b[0m\u001b[37m\u001b[0m \u001b[1m10s\u001b[0m 156ms/step - loss: 20893350.0000 - mean_absolute_error: 2783.4800 - val_loss: 69816472.0000 - val_mean_absolute_error: 4539.5527\n",
      "Epoch 15/50\n",
      "\u001b[1m62/62\u001b[0m \u001b[32m━━━━━━━━━━━━━━━━━━━━\u001b[0m\u001b[37m\u001b[0m \u001b[1m10s\u001b[0m 159ms/step - loss: 20736934.0000 - mean_absolute_error: 2727.8972 - val_loss: 67643576.0000 - val_mean_absolute_error: 4454.4058\n",
      "Epoch 16/50\n",
      "\u001b[1m62/62\u001b[0m \u001b[32m━━━━━━━━━━━━━━━━━━━━\u001b[0m\u001b[37m\u001b[0m \u001b[1m10s\u001b[0m 156ms/step - loss: 19610472.0000 - mean_absolute_error: 2653.5886 - val_loss: 66289632.0000 - val_mean_absolute_error: 4400.5234\n",
      "Epoch 17/50\n",
      "\u001b[1m62/62\u001b[0m \u001b[32m━━━━━━━━━━━━━━━━━━━━\u001b[0m\u001b[37m\u001b[0m \u001b[1m10s\u001b[0m 157ms/step - loss: 21192272.0000 - mean_absolute_error: 2697.5505 - val_loss: 65440816.0000 - val_mean_absolute_error: 4379.9360\n",
      "Epoch 18/50\n",
      "\u001b[1m62/62\u001b[0m \u001b[32m━━━━━━━━━━━━━━━━━━━━\u001b[0m\u001b[37m\u001b[0m \u001b[1m10s\u001b[0m 156ms/step - loss: 20236696.0000 - mean_absolute_error: 2676.8879 - val_loss: 63475556.0000 - val_mean_absolute_error: 4306.8003\n",
      "Epoch 19/50\n",
      "\u001b[1m62/62\u001b[0m \u001b[32m━━━━━━━━━━━━━━━━━━━━\u001b[0m\u001b[37m\u001b[0m \u001b[1m10s\u001b[0m 157ms/step - loss: 19253180.0000 - mean_absolute_error: 2613.7424 - val_loss: 63141552.0000 - val_mean_absolute_error: 4295.6567\n",
      "Epoch 20/50\n",
      "\u001b[1m62/62\u001b[0m \u001b[32m━━━━━━━━━━━━━━━━━━━━\u001b[0m\u001b[37m\u001b[0m \u001b[1m10s\u001b[0m 158ms/step - loss: 20110000.0000 - mean_absolute_error: 2630.6423 - val_loss: 63120464.0000 - val_mean_absolute_error: 4281.4800\n",
      "Epoch 21/50\n",
      "\u001b[1m62/62\u001b[0m \u001b[32m━━━━━━━━━━━━━━━━━━━━\u001b[0m\u001b[37m\u001b[0m \u001b[1m10s\u001b[0m 158ms/step - loss: 19838308.0000 - mean_absolute_error: 2631.4041 - val_loss: 62100600.0000 - val_mean_absolute_error: 4251.7905\n",
      "Epoch 22/50\n",
      "\u001b[1m62/62\u001b[0m \u001b[32m━━━━━━━━━━━━━━━━━━━━\u001b[0m\u001b[37m\u001b[0m \u001b[1m10s\u001b[0m 157ms/step - loss: 19097880.0000 - mean_absolute_error: 2604.3970 - val_loss: 62623460.0000 - val_mean_absolute_error: 4276.2529\n",
      "Epoch 23/50\n",
      "\u001b[1m62/62\u001b[0m \u001b[32m━━━━━━━━━━━━━━━━━━━━\u001b[0m\u001b[37m\u001b[0m \u001b[1m10s\u001b[0m 156ms/step - loss: 19045622.0000 - mean_absolute_error: 2597.4573 - val_loss: 62294964.0000 - val_mean_absolute_error: 4272.8271\n",
      "Epoch 24/50\n",
      "\u001b[1m62/62\u001b[0m \u001b[32m━━━━━━━━━━━━━━━━━━━━\u001b[0m\u001b[37m\u001b[0m \u001b[1m10s\u001b[0m 157ms/step - loss: 18110658.0000 - mean_absolute_error: 2556.5645 - val_loss: 61601760.0000 - val_mean_absolute_error: 4271.0483\n",
      "Epoch 25/50\n",
      "\u001b[1m62/62\u001b[0m \u001b[32m━━━━━━━━━━━━━━━━━━━━\u001b[0m\u001b[37m\u001b[0m \u001b[1m10s\u001b[0m 157ms/step - loss: 19070858.0000 - mean_absolute_error: 2589.3506 - val_loss: 61590292.0000 - val_mean_absolute_error: 4261.6772\n",
      "Epoch 26/50\n",
      "\u001b[1m62/62\u001b[0m \u001b[32m━━━━━━━━━━━━━━━━━━━━\u001b[0m\u001b[37m\u001b[0m \u001b[1m10s\u001b[0m 160ms/step - loss: 19257092.0000 - mean_absolute_error: 2596.9214 - val_loss: 61583436.0000 - val_mean_absolute_error: 4265.6636\n",
      "Epoch 27/50\n",
      "\u001b[1m62/62\u001b[0m \u001b[32m━━━━━━━━━━━━━━━━━━━━\u001b[0m\u001b[37m\u001b[0m \u001b[1m10s\u001b[0m 158ms/step - loss: 18146744.0000 - mean_absolute_error: 2549.1707 - val_loss: 61693544.0000 - val_mean_absolute_error: 4272.8530\n"
     ]
    },
    {
     "data": {
      "image/png": "[encoded data removed]",
      "text/plain": [
       "<Figure size 640x480 with 2 Axes>"
      ]
     },
     "metadata": {},
     "output_type": "display_data"
    },
    {
     "name": "stdout",
     "output_type": "stream",
     "text": [
      "\u001b[1m10/10\u001b[0m \u001b[32m━━━━━━━━━━━━━━━━━━━━\u001b[0m\u001b[37m\u001b[0m \u001b[1m0s\u001b[0m 36ms/step - loss: 56921660.0000 - mean_absolute_error: 4438.5942\n"
     ]
    }
   ],
   "source": [
    "# LSTM model\n",
    "lstm_es_callback = tf.keras.callbacks.EarlyStopping(\n",
    "    monitor=\"val_mean_absolute_error\",\n",
    "    min_delta=10,\n",
    "    patience=6,\n",
    "    verbose=1,\n",
    "    restore_best_weights=True\n",
    ")\n",
    "\n",
    "\n",
    "continuous_input = Input(\n",
    "    shape=(\n",
    "        train_inputs.shape[1], \n",
    "        train_inputs.shape[2], \n",
    "        continuous_train_inputs.shape[3]\n",
    "    ), \n",
    "    name=\"continuous_input\"\n",
    ")\n",
    "\n",
    "categorical_input = Input(\n",
    "    shape=(\n",
    "        train_inputs.shape[1], \n",
    "        train_inputs.shape[2], \n",
    "        categorical_train_inputs.shape[3]\n",
    "    ), \n",
    "    name=\"categorical_input\"\n",
    ")\n",
    "\n",
    "global_mean_tf = tf.constant(global_mean, dtype=tf.float32)\n",
    "global_stddev_tf = tf.constant(global_stddev, dtype=tf.float32)\n",
    "target_mean_tf = tf.constant(global_mean[0], dtype=tf.float32)\n",
    "target_stddev_tf = tf.constant(global_stddev[0], dtype=tf.float32)\n",
    "\n",
    "normalized_input = Lambda(lambda x: (x - global_mean_tf) / global_stddev_tf)(continuous_input)\n",
    "noisy_input = GaussianNoise(stddev=0.1)(normalized_input)\n",
    "combined_inputs = Concatenate(axis=-1)([noisy_input, categorical_input])\n",
    "reshaped = Reshape(target_shape=(-1, train_inputs.shape[3]))(combined_inputs)\n",
    "lstm = LSTM(8, kernel_regularizer=tf.keras.regularizers.l2(0.004))(reshaped)\n",
    "dense = Dense(54 * train_targets.shape[2])(lstm)\n",
    "outputs = Reshape(target_shape=(54, train_targets.shape[2]))(dense)\n",
    "denormalized_outputs = Lambda(lambda x: x * target_stddev_tf + target_mean_tf)(outputs)\n",
    "\n",
    "\n",
    "lstm_model = Model(inputs=[continuous_input, categorical_input], outputs=denormalized_outputs)\n",
    "\n",
    "lstm_model.compile(loss='mean_squared_error', metrics=['mean_absolute_error'], optimizer=tf.keras.optimizers.Adam(0.001))\n",
    "\n",
    "print(lstm_model.summary())\n",
    "\n",
    "\n",
    "history = lstm_model.fit(\n",
    "    [continuous_train_inputs, categorical_train_inputs], \n",
    "    train_targets, \n",
    "    validation_data=([continuous_test_inputs, categorical_test_inputs], test_targets), \n",
    "    epochs=50, \n",
    "    batch_size=16, \n",
    "    callbacks=[lstm_es_callback]\n",
    ")\n",
    "\n",
    "fig, axs = plt.subplots(2)\n",
    "axs[0].plot(history.history['loss'], label='Train MSE (Loss)')\n",
    "axs[0].plot(history.history['val_loss'], label='Validation MSE (Loss)')\n",
    "axs[1].plot(history.history['mean_absolute_error'], label='Train MAE')\n",
    "axs[1].plot(history.history['val_mean_absolute_error'], label='Validation MAE')\n",
    "axs[0].set_xlabel('Epochs')\n",
    "axs[0].set_ylabel('MSE')\n",
    "axs[1].set_xlabel('Epochs')\n",
    "axs[1].set_ylabel('MAE')\n",
    "axs[0].legend()\n",
    "axs[1].legend()\n",
    "fig.tight_layout()\n",
    "plt.show()\n",
    "\n",
    "eval = lstm_model.evaluate([continuous_val_inputs, categorical_val_inputs], val_targets)"
   ]
  },
  {
   "cell_type": "code",
   "execution_count": 26,
   "id": "765a6991-f79c-4c97-a453-9c73a73cba83",
   "metadata": {
    "tags": []
   },
   "outputs": [
    {
     "data": {
      "text/html": [
       "<pre style=\"white-space:pre;overflow-x:auto;line-height:normal;font-family:Menlo,'DejaVu Sans Mono',consolas,'Courier New',monospace\"><span style=\"font-weight: bold\">Model: \"functional_3\"</span>\n",
       "</pre>\n"
      ],
      "text/plain": [
       "\u001b[1mModel: \"functional_3\"\u001b[0m\n"
      ]
     },
     "metadata": {},
     "output_type": "display_data"
    },
    {
     "data": {
      "text/html": [
       "<pre style=\"white-space:pre;overflow-x:auto;line-height:normal;font-family:Menlo,'DejaVu Sans Mono',consolas,'Courier New',monospace\">┏━━━━━━━━━━━━━━━━━━━━━┳━━━━━━━━━━━━━━━━━━━┳━━━━━━━━━━━━┳━━━━━━━━━━━━━━━━━━━┓\n",
       "┃<span style=\"font-weight: bold\"> Layer (type)        </span>┃<span style=\"font-weight: bold\"> Output Shape      </span>┃<span style=\"font-weight: bold\">    Param # </span>┃<span style=\"font-weight: bold\"> Connected to      </span>┃\n",
       "┡━━━━━━━━━━━━━━━━━━━━━╇━━━━━━━━━━━━━━━━━━━╇━━━━━━━━━━━━╇━━━━━━━━━━━━━━━━━━━┩\n",
       "│ continuous_input    │ (<span style=\"color: #00d7ff; text-decoration-color: #00d7ff\">None</span>, <span style=\"color: #00af00; text-decoration-color: #00af00\">54</span>, <span style=\"color: #00af00; text-decoration-color: #00af00\">14</span>, <span style=\"color: #00af00; text-decoration-color: #00af00\">3</span>) │          <span style=\"color: #00af00; text-decoration-color: #00af00\">0</span> │ -                 │\n",
       "│ (<span style=\"color: #0087ff; text-decoration-color: #0087ff\">InputLayer</span>)        │                   │            │                   │\n",
       "├─────────────────────┼───────────────────┼────────────┼───────────────────┤\n",
       "│ lambda_6 (<span style=\"color: #0087ff; text-decoration-color: #0087ff\">Lambda</span>)   │ (<span style=\"color: #00d7ff; text-decoration-color: #00d7ff\">None</span>, <span style=\"color: #00af00; text-decoration-color: #00af00\">54</span>, <span style=\"color: #00af00; text-decoration-color: #00af00\">14</span>, <span style=\"color: #00af00; text-decoration-color: #00af00\">3</span>) │          <span style=\"color: #00af00; text-decoration-color: #00af00\">0</span> │ continuous_input… │\n",
       "├─────────────────────┼───────────────────┼────────────┼───────────────────┤\n",
       "│ gaussian_noise_3    │ (<span style=\"color: #00d7ff; text-decoration-color: #00d7ff\">None</span>, <span style=\"color: #00af00; text-decoration-color: #00af00\">54</span>, <span style=\"color: #00af00; text-decoration-color: #00af00\">14</span>, <span style=\"color: #00af00; text-decoration-color: #00af00\">3</span>) │          <span style=\"color: #00af00; text-decoration-color: #00af00\">0</span> │ lambda_6[<span style=\"color: #00af00; text-decoration-color: #00af00\">0</span>][<span style=\"color: #00af00; text-decoration-color: #00af00\">0</span>]    │\n",
       "│ (<span style=\"color: #0087ff; text-decoration-color: #0087ff\">GaussianNoise</span>)     │                   │            │                   │\n",
       "├─────────────────────┼───────────────────┼────────────┼───────────────────┤\n",
       "│ categorical_input   │ (<span style=\"color: #00d7ff; text-decoration-color: #00d7ff\">None</span>, <span style=\"color: #00af00; text-decoration-color: #00af00\">54</span>, <span style=\"color: #00af00; text-decoration-color: #00af00\">14</span>, <span style=\"color: #00af00; text-decoration-color: #00af00\">4</span>) │          <span style=\"color: #00af00; text-decoration-color: #00af00\">0</span> │ -                 │\n",
       "│ (<span style=\"color: #0087ff; text-decoration-color: #0087ff\">InputLayer</span>)        │                   │            │                   │\n",
       "├─────────────────────┼───────────────────┼────────────┼───────────────────┤\n",
       "│ concatenate_3       │ (<span style=\"color: #00d7ff; text-decoration-color: #00d7ff\">None</span>, <span style=\"color: #00af00; text-decoration-color: #00af00\">54</span>, <span style=\"color: #00af00; text-decoration-color: #00af00\">14</span>, <span style=\"color: #00af00; text-decoration-color: #00af00\">7</span>) │          <span style=\"color: #00af00; text-decoration-color: #00af00\">0</span> │ gaussian_noise_3… │\n",
       "│ (<span style=\"color: #0087ff; text-decoration-color: #0087ff\">Concatenate</span>)       │                   │            │ categorical_inpu… │\n",
       "├─────────────────────┼───────────────────┼────────────┼───────────────────┤\n",
       "│ reshape_6 (<span style=\"color: #0087ff; text-decoration-color: #0087ff\">Reshape</span>) │ (<span style=\"color: #00d7ff; text-decoration-color: #00d7ff\">None</span>, <span style=\"color: #00af00; text-decoration-color: #00af00\">756</span>, <span style=\"color: #00af00; text-decoration-color: #00af00\">7</span>)    │          <span style=\"color: #00af00; text-decoration-color: #00af00\">0</span> │ concatenate_3[<span style=\"color: #00af00; text-decoration-color: #00af00\">0</span>]… │\n",
       "├─────────────────────┼───────────────────┼────────────┼───────────────────┤\n",
       "│ gru_1 (<span style=\"color: #0087ff; text-decoration-color: #0087ff\">GRU</span>)         │ (<span style=\"color: #00d7ff; text-decoration-color: #00d7ff\">None</span>, <span style=\"color: #00af00; text-decoration-color: #00af00\">8</span>)         │        <span style=\"color: #00af00; text-decoration-color: #00af00\">408</span> │ reshape_6[<span style=\"color: #00af00; text-decoration-color: #00af00\">0</span>][<span style=\"color: #00af00; text-decoration-color: #00af00\">0</span>]   │\n",
       "├─────────────────────┼───────────────────┼────────────┼───────────────────┤\n",
       "│ dropout_1 (<span style=\"color: #0087ff; text-decoration-color: #0087ff\">Dropout</span>) │ (<span style=\"color: #00d7ff; text-decoration-color: #00d7ff\">None</span>, <span style=\"color: #00af00; text-decoration-color: #00af00\">8</span>)         │          <span style=\"color: #00af00; text-decoration-color: #00af00\">0</span> │ gru_1[<span style=\"color: #00af00; text-decoration-color: #00af00\">0</span>][<span style=\"color: #00af00; text-decoration-color: #00af00\">0</span>]       │\n",
       "├─────────────────────┼───────────────────┼────────────┼───────────────────┤\n",
       "│ dense_3 (<span style=\"color: #0087ff; text-decoration-color: #0087ff\">Dense</span>)     │ (<span style=\"color: #00d7ff; text-decoration-color: #00d7ff\">None</span>, <span style=\"color: #00af00; text-decoration-color: #00af00\">378</span>)       │      <span style=\"color: #00af00; text-decoration-color: #00af00\">3,402</span> │ dropout_1[<span style=\"color: #00af00; text-decoration-color: #00af00\">0</span>][<span style=\"color: #00af00; text-decoration-color: #00af00\">0</span>]   │\n",
       "├─────────────────────┼───────────────────┼────────────┼───────────────────┤\n",
       "│ reshape_7 (<span style=\"color: #0087ff; text-decoration-color: #0087ff\">Reshape</span>) │ (<span style=\"color: #00d7ff; text-decoration-color: #00d7ff\">None</span>, <span style=\"color: #00af00; text-decoration-color: #00af00\">54</span>, <span style=\"color: #00af00; text-decoration-color: #00af00\">7</span>)     │          <span style=\"color: #00af00; text-decoration-color: #00af00\">0</span> │ dense_3[<span style=\"color: #00af00; text-decoration-color: #00af00\">0</span>][<span style=\"color: #00af00; text-decoration-color: #00af00\">0</span>]     │\n",
       "├─────────────────────┼───────────────────┼────────────┼───────────────────┤\n",
       "│ lambda_7 (<span style=\"color: #0087ff; text-decoration-color: #0087ff\">Lambda</span>)   │ (<span style=\"color: #00d7ff; text-decoration-color: #00d7ff\">None</span>, <span style=\"color: #00af00; text-decoration-color: #00af00\">54</span>, <span style=\"color: #00af00; text-decoration-color: #00af00\">7</span>)     │          <span style=\"color: #00af00; text-decoration-color: #00af00\">0</span> │ reshape_7[<span style=\"color: #00af00; text-decoration-color: #00af00\">0</span>][<span style=\"color: #00af00; text-decoration-color: #00af00\">0</span>]   │\n",
       "└─────────────────────┴───────────────────┴────────────┴───────────────────┘\n",
       "</pre>\n"
      ],
      "text/plain": [
       "┏━━━━━━━━━━━━━━━━━━━━━┳━━━━━━━━━━━━━━━━━━━┳━━━━━━━━━━━━┳━━━━━━━━━━━━━━━━━━━┓\n",
       "┃\u001b[1m \u001b[0m\u001b[1mLayer (type)       \u001b[0m\u001b[1m \u001b[0m┃\u001b[1m \u001b[0m\u001b[1mOutput Shape     \u001b[0m\u001b[1m \u001b[0m┃\u001b[1m \u001b[0m\u001b[1m   Param #\u001b[0m\u001b[1m \u001b[0m┃\u001b[1m \u001b[0m\u001b[1mConnected to     \u001b[0m\u001b[1m \u001b[0m┃\n",
       "┡━━━━━━━━━━━━━━━━━━━━━╇━━━━━━━━━━━━━━━━━━━╇━━━━━━━━━━━━╇━━━━━━━━━━━━━━━━━━━┩\n",
       "│ continuous_input    │ (\u001b[38;5;45mNone\u001b[0m, \u001b[38;5;34m54\u001b[0m, \u001b[38;5;34m14\u001b[0m, \u001b[38;5;34m3\u001b[0m) │          \u001b[38;5;34m0\u001b[0m │ -                 │\n",
       "│ (\u001b[38;5;33mInputLayer\u001b[0m)        │                   │            │                   │\n",
       "├─────────────────────┼───────────────────┼────────────┼───────────────────┤\n",
       "│ lambda_6 (\u001b[38;5;33mLambda\u001b[0m)   │ (\u001b[38;5;45mNone\u001b[0m, \u001b[38;5;34m54\u001b[0m, \u001b[38;5;34m14\u001b[0m, \u001b[38;5;34m3\u001b[0m) │          \u001b[38;5;34m0\u001b[0m │ continuous_input… │\n",
       "├─────────────────────┼───────────────────┼────────────┼───────────────────┤\n",
       "│ gaussian_noise_3    │ (\u001b[38;5;45mNone\u001b[0m, \u001b[38;5;34m54\u001b[0m, \u001b[38;5;34m14\u001b[0m, \u001b[38;5;34m3\u001b[0m) │          \u001b[38;5;34m0\u001b[0m │ lambda_6[\u001b[38;5;34m0\u001b[0m][\u001b[38;5;34m0\u001b[0m]    │\n",
       "│ (\u001b[38;5;33mGaussianNoise\u001b[0m)     │                   │            │                   │\n",
       "├─────────────────────┼───────────────────┼────────────┼───────────────────┤\n",
       "│ categorical_input   │ (\u001b[38;5;45mNone\u001b[0m, \u001b[38;5;34m54\u001b[0m, \u001b[38;5;34m14\u001b[0m, \u001b[38;5;34m4\u001b[0m) │          \u001b[38;5;34m0\u001b[0m │ -                 │\n",
       "│ (\u001b[38;5;33mInputLayer\u001b[0m)        │                   │            │                   │\n",
       "├─────────────────────┼───────────────────┼────────────┼───────────────────┤\n",
       "│ concatenate_3       │ (\u001b[38;5;45mNone\u001b[0m, \u001b[38;5;34m54\u001b[0m, \u001b[38;5;34m14\u001b[0m, \u001b[38;5;34m7\u001b[0m) │          \u001b[38;5;34m0\u001b[0m │ gaussian_noise_3… │\n",
       "│ (\u001b[38;5;33mConcatenate\u001b[0m)       │                   │            │ categorical_inpu… │\n",
       "├─────────────────────┼───────────────────┼────────────┼───────────────────┤\n",
       "│ reshape_6 (\u001b[38;5;33mReshape\u001b[0m) │ (\u001b[38;5;45mNone\u001b[0m, \u001b[38;5;34m756\u001b[0m, \u001b[38;5;34m7\u001b[0m)    │          \u001b[38;5;34m0\u001b[0m │ concatenate_3[\u001b[38;5;34m0\u001b[0m]… │\n",
       "├─────────────────────┼───────────────────┼────────────┼───────────────────┤\n",
       "│ gru_1 (\u001b[38;5;33mGRU\u001b[0m)         │ (\u001b[38;5;45mNone\u001b[0m, \u001b[38;5;34m8\u001b[0m)         │        \u001b[38;5;34m408\u001b[0m │ reshape_6[\u001b[38;5;34m0\u001b[0m][\u001b[38;5;34m0\u001b[0m]   │\n",
       "├─────────────────────┼───────────────────┼────────────┼───────────────────┤\n",
       "│ dropout_1 (\u001b[38;5;33mDropout\u001b[0m) │ (\u001b[38;5;45mNone\u001b[0m, \u001b[38;5;34m8\u001b[0m)         │          \u001b[38;5;34m0\u001b[0m │ gru_1[\u001b[38;5;34m0\u001b[0m][\u001b[38;5;34m0\u001b[0m]       │\n",
       "├─────────────────────┼───────────────────┼────────────┼───────────────────┤\n",
       "│ dense_3 (\u001b[38;5;33mDense\u001b[0m)     │ (\u001b[38;5;45mNone\u001b[0m, \u001b[38;5;34m378\u001b[0m)       │      \u001b[38;5;34m3,402\u001b[0m │ dropout_1[\u001b[38;5;34m0\u001b[0m][\u001b[38;5;34m0\u001b[0m]   │\n",
       "├─────────────────────┼───────────────────┼────────────┼───────────────────┤\n",
       "│ reshape_7 (\u001b[38;5;33mReshape\u001b[0m) │ (\u001b[38;5;45mNone\u001b[0m, \u001b[38;5;34m54\u001b[0m, \u001b[38;5;34m7\u001b[0m)     │          \u001b[38;5;34m0\u001b[0m │ dense_3[\u001b[38;5;34m0\u001b[0m][\u001b[38;5;34m0\u001b[0m]     │\n",
       "├─────────────────────┼───────────────────┼────────────┼───────────────────┤\n",
       "│ lambda_7 (\u001b[38;5;33mLambda\u001b[0m)   │ (\u001b[38;5;45mNone\u001b[0m, \u001b[38;5;34m54\u001b[0m, \u001b[38;5;34m7\u001b[0m)     │          \u001b[38;5;34m0\u001b[0m │ reshape_7[\u001b[38;5;34m0\u001b[0m][\u001b[38;5;34m0\u001b[0m]   │\n",
       "└─────────────────────┴───────────────────┴────────────┴───────────────────┘\n"
      ]
     },
     "metadata": {},
     "output_type": "display_data"
    },
    {
     "data": {
      "text/html": [
       "<pre style=\"white-space:pre;overflow-x:auto;line-height:normal;font-family:Menlo,'DejaVu Sans Mono',consolas,'Courier New',monospace\"><span style=\"font-weight: bold\"> Total params: </span><span style=\"color: #00af00; text-decoration-color: #00af00\">3,810</span> (14.88 KB)\n",
       "</pre>\n"
      ],
      "text/plain": [
       "\u001b[1m Total params: \u001b[0m\u001b[38;5;34m3,810\u001b[0m (14.88 KB)\n"
      ]
     },
     "metadata": {},
     "output_type": "display_data"
    },
    {
     "data": {
      "text/html": [
       "<pre style=\"white-space:pre;overflow-x:auto;line-height:normal;font-family:Menlo,'DejaVu Sans Mono',consolas,'Courier New',monospace\"><span style=\"font-weight: bold\"> Trainable params: </span><span style=\"color: #00af00; text-decoration-color: #00af00\">3,810</span> (14.88 KB)\n",
       "</pre>\n"
      ],
      "text/plain": [
       "\u001b[1m Trainable params: \u001b[0m\u001b[38;5;34m3,810\u001b[0m (14.88 KB)\n"
      ]
     },
     "metadata": {},
     "output_type": "display_data"
    },
    {
     "data": {
      "text/html": [
       "<pre style=\"white-space:pre;overflow-x:auto;line-height:normal;font-family:Menlo,'DejaVu Sans Mono',consolas,'Courier New',monospace\"><span style=\"font-weight: bold\"> Non-trainable params: </span><span style=\"color: #00af00; text-decoration-color: #00af00\">0</span> (0.00 B)\n",
       "</pre>\n"
      ],
      "text/plain": [
       "\u001b[1m Non-trainable params: \u001b[0m\u001b[38;5;34m0\u001b[0m (0.00 B)\n"
      ]
     },
     "metadata": {},
     "output_type": "display_data"
    },
    {
     "name": "stdout",
     "output_type": "stream",
     "text": [
      "None\n",
      "Epoch 1/50\n",
      "\u001b[1m62/62\u001b[0m \u001b[32m━━━━━━━━━━━━━━━━━━━━\u001b[0m\u001b[37m\u001b[0m \u001b[1m15s\u001b[0m 210ms/step - loss: 73955040.0000 - mean_absolute_error: 5730.6216 - val_loss: 140275072.0000 - val_mean_absolute_error: 6615.8770\n",
      "Epoch 2/50\n",
      "\u001b[1m62/62\u001b[0m \u001b[32m━━━━━━━━━━━━━━━━━━━━\u001b[0m\u001b[37m\u001b[0m \u001b[1m13s\u001b[0m 202ms/step - loss: 38837540.0000 - mean_absolute_error: 3687.7437 - val_loss: 101506608.0000 - val_mean_absolute_error: 5602.3193\n",
      "Epoch 3/50\n",
      "\u001b[1m62/62\u001b[0m \u001b[32m━━━━━━━━━━━━━━━━━━━━\u001b[0m\u001b[37m\u001b[0m \u001b[1m13s\u001b[0m 202ms/step - loss: 29378424.0000 - mean_absolute_error: 3341.3486 - val_loss: 83606872.0000 - val_mean_absolute_error: 4891.8760\n",
      "Epoch 4/50\n",
      "\u001b[1m62/62\u001b[0m \u001b[32m━━━━━━━━━━━━━━━━━━━━\u001b[0m\u001b[37m\u001b[0m \u001b[1m13s\u001b[0m 203ms/step - loss: 25890104.0000 - mean_absolute_error: 3131.4221 - val_loss: 75262488.0000 - val_mean_absolute_error: 4549.2051\n",
      "Epoch 5/50\n",
      "\u001b[1m62/62\u001b[0m \u001b[32m━━━━━━━━━━━━━━━━━━━━\u001b[0m\u001b[37m\u001b[0m \u001b[1m13s\u001b[0m 204ms/step - loss: 25611356.0000 - mean_absolute_error: 3134.6653 - val_loss: 72594232.0000 - val_mean_absolute_error: 4462.3169\n",
      "Epoch 6/50\n",
      "\u001b[1m62/62\u001b[0m \u001b[32m━━━━━━━━━━━━━━━━━━━━\u001b[0m\u001b[37m\u001b[0m \u001b[1m13s\u001b[0m 202ms/step - loss: 25323368.0000 - mean_absolute_error: 3060.8689 - val_loss: 69713240.0000 - val_mean_absolute_error: 4317.3057\n",
      "Epoch 7/50\n",
      "\u001b[1m62/62\u001b[0m \u001b[32m━━━━━━━━━━━━━━━━━━━━\u001b[0m\u001b[37m\u001b[0m \u001b[1m13s\u001b[0m 203ms/step - loss: 23323096.0000 - mean_absolute_error: 2933.2166 - val_loss: 66932368.0000 - val_mean_absolute_error: 4226.1582\n",
      "Epoch 8/50\n",
      "\u001b[1m62/62\u001b[0m \u001b[32m━━━━━━━━━━━━━━━━━━━━\u001b[0m\u001b[37m\u001b[0m \u001b[1m13s\u001b[0m 203ms/step - loss: 22248998.0000 - mean_absolute_error: 2863.6025 - val_loss: 64444812.0000 - val_mean_absolute_error: 4175.6411\n",
      "Epoch 9/50\n",
      "\u001b[1m62/62\u001b[0m \u001b[32m━━━━━━━━━━━━━━━━━━━━\u001b[0m\u001b[37m\u001b[0m \u001b[1m13s\u001b[0m 203ms/step - loss: 22513932.0000 - mean_absolute_error: 2883.2332 - val_loss: 63125632.0000 - val_mean_absolute_error: 4147.9702\n",
      "Epoch 10/50\n",
      "\u001b[1m62/62\u001b[0m \u001b[32m━━━━━━━━━━━━━━━━━━━━\u001b[0m\u001b[37m\u001b[0m \u001b[1m13s\u001b[0m 204ms/step - loss: 21506168.0000 - mean_absolute_error: 2877.3601 - val_loss: 62721712.0000 - val_mean_absolute_error: 4174.2227\n",
      "Epoch 11/50\n",
      "\u001b[1m62/62\u001b[0m \u001b[32m━━━━━━━━━━━━━━━━━━━━\u001b[0m\u001b[37m\u001b[0m \u001b[1m13s\u001b[0m 202ms/step - loss: 21694740.0000 - mean_absolute_error: 2825.3201 - val_loss: 62605584.0000 - val_mean_absolute_error: 4165.2349\n",
      "Epoch 12/50\n",
      "\u001b[1m62/62\u001b[0m \u001b[32m━━━━━━━━━━━━━━━━━━━━\u001b[0m\u001b[37m\u001b[0m \u001b[1m13s\u001b[0m 202ms/step - loss: 20662028.0000 - mean_absolute_error: 2803.0071 - val_loss: 62029696.0000 - val_mean_absolute_error: 4146.6235\n",
      "Epoch 13/50\n",
      "\u001b[1m62/62\u001b[0m \u001b[32m━━━━━━━━━━━━━━━━━━━━\u001b[0m\u001b[37m\u001b[0m \u001b[1m13s\u001b[0m 202ms/step - loss: 21416442.0000 - mean_absolute_error: 2824.3706 - val_loss: 61897268.0000 - val_mean_absolute_error: 4146.2402\n",
      "Epoch 14/50\n",
      "\u001b[1m62/62\u001b[0m \u001b[32m━━━━━━━━━━━━━━━━━━━━\u001b[0m\u001b[37m\u001b[0m \u001b[1m12s\u001b[0m 202ms/step - loss: 21537562.0000 - mean_absolute_error: 2823.2185 - val_loss: 61648044.0000 - val_mean_absolute_error: 4132.9912\n",
      "Epoch 15/50\n",
      "\u001b[1m62/62\u001b[0m \u001b[32m━━━━━━━━━━━━━━━━━━━━\u001b[0m\u001b[37m\u001b[0m \u001b[1m13s\u001b[0m 204ms/step - loss: 21969768.0000 - mean_absolute_error: 2841.3123 - val_loss: 61944776.0000 - val_mean_absolute_error: 4153.9004\n",
      "Epoch 16/50\n",
      "\u001b[1m62/62\u001b[0m \u001b[32m━━━━━━━━━━━━━━━━━━━━\u001b[0m\u001b[37m\u001b[0m \u001b[1m13s\u001b[0m 202ms/step - loss: 21772538.0000 - mean_absolute_error: 2823.4023 - val_loss: 61368824.0000 - val_mean_absolute_error: 4135.6108\n",
      "Epoch 17/50\n",
      "\u001b[1m62/62\u001b[0m \u001b[32m━━━━━━━━━━━━━━━━━━━━\u001b[0m\u001b[37m\u001b[0m \u001b[1m13s\u001b[0m 202ms/step - loss: 21950500.0000 - mean_absolute_error: 2855.4319 - val_loss: 61057748.0000 - val_mean_absolute_error: 4131.6646\n",
      "Epoch 18/50\n",
      "\u001b[1m62/62\u001b[0m \u001b[32m━━━━━━━━━━━━━━━━━━━━\u001b[0m\u001b[37m\u001b[0m \u001b[1m14s\u001b[0m 224ms/step - loss: 20891970.0000 - mean_absolute_error: 2780.4639 - val_loss: 61054860.0000 - val_mean_absolute_error: 4138.1172\n",
      "Epoch 19/50\n",
      "\u001b[1m62/62\u001b[0m \u001b[32m━━━━━━━━━━━━━━━━━━━━\u001b[0m\u001b[37m\u001b[0m \u001b[1m15s\u001b[0m 249ms/step - loss: 20330200.0000 - mean_absolute_error: 2728.1606 - val_loss: 61428208.0000 - val_mean_absolute_error: 4146.6470\n",
      "Epoch 20/50\n",
      "\u001b[1m62/62\u001b[0m \u001b[32m━━━━━━━━━━━━━━━━━━━━\u001b[0m\u001b[37m\u001b[0m \u001b[1m13s\u001b[0m 202ms/step - loss: 19591886.0000 - mean_absolute_error: 2671.2424 - val_loss: 61183200.0000 - val_mean_absolute_error: 4157.9907\n",
      "Epoch 21/50\n",
      "\u001b[1m62/62\u001b[0m \u001b[32m━━━━━━━━━━━━━━━━━━━━\u001b[0m\u001b[37m\u001b[0m \u001b[1m13s\u001b[0m 202ms/step - loss: 19848734.0000 - mean_absolute_error: 2692.6682 - val_loss: 61694468.0000 - val_mean_absolute_error: 4149.0317\n",
      "Epoch 22/50\n",
      "\u001b[1m62/62\u001b[0m \u001b[32m━━━━━━━━━━━━━━━━━━━━\u001b[0m\u001b[37m\u001b[0m \u001b[1m13s\u001b[0m 202ms/step - loss: 20055700.0000 - mean_absolute_error: 2665.7168 - val_loss: 60723980.0000 - val_mean_absolute_error: 4113.2368\n",
      "Epoch 23/50\n",
      "\u001b[1m62/62\u001b[0m \u001b[32m━━━━━━━━━━━━━━━━━━━━\u001b[0m\u001b[37m\u001b[0m \u001b[1m12s\u001b[0m 202ms/step - loss: 20343170.0000 - mean_absolute_error: 2702.8491 - val_loss: 60928848.0000 - val_mean_absolute_error: 4096.8721\n",
      "Epoch 24/50\n",
      "\u001b[1m62/62\u001b[0m \u001b[32m━━━━━━━━━━━━━━━━━━━━\u001b[0m\u001b[37m\u001b[0m \u001b[1m13s\u001b[0m 202ms/step - loss: 19459726.0000 - mean_absolute_error: 2636.2581 - val_loss: 60419360.0000 - val_mean_absolute_error: 4109.5835\n",
      "Epoch 25/50\n",
      "\u001b[1m62/62\u001b[0m \u001b[32m━━━━━━━━━━━━━━━━━━━━\u001b[0m\u001b[37m\u001b[0m \u001b[1m13s\u001b[0m 202ms/step - loss: 20175082.0000 - mean_absolute_error: 2668.4963 - val_loss: 60925396.0000 - val_mean_absolute_error: 4087.1360\n",
      "Epoch 26/50\n",
      "\u001b[1m62/62\u001b[0m \u001b[32m━━━━━━━━━━━━━━━━━━━━\u001b[0m\u001b[37m\u001b[0m \u001b[1m13s\u001b[0m 202ms/step - loss: 18274414.0000 - mean_absolute_error: 2558.6572 - val_loss: 59862356.0000 - val_mean_absolute_error: 4068.6909\n",
      "Epoch 27/50\n",
      "\u001b[1m62/62\u001b[0m \u001b[32m━━━━━━━━━━━━━━━━━━━━\u001b[0m\u001b[37m\u001b[0m \u001b[1m13s\u001b[0m 202ms/step - loss: 19632488.0000 - mean_absolute_error: 2620.7576 - val_loss: 60249400.0000 - val_mean_absolute_error: 4053.3262\n",
      "Epoch 28/50\n",
      "\u001b[1m62/62\u001b[0m \u001b[32m━━━━━━━━━━━━━━━━━━━━\u001b[0m\u001b[37m\u001b[0m \u001b[1m12s\u001b[0m 201ms/step - loss: 19388726.0000 - mean_absolute_error: 2593.4517 - val_loss: 60302772.0000 - val_mean_absolute_error: 4075.1628\n",
      "Epoch 29/50\n",
      "\u001b[1m62/62\u001b[0m \u001b[32m━━━━━━━━━━━━━━━━━━━━\u001b[0m\u001b[37m\u001b[0m \u001b[1m12s\u001b[0m 201ms/step - loss: 18487196.0000 - mean_absolute_error: 2566.8245 - val_loss: 60262632.0000 - val_mean_absolute_error: 4064.6360\n",
      "Epoch 30/50\n",
      "\u001b[1m62/62\u001b[0m \u001b[32m━━━━━━━━━━━━━━━━━━━━\u001b[0m\u001b[37m\u001b[0m \u001b[1m13s\u001b[0m 202ms/step - loss: 19159744.0000 - mean_absolute_error: 2612.1074 - val_loss: 60313928.0000 - val_mean_absolute_error: 4061.4968\n",
      "Epoch 31/50\n",
      "\u001b[1m62/62\u001b[0m \u001b[32m━━━━━━━━━━━━━━━━━━━━\u001b[0m\u001b[37m\u001b[0m \u001b[1m13s\u001b[0m 202ms/step - loss: 19290398.0000 - mean_absolute_error: 2575.5623 - val_loss: 59668608.0000 - val_mean_absolute_error: 4020.9668\n",
      "Epoch 32/50\n",
      "\u001b[1m62/62\u001b[0m \u001b[32m━━━━━━━━━━━━━━━━━━━━\u001b[0m\u001b[37m\u001b[0m \u001b[1m12s\u001b[0m 201ms/step - loss: 19105458.0000 - mean_absolute_error: 2537.7461 - val_loss: 60551948.0000 - val_mean_absolute_error: 4051.8057\n",
      "Epoch 33/50\n",
      "\u001b[1m62/62\u001b[0m \u001b[32m━━━━━━━━━━━━━━━━━━━━\u001b[0m\u001b[37m\u001b[0m \u001b[1m12s\u001b[0m 201ms/step - loss: 19020558.0000 - mean_absolute_error: 2546.7332 - val_loss: 59653240.0000 - val_mean_absolute_error: 4033.2212\n",
      "Epoch 34/50\n",
      "\u001b[1m62/62\u001b[0m \u001b[32m━━━━━━━━━━━━━━━━━━━━\u001b[0m\u001b[37m\u001b[0m \u001b[1m12s\u001b[0m 201ms/step - loss: 18211368.0000 - mean_absolute_error: 2520.0444 - val_loss: 60537512.0000 - val_mean_absolute_error: 4059.8923\n",
      "Epoch 35/50\n",
      "\u001b[1m62/62\u001b[0m \u001b[32m━━━━━━━━━━━━━━━━━━━━\u001b[0m\u001b[37m\u001b[0m \u001b[1m20s\u001b[0m 201ms/step - loss: 18689474.0000 - mean_absolute_error: 2561.8054 - val_loss: 61904096.0000 - val_mean_absolute_error: 4055.4187\n",
      "Epoch 36/50\n",
      "\u001b[1m62/62\u001b[0m \u001b[32m━━━━━━━━━━━━━━━━━━━━\u001b[0m\u001b[37m\u001b[0m \u001b[1m13s\u001b[0m 202ms/step - loss: 18401932.0000 - mean_absolute_error: 2493.6899 - val_loss: 62345952.0000 - val_mean_absolute_error: 4061.5198\n",
      "Epoch 37/50\n",
      "\u001b[1m62/62\u001b[0m \u001b[32m━━━━━━━━━━━━━━━━━━━━\u001b[0m\u001b[37m\u001b[0m \u001b[1m13s\u001b[0m 202ms/step - loss: 19677070.0000 - mean_absolute_error: 2561.8164 - val_loss: 60613352.0000 - val_mean_absolute_error: 4042.3521\n",
      "Epoch 38/50\n",
      "\u001b[1m62/62\u001b[0m \u001b[32m━━━━━━━━━━━━━━━━━━━━\u001b[0m\u001b[37m\u001b[0m \u001b[1m13s\u001b[0m 202ms/step - loss: 18253424.0000 - mean_absolute_error: 2502.8293 - val_loss: 60818492.0000 - val_mean_absolute_error: 4043.7634\n",
      "Epoch 39/50\n",
      "\u001b[1m62/62\u001b[0m \u001b[32m━━━━━━━━━━━━━━━━━━━━\u001b[0m\u001b[37m\u001b[0m \u001b[1m13s\u001b[0m 204ms/step - loss: 18136326.0000 - mean_absolute_error: 2477.6721 - val_loss: 60359496.0000 - val_mean_absolute_error: 4016.4146\n",
      "Epoch 39: early stopping\n",
      "Restoring model weights from the end of the best epoch: 33.\n"
     ]
    },
    {
     "data": {
      "image/png": "[encoded data removed]",
      "text/plain": [
       "<Figure size 640x480 with 2 Axes>"
      ]
     },
     "metadata": {},
     "output_type": "display_data"
    },
    {
     "name": "stdout",
     "output_type": "stream",
     "text": [
      "\u001b[1m10/10\u001b[0m \u001b[32m━━━━━━━━━━━━━━━━━━━━\u001b[0m\u001b[37m\u001b[0m \u001b[1m1s\u001b[0m 53ms/step - loss: 51878492.0000 - mean_absolute_error: 4258.7563\n"
     ]
    }
   ],
   "source": [
    "# GRU model\n",
    "gru_es_callback = tf.keras.callbacks.EarlyStopping(\n",
    "    monitor=\"val_loss\",\n",
    "    min_delta=10000,\n",
    "    patience=4,\n",
    "    verbose=1,\n",
    "    restore_best_weights=True\n",
    ")\n",
    "\n",
    "\n",
    "continuous_input = Input(\n",
    "    shape=(\n",
    "        train_inputs.shape[1], \n",
    "        train_inputs.shape[2], \n",
    "        continuous_train_inputs.shape[3]\n",
    "    ), \n",
    "    name=\"continuous_input\"\n",
    ")\n",
    "\n",
    "categorical_input = Input(\n",
    "    shape=(\n",
    "        train_inputs.shape[1], \n",
    "        train_inputs.shape[2], \n",
    "        categorical_train_inputs.shape[3]\n",
    "    ), \n",
    "    name=\"categorical_input\"\n",
    ")\n",
    "\n",
    "global_mean_tf = tf.constant(global_mean, dtype=tf.float32)\n",
    "global_stddev_tf = tf.constant(global_stddev, dtype=tf.float32)\n",
    "target_mean_tf = tf.constant(global_mean[0], dtype=tf.float32)\n",
    "target_stddev_tf = tf.constant(global_stddev[0], dtype=tf.float32)\n",
    "\n",
    "normalized_input = Lambda(lambda x: (x - global_mean_tf) / global_stddev_tf)(continuous_input)\n",
    "noisy_input = GaussianNoise(stddev=0.1)(normalized_input)\n",
    "combined_inputs = Concatenate(axis=-1)([noisy_input, categorical_input])\n",
    "reshaped = Reshape(target_shape=(-1, train_inputs.shape[3]))(combined_inputs)\n",
    "gru = GRU(8, kernel_regularizer=tf.keras.regularizers.l2(0.004))(reshaped)\n",
    "dropout = Dropout(0.2)(gru)\n",
    "dense = Dense(54 * train_targets.shape[2])(dropout)\n",
    "outputs = Reshape(target_shape=(54, train_targets.shape[2]))(dense)\n",
    "denormalized_outputs = Lambda(lambda x: x * target_stddev_tf + target_mean_tf)(outputs)\n",
    "\n",
    "gru_model = Model(inputs=[continuous_input, categorical_input], outputs=denormalized_outputs)\n",
    "\n",
    "gru_model.compile(loss='mean_squared_error', metrics=['mean_absolute_error'], optimizer=tf.keras.optimizers.Adam(0.002))\n",
    "\n",
    "print(gru_model.summary())\n",
    "\n",
    "\n",
    "history = gru_model.fit(\n",
    "    [continuous_train_inputs, categorical_train_inputs], \n",
    "    train_targets, \n",
    "    validation_data=([continuous_test_inputs, categorical_test_inputs], test_targets), \n",
    "    epochs=50, \n",
    "    batch_size=16, \n",
    "    callbacks=[gru_es_callback]\n",
    ")\n",
    "\n",
    "fig, axs = plt.subplots(2)\n",
    "axs[0].plot(history.history['loss'], label='Train MSE (Loss)')\n",
    "axs[0].plot(history.history['val_loss'], label='Validation MSE (Loss)')\n",
    "axs[1].plot(history.history['mean_absolute_error'], label='Train MAE')\n",
    "axs[1].plot(history.history['val_mean_absolute_error'], label='Validation MAE')\n",
    "axs[0].set_xlabel('Epochs')\n",
    "axs[0].set_ylabel('MSE')\n",
    "axs[1].set_xlabel('Epochs')\n",
    "axs[1].set_ylabel('MAE')\n",
    "axs[0].legend()\n",
    "axs[1].legend()\n",
    "fig.tight_layout()\n",
    "plt.show()\n",
    "\n",
    "eval = gru_model.evaluate([continuous_val_inputs, categorical_val_inputs], val_targets)"
   ]
  },
  {
   "cell_type": "code",
   "execution_count": null,
   "id": "f5ab4179-9329-420f-b3f4-424af3de5bd5",
   "metadata": {},
   "outputs": [],
   "source": []
  }
 ],
 "metadata": {
  "availableInstances": [
   {
    "_defaultOrder": 0,
    "_isFastLaunch": true,
    "category": "General purpose",
    "gpuNum": 0,
    "hideHardwareSpecs": false,
    "memoryGiB": 4,
    "name": "ml.t3.medium",
    "vcpuNum": 2
   },
   {
    "_defaultOrder": 1,
    "_isFastLaunch": false,
    "category": "General purpose",
    "gpuNum": 0,
    "hideHardwareSpecs": false,
    "memoryGiB": 8,
    "name": "ml.t3.large",
    "vcpuNum": 2
   },
   {
    "_defaultOrder": 2,
    "_isFastLaunch": false,
    "category": "General purpose",
    "gpuNum": 0,
    "hideHardwareSpecs": false,
    "memoryGiB": 16,
    "name": "ml.t3.xlarge",
    "vcpuNum": 4
   },
   {
    "_defaultOrder": 3,
    "_isFastLaunch": false,
    "category": "General purpose",
    "gpuNum": 0,
    "hideHardwareSpecs": false,
    "memoryGiB": 32,
    "name": "ml.t3.2xlarge",
    "vcpuNum": 8
   },
   {
    "_defaultOrder": 4,
    "_isFastLaunch": true,
    "category": "General purpose",
    "gpuNum": 0,
    "hideHardwareSpecs": false,
    "memoryGiB": 8,
    "name": "ml.m5.large",
    "vcpuNum": 2
   },
   {
    "_defaultOrder": 5,
    "_isFastLaunch": false,
    "category": "General purpose",
    "gpuNum": 0,
    "hideHardwareSpecs": false,
    "memoryGiB": 16,
    "name": "ml.m5.xlarge",
    "vcpuNum": 4
   },
   {
    "_defaultOrder": 6,
    "_isFastLaunch": false,
    "category": "General purpose",
    "gpuNum": 0,
    "hideHardwareSpecs": false,
    "memoryGiB": 32,
    "name": "ml.m5.2xlarge",
    "vcpuNum": 8
   },
   {
    "_defaultOrder": 7,
    "_isFastLaunch": false,
    "category": "General purpose",
    "gpuNum": 0,
    "hideHardwareSpecs": false,
    "memoryGiB": 64,
    "name": "ml.m5.4xlarge",
    "vcpuNum": 16
   },
   {
    "_defaultOrder": 8,
    "_isFastLaunch": false,
    "category": "General purpose",
    "gpuNum": 0,
    "hideHardwareSpecs": false,
    "memoryGiB": 128,
    "name": "ml.m5.8xlarge",
    "vcpuNum": 32
   },
   {
    "_defaultOrder": 9,
    "_isFastLaunch": false,
    "category": "General purpose",
    "gpuNum": 0,
    "hideHardwareSpecs": false,
    "memoryGiB": 192,
    "name": "ml.m5.12xlarge",
    "vcpuNum": 48
   },
   {
    "_defaultOrder": 10,
    "_isFastLaunch": false,
    "category": "General purpose",
    "gpuNum": 0,
    "hideHardwareSpecs": false,
    "memoryGiB": 256,
    "name": "ml.m5.16xlarge",
    "vcpuNum": 64
   },
   {
    "_defaultOrder": 11,
    "_isFastLaunch": false,
    "category": "General purpose",
    "gpuNum": 0,
    "hideHardwareSpecs": false,
    "memoryGiB": 384,
    "name": "ml.m5.24xlarge",
    "vcpuNum": 96
   },
   {
    "_defaultOrder": 12,
    "_isFastLaunch": false,
    "category": "General purpose",
    "gpuNum": 0,
    "hideHardwareSpecs": false,
    "memoryGiB": 8,
    "name": "ml.m5d.large",
    "vcpuNum": 2
   },
   {
    "_defaultOrder": 13,
    "_isFastLaunch": false,
    "category": "General purpose",
    "gpuNum": 0,
    "hideHardwareSpecs": false,
    "memoryGiB": 16,
    "name": "ml.m5d.xlarge",
    "vcpuNum": 4
   },
   {
    "_defaultOrder": 14,
    "_isFastLaunch": false,
    "category": "General purpose",
    "gpuNum": 0,
    "hideHardwareSpecs": false,
    "memoryGiB": 32,
    "name": "ml.m5d.2xlarge",
    "vcpuNum": 8
   },
   {
    "_defaultOrder": 15,
    "_isFastLaunch": false,
    "category": "General purpose",
    "gpuNum": 0,
    "hideHardwareSpecs": false,
    "memoryGiB": 64,
    "name": "ml.m5d.4xlarge",
    "vcpuNum": 16
   },
   {
    "_defaultOrder": 16,
    "_isFastLaunch": false,
    "category": "General purpose",
    "gpuNum": 0,
    "hideHardwareSpecs": false,
    "memoryGiB": 128,
    "name": "ml.m5d.8xlarge",
    "vcpuNum": 32
   },
   {
    "_defaultOrder": 17,
    "_isFastLaunch": false,
    "category": "General purpose",
    "gpuNum": 0,
    "hideHardwareSpecs": false,
    "memoryGiB": 192,
    "name": "ml.m5d.12xlarge",
    "vcpuNum": 48
   },
   {
    "_defaultOrder": 18,
    "_isFastLaunch": false,
    "category": "General purpose",
    "gpuNum": 0,
    "hideHardwareSpecs": false,
    "memoryGiB": 256,
    "name": "ml.m5d.16xlarge",
    "vcpuNum": 64
   },
   {
    "_defaultOrder": 19,
    "_isFastLaunch": false,
    "category": "General purpose",
    "gpuNum": 0,
    "hideHardwareSpecs": false,
    "memoryGiB": 384,
    "name": "ml.m5d.24xlarge",
    "vcpuNum": 96
   },
   {
    "_defaultOrder": 20,
    "_isFastLaunch": false,
    "category": "General purpose",
    "gpuNum": 0,
    "hideHardwareSpecs": true,
    "memoryGiB": 0,
    "name": "ml.geospatial.interactive",
    "supportedImageNames": [
     "sagemaker-geospatial-v1-0"
    ],
    "vcpuNum": 0
   },
   {
    "_defaultOrder": 21,
    "_isFastLaunch": true,
    "category": "Compute optimized",
    "gpuNum": 0,
    "hideHardwareSpecs": false,
    "memoryGiB": 4,
    "name": "ml.c5.large",
    "vcpuNum": 2
   },
   {
    "_defaultOrder": 22,
    "_isFastLaunch": false,
    "category": "Compute optimized",
    "gpuNum": 0,
    "hideHardwareSpecs": false,
    "memoryGiB": 8,
    "name": "ml.c5.xlarge",
    "vcpuNum": 4
   },
   {
    "_defaultOrder": 23,
    "_isFastLaunch": false,
    "category": "Compute optimized",
    "gpuNum": 0,
    "hideHardwareSpecs": false,
    "memoryGiB": 16,
    "name": "ml.c5.2xlarge",
    "vcpuNum": 8
   },
   {
    "_defaultOrder": 24,
    "_isFastLaunch": false,
    "category": "Compute optimized",
    "gpuNum": 0,
    "hideHardwareSpecs": false,
    "memoryGiB": 32,
    "name": "ml.c5.4xlarge",
    "vcpuNum": 16
   },
   {
    "_defaultOrder": 25,
    "_isFastLaunch": false,
    "category": "Compute optimized",
    "gpuNum": 0,
    "hideHardwareSpecs": false,
    "memoryGiB": 72,
    "name": "ml.c5.9xlarge",
    "vcpuNum": 36
   },
   {
    "_defaultOrder": 26,
    "_isFastLaunch": false,
    "category": "Compute optimized",
    "gpuNum": 0,
    "hideHardwareSpecs": false,
    "memoryGiB": 96,
    "name": "ml.c5.12xlarge",
    "vcpuNum": 48
   },
   {
    "_defaultOrder": 27,
    "_isFastLaunch": false,
    "category": "Compute optimized",
    "gpuNum": 0,
    "hideHardwareSpecs": false,
    "memoryGiB": 144,
    "name": "ml.c5.18xlarge",
    "vcpuNum": 72
   },
   {
    "_defaultOrder": 28,
    "_isFastLaunch": false,
    "category": "Compute optimized",
    "gpuNum": 0,
    "hideHardwareSpecs": false,
    "memoryGiB": 192,
    "name": "ml.c5.24xlarge",
    "vcpuNum": 96
   },
   {
    "_defaultOrder": 29,
    "_isFastLaunch": true,
    "category": "Accelerated computing",
    "gpuNum": 1,
    "hideHardwareSpecs": false,
    "memoryGiB": 16,
    "name": "ml.g4dn.xlarge",
    "vcpuNum": 4
   },
   {
    "_defaultOrder": 30,
    "_isFastLaunch": false,
    "category": "Accelerated computing",
    "gpuNum": 1,
    "hideHardwareSpecs": false,
    "memoryGiB": 32,
    "name": "ml.g4dn.2xlarge",
    "vcpuNum": 8
   },
   {
    "_defaultOrder": 31,
    "_isFastLaunch": false,
    "category": "Accelerated computing",
    "gpuNum": 1,
    "hideHardwareSpecs": false,
    "memoryGiB": 64,
    "name": "ml.g4dn.4xlarge",
    "vcpuNum": 16
   },
   {
    "_defaultOrder": 32,
    "_isFastLaunch": false,
    "category": "Accelerated computing",
    "gpuNum": 1,
    "hideHardwareSpecs": false,
    "memoryGiB": 128,
    "name": "ml.g4dn.8xlarge",
    "vcpuNum": 32
   },
   {
    "_defaultOrder": 33,
    "_isFastLaunch": false,
    "category": "Accelerated computing",
    "gpuNum": 4,
    "hideHardwareSpecs": false,
    "memoryGiB": 192,
    "name": "ml.g4dn.12xlarge",
    "vcpuNum": 48
   },
   {
    "_defaultOrder": 34,
    "_isFastLaunch": false,
    "category": "Accelerated computing",
    "gpuNum": 1,
    "hideHardwareSpecs": false,
    "memoryGiB": 256,
    "name": "ml.g4dn.16xlarge",
    "vcpuNum": 64
   },
   {
    "_defaultOrder": 35,
    "_isFastLaunch": false,
    "category": "Accelerated computing",
    "gpuNum": 1,
    "hideHardwareSpecs": false,
    "memoryGiB": 61,
    "name": "ml.p3.2xlarge",
    "vcpuNum": 8
   },
   {
    "_defaultOrder": 36,
    "_isFastLaunch": false,
    "category": "Accelerated computing",
    "gpuNum": 4,
    "hideHardwareSpecs": false,
    "memoryGiB": 244,
    "name": "ml.p3.8xlarge",
    "vcpuNum": 32
   },
   {
    "_defaultOrder": 37,
    "_isFastLaunch": false,
    "category": "Accelerated computing",
    "gpuNum": 8,
    "hideHardwareSpecs": false,
    "memoryGiB": 488,
    "name": "ml.p3.16xlarge",
    "vcpuNum": 64
   },
   {
    "_defaultOrder": 38,
    "_isFastLaunch": false,
    "category": "Accelerated computing",
    "gpuNum": 8,
    "hideHardwareSpecs": false,
    "memoryGiB": 768,
    "name": "ml.p3dn.24xlarge",
    "vcpuNum": 96
   },
   {
    "_defaultOrder": 39,
    "_isFastLaunch": false,
    "category": "Memory Optimized",
    "gpuNum": 0,
    "hideHardwareSpecs": false,
    "memoryGiB": 16,
    "name": "ml.r5.large",
    "vcpuNum": 2
   },
   {
    "_defaultOrder": 40,
    "_isFastLaunch": false,
    "category": "Memory Optimized",
    "gpuNum": 0,
    "hideHardwareSpecs": false,
    "memoryGiB": 32,
    "name": "ml.r5.xlarge",
    "vcpuNum": 4
   },
   {
    "_defaultOrder": 41,
    "_isFastLaunch": false,
    "category": "Memory Optimized",
    "gpuNum": 0,
    "hideHardwareSpecs": false,
    "memoryGiB": 64,
    "name": "ml.r5.2xlarge",
    "vcpuNum": 8
   },
   {
    "_defaultOrder": 42,
    "_isFastLaunch": false,
    "category": "Memory Optimized",
    "gpuNum": 0,
    "hideHardwareSpecs": false,
    "memoryGiB": 128,
    "name": "ml.r5.4xlarge",
    "vcpuNum": 16
   },
   {
    "_defaultOrder": 43,
    "_isFastLaunch": false,
    "category": "Memory Optimized",
    "gpuNum": 0,
    "hideHardwareSpecs": false,
    "memoryGiB": 256,
    "name": "ml.r5.8xlarge",
    "vcpuNum": 32
   },
   {
    "_defaultOrder": 44,
    "_isFastLaunch": false,
    "category": "Memory Optimized",
    "gpuNum": 0,
    "hideHardwareSpecs": false,
    "memoryGiB": 384,
    "name": "ml.r5.12xlarge",
    "vcpuNum": 48
   },
   {
    "_defaultOrder": 45,
    "_isFastLaunch": false,
    "category": "Memory Optimized",
    "gpuNum": 0,
    "hideHardwareSpecs": false,
    "memoryGiB": 512,
    "name": "ml.r5.16xlarge",
    "vcpuNum": 64
   },
   {
    "_defaultOrder": 46,
    "_isFastLaunch": false,
    "category": "Memory Optimized",
    "gpuNum": 0,
    "hideHardwareSpecs": false,
    "memoryGiB": 768,
    "name": "ml.r5.24xlarge",
    "vcpuNum": 96
   },
   {
    "_defaultOrder": 47,
    "_isFastLaunch": false,
    "category": "Accelerated computing",
    "gpuNum": 1,
    "hideHardwareSpecs": false,
    "memoryGiB": 16,
    "name": "ml.g5.xlarge",
    "vcpuNum": 4
   },
   {
    "_defaultOrder": 48,
    "_isFastLaunch": false,
    "category": "Accelerated computing",
    "gpuNum": 1,
    "hideHardwareSpecs": false,
    "memoryGiB": 32,
    "name": "ml.g5.2xlarge",
    "vcpuNum": 8
   },
   {
    "_defaultOrder": 49,
    "_isFastLaunch": false,
    "category": "Accelerated computing",
    "gpuNum": 1,
    "hideHardwareSpecs": false,
    "memoryGiB": 64,
    "name": "ml.g5.4xlarge",
    "vcpuNum": 16
   },
   {
    "_defaultOrder": 50,
    "_isFastLaunch": false,
    "category": "Accelerated computing",
    "gpuNum": 1,
    "hideHardwareSpecs": false,
    "memoryGiB": 128,
    "name": "ml.g5.8xlarge",
    "vcpuNum": 32
   },
   {
    "_defaultOrder": 51,
    "_isFastLaunch": false,
    "category": "Accelerated computing",
    "gpuNum": 1,
    "hideHardwareSpecs": false,
    "memoryGiB": 256,
    "name": "ml.g5.16xlarge",
    "vcpuNum": 64
   },
   {
    "_defaultOrder": 52,
    "_isFastLaunch": false,
    "category": "Accelerated computing",
    "gpuNum": 4,
    "hideHardwareSpecs": false,
    "memoryGiB": 192,
    "name": "ml.g5.12xlarge",
    "vcpuNum": 48
   },
   {
    "_defaultOrder": 53,
    "_isFastLaunch": false,
    "category": "Accelerated computing",
    "gpuNum": 4,
    "hideHardwareSpecs": false,
    "memoryGiB": 384,
    "name": "ml.g5.24xlarge",
    "vcpuNum": 96
   },
   {
    "_defaultOrder": 54,
    "_isFastLaunch": false,
    "category": "Accelerated computing",
    "gpuNum": 8,
    "hideHardwareSpecs": false,
    "memoryGiB": 768,
    "name": "ml.g5.48xlarge",
    "vcpuNum": 192
   },
   {
    "_defaultOrder": 55,
    "_isFastLaunch": false,
    "category": "Accelerated computing",
    "gpuNum": 8,
    "hideHardwareSpecs": false,
    "memoryGiB": 1152,
    "name": "ml.p4d.24xlarge",
    "vcpuNum": 96
   },
   {
    "_defaultOrder": 56,
    "_isFastLaunch": false,
    "category": "Accelerated computing",
    "gpuNum": 8,
    "hideHardwareSpecs": false,
    "memoryGiB": 1152,
    "name": "ml.p4de.24xlarge",
    "vcpuNum": 96
   },
   {
    "_defaultOrder": 57,
    "_isFastLaunch": false,
    "category": "Accelerated computing",
    "gpuNum": 0,
    "hideHardwareSpecs": false,
    "memoryGiB": 32,
    "name": "ml.trn1.2xlarge",
    "vcpuNum": 8
   },
   {
    "_defaultOrder": 58,
    "_isFastLaunch": false,
    "category": "Accelerated computing",
    "gpuNum": 0,
    "hideHardwareSpecs": false,
    "memoryGiB": 512,
    "name": "ml.trn1.32xlarge",
    "vcpuNum": 128
   },
   {
    "_defaultOrder": 59,
    "_isFastLaunch": false,
    "category": "Accelerated computing",
    "gpuNum": 0,
    "hideHardwareSpecs": false,
    "memoryGiB": 512,
    "name": "ml.trn1n.32xlarge",
    "vcpuNum": 128
   }
  ],
  "instance_type": "ml.g4dn.xlarge",
  "kernelspec": {
   "display_name": "Python 3 (Data Science 3.0)",
   "language": "python",
   "name": "python3__SAGEMAKER_INTERNAL__arn:aws:sagemaker:us-east-1:081325390199:image/sagemaker-data-science-310-v1"
  },
  "language_info": {
   "codemirror_mode": {
    "name": "ipython",
    "version": 3
   },
   "file_extension": ".py",
   "mimetype": "text/x-python",
   "name": "python",
   "nbconvert_exporter": "python",
   "pygments_lexer": "ipython3",
   "version": "3.10.6"
  }
 },
 "nbformat": 4,
 "nbformat_minor": 5
}
